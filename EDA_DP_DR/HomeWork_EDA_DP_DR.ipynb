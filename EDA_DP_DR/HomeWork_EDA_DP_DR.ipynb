{
  "cells": [
    {
      "cell_type": "markdown",
      "metadata": {
        "id": "35rfVWbCakpI"
      },
      "source": [
        "# EDA\n",
        "\n"
      ]
    },
    {
      "cell_type": "code",
      "execution_count": null,
      "metadata": {
        "id": "fDnnEKXLanRL"
      },
      "outputs": [],
      "source": [
        "import pandas as pd\n",
        "import matplotlib.pyplot as plt\n",
        "import seaborn as sns\n",
        "import numpy as np"
      ]
    },
    {
      "cell_type": "code",
      "execution_count": null,
      "metadata": {
        "colab": {
          "base_uri": "https://localhost:8080/",
          "height": 300
        },
        "id": "R2kBHVoFbLuV",
        "outputId": "645a8a27-e88b-4822-e7fe-c2ecbe63705a"
      },
      "outputs": [
        {
          "output_type": "execute_result",
          "data": {
            "text/plain": [
              "   age        job  marital    education  default housing loan    contact  \\\n",
              "0   56  housemaid  married     basic.4y       no      no   no  telephone   \n",
              "1   57   services  married  high.school  unknown      no   no  telephone   \n",
              "2   37   services  married  high.school       no     yes   no  telephone   \n",
              "3   40     admin.  married     basic.6y       no      no   no  telephone   \n",
              "4   56   services  married  high.school       no      no  yes  telephone   \n",
              "\n",
              "  month day_of_week  ...  campaign  pdays  previous     poutcome emp.var.rate  \\\n",
              "0   may         mon  ...         1    999         0  nonexistent          1.1   \n",
              "1   may         mon  ...         1    999         0  nonexistent          1.1   \n",
              "2   may         mon  ...         1    999         0  nonexistent          1.1   \n",
              "3   may         mon  ...         1    999         0  nonexistent          1.1   \n",
              "4   may         mon  ...         1    999         0  nonexistent          1.1   \n",
              "\n",
              "   cons.price.idx  cons.conf.idx  euribor3m  nr.employed   y  \n",
              "0          93.994          -36.4      4.857       5191.0  no  \n",
              "1          93.994          -36.4      4.857       5191.0  no  \n",
              "2          93.994          -36.4      4.857       5191.0  no  \n",
              "3          93.994          -36.4      4.857       5191.0  no  \n",
              "4          93.994          -36.4      4.857       5191.0  no  \n",
              "\n",
              "[5 rows x 21 columns]"
            ],
            "text/html": [
              "\n",
              "  <div id=\"df-7a28e4ff-995c-476c-911b-5f679a70da89\">\n",
              "    <div class=\"colab-df-container\">\n",
              "      <div>\n",
              "<style scoped>\n",
              "    .dataframe tbody tr th:only-of-type {\n",
              "        vertical-align: middle;\n",
              "    }\n",
              "\n",
              "    .dataframe tbody tr th {\n",
              "        vertical-align: top;\n",
              "    }\n",
              "\n",
              "    .dataframe thead th {\n",
              "        text-align: right;\n",
              "    }\n",
              "</style>\n",
              "<table border=\"1\" class=\"dataframe\">\n",
              "  <thead>\n",
              "    <tr style=\"text-align: right;\">\n",
              "      <th></th>\n",
              "      <th>age</th>\n",
              "      <th>job</th>\n",
              "      <th>marital</th>\n",
              "      <th>education</th>\n",
              "      <th>default</th>\n",
              "      <th>housing</th>\n",
              "      <th>loan</th>\n",
              "      <th>contact</th>\n",
              "      <th>month</th>\n",
              "      <th>day_of_week</th>\n",
              "      <th>...</th>\n",
              "      <th>campaign</th>\n",
              "      <th>pdays</th>\n",
              "      <th>previous</th>\n",
              "      <th>poutcome</th>\n",
              "      <th>emp.var.rate</th>\n",
              "      <th>cons.price.idx</th>\n",
              "      <th>cons.conf.idx</th>\n",
              "      <th>euribor3m</th>\n",
              "      <th>nr.employed</th>\n",
              "      <th>y</th>\n",
              "    </tr>\n",
              "  </thead>\n",
              "  <tbody>\n",
              "    <tr>\n",
              "      <th>0</th>\n",
              "      <td>56</td>\n",
              "      <td>housemaid</td>\n",
              "      <td>married</td>\n",
              "      <td>basic.4y</td>\n",
              "      <td>no</td>\n",
              "      <td>no</td>\n",
              "      <td>no</td>\n",
              "      <td>telephone</td>\n",
              "      <td>may</td>\n",
              "      <td>mon</td>\n",
              "      <td>...</td>\n",
              "      <td>1</td>\n",
              "      <td>999</td>\n",
              "      <td>0</td>\n",
              "      <td>nonexistent</td>\n",
              "      <td>1.1</td>\n",
              "      <td>93.994</td>\n",
              "      <td>-36.4</td>\n",
              "      <td>4.857</td>\n",
              "      <td>5191.0</td>\n",
              "      <td>no</td>\n",
              "    </tr>\n",
              "    <tr>\n",
              "      <th>1</th>\n",
              "      <td>57</td>\n",
              "      <td>services</td>\n",
              "      <td>married</td>\n",
              "      <td>high.school</td>\n",
              "      <td>unknown</td>\n",
              "      <td>no</td>\n",
              "      <td>no</td>\n",
              "      <td>telephone</td>\n",
              "      <td>may</td>\n",
              "      <td>mon</td>\n",
              "      <td>...</td>\n",
              "      <td>1</td>\n",
              "      <td>999</td>\n",
              "      <td>0</td>\n",
              "      <td>nonexistent</td>\n",
              "      <td>1.1</td>\n",
              "      <td>93.994</td>\n",
              "      <td>-36.4</td>\n",
              "      <td>4.857</td>\n",
              "      <td>5191.0</td>\n",
              "      <td>no</td>\n",
              "    </tr>\n",
              "    <tr>\n",
              "      <th>2</th>\n",
              "      <td>37</td>\n",
              "      <td>services</td>\n",
              "      <td>married</td>\n",
              "      <td>high.school</td>\n",
              "      <td>no</td>\n",
              "      <td>yes</td>\n",
              "      <td>no</td>\n",
              "      <td>telephone</td>\n",
              "      <td>may</td>\n",
              "      <td>mon</td>\n",
              "      <td>...</td>\n",
              "      <td>1</td>\n",
              "      <td>999</td>\n",
              "      <td>0</td>\n",
              "      <td>nonexistent</td>\n",
              "      <td>1.1</td>\n",
              "      <td>93.994</td>\n",
              "      <td>-36.4</td>\n",
              "      <td>4.857</td>\n",
              "      <td>5191.0</td>\n",
              "      <td>no</td>\n",
              "    </tr>\n",
              "    <tr>\n",
              "      <th>3</th>\n",
              "      <td>40</td>\n",
              "      <td>admin.</td>\n",
              "      <td>married</td>\n",
              "      <td>basic.6y</td>\n",
              "      <td>no</td>\n",
              "      <td>no</td>\n",
              "      <td>no</td>\n",
              "      <td>telephone</td>\n",
              "      <td>may</td>\n",
              "      <td>mon</td>\n",
              "      <td>...</td>\n",
              "      <td>1</td>\n",
              "      <td>999</td>\n",
              "      <td>0</td>\n",
              "      <td>nonexistent</td>\n",
              "      <td>1.1</td>\n",
              "      <td>93.994</td>\n",
              "      <td>-36.4</td>\n",
              "      <td>4.857</td>\n",
              "      <td>5191.0</td>\n",
              "      <td>no</td>\n",
              "    </tr>\n",
              "    <tr>\n",
              "      <th>4</th>\n",
              "      <td>56</td>\n",
              "      <td>services</td>\n",
              "      <td>married</td>\n",
              "      <td>high.school</td>\n",
              "      <td>no</td>\n",
              "      <td>no</td>\n",
              "      <td>yes</td>\n",
              "      <td>telephone</td>\n",
              "      <td>may</td>\n",
              "      <td>mon</td>\n",
              "      <td>...</td>\n",
              "      <td>1</td>\n",
              "      <td>999</td>\n",
              "      <td>0</td>\n",
              "      <td>nonexistent</td>\n",
              "      <td>1.1</td>\n",
              "      <td>93.994</td>\n",
              "      <td>-36.4</td>\n",
              "      <td>4.857</td>\n",
              "      <td>5191.0</td>\n",
              "      <td>no</td>\n",
              "    </tr>\n",
              "  </tbody>\n",
              "</table>\n",
              "<p>5 rows × 21 columns</p>\n",
              "</div>\n",
              "      <button class=\"colab-df-convert\" onclick=\"convertToInteractive('df-7a28e4ff-995c-476c-911b-5f679a70da89')\"\n",
              "              title=\"Convert this dataframe to an interactive table.\"\n",
              "              style=\"display:none;\">\n",
              "        \n",
              "  <svg xmlns=\"http://www.w3.org/2000/svg\" height=\"24px\"viewBox=\"0 0 24 24\"\n",
              "       width=\"24px\">\n",
              "    <path d=\"M0 0h24v24H0V0z\" fill=\"none\"/>\n",
              "    <path d=\"M18.56 5.44l.94 2.06.94-2.06 2.06-.94-2.06-.94-.94-2.06-.94 2.06-2.06.94zm-11 1L8.5 8.5l.94-2.06 2.06-.94-2.06-.94L8.5 2.5l-.94 2.06-2.06.94zm10 10l.94 2.06.94-2.06 2.06-.94-2.06-.94-.94-2.06-.94 2.06-2.06.94z\"/><path d=\"M17.41 7.96l-1.37-1.37c-.4-.4-.92-.59-1.43-.59-.52 0-1.04.2-1.43.59L10.3 9.45l-7.72 7.72c-.78.78-.78 2.05 0 2.83L4 21.41c.39.39.9.59 1.41.59.51 0 1.02-.2 1.41-.59l7.78-7.78 2.81-2.81c.8-.78.8-2.07 0-2.86zM5.41 20L4 18.59l7.72-7.72 1.47 1.35L5.41 20z\"/>\n",
              "  </svg>\n",
              "      </button>\n",
              "      \n",
              "  <style>\n",
              "    .colab-df-container {\n",
              "      display:flex;\n",
              "      flex-wrap:wrap;\n",
              "      gap: 12px;\n",
              "    }\n",
              "\n",
              "    .colab-df-convert {\n",
              "      background-color: #E8F0FE;\n",
              "      border: none;\n",
              "      border-radius: 50%;\n",
              "      cursor: pointer;\n",
              "      display: none;\n",
              "      fill: #1967D2;\n",
              "      height: 32px;\n",
              "      padding: 0 0 0 0;\n",
              "      width: 32px;\n",
              "    }\n",
              "\n",
              "    .colab-df-convert:hover {\n",
              "      background-color: #E2EBFA;\n",
              "      box-shadow: 0px 1px 2px rgba(60, 64, 67, 0.3), 0px 1px 3px 1px rgba(60, 64, 67, 0.15);\n",
              "      fill: #174EA6;\n",
              "    }\n",
              "\n",
              "    [theme=dark] .colab-df-convert {\n",
              "      background-color: #3B4455;\n",
              "      fill: #D2E3FC;\n",
              "    }\n",
              "\n",
              "    [theme=dark] .colab-df-convert:hover {\n",
              "      background-color: #434B5C;\n",
              "      box-shadow: 0px 1px 3px 1px rgba(0, 0, 0, 0.15);\n",
              "      filter: drop-shadow(0px 1px 2px rgba(0, 0, 0, 0.3));\n",
              "      fill: #FFFFFF;\n",
              "    }\n",
              "  </style>\n",
              "\n",
              "      <script>\n",
              "        const buttonEl =\n",
              "          document.querySelector('#df-7a28e4ff-995c-476c-911b-5f679a70da89 button.colab-df-convert');\n",
              "        buttonEl.style.display =\n",
              "          google.colab.kernel.accessAllowed ? 'block' : 'none';\n",
              "\n",
              "        async function convertToInteractive(key) {\n",
              "          const element = document.querySelector('#df-7a28e4ff-995c-476c-911b-5f679a70da89');\n",
              "          const dataTable =\n",
              "            await google.colab.kernel.invokeFunction('convertToInteractive',\n",
              "                                                     [key], {});\n",
              "          if (!dataTable) return;\n",
              "\n",
              "          const docLinkHtml = 'Like what you see? Visit the ' +\n",
              "            '<a target=\"_blank\" href=https://colab.research.google.com/notebooks/data_table.ipynb>data table notebook</a>'\n",
              "            + ' to learn more about interactive tables.';\n",
              "          element.innerHTML = '';\n",
              "          dataTable['output_type'] = 'display_data';\n",
              "          await google.colab.output.renderOutput(dataTable, element);\n",
              "          const docLink = document.createElement('div');\n",
              "          docLink.innerHTML = docLinkHtml;\n",
              "          element.appendChild(docLink);\n",
              "        }\n",
              "      </script>\n",
              "    </div>\n",
              "  </div>\n",
              "  "
            ]
          },
          "metadata": {},
          "execution_count": 195
        }
      ],
      "source": [
        "# Read the csv file, the separator is important\n",
        "df = pd.read_csv('sample_data/bank-additional-full.csv', sep = ';')\n",
        "df.head()"
      ]
    },
    {
      "cell_type": "code",
      "execution_count": null,
      "metadata": {
        "colab": {
          "base_uri": "https://localhost:8080/"
        },
        "id": "_FoHVKxhbk60",
        "outputId": "48f85374-d7ed-4da5-bc5c-d6f55b355dda"
      },
      "outputs": [
        {
          "output_type": "stream",
          "name": "stdout",
          "text": [
            "﻿Citation Request:\r\n",
            "  This dataset is publicly available for research. The details are described in [Moro et al., 2014]. \r\n",
            "  Please include this citation if you plan to use this database:\r\n",
            "\r\n",
            "  [Moro et al., 2014] S. Moro, P. Cortez and P. Rita. A Data-Driven Approach to Predict the Success of Bank Telemarketing. Decision Support Systems, In press, http://dx.doi.org/10.1016/j.dss.2014.03.001\r\n",
            "\r\n",
            "  Available at: [pdf] http://dx.doi.org/10.1016/j.dss.2014.03.001\r\n",
            "                [bib] http://www3.dsi.uminho.pt/pcortez/bib/2014-dss.txt\r\n",
            "\r\n",
            "1. Title: Bank Marketing (with social/economic context)\r\n",
            "\r\n",
            "2. Sources\r\n",
            "   Created by: Sérgio Moro (ISCTE-IUL), Paulo Cortez (Univ. Minho) and Paulo Rita (ISCTE-IUL) @ 2014\r\n",
            "   \r\n",
            "3. Past Usage:\r\n",
            "\r\n",
            "  The full dataset (bank-additional-full.csv) was described and analyzed in:\r\n",
            "\r\n",
            "  S. Moro, P. Cortez and P. Rita. A Data-Driven Approach to Predict the Success of Bank Telemarketing. Decision Support Systems (2014), doi:10.1016/j.dss.2014.03.001.\r\n",
            " \r\n",
            "4. Relevant Information:\r\n",
            "\r\n",
            "   This dataset is based on \"Bank Marketing\" UCI dataset (please check the description at: http://archive.ics.uci.edu/ml/datasets/Bank+Marketing).\r\n",
            "   The data is enriched by the addition of five new social and economic features/attributes (national wide indicators from a ~10M population country), published by the Banco de Portugal and publicly available at: https://www.bportugal.pt/estatisticasweb.\r\n",
            "   This dataset is almost identical to the one used in [Moro et al., 2014] (it does not include all attributes due to privacy concerns). \r\n",
            "   Using the rminer package and R tool (http://cran.r-project.org/web/packages/rminer/), we found that the addition of the five new social and economic attributes (made available here) lead to substantial improvement in the prediction of a success, even when the duration of the call is not included. Note: the file can be read in R using: d=read.table(\"bank-additional-full.csv\",header=TRUE,sep=\";\")\r\n",
            "   \r\n",
            "   The zip file includes two datasets: \r\n",
            "      1) bank-additional-full.csv with all examples, ordered by date (from May 2008 to November 2010).\r\n",
            "      2) bank-additional.csv with 10% of the examples (4119), randomly selected from bank-additional-full.csv.\r\n",
            "   The smallest dataset is provided to test more computationally demanding machine learning algorithms (e.g., SVM).\r\n",
            "\r\n",
            "   The binary classification goal is to predict if the client will subscribe a bank term deposit (variable y).\r\n",
            "\r\n",
            "5. Number of Instances: 41188 for bank-additional-full.csv\r\n",
            "\r\n",
            "6. Number of Attributes: 20 + output attribute.\r\n",
            "\r\n",
            "7. Attribute information:\r\n",
            "\r\n",
            "   For more information, read [Moro et al., 2014].\r\n",
            "\r\n",
            "   Input variables:\r\n",
            "   # bank client data:\r\n",
            "   1 - age (numeric)\r\n",
            "   2 - job : type of job (categorical: \"admin.\",\"blue-collar\",\"entrepreneur\",\"housemaid\",\"management\",\"retired\",\"self-employed\",\"services\",\"student\",\"technician\",\"unemployed\",\"unknown\")\r\n",
            "   3 - marital : marital status (categorical: \"divorced\",\"married\",\"single\",\"unknown\"; note: \"divorced\" means divorced or widowed)\r\n",
            "   4 - education (categorical: \"basic.4y\",\"basic.6y\",\"basic.9y\",\"high.school\",\"illiterate\",\"professional.course\",\"university.degree\",\"unknown\")\r\n",
            "   5 - default: has credit in default? (categorical: \"no\",\"yes\",\"unknown\")\r\n",
            "   6 - housing: has housing loan? (categorical: \"no\",\"yes\",\"unknown\")\r\n",
            "   7 - loan: has personal loan? (categorical: \"no\",\"yes\",\"unknown\")\r\n",
            "   # related with the last contact of the current campaign:\r\n",
            "   8 - contact: contact communication type (categorical: \"cellular\",\"telephone\") \r\n",
            "   9 - month: last contact month of year (categorical: \"jan\", \"feb\", \"mar\", ..., \"nov\", \"dec\")\r\n",
            "  10 - day_of_week: last contact day of the week (categorical: \"mon\",\"tue\",\"wed\",\"thu\",\"fri\")\r\n",
            "  11 - duration: last contact duration, in seconds (numeric). Important note:  this attribute highly affects the output target (e.g., if duration=0 then y=\"no\"). Yet, the duration is not known before a call is performed. Also, after the end of the call y is obviously known. Thus, this input should only be included for benchmark purposes and should be discarded if the intention is to have a realistic predictive model.\r\n",
            "   # other attributes:\r\n",
            "  12 - campaign: number of contacts performed during this campaign and for this client (numeric, includes last contact)\r\n",
            "  13 - pdays: number of days that passed by after the client was last contacted from a previous campaign (numeric; 999 means client was not previously contacted)\r\n",
            "  14 - previous: number of contacts performed before this campaign and for this client (numeric)\r\n",
            "  15 - poutcome: outcome of the previous marketing campaign (categorical: \"failure\",\"nonexistent\",\"success\")\r\n",
            "   # social and economic context attributes\r\n",
            "  16 - emp.var.rate: employment variation rate - quarterly indicator (numeric)\r\n",
            "  17 - cons.price.idx: consumer price index - monthly indicator (numeric)     \r\n",
            "  18 - cons.conf.idx: consumer confidence index - monthly indicator (numeric)     \r\n",
            "  19 - euribor3m: euribor 3 month rate - daily indicator (numeric)\r\n",
            "  20 - nr.employed: number of employees - quarterly indicator (numeric)\r\n",
            "\r\n",
            "  Output variable (desired target):\r\n",
            "  21 - y - has the client subscribed a term deposit? (binary: \"yes\",\"no\")\r\n",
            "\r\n",
            "8. Missing Attribute Values: There are several missing values in some categorical attributes, all coded with the \"unknown\" label. These missing values can be treated as a possible class label or using deletion or imputation techniques. \r\n"
          ]
        }
      ],
      "source": [
        "!cat sample_data/bank-additional-names.txt"
      ]
    },
    {
      "cell_type": "code",
      "execution_count": null,
      "metadata": {
        "colab": {
          "base_uri": "https://localhost:8080/"
        },
        "id": "A6Zjzrg0bj9s",
        "outputId": "aa250df2-e70a-47b8-e4dc-0b3a64504fe8"
      },
      "outputs": [
        {
          "output_type": "execute_result",
          "data": {
            "text/plain": [
              "Index(['age', 'job', 'marital', 'education', 'default', 'housing', 'loan',\n",
              "       'contact', 'month', 'day_of_week', 'duration', 'campaign', 'pdays',\n",
              "       'previous', 'poutcome', 'emp.var.rate', 'cons.price.idx',\n",
              "       'cons.conf.idx', 'euribor3m', 'nr.employed', 'y'],\n",
              "      dtype='object')"
            ]
          },
          "metadata": {},
          "execution_count": 197
        }
      ],
      "source": [
        "df.columns"
      ]
    },
    {
      "cell_type": "code",
      "execution_count": null,
      "metadata": {
        "colab": {
          "base_uri": "https://localhost:8080/"
        },
        "id": "5qAe2tWcb9gk",
        "outputId": "fe64ddea-66f6-4605-8a68-1bb5a0662d18"
      },
      "outputs": [
        {
          "output_type": "execute_result",
          "data": {
            "text/plain": [
              "age                 int64\n",
              "job                object\n",
              "marital            object\n",
              "education          object\n",
              "default            object\n",
              "housing            object\n",
              "loan               object\n",
              "contact            object\n",
              "month              object\n",
              "day_of_week        object\n",
              "duration            int64\n",
              "campaign            int64\n",
              "pdays               int64\n",
              "previous            int64\n",
              "poutcome           object\n",
              "emp.var.rate      float64\n",
              "cons.price.idx    float64\n",
              "cons.conf.idx     float64\n",
              "euribor3m         float64\n",
              "nr.employed       float64\n",
              "y                  object\n",
              "dtype: object"
            ]
          },
          "metadata": {},
          "execution_count": 198
        }
      ],
      "source": [
        "# check the types\n",
        "df.dtypes"
      ]
    },
    {
      "cell_type": "code",
      "source": [
        "print(df.min())"
      ],
      "metadata": {
        "colab": {
          "base_uri": "https://localhost:8080/"
        },
        "id": "uA_0ccHHKc62",
        "outputId": "9c1ffbbd-26c5-473b-9cc7-ba6607781110"
      },
      "execution_count": null,
      "outputs": [
        {
          "output_type": "stream",
          "name": "stdout",
          "text": [
            "age                     17\n",
            "job                 admin.\n",
            "marital           divorced\n",
            "education         basic.4y\n",
            "default                 no\n",
            "housing                 no\n",
            "loan                    no\n",
            "contact           cellular\n",
            "month                  apr\n",
            "day_of_week            fri\n",
            "duration                 0\n",
            "campaign                 1\n",
            "pdays                    0\n",
            "previous                 0\n",
            "poutcome           failure\n",
            "emp.var.rate          -3.4\n",
            "cons.price.idx      92.201\n",
            "cons.conf.idx        -50.8\n",
            "euribor3m            0.634\n",
            "nr.employed         4963.6\n",
            "y                       no\n",
            "dtype: object\n"
          ]
        }
      ]
    },
    {
      "cell_type": "code",
      "source": [
        "print(df.max())"
      ],
      "metadata": {
        "colab": {
          "base_uri": "https://localhost:8080/"
        },
        "id": "PzrHz4kWKgGN",
        "outputId": "9bcc347b-71e4-4d95-fefb-04dd14818cec"
      },
      "execution_count": null,
      "outputs": [
        {
          "output_type": "stream",
          "name": "stdout",
          "text": [
            "age                      98\n",
            "job                 unknown\n",
            "marital             unknown\n",
            "education           unknown\n",
            "default                 yes\n",
            "housing                 yes\n",
            "loan                    yes\n",
            "contact           telephone\n",
            "month                   sep\n",
            "day_of_week             wed\n",
            "duration               4918\n",
            "campaign                 56\n",
            "pdays                   999\n",
            "previous                  7\n",
            "poutcome            success\n",
            "emp.var.rate            1.4\n",
            "cons.price.idx       94.767\n",
            "cons.conf.idx         -26.9\n",
            "euribor3m             5.045\n",
            "nr.employed          5228.1\n",
            "y                       yes\n",
            "dtype: object\n"
          ]
        }
      ]
    },
    {
      "cell_type": "markdown",
      "metadata": {
        "id": "bWZf_T7GOywO"
      },
      "source": [
        "##Descriptive Statistics"
      ]
    },
    {
      "cell_type": "code",
      "source": [
        "# Check 'y' feature\n",
        "print(df['y'].unique())\n",
        "print(df['y'].value_counts())\n",
        "print(df['y'].isna().sum())"
      ],
      "metadata": {
        "colab": {
          "base_uri": "https://localhost:8080/"
        },
        "id": "k1vWlKRKf3Gt",
        "outputId": "56964472-65c1-4804-eb66-40f56cc494c0"
      },
      "execution_count": null,
      "outputs": [
        {
          "output_type": "stream",
          "name": "stdout",
          "text": [
            "['no' 'yes']\n",
            "no     36548\n",
            "yes     4640\n",
            "Name: y, dtype: int64\n",
            "0\n"
          ]
        }
      ]
    },
    {
      "cell_type": "code",
      "source": [
        "print(f\"{((df['y'] == 'yes').sum() / df['y'].shape[0] * 100):.2f}% of clients subscribed a term of deposit.\")"
      ],
      "metadata": {
        "colab": {
          "base_uri": "https://localhost:8080/"
        },
        "id": "V1HYPuctgCyi",
        "outputId": "ea032a4a-aa99-42b1-85d9-61ec573e57c0"
      },
      "execution_count": null,
      "outputs": [
        {
          "output_type": "stream",
          "name": "stdout",
          "text": [
            "11.27% of clients subscribed a term of deposit.\n"
          ]
        }
      ]
    },
    {
      "cell_type": "code",
      "execution_count": null,
      "metadata": {
        "colab": {
          "base_uri": "https://localhost:8080/",
          "height": 300
        },
        "id": "ERa_mQJZPRmV",
        "outputId": "1319dc9e-009a-4494-d3ef-da99398b747f"
      },
      "outputs": [
        {
          "output_type": "execute_result",
          "data": {
            "text/plain": [
              "               age      duration      campaign         pdays      previous  \\\n",
              "count  41188.00000  41188.000000  41188.000000  41188.000000  41188.000000   \n",
              "mean      40.02406    258.285010      2.567593    962.475454      0.172963   \n",
              "std       10.42125    259.279249      2.770014    186.910907      0.494901   \n",
              "min       17.00000      0.000000      1.000000      0.000000      0.000000   \n",
              "25%       32.00000    102.000000      1.000000    999.000000      0.000000   \n",
              "50%       38.00000    180.000000      2.000000    999.000000      0.000000   \n",
              "75%       47.00000    319.000000      3.000000    999.000000      0.000000   \n",
              "max       98.00000   4918.000000     56.000000    999.000000      7.000000   \n",
              "\n",
              "       emp.var.rate  cons.price.idx  cons.conf.idx     euribor3m   nr.employed  \n",
              "count  41188.000000    41188.000000   41188.000000  41188.000000  41188.000000  \n",
              "mean       0.081886       93.575664     -40.502600      3.621291   5167.035911  \n",
              "std        1.570960        0.578840       4.628198      1.734447     72.251528  \n",
              "min       -3.400000       92.201000     -50.800000      0.634000   4963.600000  \n",
              "25%       -1.800000       93.075000     -42.700000      1.344000   5099.100000  \n",
              "50%        1.100000       93.749000     -41.800000      4.857000   5191.000000  \n",
              "75%        1.400000       93.994000     -36.400000      4.961000   5228.100000  \n",
              "max        1.400000       94.767000     -26.900000      5.045000   5228.100000  "
            ],
            "text/html": [
              "\n",
              "  <div id=\"df-72782657-f986-4917-aa24-329a7baa5a33\">\n",
              "    <div class=\"colab-df-container\">\n",
              "      <div>\n",
              "<style scoped>\n",
              "    .dataframe tbody tr th:only-of-type {\n",
              "        vertical-align: middle;\n",
              "    }\n",
              "\n",
              "    .dataframe tbody tr th {\n",
              "        vertical-align: top;\n",
              "    }\n",
              "\n",
              "    .dataframe thead th {\n",
              "        text-align: right;\n",
              "    }\n",
              "</style>\n",
              "<table border=\"1\" class=\"dataframe\">\n",
              "  <thead>\n",
              "    <tr style=\"text-align: right;\">\n",
              "      <th></th>\n",
              "      <th>age</th>\n",
              "      <th>duration</th>\n",
              "      <th>campaign</th>\n",
              "      <th>pdays</th>\n",
              "      <th>previous</th>\n",
              "      <th>emp.var.rate</th>\n",
              "      <th>cons.price.idx</th>\n",
              "      <th>cons.conf.idx</th>\n",
              "      <th>euribor3m</th>\n",
              "      <th>nr.employed</th>\n",
              "    </tr>\n",
              "  </thead>\n",
              "  <tbody>\n",
              "    <tr>\n",
              "      <th>count</th>\n",
              "      <td>41188.00000</td>\n",
              "      <td>41188.000000</td>\n",
              "      <td>41188.000000</td>\n",
              "      <td>41188.000000</td>\n",
              "      <td>41188.000000</td>\n",
              "      <td>41188.000000</td>\n",
              "      <td>41188.000000</td>\n",
              "      <td>41188.000000</td>\n",
              "      <td>41188.000000</td>\n",
              "      <td>41188.000000</td>\n",
              "    </tr>\n",
              "    <tr>\n",
              "      <th>mean</th>\n",
              "      <td>40.02406</td>\n",
              "      <td>258.285010</td>\n",
              "      <td>2.567593</td>\n",
              "      <td>962.475454</td>\n",
              "      <td>0.172963</td>\n",
              "      <td>0.081886</td>\n",
              "      <td>93.575664</td>\n",
              "      <td>-40.502600</td>\n",
              "      <td>3.621291</td>\n",
              "      <td>5167.035911</td>\n",
              "    </tr>\n",
              "    <tr>\n",
              "      <th>std</th>\n",
              "      <td>10.42125</td>\n",
              "      <td>259.279249</td>\n",
              "      <td>2.770014</td>\n",
              "      <td>186.910907</td>\n",
              "      <td>0.494901</td>\n",
              "      <td>1.570960</td>\n",
              "      <td>0.578840</td>\n",
              "      <td>4.628198</td>\n",
              "      <td>1.734447</td>\n",
              "      <td>72.251528</td>\n",
              "    </tr>\n",
              "    <tr>\n",
              "      <th>min</th>\n",
              "      <td>17.00000</td>\n",
              "      <td>0.000000</td>\n",
              "      <td>1.000000</td>\n",
              "      <td>0.000000</td>\n",
              "      <td>0.000000</td>\n",
              "      <td>-3.400000</td>\n",
              "      <td>92.201000</td>\n",
              "      <td>-50.800000</td>\n",
              "      <td>0.634000</td>\n",
              "      <td>4963.600000</td>\n",
              "    </tr>\n",
              "    <tr>\n",
              "      <th>25%</th>\n",
              "      <td>32.00000</td>\n",
              "      <td>102.000000</td>\n",
              "      <td>1.000000</td>\n",
              "      <td>999.000000</td>\n",
              "      <td>0.000000</td>\n",
              "      <td>-1.800000</td>\n",
              "      <td>93.075000</td>\n",
              "      <td>-42.700000</td>\n",
              "      <td>1.344000</td>\n",
              "      <td>5099.100000</td>\n",
              "    </tr>\n",
              "    <tr>\n",
              "      <th>50%</th>\n",
              "      <td>38.00000</td>\n",
              "      <td>180.000000</td>\n",
              "      <td>2.000000</td>\n",
              "      <td>999.000000</td>\n",
              "      <td>0.000000</td>\n",
              "      <td>1.100000</td>\n",
              "      <td>93.749000</td>\n",
              "      <td>-41.800000</td>\n",
              "      <td>4.857000</td>\n",
              "      <td>5191.000000</td>\n",
              "    </tr>\n",
              "    <tr>\n",
              "      <th>75%</th>\n",
              "      <td>47.00000</td>\n",
              "      <td>319.000000</td>\n",
              "      <td>3.000000</td>\n",
              "      <td>999.000000</td>\n",
              "      <td>0.000000</td>\n",
              "      <td>1.400000</td>\n",
              "      <td>93.994000</td>\n",
              "      <td>-36.400000</td>\n",
              "      <td>4.961000</td>\n",
              "      <td>5228.100000</td>\n",
              "    </tr>\n",
              "    <tr>\n",
              "      <th>max</th>\n",
              "      <td>98.00000</td>\n",
              "      <td>4918.000000</td>\n",
              "      <td>56.000000</td>\n",
              "      <td>999.000000</td>\n",
              "      <td>7.000000</td>\n",
              "      <td>1.400000</td>\n",
              "      <td>94.767000</td>\n",
              "      <td>-26.900000</td>\n",
              "      <td>5.045000</td>\n",
              "      <td>5228.100000</td>\n",
              "    </tr>\n",
              "  </tbody>\n",
              "</table>\n",
              "</div>\n",
              "      <button class=\"colab-df-convert\" onclick=\"convertToInteractive('df-72782657-f986-4917-aa24-329a7baa5a33')\"\n",
              "              title=\"Convert this dataframe to an interactive table.\"\n",
              "              style=\"display:none;\">\n",
              "        \n",
              "  <svg xmlns=\"http://www.w3.org/2000/svg\" height=\"24px\"viewBox=\"0 0 24 24\"\n",
              "       width=\"24px\">\n",
              "    <path d=\"M0 0h24v24H0V0z\" fill=\"none\"/>\n",
              "    <path d=\"M18.56 5.44l.94 2.06.94-2.06 2.06-.94-2.06-.94-.94-2.06-.94 2.06-2.06.94zm-11 1L8.5 8.5l.94-2.06 2.06-.94-2.06-.94L8.5 2.5l-.94 2.06-2.06.94zm10 10l.94 2.06.94-2.06 2.06-.94-2.06-.94-.94-2.06-.94 2.06-2.06.94z\"/><path d=\"M17.41 7.96l-1.37-1.37c-.4-.4-.92-.59-1.43-.59-.52 0-1.04.2-1.43.59L10.3 9.45l-7.72 7.72c-.78.78-.78 2.05 0 2.83L4 21.41c.39.39.9.59 1.41.59.51 0 1.02-.2 1.41-.59l7.78-7.78 2.81-2.81c.8-.78.8-2.07 0-2.86zM5.41 20L4 18.59l7.72-7.72 1.47 1.35L5.41 20z\"/>\n",
              "  </svg>\n",
              "      </button>\n",
              "      \n",
              "  <style>\n",
              "    .colab-df-container {\n",
              "      display:flex;\n",
              "      flex-wrap:wrap;\n",
              "      gap: 12px;\n",
              "    }\n",
              "\n",
              "    .colab-df-convert {\n",
              "      background-color: #E8F0FE;\n",
              "      border: none;\n",
              "      border-radius: 50%;\n",
              "      cursor: pointer;\n",
              "      display: none;\n",
              "      fill: #1967D2;\n",
              "      height: 32px;\n",
              "      padding: 0 0 0 0;\n",
              "      width: 32px;\n",
              "    }\n",
              "\n",
              "    .colab-df-convert:hover {\n",
              "      background-color: #E2EBFA;\n",
              "      box-shadow: 0px 1px 2px rgba(60, 64, 67, 0.3), 0px 1px 3px 1px rgba(60, 64, 67, 0.15);\n",
              "      fill: #174EA6;\n",
              "    }\n",
              "\n",
              "    [theme=dark] .colab-df-convert {\n",
              "      background-color: #3B4455;\n",
              "      fill: #D2E3FC;\n",
              "    }\n",
              "\n",
              "    [theme=dark] .colab-df-convert:hover {\n",
              "      background-color: #434B5C;\n",
              "      box-shadow: 0px 1px 3px 1px rgba(0, 0, 0, 0.15);\n",
              "      filter: drop-shadow(0px 1px 2px rgba(0, 0, 0, 0.3));\n",
              "      fill: #FFFFFF;\n",
              "    }\n",
              "  </style>\n",
              "\n",
              "      <script>\n",
              "        const buttonEl =\n",
              "          document.querySelector('#df-72782657-f986-4917-aa24-329a7baa5a33 button.colab-df-convert');\n",
              "        buttonEl.style.display =\n",
              "          google.colab.kernel.accessAllowed ? 'block' : 'none';\n",
              "\n",
              "        async function convertToInteractive(key) {\n",
              "          const element = document.querySelector('#df-72782657-f986-4917-aa24-329a7baa5a33');\n",
              "          const dataTable =\n",
              "            await google.colab.kernel.invokeFunction('convertToInteractive',\n",
              "                                                     [key], {});\n",
              "          if (!dataTable) return;\n",
              "\n",
              "          const docLinkHtml = 'Like what you see? Visit the ' +\n",
              "            '<a target=\"_blank\" href=https://colab.research.google.com/notebooks/data_table.ipynb>data table notebook</a>'\n",
              "            + ' to learn more about interactive tables.';\n",
              "          element.innerHTML = '';\n",
              "          dataTable['output_type'] = 'display_data';\n",
              "          await google.colab.output.renderOutput(dataTable, element);\n",
              "          const docLink = document.createElement('div');\n",
              "          docLink.innerHTML = docLinkHtml;\n",
              "          element.appendChild(docLink);\n",
              "        }\n",
              "      </script>\n",
              "    </div>\n",
              "  </div>\n",
              "  "
            ]
          },
          "metadata": {},
          "execution_count": 203
        }
      ],
      "source": [
        "# Let's see a general description of the numerical datas\n",
        "df.describe()"
      ]
    },
    {
      "cell_type": "code",
      "execution_count": null,
      "metadata": {
        "colab": {
          "base_uri": "https://localhost:8080/",
          "height": 370
        },
        "id": "v4hxwPFiWv1T",
        "outputId": "0e79b8fc-084b-487f-e169-909cd7420b22"
      },
      "outputs": [
        {
          "output_type": "stream",
          "name": "stdout",
          "text": [
            "The Customer age are usually between 32 and 47.\n",
            "The upper whisker age is 69.5. There are 469 clients who is older than this.\n",
            "\n"
          ]
        },
        {
          "output_type": "execute_result",
          "data": {
            "text/plain": [
              "Text(0.5, 1.0, 'Box plot for ages')"
            ]
          },
          "metadata": {},
          "execution_count": 204
        },
        {
          "output_type": "display_data",
          "data": {
            "text/plain": [
              "<Figure size 432x288 with 1 Axes>"
            ],
            "image/png": "[encoded data removed]"
          },
          "metadata": {}
        }
      ],
      "source": [
        "# A box plot for the customer ages.\n",
        "IQR = df['age'].quantile(0.75) - df['age'].quantile(0.25)\n",
        "outliers_max = df['age'].quantile(0.75) + 1.5 * IQR\n",
        "ge_outliers_max = (df['age'] > outliers_max).sum()    # >= outliers_max count\n",
        "print(f\"The Customer age are usually between {df['age'].quantile(0.25):0.0f} and {df['age'].quantile(0.75):0.0f}.\")\n",
        "print(f'The upper whisker age is {outliers_max}. There are {ge_outliers_max} clients who is older than this.\\n')\n",
        "\n",
        "sns.boxplot(x = 'age', data = df)\n",
        "plt.title('Box plot for ages')"
      ]
    },
    {
      "cell_type": "code",
      "source": [
        "sns.distplot(df['age'])"
      ],
      "metadata": {
        "colab": {
          "base_uri": "https://localhost:8080/",
          "height": 357
        },
        "id": "YWFTFjS_ZCce",
        "outputId": "68342938-0346-4963-94ca-ee45511e2ea8"
      },
      "execution_count": null,
      "outputs": [
        {
          "output_type": "stream",
          "name": "stderr",
          "text": [
            "/usr/local/lib/python3.8/dist-packages/seaborn/distributions.py:2619: FutureWarning: `distplot` is a deprecated function and will be removed in a future version. Please adapt your code to use either `displot` (a figure-level function with similar flexibility) or `histplot` (an axes-level function for histograms).\n",
            "  warnings.warn(msg, FutureWarning)\n"
          ]
        },
        {
          "output_type": "execute_result",
          "data": {
            "text/plain": [
              "<matplotlib.axes._subplots.AxesSubplot at 0x7f763388a850>"
            ]
          },
          "metadata": {},
          "execution_count": 205
        },
        {
          "output_type": "display_data",
          "data": {
            "text/plain": [
              "<Figure size 432x288 with 1 Axes>"
            ],
            "image/png": "[encoded data removed]"
          },
          "metadata": {}
        }
      ]
    },
    {
      "cell_type": "code",
      "source": [
        "print('Skewness:', df['age'].skew())\n",
        "print('Kurtosis:', df['age'].kurt())"
      ],
      "metadata": {
        "colab": {
          "base_uri": "https://localhost:8080/"
        },
        "id": "gqu28o_tZgWX",
        "outputId": "02ce00ee-0080-4972-9b15-695cbf6357e1"
      },
      "execution_count": null,
      "outputs": [
        {
          "output_type": "stream",
          "name": "stdout",
          "text": [
            "Skewness: 0.7846968157646645\n",
            "Kurtosis: 0.7913115311544336\n"
          ]
        }
      ]
    },
    {
      "cell_type": "markdown",
      "source": [
        "The age are moderately skewed."
      ],
      "metadata": {
        "id": "W13_vpOTZzPi"
      }
    },
    {
      "cell_type": "markdown",
      "source": [
        "The age is not following normal distribution. I think this is because from age 20 to 60 the client's ages are very various."
      ],
      "metadata": {
        "id": "MYC1BhXqZP3h"
      }
    },
    {
      "cell_type": "code",
      "execution_count": null,
      "metadata": {
        "colab": {
          "base_uri": "https://localhost:8080/",
          "height": 356
        },
        "id": "_L5bL8sBQnSF",
        "outputId": "cd0d78b6-d6d0-4135-e046-7aebe1bf1ba1"
      },
      "outputs": [
        {
          "output_type": "execute_result",
          "data": {
            "text/plain": [
              "<matplotlib.axes._subplots.AxesSubplot at 0x7f7633a9cb20>"
            ]
          },
          "metadata": {},
          "execution_count": 207
        },
        {
          "output_type": "display_data",
          "data": {
            "text/plain": [
              "<Figure size 432x288 with 2 Axes>"
            ],
            "image/png": "[encoded data removed]"
          },
          "metadata": {}
        }
      ],
      "source": [
        "# Correlations between datas, the more red -> more stronger correlation\n",
        "sns.heatmap(df.corr(), cmap = 'coolwarm', vmin = -1, vmax = 1)"
      ]
    },
    {
      "cell_type": "markdown",
      "source": [
        "The heat map shows that there is not much correlation data.\n",
        "\n",
        "The social and economic context attributes are the ones that has a stronger relationship."
      ],
      "metadata": {
        "id": "BFC58qBbeur_"
      }
    },
    {
      "cell_type": "code",
      "execution_count": null,
      "metadata": {
        "colab": {
          "base_uri": "https://localhost:8080/"
        },
        "id": "utQrz98mRnzE",
        "outputId": "3bcd75d4-22df-4d90-964b-1773345e185d"
      },
      "outputs": [
        {
          "output_type": "execute_result",
          "data": {
            "text/plain": [
              "0.9069701012560618"
            ]
          },
          "metadata": {},
          "execution_count": 15
        }
      ],
      "source": [
        "# For example\n",
        "df['emp.var.rate'].corr(df['nr.employed'])"
      ]
    },
    {
      "cell_type": "markdown",
      "metadata": {
        "id": "W59QSrmrSKrz"
      },
      "source": [
        "There is a strong relationship between employment variation rate and the number of employees.\n",
        "This means the bank's number of employees obviously follows the emp.var.rate.\n",
        "\n",
        "This can be seem well in the plot below:\n",
        "\n"
      ]
    },
    {
      "cell_type": "code",
      "execution_count": null,
      "metadata": {
        "colab": {
          "base_uri": "https://localhost:8080/",
          "height": 296
        },
        "id": "fwD3OABggtdv",
        "outputId": "4201c5b7-f6db-43b9-e536-a0b3f141bfa5"
      },
      "outputs": [
        {
          "output_type": "execute_result",
          "data": {
            "text/plain": [
              "<matplotlib.axes._subplots.AxesSubplot at 0x7f763b1e5a30>"
            ]
          },
          "metadata": {},
          "execution_count": 16
        },
        {
          "output_type": "display_data",
          "data": {
            "text/plain": [
              "<Figure size 432x288 with 1 Axes>"
            ],
            "image/png": "[encoded data removed]"
          },
          "metadata": {
            "needs_background": "light"
          }
        }
      ],
      "source": [
        "sns.regplot(data = df, x = 'emp.var.rate', y = 'nr.employed')"
      ]
    },
    {
      "cell_type": "code",
      "execution_count": null,
      "metadata": {
        "colab": {
          "base_uri": "https://localhost:8080/"
        },
        "id": "oHnILV83V97g",
        "outputId": "1b26000d-aed6-473c-b05e-dc289d241b89"
      },
      "outputs": [
        {
          "output_type": "execute_result",
          "data": {
            "text/plain": [
              "0.004593580493413423"
            ]
          },
          "metadata": {},
          "execution_count": 17
        }
      ],
      "source": [
        "df['age'].corr(df['campaign'])"
      ]
    },
    {
      "cell_type": "markdown",
      "metadata": {
        "id": "P_H_unuuVbKq"
      },
      "source": [
        "But for example, we can see that the age and campaign has around 0 correlation, so they don't have any relationship.\n",
        "\n",
        "We can see that also in this plot. The dots are placed randomly."
      ]
    },
    {
      "cell_type": "code",
      "execution_count": null,
      "metadata": {
        "colab": {
          "base_uri": "https://localhost:8080/",
          "height": 296
        },
        "id": "1bCtfrQeVWgf",
        "outputId": "19a5d3cc-741d-4c9b-cede-45181af39b0a"
      },
      "outputs": [
        {
          "output_type": "execute_result",
          "data": {
            "text/plain": [
              "<matplotlib.axes._subplots.AxesSubplot at 0x7f763b161730>"
            ]
          },
          "metadata": {},
          "execution_count": 18
        },
        {
          "output_type": "display_data",
          "data": {
            "text/plain": [
              "<Figure size 432x288 with 1 Axes>"
            ],
            "image/png": "[encoded data removed]"
          },
          "metadata": {
            "needs_background": "light"
          }
        }
      ],
      "source": [
        "sns.scatterplot(data = df, x = 'age', y = 'campaign')"
      ]
    },
    {
      "cell_type": "markdown",
      "source": [
        "## Relationship with categorical features"
      ],
      "metadata": {
        "id": "ltHnxFizg2oD"
      }
    },
    {
      "cell_type": "code",
      "source": [
        "y_binary = df['y'].map({'yes': 1, 'no': 0})\n",
        "y_binary.value_counts()"
      ],
      "metadata": {
        "colab": {
          "base_uri": "https://localhost:8080/"
        },
        "id": "Ucu2GEpoh4ML",
        "outputId": "698d6afb-7d9f-45b6-c5b6-827b3cfb862e"
      },
      "execution_count": null,
      "outputs": [
        {
          "output_type": "execute_result",
          "data": {
            "text/plain": [
              "0    36548\n",
              "1     4640\n",
              "Name: y, dtype: int64"
            ]
          },
          "metadata": {},
          "execution_count": 208
        }
      ]
    },
    {
      "cell_type": "code",
      "source": [
        "data = pd.concat([df['job'], y_binary], axis = 1)\n",
        "sns.catplot(x = 'job', hue = 'y', data = data, kind = 'count', height = 6, aspect = 2, color = '#23d104')   # add color to y = 1, this is the data that is important now for us.\n",
        "plt.ylim(0, 2000)"
      ],
      "metadata": {
        "colab": {
          "base_uri": "https://localhost:8080/",
          "height": 458
        },
        "id": "vhPZpVGwg1af",
        "outputId": "6c2dc9b2-6c65-4239-e069-94aadcbaf684"
      },
      "execution_count": null,
      "outputs": [
        {
          "output_type": "execute_result",
          "data": {
            "text/plain": [
              "(0.0, 2000.0)"
            ]
          },
          "metadata": {},
          "execution_count": 209
        },
        {
          "output_type": "display_data",
          "data": {
            "text/plain": [
              "<Figure size 910.6x432 with 1 Axes>"
            ],
            "image/png": "[encoded data removed]"
          },
          "metadata": {}
        }
      ]
    },
    {
      "cell_type": "markdown",
      "source": [
        "Here we can see that in most cases admins subscribed a term deposit.\n",
        "\n",
        "The lowest rate except the unknown is the housemaid."
      ],
      "metadata": {
        "id": "I-8dszeaLTW6"
      }
    },
    {
      "cell_type": "code",
      "source": [
        "data['education'] = df['education']\n",
        "sns.catplot(x = 'education', hue = 'y', data = data, kind = 'count', height = 6, aspect = 2, color = '#23d104')\n",
        "plt.ylim(0, 2000)"
      ],
      "metadata": {
        "colab": {
          "base_uri": "https://localhost:8080/",
          "height": 458
        },
        "id": "BhiIIbjZlYN1",
        "outputId": "a1983049-f075-4b18-f58c-1118ddd01b32"
      },
      "execution_count": null,
      "outputs": [
        {
          "output_type": "execute_result",
          "data": {
            "text/plain": [
              "(0.0, 2000.0)"
            ]
          },
          "metadata": {},
          "execution_count": 187
        },
        {
          "output_type": "display_data",
          "data": {
            "text/plain": [
              "<Figure size 910.6x432 with 1 Axes>"
            ],
            "image/png": "[encoded data removed]"
          },
          "metadata": {}
        }
      ]
    },
    {
      "cell_type": "markdown",
      "source": [
        "University degree has the highest rate who subscribed a term deposit.\n",
        "\n",
        "Obviously, illiterate clients have the lowest."
      ],
      "metadata": {
        "id": "ctBJ-q0pLqaN"
      }
    },
    {
      "cell_type": "code",
      "source": [
        "data['month'] = df['month']\n",
        "sns.catplot(x = 'month', hue = 'y', data = data, kind = 'count', height = 6, aspect = 2, color = '#23d104')\n",
        "plt.ylim(0, 1000)"
      ],
      "metadata": {
        "colab": {
          "base_uri": "https://localhost:8080/",
          "height": 458
        },
        "id": "WdOh2h_nnHDT",
        "outputId": "f2b9da3b-6bfe-403a-cc01-5d88ecabb419"
      },
      "execution_count": null,
      "outputs": [
        {
          "output_type": "execute_result",
          "data": {
            "text/plain": [
              "(0.0, 1000.0)"
            ]
          },
          "metadata": {},
          "execution_count": 188
        },
        {
          "output_type": "display_data",
          "data": {
            "text/plain": [
              "<Figure size 910.6x432 with 1 Axes>"
            ],
            "image/png": "[encoded data removed]"
          },
          "metadata": {}
        }
      ]
    },
    {
      "cell_type": "markdown",
      "source": [
        "Most subscriptions were made in May. The fewest in December."
      ],
      "metadata": {
        "id": "SmlA1k3aL5Ak"
      }
    },
    {
      "cell_type": "markdown",
      "source": [
        "## Relationship with numerical variables"
      ],
      "metadata": {
        "id": "MapeTwrQo4Gc"
      }
    },
    {
      "cell_type": "code",
      "source": [
        "data['age'] = df['age']\n",
        "fig, ax = plt.subplots(figsize = (8, 6))\n",
        "fig = sns.boxplot(y = 'age', x = 'y', data = data)\n",
        "fig.axis(ymin = 0, ymax = 100)"
      ],
      "metadata": {
        "colab": {
          "base_uri": "https://localhost:8080/",
          "height": 415
        },
        "id": "azokUxd-o7gZ",
        "outputId": "ec227a31-feca-4b69-fdc6-cebc54eeab17"
      },
      "execution_count": null,
      "outputs": [
        {
          "output_type": "execute_result",
          "data": {
            "text/plain": [
              "(-0.5, 1.5, 0.0, 100.0)"
            ]
          },
          "metadata": {},
          "execution_count": 210
        },
        {
          "output_type": "display_data",
          "data": {
            "text/plain": [
              "<Figure size 576x432 with 1 Axes>"
            ],
            "image/png": "[encoded data removed]"
          },
          "metadata": {}
        }
      ]
    },
    {
      "cell_type": "markdown",
      "source": [
        "The variance is bigger who subscribed."
      ],
      "metadata": {
        "id": "XD4_Y-xwMScG"
      }
    },
    {
      "cell_type": "code",
      "source": [
        "data['duration'] = df['duration']\n",
        "fig, ax = plt.subplots(figsize = (8, 6))\n",
        "fig = sns.boxplot(y = 'duration', x = 'y', data = data)\n",
        "fig.axis(ymin = 0, ymax = 1000)"
      ],
      "metadata": {
        "colab": {
          "base_uri": "https://localhost:8080/",
          "height": 415
        },
        "id": "Xj0E_ZWQqpP_",
        "outputId": "b0dd2c77-dd35-4465-b658-b556785d64d3"
      },
      "execution_count": null,
      "outputs": [
        {
          "output_type": "execute_result",
          "data": {
            "text/plain": [
              "(-0.5, 1.5, 0.0, 1000.0)"
            ]
          },
          "metadata": {},
          "execution_count": 211
        },
        {
          "output_type": "display_data",
          "data": {
            "text/plain": [
              "<Figure size 576x432 with 1 Axes>"
            ],
            "image/png": "[encoded data removed]"
          },
          "metadata": {}
        }
      ]
    },
    {
      "cell_type": "markdown",
      "source": [
        "In the past, the subscription made more likely if the duration was in range between ~250 and ~750."
      ],
      "metadata": {
        "id": "FCh-KmfxMaE6"
      }
    },
    {
      "cell_type": "code",
      "source": [
        "(df['duration'][df['y'] == 'yes']).describe()"
      ],
      "metadata": {
        "colab": {
          "base_uri": "https://localhost:8080/"
        },
        "id": "b4hE-kMzq6eC",
        "outputId": "ebe684d7-337e-4fc3-e8b1-ea4e1f3503b1"
      },
      "execution_count": null,
      "outputs": [
        {
          "output_type": "execute_result",
          "data": {
            "text/plain": [
              "count    4640.000000\n",
              "mean      553.191164\n",
              "std       401.171871\n",
              "min        37.000000\n",
              "25%       253.000000\n",
              "50%       449.000000\n",
              "75%       741.250000\n",
              "max      4199.000000\n",
              "Name: duration, dtype: float64"
            ]
          },
          "metadata": {},
          "execution_count": 25
        }
      ]
    },
    {
      "cell_type": "markdown",
      "source": [
        "# DP"
      ],
      "metadata": {
        "id": "swejXwT4NKjH"
      }
    },
    {
      "cell_type": "markdown",
      "source": [
        "## Deal with unknown values"
      ],
      "metadata": {
        "id": "ZwFsp9CwR4oW"
      }
    },
    {
      "cell_type": "code",
      "execution_count": null,
      "metadata": {
        "colab": {
          "base_uri": "https://localhost:8080/"
        },
        "id": "2RXBMRRaM7Wy",
        "outputId": "abfa6b01-91f1-4795-edb5-cd36c3b0811b"
      },
      "outputs": [
        {
          "output_type": "execute_result",
          "data": {
            "text/plain": [
              "age               0\n",
              "job               0\n",
              "marital           0\n",
              "education         0\n",
              "default           0\n",
              "housing           0\n",
              "loan              0\n",
              "contact           0\n",
              "month             0\n",
              "day_of_week       0\n",
              "duration          0\n",
              "campaign          0\n",
              "pdays             0\n",
              "previous          0\n",
              "poutcome          0\n",
              "emp.var.rate      0\n",
              "cons.price.idx    0\n",
              "cons.conf.idx     0\n",
              "euribor3m         0\n",
              "nr.employed       0\n",
              "y                 0\n",
              "dtype: int64"
            ]
          },
          "metadata": {},
          "execution_count": 26
        }
      ],
      "source": [
        "df.isnull().sum()"
      ]
    },
    {
      "cell_type": "markdown",
      "metadata": {
        "id": "2Itdw2w_MJYW"
      },
      "source": [
        "It seems there is 0 NaN values, but there is some 'unknown' value in the Dataframe. Let's count them, and see, which column has it."
      ]
    },
    {
      "cell_type": "code",
      "execution_count": null,
      "metadata": {
        "colab": {
          "base_uri": "https://localhost:8080/"
        },
        "id": "POLtOXgDv8oO",
        "outputId": "793aaaf5-2d6a-47a1-89b5-9f05e4a54e69"
      },
      "outputs": [
        {
          "output_type": "execute_result",
          "data": {
            "text/plain": [
              "12718"
            ]
          },
          "metadata": {},
          "execution_count": 27
        }
      ],
      "source": [
        "(df.values=='unknown').sum()"
      ]
    },
    {
      "cell_type": "code",
      "execution_count": null,
      "metadata": {
        "colab": {
          "base_uri": "https://localhost:8080/"
        },
        "id": "kF3Rnml82RBg",
        "outputId": "e7800432-d0ec-4d02-8776-0912ebbdd529"
      },
      "outputs": [
        {
          "output_type": "execute_result",
          "data": {
            "text/plain": [
              "age                  0\n",
              "job                330\n",
              "marital             80\n",
              "education         1731\n",
              "default           8597\n",
              "housing            990\n",
              "loan               990\n",
              "contact              0\n",
              "month                0\n",
              "day_of_week          0\n",
              "duration             0\n",
              "campaign             0\n",
              "pdays                0\n",
              "previous             0\n",
              "poutcome             0\n",
              "emp.var.rate         0\n",
              "cons.price.idx       0\n",
              "cons.conf.idx        0\n",
              "euribor3m            0\n",
              "nr.employed          0\n",
              "y                    0\n",
              "dtype: int64"
            ]
          },
          "metadata": {},
          "execution_count": 28
        }
      ],
      "source": [
        "# Change 'unknown' to np.nan, since it will be easier to work with them\n",
        "df.replace('unknown', np.nan, inplace = True)\n",
        "df.isnull().sum()"
      ]
    },
    {
      "cell_type": "code",
      "execution_count": null,
      "metadata": {
        "colab": {
          "base_uri": "https://localhost:8080/"
        },
        "id": "ey0rtqhG2pPo",
        "outputId": "efc872dc-f73f-4d13-ed99-36e50f30e53b"
      },
      "outputs": [
        {
          "output_type": "execute_result",
          "data": {
            "text/plain": [
              "default           8597\n",
              "education         1731\n",
              "housing            990\n",
              "loan               990\n",
              "job                330\n",
              "marital             80\n",
              "age                  0\n",
              "poutcome             0\n",
              "nr.employed          0\n",
              "euribor3m            0\n",
              "cons.conf.idx        0\n",
              "cons.price.idx       0\n",
              "emp.var.rate         0\n",
              "duration             0\n",
              "previous             0\n",
              "pdays                0\n",
              "campaign             0\n",
              "day_of_week          0\n",
              "month                0\n",
              "contact              0\n",
              "y                    0\n",
              "dtype: int64"
            ]
          },
          "metadata": {},
          "execution_count": 29
        }
      ],
      "source": [
        "total = df.isnull().sum().sort_values(ascending = False)\n",
        "percent = (df.isnull().sum() / df.isnull().count() * 100).sort_values(ascending = False)\n",
        "\n",
        "total"
      ]
    },
    {
      "cell_type": "code",
      "execution_count": null,
      "metadata": {
        "colab": {
          "base_uri": "https://localhost:8080/",
          "height": 238
        },
        "id": "ZGz8_i9l350k",
        "outputId": "d02f5c15-a1c6-4379-bf92-10604c51de46"
      },
      "outputs": [
        {
          "output_type": "execute_result",
          "data": {
            "text/plain": [
              "           Total    Percent\n",
              "default     8597  20.872584\n",
              "education   1731   4.202680\n",
              "housing      990   2.403613\n",
              "loan         990   2.403613\n",
              "job          330   0.801204\n",
              "marital       80   0.194231"
            ],
            "text/html": [
              "\n",
              "  <div id=\"df-7120f4e1-15be-4fdd-ac00-4ca464727b9c\">\n",
              "    <div class=\"colab-df-container\">\n",
              "      <div>\n",
              "<style scoped>\n",
              "    .dataframe tbody tr th:only-of-type {\n",
              "        vertical-align: middle;\n",
              "    }\n",
              "\n",
              "    .dataframe tbody tr th {\n",
              "        vertical-align: top;\n",
              "    }\n",
              "\n",
              "    .dataframe thead th {\n",
              "        text-align: right;\n",
              "    }\n",
              "</style>\n",
              "<table border=\"1\" class=\"dataframe\">\n",
              "  <thead>\n",
              "    <tr style=\"text-align: right;\">\n",
              "      <th></th>\n",
              "      <th>Total</th>\n",
              "      <th>Percent</th>\n",
              "    </tr>\n",
              "  </thead>\n",
              "  <tbody>\n",
              "    <tr>\n",
              "      <th>default</th>\n",
              "      <td>8597</td>\n",
              "      <td>20.872584</td>\n",
              "    </tr>\n",
              "    <tr>\n",
              "      <th>education</th>\n",
              "      <td>1731</td>\n",
              "      <td>4.202680</td>\n",
              "    </tr>\n",
              "    <tr>\n",
              "      <th>housing</th>\n",
              "      <td>990</td>\n",
              "      <td>2.403613</td>\n",
              "    </tr>\n",
              "    <tr>\n",
              "      <th>loan</th>\n",
              "      <td>990</td>\n",
              "      <td>2.403613</td>\n",
              "    </tr>\n",
              "    <tr>\n",
              "      <th>job</th>\n",
              "      <td>330</td>\n",
              "      <td>0.801204</td>\n",
              "    </tr>\n",
              "    <tr>\n",
              "      <th>marital</th>\n",
              "      <td>80</td>\n",
              "      <td>0.194231</td>\n",
              "    </tr>\n",
              "  </tbody>\n",
              "</table>\n",
              "</div>\n",
              "      <button class=\"colab-df-convert\" onclick=\"convertToInteractive('df-7120f4e1-15be-4fdd-ac00-4ca464727b9c')\"\n",
              "              title=\"Convert this dataframe to an interactive table.\"\n",
              "              style=\"display:none;\">\n",
              "        \n",
              "  <svg xmlns=\"http://www.w3.org/2000/svg\" height=\"24px\"viewBox=\"0 0 24 24\"\n",
              "       width=\"24px\">\n",
              "    <path d=\"M0 0h24v24H0V0z\" fill=\"none\"/>\n",
              "    <path d=\"M18.56 5.44l.94 2.06.94-2.06 2.06-.94-2.06-.94-.94-2.06-.94 2.06-2.06.94zm-11 1L8.5 8.5l.94-2.06 2.06-.94-2.06-.94L8.5 2.5l-.94 2.06-2.06.94zm10 10l.94 2.06.94-2.06 2.06-.94-2.06-.94-.94-2.06-.94 2.06-2.06.94z\"/><path d=\"M17.41 7.96l-1.37-1.37c-.4-.4-.92-.59-1.43-.59-.52 0-1.04.2-1.43.59L10.3 9.45l-7.72 7.72c-.78.78-.78 2.05 0 2.83L4 21.41c.39.39.9.59 1.41.59.51 0 1.02-.2 1.41-.59l7.78-7.78 2.81-2.81c.8-.78.8-2.07 0-2.86zM5.41 20L4 18.59l7.72-7.72 1.47 1.35L5.41 20z\"/>\n",
              "  </svg>\n",
              "      </button>\n",
              "      \n",
              "  <style>\n",
              "    .colab-df-container {\n",
              "      display:flex;\n",
              "      flex-wrap:wrap;\n",
              "      gap: 12px;\n",
              "    }\n",
              "\n",
              "    .colab-df-convert {\n",
              "      background-color: #E8F0FE;\n",
              "      border: none;\n",
              "      border-radius: 50%;\n",
              "      cursor: pointer;\n",
              "      display: none;\n",
              "      fill: #1967D2;\n",
              "      height: 32px;\n",
              "      padding: 0 0 0 0;\n",
              "      width: 32px;\n",
              "    }\n",
              "\n",
              "    .colab-df-convert:hover {\n",
              "      background-color: #E2EBFA;\n",
              "      box-shadow: 0px 1px 2px rgba(60, 64, 67, 0.3), 0px 1px 3px 1px rgba(60, 64, 67, 0.15);\n",
              "      fill: #174EA6;\n",
              "    }\n",
              "\n",
              "    [theme=dark] .colab-df-convert {\n",
              "      background-color: #3B4455;\n",
              "      fill: #D2E3FC;\n",
              "    }\n",
              "\n",
              "    [theme=dark] .colab-df-convert:hover {\n",
              "      background-color: #434B5C;\n",
              "      box-shadow: 0px 1px 3px 1px rgba(0, 0, 0, 0.15);\n",
              "      filter: drop-shadow(0px 1px 2px rgba(0, 0, 0, 0.3));\n",
              "      fill: #FFFFFF;\n",
              "    }\n",
              "  </style>\n",
              "\n",
              "      <script>\n",
              "        const buttonEl =\n",
              "          document.querySelector('#df-7120f4e1-15be-4fdd-ac00-4ca464727b9c button.colab-df-convert');\n",
              "        buttonEl.style.display =\n",
              "          google.colab.kernel.accessAllowed ? 'block' : 'none';\n",
              "\n",
              "        async function convertToInteractive(key) {\n",
              "          const element = document.querySelector('#df-7120f4e1-15be-4fdd-ac00-4ca464727b9c');\n",
              "          const dataTable =\n",
              "            await google.colab.kernel.invokeFunction('convertToInteractive',\n",
              "                                                     [key], {});\n",
              "          if (!dataTable) return;\n",
              "\n",
              "          const docLinkHtml = 'Like what you see? Visit the ' +\n",
              "            '<a target=\"_blank\" href=https://colab.research.google.com/notebooks/data_table.ipynb>data table notebook</a>'\n",
              "            + ' to learn more about interactive tables.';\n",
              "          element.innerHTML = '';\n",
              "          dataTable['output_type'] = 'display_data';\n",
              "          await google.colab.output.renderOutput(dataTable, element);\n",
              "          const docLink = document.createElement('div');\n",
              "          docLink.innerHTML = docLinkHtml;\n",
              "          element.appendChild(docLink);\n",
              "        }\n",
              "      </script>\n",
              "    </div>\n",
              "  </div>\n",
              "  "
            ]
          },
          "metadata": {},
          "execution_count": 30
        }
      ],
      "source": [
        "# missing data column and rate\n",
        "missing_data = pd.concat([total, percent], axis = 1, keys = ['Total', 'Percent'])\n",
        "missing_data[missing_data['Total'] > 0]"
      ]
    },
    {
      "cell_type": "markdown",
      "source": [
        "Default feature has the most unknown value rate."
      ],
      "metadata": {
        "id": "k2W9-e8XR-_q"
      }
    },
    {
      "cell_type": "code",
      "execution_count": null,
      "metadata": {
        "colab": {
          "base_uri": "https://localhost:8080/"
        },
        "id": "4uFNofYVeBat",
        "outputId": "d7cd8673-8be1-4b54-a65f-1f915e4ca3d1"
      },
      "outputs": [
        {
          "output_type": "stream",
          "name": "stdout",
          "text": [
            "age                 int64\n",
            "job                object\n",
            "marital            object\n",
            "education          object\n",
            "default            object\n",
            "housing            object\n",
            "loan               object\n",
            "contact            object\n",
            "month              object\n",
            "day_of_week        object\n",
            "duration            int64\n",
            "campaign            int64\n",
            "pdays               int64\n",
            "previous            int64\n",
            "poutcome           object\n",
            "emp.var.rate      float64\n",
            "cons.price.idx    float64\n",
            "cons.conf.idx     float64\n",
            "euribor3m         float64\n",
            "nr.employed       float64\n",
            "y                    bool\n",
            "dtype: object\n"
          ]
        }
      ],
      "source": [
        " # Convert 'no' and 'yes' values to True and False\n",
        "df['default'] = df['default'].map({'yes': True, 'no': False})\n",
        "df['housing'] = df['housing'].map({'yes': True, 'no': False})\n",
        "df['loan'] = df['loan'].map({'yes': True, 'no': False})\n",
        "df['y'] = df['y'].map({'yes': True, 'no': False})\n",
        "\n",
        "print(df.dtypes)\n",
        "# They will be dtype = object, because of the 'nan' values"
      ]
    },
    {
      "cell_type": "code",
      "execution_count": null,
      "metadata": {
        "colab": {
          "base_uri": "https://localhost:8080/"
        },
        "id": "9zzgE6S9AvhY",
        "outputId": "d6d34d83-1ae9-4a89-fbae-309b74a221a3"
      },
      "outputs": [
        {
          "output_type": "execute_result",
          "data": {
            "text/plain": [
              "False    36548\n",
              "True      4640\n",
              "Name: y, dtype: int64"
            ]
          },
          "metadata": {},
          "execution_count": 32
        }
      ],
      "source": [
        "df['y'].value_counts()"
      ]
    },
    {
      "cell_type": "markdown",
      "source": [
        "4640 client subscribed a term deposit."
      ],
      "metadata": {
        "id": "VraYotvFfZr2"
      }
    },
    {
      "cell_type": "code",
      "execution_count": null,
      "metadata": {
        "colab": {
          "base_uri": "https://localhost:8080/"
        },
        "id": "kxIZZppX_Rll",
        "outputId": "267bb7bc-43ea-4377-b225-a6959b1c3778"
      },
      "outputs": [
        {
          "output_type": "stream",
          "name": "stderr",
          "text": [
            "<ipython-input-33-c7335b909a15>:2: FutureWarning: Dropping of nuisance columns in DataFrame reductions (with 'numeric_only=None') is deprecated; in a future version this will raise TypeError.  Select only valid columns before calling the reduction.\n",
            "  df.var().sort_values()\n"
          ]
        },
        {
          "output_type": "execute_result",
          "data": {
            "text/plain": [
              "default               0.000092\n",
              "y                     0.099966\n",
              "loan                  0.131275\n",
              "previous              0.244927\n",
              "housing               0.248656\n",
              "cons.price.idx        0.335056\n",
              "emp.var.rate          2.467915\n",
              "euribor3m             3.008308\n",
              "campaign              7.672975\n",
              "cons.conf.idx        21.420215\n",
              "age                 108.602451\n",
              "nr.employed        5220.283250\n",
              "pdays             34935.687284\n",
              "duration          67225.728877\n",
              "dtype: float64"
            ]
          },
          "metadata": {},
          "execution_count": 33
        }
      ],
      "source": [
        "# Let's see the variances.\n",
        "df.var().sort_values()"
      ]
    },
    {
      "cell_type": "markdown",
      "source": [
        "Default has a very low variance. Dive in deeper in that feature."
      ],
      "metadata": {
        "id": "C4BnE-ccgJpE"
      }
    },
    {
      "cell_type": "code",
      "source": [
        "print(df.default.value_counts())\n",
        "print('Number of unknown values:', df.default.isna().sum())"
      ],
      "metadata": {
        "colab": {
          "base_uri": "https://localhost:8080/"
        },
        "id": "TvcgIs3ofkYE",
        "outputId": "277ef342-056b-4916-ac03-74b6fb2b9ead"
      },
      "execution_count": null,
      "outputs": [
        {
          "output_type": "stream",
          "name": "stdout",
          "text": [
            "False    32588\n",
            "True         3\n",
            "Name: default, dtype: int64\n",
            "Number of unknown values: 8597\n"
          ]
        }
      ]
    },
    {
      "cell_type": "markdown",
      "source": [
        "There is 32588 False, and only 3 (!) True value, ~8600 unknown. This data is quasi constant in my opinion. Don't deal with it, let's just drop this column."
      ],
      "metadata": {
        "id": "k7k4vxQlgRkN"
      }
    },
    {
      "cell_type": "code",
      "source": [
        "df = df.drop('default', axis = 1)"
      ],
      "metadata": {
        "id": "Mm4x-qQtgkGq"
      },
      "execution_count": null,
      "outputs": []
    },
    {
      "cell_type": "markdown",
      "source": [
        "**Duration, pdays and nr.employed have a huge variance. Check those features.**"
      ],
      "metadata": {
        "id": "oBTjuqiHhMyV"
      }
    },
    {
      "cell_type": "markdown",
      "source": [
        "Duration"
      ],
      "metadata": {
        "id": "VeEQsklvTGkr"
      }
    },
    {
      "cell_type": "code",
      "execution_count": null,
      "metadata": {
        "colab": {
          "base_uri": "https://localhost:8080/",
          "height": 296
        },
        "id": "FZS657DiCODI",
        "outputId": "95a33a08-924c-4263-bb60-e062e1ececb4"
      },
      "outputs": [
        {
          "output_type": "execute_result",
          "data": {
            "text/plain": [
              "<matplotlib.axes._subplots.AxesSubplot at 0x7f763ae73fd0>"
            ]
          },
          "metadata": {},
          "execution_count": 36
        },
        {
          "output_type": "display_data",
          "data": {
            "text/plain": [
              "<Figure size 432x288 with 1 Axes>"
            ],
            "image/png": "[encoded data removed]"
          },
          "metadata": {
            "needs_background": "light"
          }
        }
      ],
      "source": [
        "# A box plot for the duration\n",
        "sns.boxplot(x = 'duration', data = df)"
      ]
    },
    {
      "cell_type": "markdown",
      "metadata": {
        "id": "RUz1Ju19DqAD"
      },
      "source": [
        "This boxplot not seems good. There is a lot of outliers. But this is unknown before the prediction of feature 'y', so I just drop this column."
      ]
    },
    {
      "cell_type": "code",
      "source": [
        "df = df.drop('duration', axis = 1)"
      ],
      "metadata": {
        "id": "eAb-yAz1kbz5"
      },
      "execution_count": null,
      "outputs": []
    },
    {
      "cell_type": "markdown",
      "source": [
        "Pdays"
      ],
      "metadata": {
        "id": "G-DjwH1yTJJq"
      }
    },
    {
      "cell_type": "markdown",
      "source": [
        "Let's deal with the 999 values of the pdays feature.\n",
        "This is because there is a lot of '999' value, which represents the new clients."
      ],
      "metadata": {
        "id": "UsUfAxKDolms"
      }
    },
    {
      "cell_type": "code",
      "source": [
        "# Percentage of '999' values\n",
        "(df.pdays == 999).sum() / df.pdays.count()"
      ],
      "metadata": {
        "colab": {
          "base_uri": "https://localhost:8080/"
        },
        "id": "BvBsaX4Wo64w",
        "outputId": "f4c7b225-603d-4cb9-d162-8589af0405b1"
      },
      "execution_count": null,
      "outputs": [
        {
          "output_type": "execute_result",
          "data": {
            "text/plain": [
              "0.9632174419733903"
            ]
          },
          "metadata": {},
          "execution_count": 38
        }
      ]
    },
    {
      "cell_type": "markdown",
      "source": [
        "96.32% of clients was not previously contacted."
      ],
      "metadata": {
        "id": "6ps_sTniNj86"
      }
    },
    {
      "cell_type": "code",
      "source": [
        "df.pdays.value_counts()"
      ],
      "metadata": {
        "colab": {
          "base_uri": "https://localhost:8080/"
        },
        "id": "tTYD7wEuqSKt",
        "outputId": "b9754a4a-af86-4750-f184-505cbcd80cb7"
      },
      "execution_count": null,
      "outputs": [
        {
          "output_type": "execute_result",
          "data": {
            "text/plain": [
              "999    39673\n",
              "3        439\n",
              "6        412\n",
              "4        118\n",
              "9         64\n",
              "2         61\n",
              "7         60\n",
              "12        58\n",
              "10        52\n",
              "5         46\n",
              "13        36\n",
              "11        28\n",
              "1         26\n",
              "15        24\n",
              "14        20\n",
              "8         18\n",
              "0         15\n",
              "16        11\n",
              "17         8\n",
              "18         7\n",
              "22         3\n",
              "19         3\n",
              "21         2\n",
              "25         1\n",
              "26         1\n",
              "27         1\n",
              "20         1\n",
              "Name: pdays, dtype: int64"
            ]
          },
          "metadata": {},
          "execution_count": 39
        }
      ]
    },
    {
      "cell_type": "code",
      "source": [
        "# Replace the 999 values to NaN, so we can see actual previous day values.\n",
        "# Later, we can fill the n.a. values with the mean (I think it's better than the mode, because there is a lot of 3, 4, 6)\n",
        "# The mode is 3, but the mean is 6.\n",
        "\n",
        "df['pdays'] = df['pdays'].replace(999, np.nan)"
      ],
      "metadata": {
        "id": "Uk2Ym2JOqySm"
      },
      "execution_count": null,
      "outputs": []
    },
    {
      "cell_type": "code",
      "source": [
        "df['pdays'].describe()"
      ],
      "metadata": {
        "colab": {
          "base_uri": "https://localhost:8080/"
        },
        "id": "vtQjLrvsrD7e",
        "outputId": "9fcc28d7-a0f7-4ed3-b846-951638a23dc5"
      },
      "execution_count": null,
      "outputs": [
        {
          "output_type": "execute_result",
          "data": {
            "text/plain": [
              "count    1515.000000\n",
              "mean        6.014521\n",
              "std         3.824906\n",
              "min         0.000000\n",
              "25%         3.000000\n",
              "50%         6.000000\n",
              "75%         7.000000\n",
              "max        27.000000\n",
              "Name: pdays, dtype: float64"
            ]
          },
          "metadata": {},
          "execution_count": 41
        }
      ]
    },
    {
      "cell_type": "code",
      "source": [
        "df.pdays.mean()"
      ],
      "metadata": {
        "colab": {
          "base_uri": "https://localhost:8080/"
        },
        "id": "5FvDoFNprhFR",
        "outputId": "194127e3-8b45-43b3-af1f-2adc85e8ed3e"
      },
      "execution_count": null,
      "outputs": [
        {
          "output_type": "execute_result",
          "data": {
            "text/plain": [
              "6.014521452145215"
            ]
          },
          "metadata": {},
          "execution_count": 42
        }
      ]
    },
    {
      "cell_type": "code",
      "source": [
        "(df['pdays'] > 7).value_counts()"
      ],
      "metadata": {
        "colab": {
          "base_uri": "https://localhost:8080/"
        },
        "id": "nv2QVt-1hdPL",
        "outputId": "28495749-f7ee-4785-d2fa-e979f827237e"
      },
      "execution_count": null,
      "outputs": [
        {
          "output_type": "execute_result",
          "data": {
            "text/plain": [
              "False    40850\n",
              "True       338\n",
              "Name: pdays, dtype: int64"
            ]
          },
          "metadata": {},
          "execution_count": 43
        }
      ]
    },
    {
      "cell_type": "code",
      "source": [
        "(df['pdays'] > 7).sum() / (df['pdays'] > 0).sum()"
      ],
      "metadata": {
        "colab": {
          "base_uri": "https://localhost:8080/"
        },
        "id": "6K20nHTFiE2F",
        "outputId": "692edfc7-0b2b-4ecf-c0e6-4c1fac6f2bdc"
      },
      "execution_count": null,
      "outputs": [
        {
          "output_type": "execute_result",
          "data": {
            "text/plain": [
              "0.22533333333333333"
            ]
          },
          "metadata": {},
          "execution_count": 44
        }
      ]
    },
    {
      "cell_type": "markdown",
      "source": [
        "There is 338 client, who's number of days that passed by after contacted from a previous campaign is over one week.\n",
        "That is 22.53%. I change this value to a binary value."
      ],
      "metadata": {
        "id": "KoefG-9-hzPi"
      }
    },
    {
      "cell_type": "code",
      "source": [
        "df['pdaysBinary'] = df['pdays'].apply(lambda x: x < 7)\n",
        "df['pdaysBinary'].unique()"
      ],
      "metadata": {
        "id": "C-Svdb31ikcV",
        "colab": {
          "base_uri": "https://localhost:8080/"
        },
        "outputId": "bd3cd57e-5489-40e2-b481-60f3da5e1932"
      },
      "execution_count": null,
      "outputs": [
        {
          "output_type": "execute_result",
          "data": {
            "text/plain": [
              "array([False,  True])"
            ]
          },
          "metadata": {},
          "execution_count": 45
        }
      ]
    },
    {
      "cell_type": "markdown",
      "source": [
        "nr.employed"
      ],
      "metadata": {
        "id": "aXjGe7-CTSmQ"
      }
    },
    {
      "cell_type": "code",
      "source": [
        "# Box plot for number of employees\n",
        "sns.boxplot(x = 'nr.employed', data = df)"
      ],
      "metadata": {
        "colab": {
          "base_uri": "https://localhost:8080/",
          "height": 296
        },
        "id": "XHaIgU79hgEO",
        "outputId": "8def46fd-81fa-4290-fbed-639a8d48b2df"
      },
      "execution_count": null,
      "outputs": [
        {
          "output_type": "execute_result",
          "data": {
            "text/plain": [
              "<matplotlib.axes._subplots.AxesSubplot at 0x7f763a634040>"
            ]
          },
          "metadata": {},
          "execution_count": 46
        },
        {
          "output_type": "display_data",
          "data": {
            "text/plain": [
              "<Figure size 432x288 with 1 Axes>"
            ],
            "image/png": "[encoded data removed]"
          },
          "metadata": {
            "needs_background": "light"
          }
        }
      ]
    },
    {
      "cell_type": "code",
      "source": [
        "df['nr.employed'].describe()"
      ],
      "metadata": {
        "colab": {
          "base_uri": "https://localhost:8080/"
        },
        "id": "y-adRmUThp4V",
        "outputId": "27f3570c-d752-4ed9-ed80-13a84267c840"
      },
      "execution_count": null,
      "outputs": [
        {
          "output_type": "execute_result",
          "data": {
            "text/plain": [
              "count    41188.000000\n",
              "mean      5167.035911\n",
              "std         72.251528\n",
              "min       4963.600000\n",
              "25%       5099.100000\n",
              "50%       5191.000000\n",
              "75%       5228.100000\n",
              "max       5228.100000\n",
              "Name: nr.employed, dtype: float64"
            ]
          },
          "metadata": {},
          "execution_count": 47
        }
      ]
    },
    {
      "cell_type": "code",
      "source": [
        "df['nr.employed'].value_counts()"
      ],
      "metadata": {
        "colab": {
          "base_uri": "https://localhost:8080/"
        },
        "id": "NSA7DeNLhvy_",
        "outputId": "0ddaeab4-99cb-4125-e895-e485694adf2c"
      },
      "execution_count": null,
      "outputs": [
        {
          "output_type": "execute_result",
          "data": {
            "text/plain": [
              "5228.1    16234\n",
              "5099.1     8534\n",
              "5191.0     7763\n",
              "5195.8     3683\n",
              "5076.2     1663\n",
              "5017.5     1071\n",
              "4991.6      773\n",
              "5008.7      650\n",
              "4963.6      635\n",
              "5023.5      172\n",
              "5176.3       10\n",
              "Name: nr.employed, dtype: int64"
            ]
          },
          "metadata": {},
          "execution_count": 48
        }
      ]
    },
    {
      "cell_type": "markdown",
      "source": [
        "nr.employed seems to be correct, the high variance is because of the high numbers."
      ],
      "metadata": {
        "id": "rbbZ-GddiDzs"
      }
    },
    {
      "cell_type": "code",
      "source": [
        "sns.distplot(df['nr.employed'])"
      ],
      "metadata": {
        "colab": {
          "base_uri": "https://localhost:8080/",
          "height": 351
        },
        "id": "pivd-8TbiNA6",
        "outputId": "b37218ab-815f-4d47-fdd7-2950a73f496a"
      },
      "execution_count": null,
      "outputs": [
        {
          "output_type": "stream",
          "name": "stderr",
          "text": [
            "/usr/local/lib/python3.8/dist-packages/seaborn/distributions.py:2619: FutureWarning: `distplot` is a deprecated function and will be removed in a future version. Please adapt your code to use either `displot` (a figure-level function with similar flexibility) or `histplot` (an axes-level function for histograms).\n",
            "  warnings.warn(msg, FutureWarning)\n"
          ]
        },
        {
          "output_type": "execute_result",
          "data": {
            "text/plain": [
              "<matplotlib.axes._subplots.AxesSubplot at 0x7f763ac960d0>"
            ]
          },
          "metadata": {},
          "execution_count": 49
        },
        {
          "output_type": "display_data",
          "data": {
            "text/plain": [
              "<Figure size 432x288 with 1 Axes>"
            ],
            "image/png": "[encoded data removed]"
          },
          "metadata": {
            "needs_background": "light"
          }
        }
      ]
    },
    {
      "cell_type": "markdown",
      "source": [
        "The bank had 4950-5250 employees from May 2008 to November 2010."
      ],
      "metadata": {
        "id": "oBLwEqMmjGT1"
      }
    },
    {
      "cell_type": "markdown",
      "source": [
        "## Imputers, Scalers, Encodings"
      ],
      "metadata": {
        "id": "FfcXazAETgM9"
      }
    },
    {
      "cell_type": "code",
      "execution_count": null,
      "metadata": {
        "colab": {
          "base_uri": "https://localhost:8080/"
        },
        "id": "V6rK-JFAG6e3",
        "outputId": "cd5a1f88-4eff-4cbf-815a-ae81b107237a"
      },
      "outputs": [
        {
          "output_type": "stream",
          "name": "stderr",
          "text": [
            "<ipython-input-50-c5fdd05cc78b>:2: DeprecationWarning: `np.object` is a deprecated alias for the builtin `object`. To silence this warning, use `object` by itself. Doing this will not modify any behavior and is safe. \n",
            "Deprecated in NumPy 1.20; for more details and guidance: https://numpy.org/devdocs/release/1.20.0-notes.html#deprecations\n",
            "  categorical_features = df.select_dtypes(np.object).columns\n"
          ]
        }
      ],
      "source": [
        "continious_features = df.select_dtypes('number').columns\n",
        "categorical_features = df.select_dtypes(np.object).columns"
      ]
    },
    {
      "cell_type": "code",
      "execution_count": null,
      "metadata": {
        "colab": {
          "base_uri": "https://localhost:8080/",
          "height": 332
        },
        "id": "Bq7yh36THAKA",
        "outputId": "40712fa9-ce02-40cc-c83f-0a8b7c0a877b"
      },
      "outputs": [
        {
          "output_type": "execute_result",
          "data": {
            "text/plain": [
              "                  count         mean        std       min          25%  \\\n",
              "age             41188.0    40.024060  10.421250    17.000    32.000000   \n",
              "campaign        41188.0     2.567593   2.770014     1.000     1.000000   \n",
              "pdays           41188.0     6.014521   0.733337     0.000     6.014521   \n",
              "previous        41188.0     0.172963   0.494901     0.000     0.000000   \n",
              "emp.var.rate    41188.0     0.081886   1.570960    -3.400    -1.800000   \n",
              "cons.price.idx  41188.0    93.575664   0.578840    92.201    93.075000   \n",
              "cons.conf.idx   41188.0   -40.502600   4.628198   -50.800   -42.700000   \n",
              "euribor3m       41188.0     3.621291   1.734447     0.634     1.344000   \n",
              "nr.employed     41188.0  5167.035911  72.251528  4963.600  5099.100000   \n",
              "\n",
              "                        50%          75%       max  \n",
              "age               38.000000    47.000000    98.000  \n",
              "campaign           2.000000     3.000000    56.000  \n",
              "pdays              6.014521     6.014521    27.000  \n",
              "previous           0.000000     0.000000     7.000  \n",
              "emp.var.rate       1.100000     1.400000     1.400  \n",
              "cons.price.idx    93.749000    93.994000    94.767  \n",
              "cons.conf.idx    -41.800000   -36.400000   -26.900  \n",
              "euribor3m          4.857000     4.961000     5.045  \n",
              "nr.employed     5191.000000  5228.100000  5228.100  "
            ],
            "text/html": [
              "\n",
              "  <div id=\"df-1b0a31dc-e909-4a5d-ae3b-5c0398c3b542\">\n",
              "    <div class=\"colab-df-container\">\n",
              "      <div>\n",
              "<style scoped>\n",
              "    .dataframe tbody tr th:only-of-type {\n",
              "        vertical-align: middle;\n",
              "    }\n",
              "\n",
              "    .dataframe tbody tr th {\n",
              "        vertical-align: top;\n",
              "    }\n",
              "\n",
              "    .dataframe thead th {\n",
              "        text-align: right;\n",
              "    }\n",
              "</style>\n",
              "<table border=\"1\" class=\"dataframe\">\n",
              "  <thead>\n",
              "    <tr style=\"text-align: right;\">\n",
              "      <th></th>\n",
              "      <th>count</th>\n",
              "      <th>mean</th>\n",
              "      <th>std</th>\n",
              "      <th>min</th>\n",
              "      <th>25%</th>\n",
              "      <th>50%</th>\n",
              "      <th>75%</th>\n",
              "      <th>max</th>\n",
              "    </tr>\n",
              "  </thead>\n",
              "  <tbody>\n",
              "    <tr>\n",
              "      <th>age</th>\n",
              "      <td>41188.0</td>\n",
              "      <td>40.024060</td>\n",
              "      <td>10.421250</td>\n",
              "      <td>17.000</td>\n",
              "      <td>32.000000</td>\n",
              "      <td>38.000000</td>\n",
              "      <td>47.000000</td>\n",
              "      <td>98.000</td>\n",
              "    </tr>\n",
              "    <tr>\n",
              "      <th>campaign</th>\n",
              "      <td>41188.0</td>\n",
              "      <td>2.567593</td>\n",
              "      <td>2.770014</td>\n",
              "      <td>1.000</td>\n",
              "      <td>1.000000</td>\n",
              "      <td>2.000000</td>\n",
              "      <td>3.000000</td>\n",
              "      <td>56.000</td>\n",
              "    </tr>\n",
              "    <tr>\n",
              "      <th>pdays</th>\n",
              "      <td>41188.0</td>\n",
              "      <td>6.014521</td>\n",
              "      <td>0.733337</td>\n",
              "      <td>0.000</td>\n",
              "      <td>6.014521</td>\n",
              "      <td>6.014521</td>\n",
              "      <td>6.014521</td>\n",
              "      <td>27.000</td>\n",
              "    </tr>\n",
              "    <tr>\n",
              "      <th>previous</th>\n",
              "      <td>41188.0</td>\n",
              "      <td>0.172963</td>\n",
              "      <td>0.494901</td>\n",
              "      <td>0.000</td>\n",
              "      <td>0.000000</td>\n",
              "      <td>0.000000</td>\n",
              "      <td>0.000000</td>\n",
              "      <td>7.000</td>\n",
              "    </tr>\n",
              "    <tr>\n",
              "      <th>emp.var.rate</th>\n",
              "      <td>41188.0</td>\n",
              "      <td>0.081886</td>\n",
              "      <td>1.570960</td>\n",
              "      <td>-3.400</td>\n",
              "      <td>-1.800000</td>\n",
              "      <td>1.100000</td>\n",
              "      <td>1.400000</td>\n",
              "      <td>1.400</td>\n",
              "    </tr>\n",
              "    <tr>\n",
              "      <th>cons.price.idx</th>\n",
              "      <td>41188.0</td>\n",
              "      <td>93.575664</td>\n",
              "      <td>0.578840</td>\n",
              "      <td>92.201</td>\n",
              "      <td>93.075000</td>\n",
              "      <td>93.749000</td>\n",
              "      <td>93.994000</td>\n",
              "      <td>94.767</td>\n",
              "    </tr>\n",
              "    <tr>\n",
              "      <th>cons.conf.idx</th>\n",
              "      <td>41188.0</td>\n",
              "      <td>-40.502600</td>\n",
              "      <td>4.628198</td>\n",
              "      <td>-50.800</td>\n",
              "      <td>-42.700000</td>\n",
              "      <td>-41.800000</td>\n",
              "      <td>-36.400000</td>\n",
              "      <td>-26.900</td>\n",
              "    </tr>\n",
              "    <tr>\n",
              "      <th>euribor3m</th>\n",
              "      <td>41188.0</td>\n",
              "      <td>3.621291</td>\n",
              "      <td>1.734447</td>\n",
              "      <td>0.634</td>\n",
              "      <td>1.344000</td>\n",
              "      <td>4.857000</td>\n",
              "      <td>4.961000</td>\n",
              "      <td>5.045</td>\n",
              "    </tr>\n",
              "    <tr>\n",
              "      <th>nr.employed</th>\n",
              "      <td>41188.0</td>\n",
              "      <td>5167.035911</td>\n",
              "      <td>72.251528</td>\n",
              "      <td>4963.600</td>\n",
              "      <td>5099.100000</td>\n",
              "      <td>5191.000000</td>\n",
              "      <td>5228.100000</td>\n",
              "      <td>5228.100</td>\n",
              "    </tr>\n",
              "  </tbody>\n",
              "</table>\n",
              "</div>\n",
              "      <button class=\"colab-df-convert\" onclick=\"convertToInteractive('df-1b0a31dc-e909-4a5d-ae3b-5c0398c3b542')\"\n",
              "              title=\"Convert this dataframe to an interactive table.\"\n",
              "              style=\"display:none;\">\n",
              "        \n",
              "  <svg xmlns=\"http://www.w3.org/2000/svg\" height=\"24px\"viewBox=\"0 0 24 24\"\n",
              "       width=\"24px\">\n",
              "    <path d=\"M0 0h24v24H0V0z\" fill=\"none\"/>\n",
              "    <path d=\"M18.56 5.44l.94 2.06.94-2.06 2.06-.94-2.06-.94-.94-2.06-.94 2.06-2.06.94zm-11 1L8.5 8.5l.94-2.06 2.06-.94-2.06-.94L8.5 2.5l-.94 2.06-2.06.94zm10 10l.94 2.06.94-2.06 2.06-.94-2.06-.94-.94-2.06-.94 2.06-2.06.94z\"/><path d=\"M17.41 7.96l-1.37-1.37c-.4-.4-.92-.59-1.43-.59-.52 0-1.04.2-1.43.59L10.3 9.45l-7.72 7.72c-.78.78-.78 2.05 0 2.83L4 21.41c.39.39.9.59 1.41.59.51 0 1.02-.2 1.41-.59l7.78-7.78 2.81-2.81c.8-.78.8-2.07 0-2.86zM5.41 20L4 18.59l7.72-7.72 1.47 1.35L5.41 20z\"/>\n",
              "  </svg>\n",
              "      </button>\n",
              "      \n",
              "  <style>\n",
              "    .colab-df-container {\n",
              "      display:flex;\n",
              "      flex-wrap:wrap;\n",
              "      gap: 12px;\n",
              "    }\n",
              "\n",
              "    .colab-df-convert {\n",
              "      background-color: #E8F0FE;\n",
              "      border: none;\n",
              "      border-radius: 50%;\n",
              "      cursor: pointer;\n",
              "      display: none;\n",
              "      fill: #1967D2;\n",
              "      height: 32px;\n",
              "      padding: 0 0 0 0;\n",
              "      width: 32px;\n",
              "    }\n",
              "\n",
              "    .colab-df-convert:hover {\n",
              "      background-color: #E2EBFA;\n",
              "      box-shadow: 0px 1px 2px rgba(60, 64, 67, 0.3), 0px 1px 3px 1px rgba(60, 64, 67, 0.15);\n",
              "      fill: #174EA6;\n",
              "    }\n",
              "\n",
              "    [theme=dark] .colab-df-convert {\n",
              "      background-color: #3B4455;\n",
              "      fill: #D2E3FC;\n",
              "    }\n",
              "\n",
              "    [theme=dark] .colab-df-convert:hover {\n",
              "      background-color: #434B5C;\n",
              "      box-shadow: 0px 1px 3px 1px rgba(0, 0, 0, 0.15);\n",
              "      filter: drop-shadow(0px 1px 2px rgba(0, 0, 0, 0.3));\n",
              "      fill: #FFFFFF;\n",
              "    }\n",
              "  </style>\n",
              "\n",
              "      <script>\n",
              "        const buttonEl =\n",
              "          document.querySelector('#df-1b0a31dc-e909-4a5d-ae3b-5c0398c3b542 button.colab-df-convert');\n",
              "        buttonEl.style.display =\n",
              "          google.colab.kernel.accessAllowed ? 'block' : 'none';\n",
              "\n",
              "        async function convertToInteractive(key) {\n",
              "          const element = document.querySelector('#df-1b0a31dc-e909-4a5d-ae3b-5c0398c3b542');\n",
              "          const dataTable =\n",
              "            await google.colab.kernel.invokeFunction('convertToInteractive',\n",
              "                                                     [key], {});\n",
              "          if (!dataTable) return;\n",
              "\n",
              "          const docLinkHtml = 'Like what you see? Visit the ' +\n",
              "            '<a target=\"_blank\" href=https://colab.research.google.com/notebooks/data_table.ipynb>data table notebook</a>'\n",
              "            + ' to learn more about interactive tables.';\n",
              "          element.innerHTML = '';\n",
              "          dataTable['output_type'] = 'display_data';\n",
              "          await google.colab.output.renderOutput(dataTable, element);\n",
              "          const docLink = document.createElement('div');\n",
              "          docLink.innerHTML = docLinkHtml;\n",
              "          element.appendChild(docLink);\n",
              "        }\n",
              "      </script>\n",
              "    </div>\n",
              "  </div>\n",
              "  "
            ]
          },
          "metadata": {},
          "execution_count": 51
        }
      ],
      "source": [
        "# Check how mean imputer would look like\n",
        "from sklearn.impute import SimpleImputer\n",
        "imputer_mean = SimpleImputer(missing_values=np.nan, strategy='mean', verbose=True)\n",
        "\n",
        "imputed_mean_data = pd.DataFrame(imputer_mean.fit_transform(df[continious_features]), columns=continious_features)\n",
        "imputed_mean_data.describe().T"
      ]
    },
    {
      "cell_type": "code",
      "source": [
        "print(df['pdays'].isna().sum())\n",
        "print(imputed_mean_data['pdays'].isna().sum())"
      ],
      "metadata": {
        "colab": {
          "base_uri": "https://localhost:8080/"
        },
        "id": "eCt1jt6us89h",
        "outputId": "1125d74e-32da-4f0b-ad12-aea3986a07cb"
      },
      "execution_count": null,
      "outputs": [
        {
          "output_type": "stream",
          "name": "stdout",
          "text": [
            "39673\n",
            "0\n"
          ]
        }
      ]
    },
    {
      "cell_type": "code",
      "source": [
        "print(df.pdays.describe(), '\\n\\n')\n",
        "print(imputed_mean_data.pdays.describe())"
      ],
      "metadata": {
        "colab": {
          "base_uri": "https://localhost:8080/"
        },
        "id": "v93fQQfZtGmU",
        "outputId": "8173920b-6ba9-4011-9d57-572eb84896eb"
      },
      "execution_count": null,
      "outputs": [
        {
          "output_type": "stream",
          "name": "stdout",
          "text": [
            "count    1515.000000\n",
            "mean        6.014521\n",
            "std         3.824906\n",
            "min         0.000000\n",
            "25%         3.000000\n",
            "50%         6.000000\n",
            "75%         7.000000\n",
            "max        27.000000\n",
            "Name: pdays, dtype: float64 \n",
            "\n",
            "\n",
            "count    41188.000000\n",
            "mean         6.014521\n",
            "std          0.733337\n",
            "min          0.000000\n",
            "25%          6.014521\n",
            "50%          6.014521\n",
            "75%          6.014521\n",
            "max         27.000000\n",
            "Name: pdays, dtype: float64\n"
          ]
        }
      ]
    },
    {
      "cell_type": "markdown",
      "source": [
        "**The mean imputation is kinda ruined the statistics, so I'm not sure if this is correct.**"
      ],
      "metadata": {
        "id": "91-8CDMst3QN"
      }
    },
    {
      "cell_type": "code",
      "source": [
        "imputer_freq = SimpleImputer(missing_values=np.nan, strategy='most_frequent', verbose=True)\n",
        "\n",
        "imputed_freq_data = pd.DataFrame(imputer_freq.fit_transform(df[categorical_features]), columns=categorical_features)\n",
        "imputed_freq_data[df[categorical_features].isna().sum(axis=1) > 0].head()"
      ],
      "metadata": {
        "colab": {
          "base_uri": "https://localhost:8080/",
          "height": 206
        },
        "id": "9_esLWopXCZv",
        "outputId": "c72b567b-0236-4d34-c1f3-faca8d288681"
      },
      "execution_count": null,
      "outputs": [
        {
          "output_type": "execute_result",
          "data": {
            "text/plain": [
              "            job  marital          education housing   loan    contact month  \\\n",
              "7   blue-collar  married  university.degree   False  False  telephone   may   \n",
              "10  blue-collar  married  university.degree   False  False  telephone   may   \n",
              "26   technician  married  university.degree    True  False  telephone   may   \n",
              "29       admin.  married  university.degree    True  False  telephone   may   \n",
              "30       admin.  married  university.degree   False  False  telephone   may   \n",
              "\n",
              "   day_of_week     poutcome  \n",
              "7          mon  nonexistent  \n",
              "10         mon  nonexistent  \n",
              "26         mon  nonexistent  \n",
              "29         mon  nonexistent  \n",
              "30         mon  nonexistent  "
            ],
            "text/html": [
              "\n",
              "  <div id=\"df-27057f76-d0ab-43ee-8d4d-0bd475f182f1\">\n",
              "    <div class=\"colab-df-container\">\n",
              "      <div>\n",
              "<style scoped>\n",
              "    .dataframe tbody tr th:only-of-type {\n",
              "        vertical-align: middle;\n",
              "    }\n",
              "\n",
              "    .dataframe tbody tr th {\n",
              "        vertical-align: top;\n",
              "    }\n",
              "\n",
              "    .dataframe thead th {\n",
              "        text-align: right;\n",
              "    }\n",
              "</style>\n",
              "<table border=\"1\" class=\"dataframe\">\n",
              "  <thead>\n",
              "    <tr style=\"text-align: right;\">\n",
              "      <th></th>\n",
              "      <th>job</th>\n",
              "      <th>marital</th>\n",
              "      <th>education</th>\n",
              "      <th>housing</th>\n",
              "      <th>loan</th>\n",
              "      <th>contact</th>\n",
              "      <th>month</th>\n",
              "      <th>day_of_week</th>\n",
              "      <th>poutcome</th>\n",
              "    </tr>\n",
              "  </thead>\n",
              "  <tbody>\n",
              "    <tr>\n",
              "      <th>7</th>\n",
              "      <td>blue-collar</td>\n",
              "      <td>married</td>\n",
              "      <td>university.degree</td>\n",
              "      <td>False</td>\n",
              "      <td>False</td>\n",
              "      <td>telephone</td>\n",
              "      <td>may</td>\n",
              "      <td>mon</td>\n",
              "      <td>nonexistent</td>\n",
              "    </tr>\n",
              "    <tr>\n",
              "      <th>10</th>\n",
              "      <td>blue-collar</td>\n",
              "      <td>married</td>\n",
              "      <td>university.degree</td>\n",
              "      <td>False</td>\n",
              "      <td>False</td>\n",
              "      <td>telephone</td>\n",
              "      <td>may</td>\n",
              "      <td>mon</td>\n",
              "      <td>nonexistent</td>\n",
              "    </tr>\n",
              "    <tr>\n",
              "      <th>26</th>\n",
              "      <td>technician</td>\n",
              "      <td>married</td>\n",
              "      <td>university.degree</td>\n",
              "      <td>True</td>\n",
              "      <td>False</td>\n",
              "      <td>telephone</td>\n",
              "      <td>may</td>\n",
              "      <td>mon</td>\n",
              "      <td>nonexistent</td>\n",
              "    </tr>\n",
              "    <tr>\n",
              "      <th>29</th>\n",
              "      <td>admin.</td>\n",
              "      <td>married</td>\n",
              "      <td>university.degree</td>\n",
              "      <td>True</td>\n",
              "      <td>False</td>\n",
              "      <td>telephone</td>\n",
              "      <td>may</td>\n",
              "      <td>mon</td>\n",
              "      <td>nonexistent</td>\n",
              "    </tr>\n",
              "    <tr>\n",
              "      <th>30</th>\n",
              "      <td>admin.</td>\n",
              "      <td>married</td>\n",
              "      <td>university.degree</td>\n",
              "      <td>False</td>\n",
              "      <td>False</td>\n",
              "      <td>telephone</td>\n",
              "      <td>may</td>\n",
              "      <td>mon</td>\n",
              "      <td>nonexistent</td>\n",
              "    </tr>\n",
              "  </tbody>\n",
              "</table>\n",
              "</div>\n",
              "      <button class=\"colab-df-convert\" onclick=\"convertToInteractive('df-27057f76-d0ab-43ee-8d4d-0bd475f182f1')\"\n",
              "              title=\"Convert this dataframe to an interactive table.\"\n",
              "              style=\"display:none;\">\n",
              "        \n",
              "  <svg xmlns=\"http://www.w3.org/2000/svg\" height=\"24px\"viewBox=\"0 0 24 24\"\n",
              "       width=\"24px\">\n",
              "    <path d=\"M0 0h24v24H0V0z\" fill=\"none\"/>\n",
              "    <path d=\"M18.56 5.44l.94 2.06.94-2.06 2.06-.94-2.06-.94-.94-2.06-.94 2.06-2.06.94zm-11 1L8.5 8.5l.94-2.06 2.06-.94-2.06-.94L8.5 2.5l-.94 2.06-2.06.94zm10 10l.94 2.06.94-2.06 2.06-.94-2.06-.94-.94-2.06-.94 2.06-2.06.94z\"/><path d=\"M17.41 7.96l-1.37-1.37c-.4-.4-.92-.59-1.43-.59-.52 0-1.04.2-1.43.59L10.3 9.45l-7.72 7.72c-.78.78-.78 2.05 0 2.83L4 21.41c.39.39.9.59 1.41.59.51 0 1.02-.2 1.41-.59l7.78-7.78 2.81-2.81c.8-.78.8-2.07 0-2.86zM5.41 20L4 18.59l7.72-7.72 1.47 1.35L5.41 20z\"/>\n",
              "  </svg>\n",
              "      </button>\n",
              "      \n",
              "  <style>\n",
              "    .colab-df-container {\n",
              "      display:flex;\n",
              "      flex-wrap:wrap;\n",
              "      gap: 12px;\n",
              "    }\n",
              "\n",
              "    .colab-df-convert {\n",
              "      background-color: #E8F0FE;\n",
              "      border: none;\n",
              "      border-radius: 50%;\n",
              "      cursor: pointer;\n",
              "      display: none;\n",
              "      fill: #1967D2;\n",
              "      height: 32px;\n",
              "      padding: 0 0 0 0;\n",
              "      width: 32px;\n",
              "    }\n",
              "\n",
              "    .colab-df-convert:hover {\n",
              "      background-color: #E2EBFA;\n",
              "      box-shadow: 0px 1px 2px rgba(60, 64, 67, 0.3), 0px 1px 3px 1px rgba(60, 64, 67, 0.15);\n",
              "      fill: #174EA6;\n",
              "    }\n",
              "\n",
              "    [theme=dark] .colab-df-convert {\n",
              "      background-color: #3B4455;\n",
              "      fill: #D2E3FC;\n",
              "    }\n",
              "\n",
              "    [theme=dark] .colab-df-convert:hover {\n",
              "      background-color: #434B5C;\n",
              "      box-shadow: 0px 1px 3px 1px rgba(0, 0, 0, 0.15);\n",
              "      filter: drop-shadow(0px 1px 2px rgba(0, 0, 0, 0.3));\n",
              "      fill: #FFFFFF;\n",
              "    }\n",
              "  </style>\n",
              "\n",
              "      <script>\n",
              "        const buttonEl =\n",
              "          document.querySelector('#df-27057f76-d0ab-43ee-8d4d-0bd475f182f1 button.colab-df-convert');\n",
              "        buttonEl.style.display =\n",
              "          google.colab.kernel.accessAllowed ? 'block' : 'none';\n",
              "\n",
              "        async function convertToInteractive(key) {\n",
              "          const element = document.querySelector('#df-27057f76-d0ab-43ee-8d4d-0bd475f182f1');\n",
              "          const dataTable =\n",
              "            await google.colab.kernel.invokeFunction('convertToInteractive',\n",
              "                                                     [key], {});\n",
              "          if (!dataTable) return;\n",
              "\n",
              "          const docLinkHtml = 'Like what you see? Visit the ' +\n",
              "            '<a target=\"_blank\" href=https://colab.research.google.com/notebooks/data_table.ipynb>data table notebook</a>'\n",
              "            + ' to learn more about interactive tables.';\n",
              "          element.innerHTML = '';\n",
              "          dataTable['output_type'] = 'display_data';\n",
              "          await google.colab.output.renderOutput(dataTable, element);\n",
              "          const docLink = document.createElement('div');\n",
              "          docLink.innerHTML = docLinkHtml;\n",
              "          element.appendChild(docLink);\n",
              "        }\n",
              "      </script>\n",
              "    </div>\n",
              "  </div>\n",
              "  "
            ]
          },
          "metadata": {},
          "execution_count": 54
        }
      ]
    },
    {
      "cell_type": "code",
      "source": [
        "# How MinMax scaler would look like\n",
        "from sklearn.preprocessing import MinMaxScaler\n",
        "from sklearn.preprocessing import StandardScaler\n",
        "\n",
        "min_max_scaler = MinMaxScaler()\n",
        "print(pd.DataFrame(min_max_scaler.fit_transform(imputed_mean_data), columns=continious_features).head(), '\\n\\n')\n",
        "print(df.head())"
      ],
      "metadata": {
        "colab": {
          "base_uri": "https://localhost:8080/"
        },
        "id": "SAbi_UuAUJCp",
        "outputId": "c758ff38-c9a8-4168-9506-f77ba50fc2d2"
      },
      "execution_count": null,
      "outputs": [
        {
          "output_type": "stream",
          "name": "stdout",
          "text": [
            "        age  campaign    pdays  previous  emp.var.rate  cons.price.idx  \\\n",
            "0  0.481481       0.0  0.22276       0.0        0.9375        0.698753   \n",
            "1  0.493827       0.0  0.22276       0.0        0.9375        0.698753   \n",
            "2  0.246914       0.0  0.22276       0.0        0.9375        0.698753   \n",
            "3  0.283951       0.0  0.22276       0.0        0.9375        0.698753   \n",
            "4  0.481481       0.0  0.22276       0.0        0.9375        0.698753   \n",
            "\n",
            "   cons.conf.idx  euribor3m  nr.employed  \n",
            "0        0.60251   0.957379     0.859735  \n",
            "1        0.60251   0.957379     0.859735  \n",
            "2        0.60251   0.957379     0.859735  \n",
            "3        0.60251   0.957379     0.859735  \n",
            "4        0.60251   0.957379     0.859735   \n",
            "\n",
            "\n",
            "   age        job  marital    education housing   loan    contact month  \\\n",
            "0   56  housemaid  married     basic.4y   False  False  telephone   may   \n",
            "1   57   services  married  high.school   False  False  telephone   may   \n",
            "2   37   services  married  high.school    True  False  telephone   may   \n",
            "3   40     admin.  married     basic.6y   False  False  telephone   may   \n",
            "4   56   services  married  high.school   False   True  telephone   may   \n",
            "\n",
            "  day_of_week  campaign  pdays  previous     poutcome  emp.var.rate  \\\n",
            "0         mon         1    NaN         0  nonexistent           1.1   \n",
            "1         mon         1    NaN         0  nonexistent           1.1   \n",
            "2         mon         1    NaN         0  nonexistent           1.1   \n",
            "3         mon         1    NaN         0  nonexistent           1.1   \n",
            "4         mon         1    NaN         0  nonexistent           1.1   \n",
            "\n",
            "   cons.price.idx  cons.conf.idx  euribor3m  nr.employed      y  pdaysBinary  \n",
            "0          93.994          -36.4      4.857       5191.0  False        False  \n",
            "1          93.994          -36.4      4.857       5191.0  False        False  \n",
            "2          93.994          -36.4      4.857       5191.0  False        False  \n",
            "3          93.994          -36.4      4.857       5191.0  False        False  \n",
            "4          93.994          -36.4      4.857       5191.0  False        False  \n"
          ]
        }
      ]
    },
    {
      "cell_type": "code",
      "source": [
        "# How standard scaler would look like\n",
        "standard_scaler = StandardScaler()\n",
        "\n",
        "print(pd.DataFrame(standard_scaler.fit_transform(imputed_mean_data), columns=continious_features).head(), '\\n\\n')\n",
        "print(df.head())"
      ],
      "metadata": {
        "colab": {
          "base_uri": "https://localhost:8080/"
        },
        "id": "0R5l2vqPU1YQ",
        "outputId": "b1bed880-9783-4fb9-8321-01c35120be20"
      },
      "execution_count": null,
      "outputs": [
        {
          "output_type": "stream",
          "name": "stdout",
          "text": [
            "        age  campaign         pdays  previous  emp.var.rate  cons.price.idx  \\\n",
            "0  1.533034 -0.565922 -2.422322e-15 -0.349494      0.648092        0.722722   \n",
            "1  1.628993 -0.565922 -2.422322e-15 -0.349494      0.648092        0.722722   \n",
            "2 -0.290186 -0.565922 -2.422322e-15 -0.349494      0.648092        0.722722   \n",
            "3 -0.002309 -0.565922 -2.422322e-15 -0.349494      0.648092        0.722722   \n",
            "4  1.533034 -0.565922 -2.422322e-15 -0.349494      0.648092        0.722722   \n",
            "\n",
            "   cons.conf.idx  euribor3m  nr.employed  \n",
            "0       0.886447    0.71246      0.33168  \n",
            "1       0.886447    0.71246      0.33168  \n",
            "2       0.886447    0.71246      0.33168  \n",
            "3       0.886447    0.71246      0.33168  \n",
            "4       0.886447    0.71246      0.33168   \n",
            "\n",
            "\n",
            "   age        job  marital    education housing   loan    contact month  \\\n",
            "0   56  housemaid  married     basic.4y   False  False  telephone   may   \n",
            "1   57   services  married  high.school   False  False  telephone   may   \n",
            "2   37   services  married  high.school    True  False  telephone   may   \n",
            "3   40     admin.  married     basic.6y   False  False  telephone   may   \n",
            "4   56   services  married  high.school   False   True  telephone   may   \n",
            "\n",
            "  day_of_week  campaign  pdays  previous     poutcome  emp.var.rate  \\\n",
            "0         mon         1    NaN         0  nonexistent           1.1   \n",
            "1         mon         1    NaN         0  nonexistent           1.1   \n",
            "2         mon         1    NaN         0  nonexistent           1.1   \n",
            "3         mon         1    NaN         0  nonexistent           1.1   \n",
            "4         mon         1    NaN         0  nonexistent           1.1   \n",
            "\n",
            "   cons.price.idx  cons.conf.idx  euribor3m  nr.employed      y  pdaysBinary  \n",
            "0          93.994          -36.4      4.857       5191.0  False        False  \n",
            "1          93.994          -36.4      4.857       5191.0  False        False  \n",
            "2          93.994          -36.4      4.857       5191.0  False        False  \n",
            "3          93.994          -36.4      4.857       5191.0  False        False  \n",
            "4          93.994          -36.4      4.857       5191.0  False        False  \n"
          ]
        }
      ]
    },
    {
      "cell_type": "markdown",
      "source": [
        "I think standard scaler is better for this dataset, because in some feature there is a big variance, and standard scaler deals it better than MinMax scaler."
      ],
      "metadata": {
        "id": "R4B2dxyhU_ux"
      }
    },
    {
      "cell_type": "code",
      "source": [
        "pd.DataFrame(standard_scaler.fit_transform(imputed_mean_data), columns=continious_features).min()"
      ],
      "metadata": {
        "colab": {
          "base_uri": "https://localhost:8080/"
        },
        "id": "vWk1Du5LVij1",
        "outputId": "4f1eb8be-5d93-4d7d-89a0-80b8ff8c933b"
      },
      "execution_count": null,
      "outputs": [
        {
          "output_type": "execute_result",
          "data": {
            "text/plain": [
              "age              -2.209365\n",
              "campaign         -0.565922\n",
              "pdays            -8.201678\n",
              "previous         -0.349494\n",
              "emp.var.rate     -2.216433\n",
              "cons.price.idx   -2.374889\n",
              "cons.conf.idx    -2.224953\n",
              "euribor3m        -1.722351\n",
              "nr.employed      -2.815697\n",
              "dtype: float64"
            ]
          },
          "metadata": {},
          "execution_count": 57
        }
      ]
    },
    {
      "cell_type": "code",
      "source": [
        "pd.DataFrame(standard_scaler.fit_transform(imputed_mean_data), columns=continious_features).max()"
      ],
      "metadata": {
        "colab": {
          "base_uri": "https://localhost:8080/"
        },
        "id": "fBAmovbBVkGZ",
        "outputId": "74ee0bc8-c52a-4953-bcb3-d68be2ac1fd2"
      },
      "execution_count": null,
      "outputs": [
        {
          "output_type": "execute_result",
          "data": {
            "text/plain": [
              "age                5.563310\n",
              "campaign          19.289818\n",
              "pdays             28.616762\n",
              "previous          13.794918\n",
              "emp.var.rate       0.839061\n",
              "cons.price.idx     2.058168\n",
              "cons.conf.idx      2.939106\n",
              "euribor3m          0.820853\n",
              "nr.employed        0.845170\n",
              "dtype: float64"
            ]
          },
          "metadata": {},
          "execution_count": 58
        }
      ]
    },
    {
      "cell_type": "code",
      "source": [
        "from sklearn.preprocessing import LabelEncoder\n",
        "from sklearn.preprocessing import OneHotEncoder\n",
        "from sklearn.preprocessing import OrdinalEncoder\n",
        "\n",
        "# encode 'y' to 0 / 1\n",
        "label_encoder = LabelEncoder()\n",
        "y_encoded = label_encoder.fit_transform(df['y'])\n",
        "\n",
        "label_encoder.classes_"
      ],
      "metadata": {
        "colab": {
          "base_uri": "https://localhost:8080/"
        },
        "id": "Gpd1e7kOWf1u",
        "outputId": "f885fab8-278b-4a98-8a65-a75b2e263c04"
      },
      "execution_count": null,
      "outputs": [
        {
          "output_type": "execute_result",
          "data": {
            "text/plain": [
              "array([False,  True])"
            ]
          },
          "metadata": {},
          "execution_count": 59
        }
      ]
    },
    {
      "cell_type": "code",
      "source": [
        "y_encoded"
      ],
      "metadata": {
        "colab": {
          "base_uri": "https://localhost:8080/"
        },
        "id": "eIez6Ey7WqvG",
        "outputId": "834f308e-6a0e-4c78-cf8e-e508a20202c6"
      },
      "execution_count": null,
      "outputs": [
        {
          "output_type": "execute_result",
          "data": {
            "text/plain": [
              "array([0, 0, 0, ..., 0, 1, 0])"
            ]
          },
          "metadata": {},
          "execution_count": 60
        }
      ]
    },
    {
      "cell_type": "code",
      "source": [
        "one_hot_encoder = OneHotEncoder()\n",
        "\n",
        "one_hot_encoded = one_hot_encoder.fit_transform(imputed_freq_data)"
      ],
      "metadata": {
        "id": "ZZ9YfcWnWvh_"
      },
      "execution_count": null,
      "outputs": []
    },
    {
      "cell_type": "code",
      "source": [
        "pd.DataFrame(one_hot_encoded.todense(), columns = one_hot_encoder.get_feature_names()).head()"
      ],
      "metadata": {
        "colab": {
          "base_uri": "https://localhost:8080/",
          "height": 352
        },
        "id": "ywmRppSgXSDy",
        "outputId": "d74b9bb9-a3d9-4a06-f921-dda119bc95db"
      },
      "execution_count": null,
      "outputs": [
        {
          "output_type": "stream",
          "name": "stderr",
          "text": [
            "/usr/local/lib/python3.8/dist-packages/sklearn/utils/deprecation.py:87: FutureWarning: Function get_feature_names is deprecated; get_feature_names is deprecated in 1.0 and will be removed in 1.2. Please use get_feature_names_out instead.\n",
            "  warnings.warn(msg, category=FutureWarning)\n"
          ]
        },
        {
          "output_type": "execute_result",
          "data": {
            "text/plain": [
              "   x0_admin.  x0_blue-collar  x0_entrepreneur  x0_housemaid  x0_management  \\\n",
              "0        0.0             0.0              0.0           1.0            0.0   \n",
              "1        0.0             0.0              0.0           0.0            0.0   \n",
              "2        0.0             0.0              0.0           0.0            0.0   \n",
              "3        1.0             0.0              0.0           0.0            0.0   \n",
              "4        0.0             0.0              0.0           0.0            0.0   \n",
              "\n",
              "   x0_retired  x0_self-employed  x0_services  x0_student  x0_technician  ...  \\\n",
              "0         0.0               0.0          0.0         0.0            0.0  ...   \n",
              "1         0.0               0.0          1.0         0.0            0.0  ...   \n",
              "2         0.0               0.0          1.0         0.0            0.0  ...   \n",
              "3         0.0               0.0          0.0         0.0            0.0  ...   \n",
              "4         0.0               0.0          1.0         0.0            0.0  ...   \n",
              "\n",
              "   x6_oct  x6_sep  x7_fri  x7_mon  x7_thu  x7_tue  x7_wed  x8_failure  \\\n",
              "0     0.0     0.0     0.0     1.0     0.0     0.0     0.0         0.0   \n",
              "1     0.0     0.0     0.0     1.0     0.0     0.0     0.0         0.0   \n",
              "2     0.0     0.0     0.0     1.0     0.0     0.0     0.0         0.0   \n",
              "3     0.0     0.0     0.0     1.0     0.0     0.0     0.0         0.0   \n",
              "4     0.0     0.0     0.0     1.0     0.0     0.0     0.0         0.0   \n",
              "\n",
              "   x8_nonexistent  x8_success  \n",
              "0             1.0         0.0  \n",
              "1             1.0         0.0  \n",
              "2             1.0         0.0  \n",
              "3             1.0         0.0  \n",
              "4             1.0         0.0  \n",
              "\n",
              "[5 rows x 45 columns]"
            ],
            "text/html": [
              "\n",
              "  <div id=\"df-9c9b4f20-f7a1-4b2c-bd87-51c78243af14\">\n",
              "    <div class=\"colab-df-container\">\n",
              "      <div>\n",
              "<style scoped>\n",
              "    .dataframe tbody tr th:only-of-type {\n",
              "        vertical-align: middle;\n",
              "    }\n",
              "\n",
              "    .dataframe tbody tr th {\n",
              "        vertical-align: top;\n",
              "    }\n",
              "\n",
              "    .dataframe thead th {\n",
              "        text-align: right;\n",
              "    }\n",
              "</style>\n",
              "<table border=\"1\" class=\"dataframe\">\n",
              "  <thead>\n",
              "    <tr style=\"text-align: right;\">\n",
              "      <th></th>\n",
              "      <th>x0_admin.</th>\n",
              "      <th>x0_blue-collar</th>\n",
              "      <th>x0_entrepreneur</th>\n",
              "      <th>x0_housemaid</th>\n",
              "      <th>x0_management</th>\n",
              "      <th>x0_retired</th>\n",
              "      <th>x0_self-employed</th>\n",
              "      <th>x0_services</th>\n",
              "      <th>x0_student</th>\n",
              "      <th>x0_technician</th>\n",
              "      <th>...</th>\n",
              "      <th>x6_oct</th>\n",
              "      <th>x6_sep</th>\n",
              "      <th>x7_fri</th>\n",
              "      <th>x7_mon</th>\n",
              "      <th>x7_thu</th>\n",
              "      <th>x7_tue</th>\n",
              "      <th>x7_wed</th>\n",
              "      <th>x8_failure</th>\n",
              "      <th>x8_nonexistent</th>\n",
              "      <th>x8_success</th>\n",
              "    </tr>\n",
              "  </thead>\n",
              "  <tbody>\n",
              "    <tr>\n",
              "      <th>0</th>\n",
              "      <td>0.0</td>\n",
              "      <td>0.0</td>\n",
              "      <td>0.0</td>\n",
              "      <td>1.0</td>\n",
              "      <td>0.0</td>\n",
              "      <td>0.0</td>\n",
              "      <td>0.0</td>\n",
              "      <td>0.0</td>\n",
              "      <td>0.0</td>\n",
              "      <td>0.0</td>\n",
              "      <td>...</td>\n",
              "      <td>0.0</td>\n",
              "      <td>0.0</td>\n",
              "      <td>0.0</td>\n",
              "      <td>1.0</td>\n",
              "      <td>0.0</td>\n",
              "      <td>0.0</td>\n",
              "      <td>0.0</td>\n",
              "      <td>0.0</td>\n",
              "      <td>1.0</td>\n",
              "      <td>0.0</td>\n",
              "    </tr>\n",
              "    <tr>\n",
              "      <th>1</th>\n",
              "      <td>0.0</td>\n",
              "      <td>0.0</td>\n",
              "      <td>0.0</td>\n",
              "      <td>0.0</td>\n",
              "      <td>0.0</td>\n",
              "      <td>0.0</td>\n",
              "      <td>0.0</td>\n",
              "      <td>1.0</td>\n",
              "      <td>0.0</td>\n",
              "      <td>0.0</td>\n",
              "      <td>...</td>\n",
              "      <td>0.0</td>\n",
              "      <td>0.0</td>\n",
              "      <td>0.0</td>\n",
              "      <td>1.0</td>\n",
              "      <td>0.0</td>\n",
              "      <td>0.0</td>\n",
              "      <td>0.0</td>\n",
              "      <td>0.0</td>\n",
              "      <td>1.0</td>\n",
              "      <td>0.0</td>\n",
              "    </tr>\n",
              "    <tr>\n",
              "      <th>2</th>\n",
              "      <td>0.0</td>\n",
              "      <td>0.0</td>\n",
              "      <td>0.0</td>\n",
              "      <td>0.0</td>\n",
              "      <td>0.0</td>\n",
              "      <td>0.0</td>\n",
              "      <td>0.0</td>\n",
              "      <td>1.0</td>\n",
              "      <td>0.0</td>\n",
              "      <td>0.0</td>\n",
              "      <td>...</td>\n",
              "      <td>0.0</td>\n",
              "      <td>0.0</td>\n",
              "      <td>0.0</td>\n",
              "      <td>1.0</td>\n",
              "      <td>0.0</td>\n",
              "      <td>0.0</td>\n",
              "      <td>0.0</td>\n",
              "      <td>0.0</td>\n",
              "      <td>1.0</td>\n",
              "      <td>0.0</td>\n",
              "    </tr>\n",
              "    <tr>\n",
              "      <th>3</th>\n",
              "      <td>1.0</td>\n",
              "      <td>0.0</td>\n",
              "      <td>0.0</td>\n",
              "      <td>0.0</td>\n",
              "      <td>0.0</td>\n",
              "      <td>0.0</td>\n",
              "      <td>0.0</td>\n",
              "      <td>0.0</td>\n",
              "      <td>0.0</td>\n",
              "      <td>0.0</td>\n",
              "      <td>...</td>\n",
              "      <td>0.0</td>\n",
              "      <td>0.0</td>\n",
              "      <td>0.0</td>\n",
              "      <td>1.0</td>\n",
              "      <td>0.0</td>\n",
              "      <td>0.0</td>\n",
              "      <td>0.0</td>\n",
              "      <td>0.0</td>\n",
              "      <td>1.0</td>\n",
              "      <td>0.0</td>\n",
              "    </tr>\n",
              "    <tr>\n",
              "      <th>4</th>\n",
              "      <td>0.0</td>\n",
              "      <td>0.0</td>\n",
              "      <td>0.0</td>\n",
              "      <td>0.0</td>\n",
              "      <td>0.0</td>\n",
              "      <td>0.0</td>\n",
              "      <td>0.0</td>\n",
              "      <td>1.0</td>\n",
              "      <td>0.0</td>\n",
              "      <td>0.0</td>\n",
              "      <td>...</td>\n",
              "      <td>0.0</td>\n",
              "      <td>0.0</td>\n",
              "      <td>0.0</td>\n",
              "      <td>1.0</td>\n",
              "      <td>0.0</td>\n",
              "      <td>0.0</td>\n",
              "      <td>0.0</td>\n",
              "      <td>0.0</td>\n",
              "      <td>1.0</td>\n",
              "      <td>0.0</td>\n",
              "    </tr>\n",
              "  </tbody>\n",
              "</table>\n",
              "<p>5 rows × 45 columns</p>\n",
              "</div>\n",
              "      <button class=\"colab-df-convert\" onclick=\"convertToInteractive('df-9c9b4f20-f7a1-4b2c-bd87-51c78243af14')\"\n",
              "              title=\"Convert this dataframe to an interactive table.\"\n",
              "              style=\"display:none;\">\n",
              "        \n",
              "  <svg xmlns=\"http://www.w3.org/2000/svg\" height=\"24px\"viewBox=\"0 0 24 24\"\n",
              "       width=\"24px\">\n",
              "    <path d=\"M0 0h24v24H0V0z\" fill=\"none\"/>\n",
              "    <path d=\"M18.56 5.44l.94 2.06.94-2.06 2.06-.94-2.06-.94-.94-2.06-.94 2.06-2.06.94zm-11 1L8.5 8.5l.94-2.06 2.06-.94-2.06-.94L8.5 2.5l-.94 2.06-2.06.94zm10 10l.94 2.06.94-2.06 2.06-.94-2.06-.94-.94-2.06-.94 2.06-2.06.94z\"/><path d=\"M17.41 7.96l-1.37-1.37c-.4-.4-.92-.59-1.43-.59-.52 0-1.04.2-1.43.59L10.3 9.45l-7.72 7.72c-.78.78-.78 2.05 0 2.83L4 21.41c.39.39.9.59 1.41.59.51 0 1.02-.2 1.41-.59l7.78-7.78 2.81-2.81c.8-.78.8-2.07 0-2.86zM5.41 20L4 18.59l7.72-7.72 1.47 1.35L5.41 20z\"/>\n",
              "  </svg>\n",
              "      </button>\n",
              "      \n",
              "  <style>\n",
              "    .colab-df-container {\n",
              "      display:flex;\n",
              "      flex-wrap:wrap;\n",
              "      gap: 12px;\n",
              "    }\n",
              "\n",
              "    .colab-df-convert {\n",
              "      background-color: #E8F0FE;\n",
              "      border: none;\n",
              "      border-radius: 50%;\n",
              "      cursor: pointer;\n",
              "      display: none;\n",
              "      fill: #1967D2;\n",
              "      height: 32px;\n",
              "      padding: 0 0 0 0;\n",
              "      width: 32px;\n",
              "    }\n",
              "\n",
              "    .colab-df-convert:hover {\n",
              "      background-color: #E2EBFA;\n",
              "      box-shadow: 0px 1px 2px rgba(60, 64, 67, 0.3), 0px 1px 3px 1px rgba(60, 64, 67, 0.15);\n",
              "      fill: #174EA6;\n",
              "    }\n",
              "\n",
              "    [theme=dark] .colab-df-convert {\n",
              "      background-color: #3B4455;\n",
              "      fill: #D2E3FC;\n",
              "    }\n",
              "\n",
              "    [theme=dark] .colab-df-convert:hover {\n",
              "      background-color: #434B5C;\n",
              "      box-shadow: 0px 1px 3px 1px rgba(0, 0, 0, 0.15);\n",
              "      filter: drop-shadow(0px 1px 2px rgba(0, 0, 0, 0.3));\n",
              "      fill: #FFFFFF;\n",
              "    }\n",
              "  </style>\n",
              "\n",
              "      <script>\n",
              "        const buttonEl =\n",
              "          document.querySelector('#df-9c9b4f20-f7a1-4b2c-bd87-51c78243af14 button.colab-df-convert');\n",
              "        buttonEl.style.display =\n",
              "          google.colab.kernel.accessAllowed ? 'block' : 'none';\n",
              "\n",
              "        async function convertToInteractive(key) {\n",
              "          const element = document.querySelector('#df-9c9b4f20-f7a1-4b2c-bd87-51c78243af14');\n",
              "          const dataTable =\n",
              "            await google.colab.kernel.invokeFunction('convertToInteractive',\n",
              "                                                     [key], {});\n",
              "          if (!dataTable) return;\n",
              "\n",
              "          const docLinkHtml = 'Like what you see? Visit the ' +\n",
              "            '<a target=\"_blank\" href=https://colab.research.google.com/notebooks/data_table.ipynb>data table notebook</a>'\n",
              "            + ' to learn more about interactive tables.';\n",
              "          element.innerHTML = '';\n",
              "          dataTable['output_type'] = 'display_data';\n",
              "          await google.colab.output.renderOutput(dataTable, element);\n",
              "          const docLink = document.createElement('div');\n",
              "          docLink.innerHTML = docLinkHtml;\n",
              "          element.appendChild(docLink);\n",
              "        }\n",
              "      </script>\n",
              "    </div>\n",
              "  </div>\n",
              "  "
            ]
          },
          "metadata": {},
          "execution_count": 62
        }
      ]
    },
    {
      "cell_type": "code",
      "source": [
        "one_hot_encoder.categories_"
      ],
      "metadata": {
        "colab": {
          "base_uri": "https://localhost:8080/"
        },
        "id": "P3O2DOUIX-x-",
        "outputId": "31ae754b-1459-4da5-ffb7-5b2fd48da5bc"
      },
      "execution_count": null,
      "outputs": [
        {
          "output_type": "execute_result",
          "data": {
            "text/plain": [
              "[array(['admin.', 'blue-collar', 'entrepreneur', 'housemaid', 'management',\n",
              "        'retired', 'self-employed', 'services', 'student', 'technician',\n",
              "        'unemployed'], dtype=object),\n",
              " array(['divorced', 'married', 'single'], dtype=object),\n",
              " array(['basic.4y', 'basic.6y', 'basic.9y', 'high.school', 'illiterate',\n",
              "        'professional.course', 'university.degree'], dtype=object),\n",
              " array([False, True], dtype=object),\n",
              " array([False, True], dtype=object),\n",
              " array(['cellular', 'telephone'], dtype=object),\n",
              " array(['apr', 'aug', 'dec', 'jul', 'jun', 'mar', 'may', 'nov', 'oct',\n",
              "        'sep'], dtype=object),\n",
              " array(['fri', 'mon', 'thu', 'tue', 'wed'], dtype=object),\n",
              " array(['failure', 'nonexistent', 'success'], dtype=object)]"
            ]
          },
          "metadata": {},
          "execution_count": 63
        }
      ]
    },
    {
      "cell_type": "markdown",
      "source": [
        "# DR"
      ],
      "metadata": {
        "id": "XTRVJgmhYdiD"
      }
    },
    {
      "cell_type": "markdown",
      "source": [
        "## Pipeline"
      ],
      "metadata": {
        "id": "a3slWayFcDAu"
      }
    },
    {
      "cell_type": "code",
      "source": [
        "from sklearn.pipeline import Pipeline\n",
        "from sklearn.compose import ColumnTransformer\n",
        "from sklearn.feature_selection import VarianceThreshold\n",
        "\n",
        "continious_features = df.select_dtypes('number').columns\n",
        "categorical_features = df.select_dtypes(np.object).columns\n",
        "\n",
        "num_pipe = Pipeline([\n",
        "    ('imputer', SimpleImputer(strategy = 'mean')),                   # I think mean is a better fill than mode in these cases.\n",
        "    ('scaler', StandardScaler()),\n",
        "    ('variance_trsh', VarianceThreshold(threshold = 0.05))\n",
        "])\n",
        "\n",
        "cat_pipe = Pipeline([\n",
        "    ('imputer', SimpleImputer(strategy = 'most_frequent')),         # Change every categorical NaN value with the most frequent\n",
        "    ('ohe', OneHotEncoder(sparse=False))                            # One-hot encode the features\n",
        "])\n",
        "\n",
        "pipe = ColumnTransformer(transformers=[\n",
        "    ('cat', cat_pipe, categorical_features),\n",
        "    ('num', num_pipe, continious_features)\n",
        "])"
      ],
      "metadata": {
        "colab": {
          "base_uri": "https://localhost:8080/"
        },
        "id": "gLJD4HlncDqf",
        "outputId": "8f5d24ed-e393-4086-d0fa-750d69cd3b5f"
      },
      "execution_count": null,
      "outputs": [
        {
          "output_type": "stream",
          "name": "stderr",
          "text": [
            "<ipython-input-65-8136044b2b7a>:6: DeprecationWarning: `np.object` is a deprecated alias for the builtin `object`. To silence this warning, use `object` by itself. Doing this will not modify any behavior and is safe. \n",
            "Deprecated in NumPy 1.20; for more details and guidance: https://numpy.org/devdocs/release/1.20.0-notes.html#deprecations\n",
            "  categorical_features = df.select_dtypes(np.object).columns\n"
          ]
        }
      ]
    },
    {
      "cell_type": "code",
      "source": [
        "X = pipe.fit_transform(df)"
      ],
      "metadata": {
        "id": "PWDly_qQgJ9q"
      },
      "execution_count": null,
      "outputs": []
    },
    {
      "cell_type": "code",
      "source": [
        "print(df.shape)\n",
        "print(X.shape)"
      ],
      "metadata": {
        "colab": {
          "base_uri": "https://localhost:8080/"
        },
        "id": "47_LXypVgOIf",
        "outputId": "9fac2378-3dae-40ea-cca0-d4d81e587560"
      },
      "execution_count": null,
      "outputs": [
        {
          "output_type": "stream",
          "name": "stdout",
          "text": [
            "(41188, 20)\n",
            "(41188, 54)\n"
          ]
        }
      ]
    },
    {
      "cell_type": "markdown",
      "source": [
        "## PCA"
      ],
      "metadata": {
        "id": "y7Q3thbERHiJ"
      }
    },
    {
      "cell_type": "code",
      "source": [
        "from sklearn.decomposition import PCA\n",
        "\n",
        "pca = PCA(n_components = 2)\n",
        "new_X = pca.fit_transform(X)\n",
        "\n",
        "print(new_X.shape)"
      ],
      "metadata": {
        "id": "8gwftDcpgZox",
        "colab": {
          "base_uri": "https://localhost:8080/"
        },
        "outputId": "24bca24c-c91b-4b92-ef83-17d75acca39c"
      },
      "execution_count": null,
      "outputs": [
        {
          "output_type": "stream",
          "name": "stdout",
          "text": [
            "(41188, 2)\n"
          ]
        }
      ]
    },
    {
      "cell_type": "code",
      "source": [
        "plot_df = pd.DataFrame.from_records(data=new_X[:,:2],columns=[\"x\",\"y\"])\n",
        "y = ['y']\n",
        "plot_df[\"target\"] = df[y]\n",
        "\n",
        "sns.set(style=\"ticks\")\n",
        "sns.relplot(\"x\", \"y\", data=plot_df, hue=\"target\", palette='coolwarm')"
      ],
      "metadata": {
        "colab": {
          "base_uri": "https://localhost:8080/",
          "height": 437
        },
        "id": "JQSWfXZljrtS",
        "outputId": "cc104c33-5773-4138-d9cd-a99d153827f0"
      },
      "execution_count": null,
      "outputs": [
        {
          "output_type": "stream",
          "name": "stderr",
          "text": [
            "/usr/local/lib/python3.8/dist-packages/seaborn/_decorators.py:36: FutureWarning: Pass the following variables as keyword args: x, y. From version 0.12, the only valid positional argument will be `data`, and passing other arguments without an explicit keyword will result in an error or misinterpretation.\n",
            "  warnings.warn(\n"
          ]
        },
        {
          "output_type": "execute_result",
          "data": {
            "text/plain": [
              "<seaborn.axisgrid.FacetGrid at 0x7f763b0d80a0>"
            ]
          },
          "metadata": {},
          "execution_count": 107
        },
        {
          "output_type": "display_data",
          "data": {
            "text/plain": [
              "<Figure size 427.475x360 with 1 Axes>"
            ],
            "image/png": "[encoded data removed]"
          },
          "metadata": {}
        }
      ]
    },
    {
      "cell_type": "markdown",
      "source": [
        "In this plot we can see, that if the 'x' value is above 2, the subscription is more likely to be executed."
      ],
      "metadata": {
        "id": "3_MRPg-8-H1Y"
      }
    },
    {
      "cell_type": "code",
      "source": [
        "pca.explained_variance_ratio_"
      ],
      "metadata": {
        "colab": {
          "base_uri": "https://localhost:8080/"
        },
        "id": "g-HseTUgPflV",
        "outputId": "4cb0f783-c23d-4fd8-cc33-cac9109c12e8"
      },
      "execution_count": null,
      "outputs": [
        {
          "output_type": "execute_result",
          "data": {
            "text/plain": [
              "array([0.27744818, 0.08622483])"
            ]
          },
          "metadata": {},
          "execution_count": 108
        }
      ]
    },
    {
      "cell_type": "code",
      "source": [
        "pca.explained_variance_ratio_.sum()"
      ],
      "metadata": {
        "colab": {
          "base_uri": "https://localhost:8080/"
        },
        "id": "9Y9forGtjw95",
        "outputId": "1295932c-db96-455c-8deb-653a35177d65"
      },
      "execution_count": null,
      "outputs": [
        {
          "output_type": "execute_result",
          "data": {
            "text/plain": [
              "0.36367300550167597"
            ]
          },
          "metadata": {},
          "execution_count": 109
        }
      ]
    },
    {
      "cell_type": "markdown",
      "source": [
        "38.38% of the information is explained by the PCA."
      ],
      "metadata": {
        "id": "O0fs2PJH_CF0"
      }
    },
    {
      "cell_type": "code",
      "source": [
        "from sklearn.model_selection import train_test_split\n",
        "\n",
        "X_train, X_test, y_train, y_test = train_test_split(new_X, df['y'], test_size = 0.2, random_state = 30)"
      ],
      "metadata": {
        "id": "qLOu5npWPv4V"
      },
      "execution_count": null,
      "outputs": []
    },
    {
      "cell_type": "code",
      "source": [
        "from sklearn.linear_model import LogisticRegression\n",
        "\n",
        "model = LogisticRegression()\n",
        "model.fit(X_train, y_train)\n",
        "model.score(X_test, y_test)"
      ],
      "metadata": {
        "colab": {
          "base_uri": "https://localhost:8080/"
        },
        "id": "lmAcYUqPQI13",
        "outputId": "19907400-d7c8-4d12-a598-871932199241"
      },
      "execution_count": null,
      "outputs": [
        {
          "output_type": "execute_result",
          "data": {
            "text/plain": [
              "0.8852876911871813"
            ]
          },
          "metadata": {},
          "execution_count": 142
        }
      ]
    },
    {
      "cell_type": "markdown",
      "source": [
        "We get 88% accuracy on test dataset.\n",
        "\n",
        "((Question: Is this correct? Only 2 component can predict 88% accuracy on test dataset?))"
      ],
      "metadata": {
        "id": "fEY7Sfq1WGLO"
      }
    },
    {
      "cell_type": "markdown",
      "source": [
        "Let's see what happens, if we want to achieve 95% of useful features."
      ],
      "metadata": {
        "id": "nwUCbZC9WLZv"
      }
    },
    {
      "cell_type": "code",
      "source": [
        "pca = PCA(0.95)\n",
        "\n",
        "X_pca = pca.fit_transform(X)\n",
        "X_pca.shape"
      ],
      "metadata": {
        "colab": {
          "base_uri": "https://localhost:8080/"
        },
        "id": "Trrcre-OQI34",
        "outputId": "c08415b9-f7c3-45b7-b4b9-884f2f26906d"
      },
      "execution_count": null,
      "outputs": [
        {
          "output_type": "execute_result",
          "data": {
            "text/plain": [
              "(41188, 24)"
            ]
          },
          "metadata": {},
          "execution_count": 143
        }
      ]
    },
    {
      "cell_type": "code",
      "source": [
        "pca.explained_variance_ratio_.sum()"
      ],
      "metadata": {
        "colab": {
          "base_uri": "https://localhost:8080/"
        },
        "id": "CJaULjyEQI5o",
        "outputId": "8214fe84-bc3e-4764-875b-4b58f88e8b56"
      },
      "execution_count": null,
      "outputs": [
        {
          "output_type": "execute_result",
          "data": {
            "text/plain": [
              "0.9504971441643342"
            ]
          },
          "metadata": {},
          "execution_count": 144
        }
      ]
    },
    {
      "cell_type": "code",
      "source": [
        "X_train_pca, X_test_pca, y_train, y_test = train_test_split(X_pca, df['y'], test_size = 0.2, random_state = 30)\n",
        "\n",
        "model = LogisticRegression()\n",
        "model.fit(X_train_pca, y_train)\n",
        "model.score(X_test_pca, y_test)"
      ],
      "metadata": {
        "colab": {
          "base_uri": "https://localhost:8080/"
        },
        "id": "H2A-LqynQI7h",
        "outputId": "863cc328-4dc7-4cb7-bd2f-3b37714ed64d"
      },
      "execution_count": null,
      "outputs": [
        {
          "output_type": "execute_result",
          "data": {
            "text/plain": [
              "0.8951201747997086"
            ]
          },
          "metadata": {},
          "execution_count": 145
        }
      ]
    },
    {
      "cell_type": "markdown",
      "source": [
        "89.51% accuracy"
      ],
      "metadata": {
        "id": "lld-knp3WeY7"
      }
    },
    {
      "cell_type": "code",
      "source": [
        "len(pca.explained_variance_ratio_)"
      ],
      "metadata": {
        "colab": {
          "base_uri": "https://localhost:8080/"
        },
        "id": "qRdh3g-rWkCV",
        "outputId": "7b6acebe-9a92-48a9-a61c-d96b27e8c047"
      },
      "execution_count": null,
      "outputs": [
        {
          "output_type": "execute_result",
          "data": {
            "text/plain": [
              "24"
            ]
          },
          "metadata": {},
          "execution_count": 147
        }
      ]
    },
    {
      "cell_type": "markdown",
      "source": [
        "We need 24 component to explain 95% of the data."
      ],
      "metadata": {
        "id": "zC9LavnU_VSQ"
      }
    },
    {
      "cell_type": "markdown",
      "source": [
        "**I would select PCA DR technique, since it is very popular, and seems to be good for this data.**\n",
        "\n"
      ],
      "metadata": {
        "id": "N9jv_T5kY2Wq"
      }
    },
    {
      "cell_type": "code",
      "source": [
        "number_of_ticks = len(pca.explained_variance_ratio_) + 1\n",
        "\n",
        "fig, ax = plt.subplots(figsize=(12, 6))\n",
        "x_ticks = np.arange(1, number_of_ticks, step=1)\n",
        "y_values = np.cumsum(pca.explained_variance_ratio_)\n",
        "\n",
        "plt.ylim(0.0,1.1)\n",
        "plt.plot(x_ticks, y_values, marker='o', linestyle='--', color='b')\n",
        "\n",
        "plt.xlabel('Number of Components')\n",
        "plt.xticks(np.arange(0, number_of_ticks, step=1))\n",
        "plt.ylabel('Cumulative variance (%)')\n",
        "plt.title('The number of components needed to explain variance')\n",
        "\n",
        "plt.axhline(y=0.95, color='r', linestyle='-')\n",
        "plt.text(0.5, 0.85, '95% cut-off threshold', color = 'red', fontsize=16)\n",
        "\n",
        "ax.grid(axis='x')\n",
        "plt.xticks(rotation=90)\n",
        "plt.show()"
      ],
      "metadata": {
        "colab": {
          "base_uri": "https://localhost:8080/",
          "height": 414
        },
        "id": "hO-LzKFr_TSu",
        "outputId": "dead05f3-3f81-4101-e4f2-12aba445e37b"
      },
      "execution_count": null,
      "outputs": [
        {
          "output_type": "display_data",
          "data": {
            "text/plain": [
              "<Figure size 864x432 with 1 Axes>"
            ],
            "image/png": "[encoded data removed]"
          },
          "metadata": {}
        }
      ]
    },
    {
      "cell_type": "markdown",
      "source": [
        "1 component explain about 0.3\n",
        "\n",
        "2 component explain about 0.4\n",
        "\n",
        "......\n",
        "\n",
        "24 component will explain 0.95 variance"
      ],
      "metadata": {
        "id": "WMvlCrdZAHVA"
      }
    },
    {
      "cell_type": "markdown",
      "source": [
        "##TSNE"
      ],
      "metadata": {
        "id": "YNWAxFprREiu"
      }
    },
    {
      "cell_type": "markdown",
      "source": [
        "The following plot take some time, because the dataset is large."
      ],
      "metadata": {
        "id": "NWCDuH4DYek_"
      }
    },
    {
      "cell_type": "code",
      "source": [
        "from sklearn.manifold import TSNE\n",
        "\n",
        "tsne = TSNE()\n",
        "tsne_X = tsne.fit_transform(X)\n",
        "\n",
        "plot_df = pd.DataFrame.from_records(data=tsne_X,columns=[\"x\",\"y\"])\n",
        "y = ['y']\n",
        "plot_df[\"target\"] = df[y]\n",
        "\n",
        "sns.set(style=\"ticks\")\n",
        "sns.relplot(\"x\", \"y\", data=plot_df, hue=\"target\", palette='coolwarm')"
      ],
      "metadata": {
        "colab": {
          "base_uri": "https://localhost:8080/",
          "height": 507
        },
        "id": "k1XNoRjCAGgW",
        "outputId": "fe65ef38-f77c-4cba-d2c6-75549e2f8836"
      },
      "execution_count": null,
      "outputs": [
        {
          "output_type": "stream",
          "name": "stderr",
          "text": [
            "/usr/local/lib/python3.8/dist-packages/sklearn/manifold/_t_sne.py:780: FutureWarning: The default initialization in TSNE will change from 'random' to 'pca' in 1.2.\n",
            "  warnings.warn(\n",
            "/usr/local/lib/python3.8/dist-packages/sklearn/manifold/_t_sne.py:790: FutureWarning: The default learning rate in TSNE will change from 200.0 to 'auto' in 1.2.\n",
            "  warnings.warn(\n",
            "/usr/local/lib/python3.8/dist-packages/seaborn/_decorators.py:36: FutureWarning: Pass the following variables as keyword args: x, y. From version 0.12, the only valid positional argument will be `data`, and passing other arguments without an explicit keyword will result in an error or misinterpretation.\n",
            "  warnings.warn(\n"
          ]
        },
        {
          "output_type": "execute_result",
          "data": {
            "text/plain": [
              "<seaborn.axisgrid.FacetGrid at 0x7f763483ec40>"
            ]
          },
          "metadata": {},
          "execution_count": 149
        },
        {
          "output_type": "display_data",
          "data": {
            "text/plain": [
              "<Figure size 427.475x360 with 1 Axes>"
            ],
            "image/png": "[encoded data removed]"
          },
          "metadata": {}
        }
      ]
    },
    {
      "cell_type": "markdown",
      "source": [
        "There are some \"sets of points\" that \"attract\" true values."
      ],
      "metadata": {
        "id": "4wJewHT5RCLE"
      }
    },
    {
      "cell_type": "markdown",
      "source": [
        "## SVD"
      ],
      "metadata": {
        "id": "aLbCitMmRJRE"
      }
    },
    {
      "cell_type": "code",
      "source": [
        "from numpy.linalg import svd\n",
        "\n",
        "U, S, VT = svd(X, full_matrices = False)"
      ],
      "metadata": {
        "id": "dsCOuwTtnBP8"
      },
      "execution_count": null,
      "outputs": []
    },
    {
      "cell_type": "code",
      "source": [
        "print(U.shape, S.shape, VT.shape)"
      ],
      "metadata": {
        "colab": {
          "base_uri": "https://localhost:8080/"
        },
        "id": "rjgCq3g7uP9v",
        "outputId": "ad89a189-80de-4f21-ebf1-08a6b62c7341"
      },
      "execution_count": null,
      "outputs": [
        {
          "output_type": "stream",
          "name": "stdout",
          "text": [
            "(41188, 54) (54,) (54, 54)\n"
          ]
        }
      ]
    },
    {
      "cell_type": "code",
      "source": [
        "print(S)"
      ],
      "metadata": {
        "colab": {
          "base_uri": "https://localhost:8080/"
        },
        "id": "wjkFnh6iuhrw",
        "outputId": "39ed533c-0d9c-4c1e-e046-72176df71411"
      },
      "execution_count": null,
      "outputs": [
        {
          "output_type": "stream",
          "name": "stdout",
          "text": [
            "[4.06688756e+02 3.93672775e+02 2.24705317e+02 2.03988688e+02\n",
            " 2.02420414e+02 1.95930100e+02 1.93563510e+02 1.67013537e+02\n",
            " 1.41824568e+02 1.28212864e+02 1.10724903e+02 1.07738140e+02\n",
            " 1.03783820e+02 9.91772811e+01 9.70810028e+01 9.24868941e+01\n",
            " 9.09308667e+01 8.99772841e+01 8.90768125e+01 8.46035708e+01\n",
            " 7.77467000e+01 7.35149394e+01 7.07648085e+01 6.88824126e+01\n",
            " 6.13203268e+01 5.79676845e+01 5.50216971e+01 5.24796151e+01\n",
            " 5.21908235e+01 4.90483193e+01 4.63083576e+01 4.39499194e+01\n",
            " 4.05077895e+01 3.78050054e+01 3.65694675e+01 3.32236577e+01\n",
            " 3.16145976e+01 2.89493277e+01 2.80099482e+01 2.66240521e+01\n",
            " 2.51748151e+01 2.25994244e+01 1.39208212e+01 1.20759496e+01\n",
            " 8.01431196e+00 4.55794108e+00 1.84736614e-13 8.23101296e-14\n",
            " 4.13617566e-14 3.83404766e-14 3.72013445e-14 3.70111873e-14\n",
            " 3.65739435e-14 1.52173395e-14]\n"
          ]
        }
      ]
    },
    {
      "cell_type": "code",
      "source": [
        "# Single values\n",
        "sns.distplot(S)"
      ],
      "metadata": {
        "colab": {
          "base_uri": "https://localhost:8080/",
          "height": 340
        },
        "id": "9LpjVoNhyQj2",
        "outputId": "c2ee08a2-e379-42c7-8bb5-47a8fb8d6ced"
      },
      "execution_count": null,
      "outputs": [
        {
          "output_type": "stream",
          "name": "stderr",
          "text": [
            "/usr/local/lib/python3.8/dist-packages/seaborn/distributions.py:2619: FutureWarning: `distplot` is a deprecated function and will be removed in a future version. Please adapt your code to use either `displot` (a figure-level function with similar flexibility) or `histplot` (an axes-level function for histograms).\n",
            "  warnings.warn(msg, FutureWarning)\n"
          ]
        },
        {
          "output_type": "execute_result",
          "data": {
            "text/plain": [
              "<matplotlib.axes._subplots.AxesSubplot at 0x7f762ef43e80>"
            ]
          },
          "metadata": {},
          "execution_count": 153
        },
        {
          "output_type": "display_data",
          "data": {
            "text/plain": [
              "<Figure size 432x288 with 1 Axes>"
            ],
            "image/png": "[encoded data removed]"
          },
          "metadata": {}
        }
      ]
    },
    {
      "cell_type": "code",
      "source": [
        "from sklearn.decomposition import TruncatedSVD\n",
        "from scipy.sparse import csr_matrix\n",
        "from sklearn import datasets"
      ],
      "metadata": {
        "id": "CM9gaBkZvEEF"
      },
      "execution_count": null,
      "outputs": []
    },
    {
      "cell_type": "code",
      "source": [
        "X_sparse = csr_matrix(X)"
      ],
      "metadata": {
        "id": "448cH0Vgvli9"
      },
      "execution_count": null,
      "outputs": []
    },
    {
      "cell_type": "code",
      "source": [
        "tsvd = TruncatedSVD(n_components = X_sparse.shape[1]-1)\n",
        "X_tsvd = tsvd.fit(X)"
      ],
      "metadata": {
        "id": "B3Z6pXEmwBdl"
      },
      "execution_count": null,
      "outputs": []
    },
    {
      "cell_type": "code",
      "source": [
        "tsvd_var_ratios = tsvd.explained_variance_ratio_\n",
        "print(tsvd.explained_variance_ratio_.sum())"
      ],
      "metadata": {
        "colab": {
          "base_uri": "https://localhost:8080/"
        },
        "id": "3SuQ0PpCw-Gg",
        "outputId": "d2706fae-e0b8-4ced-d0db-c7aad7518337"
      },
      "execution_count": null,
      "outputs": [
        {
          "output_type": "stream",
          "name": "stdout",
          "text": [
            "1.0000000000001013\n"
          ]
        }
      ]
    },
    {
      "cell_type": "code",
      "source": [
        "def select_n_components(var_ratio, goal_var: float):\n",
        "  total_variance = 0.0\n",
        "\n",
        "  n_components = 0\n",
        "\n",
        "  for explained_variance in var_ratio:\n",
        "    total_variance += explained_variance\n",
        "    n_components += 1\n",
        "\n",
        "    if total_variance >= goal_var:\n",
        "      break\n",
        "  return n_components"
      ],
      "metadata": {
        "id": "TfgZ0M-gwCJI"
      },
      "execution_count": null,
      "outputs": []
    },
    {
      "cell_type": "code",
      "source": [
        "select_n_components(tsvd_var_ratios, 0.95)"
      ],
      "metadata": {
        "colab": {
          "base_uri": "https://localhost:8080/"
        },
        "id": "8KfCey7WwroM",
        "outputId": "6cfd494a-57fd-4be8-8e02-e09df7e0e310"
      },
      "execution_count": null,
      "outputs": [
        {
          "output_type": "execute_result",
          "data": {
            "text/plain": [
              "25"
            ]
          },
          "metadata": {},
          "execution_count": 159
        }
      ]
    },
    {
      "cell_type": "markdown",
      "source": [
        "Single Value Decomposition gives us that we need 25 component to achieve 0.95 variance. \n",
        "\n",
        "CPA gave 24."
      ],
      "metadata": {
        "id": "mXWWQlwhxm-z"
      }
    }
  ],
  "metadata": {
    "colab": {
      "provenance": [],
      "collapsed_sections": [
        "ltHnxFizg2oD",
        "MapeTwrQo4Gc",
        "ZwFsp9CwR4oW",
        "FfcXazAETgM9",
        "a3slWayFcDAu",
        "y7Q3thbERHiJ",
        "YNWAxFprREiu",
        "aLbCitMmRJRE"
      ]
    },
    "kernelspec": {
      "display_name": "Python 3",
      "name": "python3"
    },
    "language_info": {
      "name": "python"
    }
  },
  "nbformat": 4,
  "nbformat_minor": 0
}