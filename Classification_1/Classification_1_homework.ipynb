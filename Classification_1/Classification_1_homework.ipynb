{
  "nbformat": 4,
  "nbformat_minor": 0,
  "metadata": {
    "colab": {
      "provenance": [],
      "toc_visible": true
    },
    "kernelspec": {
      "name": "python3",
      "display_name": "Python 3"
    },
    "language_info": {
      "name": "python"
    }
  },
  "cells": [
    {
      "cell_type": "code",
      "execution_count": null,
      "metadata": {
        "id": "MVWlk5Yc3079"
      },
      "outputs": [],
      "source": [
        "import pandas as pd\n",
        "import numpy as np\n",
        "import seaborn as sns\n",
        "import matplotlib.pyplot as plt\n",
        "\n",
        "from sklearn.preprocessing import LabelEncoder\n",
        "from sklearn.preprocessing import LabelBinarizer\n",
        "from sklearn.pipeline import Pipeline\n",
        "from sklearn.preprocessing import MinMaxScaler\n",
        "from sklearn.impute import SimpleImputer\n",
        "from sklearn.model_selection import train_test_split, cross_val_score\n",
        "from sklearn.linear_model import LogisticRegression\n",
        "from sklearn.metrics import confusion_matrix, classification_report\n",
        "from sklearn.decomposition import PCA\n",
        "from sklearn.datasets import make_multilabel_classification\n",
        "from sklearn.compose import ColumnTransformer\n",
        "from imblearn.over_sampling import SMOTE\n",
        "from sklearn.svm import SVC\n",
        "from sklearn.ensemble import RandomForestClassifier\n",
        "from sklearn.multiclass import OneVsRestClassifier\n",
        "from sklearn.neighbors import KNeighborsClassifier\n",
        "from sklearn_pandas import DataFrameMapper, gen_features\n",
        "\n",
        "%matplotlib notebook\n",
        "%matplotlib inline"
      ]
    },
    {
      "cell_type": "code",
      "source": [
        "df = pd.read_csv('data/dataset_57_hypothyroid.csv', na_values = '?')\n",
        "df"
      ],
      "metadata": {
        "colab": {
          "base_uri": "https://localhost:8080/",
          "height": 487
        },
        "id": "yWtkdqmP4RwU",
        "outputId": "32b58635-a753-4c75-9954-41aa6a5d6d22"
      },
      "execution_count": null,
      "outputs": [
        {
          "output_type": "execute_result",
          "data": {
            "text/plain": [
              "       age sex on_thyroxine query_on_thyroxine on_antithyroid_medication sick  \\\n",
              "0     41.0   F            f                  f                         f    f   \n",
              "1     23.0   F            f                  f                         f    f   \n",
              "2     46.0   M            f                  f                         f    f   \n",
              "3     70.0   F            t                  f                         f    f   \n",
              "4     70.0   F            f                  f                         f    f   \n",
              "...    ...  ..          ...                ...                       ...  ...   \n",
              "3767  30.0   F            f                  f                         f    f   \n",
              "3768  68.0   F            f                  f                         f    f   \n",
              "3769  74.0   F            f                  f                         f    f   \n",
              "3770  72.0   M            f                  f                         f    f   \n",
              "3771  64.0   F            f                  f                         f    f   \n",
              "\n",
              "     pregnant thyroid_surgery I131_treatment query_hypothyroid  ...  \\\n",
              "0           f               f              f                 f  ...   \n",
              "1           f               f              f                 f  ...   \n",
              "2           f               f              f                 f  ...   \n",
              "3           f               f              f                 f  ...   \n",
              "4           f               f              f                 f  ...   \n",
              "...       ...             ...            ...               ...  ...   \n",
              "3767        f               f              f                 f  ...   \n",
              "3768        f               f              f                 f  ...   \n",
              "3769        f               f              f                 f  ...   \n",
              "3770        f               f              f                 f  ...   \n",
              "3771        f               f              f                 f  ...   \n",
              "\n",
              "     TT4_measured    TT4 T4U_measured   T4U FTI_measured    FTI TBG_measured  \\\n",
              "0               t  125.0            t  1.14            t  109.0            f   \n",
              "1               t  102.0            f   NaN            f    NaN            f   \n",
              "2               t  109.0            t  0.91            t  120.0            f   \n",
              "3               t  175.0            f   NaN            f    NaN            f   \n",
              "4               t   61.0            t  0.87            t   70.0            f   \n",
              "...           ...    ...          ...   ...          ...    ...          ...   \n",
              "3767            f    NaN            f   NaN            f    NaN            f   \n",
              "3768            t  124.0            t  1.08            t  114.0            f   \n",
              "3769            t  112.0            t  1.07            t  105.0            f   \n",
              "3770            t   82.0            t  0.94            t   87.0            f   \n",
              "3771            t   99.0            t  1.07            t   92.0            f   \n",
              "\n",
              "      TBG referral_source     Class  \n",
              "0     NaN            SVHC  negative  \n",
              "1     NaN           other  negative  \n",
              "2     NaN           other  negative  \n",
              "3     NaN           other  negative  \n",
              "4     NaN             SVI  negative  \n",
              "...   ...             ...       ...  \n",
              "3767  NaN           other  negative  \n",
              "3768  NaN             SVI  negative  \n",
              "3769  NaN           other  negative  \n",
              "3770  NaN             SVI  negative  \n",
              "3771  NaN           other  negative  \n",
              "\n",
              "[3772 rows x 30 columns]"
            ],
            "text/html": [
              "\n",
              "  <div id=\"df-d8f0903a-b439-4e46-804f-b7f6ce9b6d7d\">\n",
              "    <div class=\"colab-df-container\">\n",
              "      <div>\n",
              "<style scoped>\n",
              "    .dataframe tbody tr th:only-of-type {\n",
              "        vertical-align: middle;\n",
              "    }\n",
              "\n",
              "    .dataframe tbody tr th {\n",
              "        vertical-align: top;\n",
              "    }\n",
              "\n",
              "    .dataframe thead th {\n",
              "        text-align: right;\n",
              "    }\n",
              "</style>\n",
              "<table border=\"1\" class=\"dataframe\">\n",
              "  <thead>\n",
              "    <tr style=\"text-align: right;\">\n",
              "      <th></th>\n",
              "      <th>age</th>\n",
              "      <th>sex</th>\n",
              "      <th>on_thyroxine</th>\n",
              "      <th>query_on_thyroxine</th>\n",
              "      <th>on_antithyroid_medication</th>\n",
              "      <th>sick</th>\n",
              "      <th>pregnant</th>\n",
              "      <th>thyroid_surgery</th>\n",
              "      <th>I131_treatment</th>\n",
              "      <th>query_hypothyroid</th>\n",
              "      <th>...</th>\n",
              "      <th>TT4_measured</th>\n",
              "      <th>TT4</th>\n",
              "      <th>T4U_measured</th>\n",
              "      <th>T4U</th>\n",
              "      <th>FTI_measured</th>\n",
              "      <th>FTI</th>\n",
              "      <th>TBG_measured</th>\n",
              "      <th>TBG</th>\n",
              "      <th>referral_source</th>\n",
              "      <th>Class</th>\n",
              "    </tr>\n",
              "  </thead>\n",
              "  <tbody>\n",
              "    <tr>\n",
              "      <th>0</th>\n",
              "      <td>41.0</td>\n",
              "      <td>F</td>\n",
              "      <td>f</td>\n",
              "      <td>f</td>\n",
              "      <td>f</td>\n",
              "      <td>f</td>\n",
              "      <td>f</td>\n",
              "      <td>f</td>\n",
              "      <td>f</td>\n",
              "      <td>f</td>\n",
              "      <td>...</td>\n",
              "      <td>t</td>\n",
              "      <td>125.0</td>\n",
              "      <td>t</td>\n",
              "      <td>1.14</td>\n",
              "      <td>t</td>\n",
              "      <td>109.0</td>\n",
              "      <td>f</td>\n",
              "      <td>NaN</td>\n",
              "      <td>SVHC</td>\n",
              "      <td>negative</td>\n",
              "    </tr>\n",
              "    <tr>\n",
              "      <th>1</th>\n",
              "      <td>23.0</td>\n",
              "      <td>F</td>\n",
              "      <td>f</td>\n",
              "      <td>f</td>\n",
              "      <td>f</td>\n",
              "      <td>f</td>\n",
              "      <td>f</td>\n",
              "      <td>f</td>\n",
              "      <td>f</td>\n",
              "      <td>f</td>\n",
              "      <td>...</td>\n",
              "      <td>t</td>\n",
              "      <td>102.0</td>\n",
              "      <td>f</td>\n",
              "      <td>NaN</td>\n",
              "      <td>f</td>\n",
              "      <td>NaN</td>\n",
              "      <td>f</td>\n",
              "      <td>NaN</td>\n",
              "      <td>other</td>\n",
              "      <td>negative</td>\n",
              "    </tr>\n",
              "    <tr>\n",
              "      <th>2</th>\n",
              "      <td>46.0</td>\n",
              "      <td>M</td>\n",
              "      <td>f</td>\n",
              "      <td>f</td>\n",
              "      <td>f</td>\n",
              "      <td>f</td>\n",
              "      <td>f</td>\n",
              "      <td>f</td>\n",
              "      <td>f</td>\n",
              "      <td>f</td>\n",
              "      <td>...</td>\n",
              "      <td>t</td>\n",
              "      <td>109.0</td>\n",
              "      <td>t</td>\n",
              "      <td>0.91</td>\n",
              "      <td>t</td>\n",
              "      <td>120.0</td>\n",
              "      <td>f</td>\n",
              "      <td>NaN</td>\n",
              "      <td>other</td>\n",
              "      <td>negative</td>\n",
              "    </tr>\n",
              "    <tr>\n",
              "      <th>3</th>\n",
              "      <td>70.0</td>\n",
              "      <td>F</td>\n",
              "      <td>t</td>\n",
              "      <td>f</td>\n",
              "      <td>f</td>\n",
              "      <td>f</td>\n",
              "      <td>f</td>\n",
              "      <td>f</td>\n",
              "      <td>f</td>\n",
              "      <td>f</td>\n",
              "      <td>...</td>\n",
              "      <td>t</td>\n",
              "      <td>175.0</td>\n",
              "      <td>f</td>\n",
              "      <td>NaN</td>\n",
              "      <td>f</td>\n",
              "      <td>NaN</td>\n",
              "      <td>f</td>\n",
              "      <td>NaN</td>\n",
              "      <td>other</td>\n",
              "      <td>negative</td>\n",
              "    </tr>\n",
              "    <tr>\n",
              "      <th>4</th>\n",
              "      <td>70.0</td>\n",
              "      <td>F</td>\n",
              "      <td>f</td>\n",
              "      <td>f</td>\n",
              "      <td>f</td>\n",
              "      <td>f</td>\n",
              "      <td>f</td>\n",
              "      <td>f</td>\n",
              "      <td>f</td>\n",
              "      <td>f</td>\n",
              "      <td>...</td>\n",
              "      <td>t</td>\n",
              "      <td>61.0</td>\n",
              "      <td>t</td>\n",
              "      <td>0.87</td>\n",
              "      <td>t</td>\n",
              "      <td>70.0</td>\n",
              "      <td>f</td>\n",
              "      <td>NaN</td>\n",
              "      <td>SVI</td>\n",
              "      <td>negative</td>\n",
              "    </tr>\n",
              "    <tr>\n",
              "      <th>...</th>\n",
              "      <td>...</td>\n",
              "      <td>...</td>\n",
              "      <td>...</td>\n",
              "      <td>...</td>\n",
              "      <td>...</td>\n",
              "      <td>...</td>\n",
              "      <td>...</td>\n",
              "      <td>...</td>\n",
              "      <td>...</td>\n",
              "      <td>...</td>\n",
              "      <td>...</td>\n",
              "      <td>...</td>\n",
              "      <td>...</td>\n",
              "      <td>...</td>\n",
              "      <td>...</td>\n",
              "      <td>...</td>\n",
              "      <td>...</td>\n",
              "      <td>...</td>\n",
              "      <td>...</td>\n",
              "      <td>...</td>\n",
              "      <td>...</td>\n",
              "    </tr>\n",
              "    <tr>\n",
              "      <th>3767</th>\n",
              "      <td>30.0</td>\n",
              "      <td>F</td>\n",
              "      <td>f</td>\n",
              "      <td>f</td>\n",
              "      <td>f</td>\n",
              "      <td>f</td>\n",
              "      <td>f</td>\n",
              "      <td>f</td>\n",
              "      <td>f</td>\n",
              "      <td>f</td>\n",
              "      <td>...</td>\n",
              "      <td>f</td>\n",
              "      <td>NaN</td>\n",
              "      <td>f</td>\n",
              "      <td>NaN</td>\n",
              "      <td>f</td>\n",
              "      <td>NaN</td>\n",
              "      <td>f</td>\n",
              "      <td>NaN</td>\n",
              "      <td>other</td>\n",
              "      <td>negative</td>\n",
              "    </tr>\n",
              "    <tr>\n",
              "      <th>3768</th>\n",
              "      <td>68.0</td>\n",
              "      <td>F</td>\n",
              "      <td>f</td>\n",
              "      <td>f</td>\n",
              "      <td>f</td>\n",
              "      <td>f</td>\n",
              "      <td>f</td>\n",
              "      <td>f</td>\n",
              "      <td>f</td>\n",
              "      <td>f</td>\n",
              "      <td>...</td>\n",
              "      <td>t</td>\n",
              "      <td>124.0</td>\n",
              "      <td>t</td>\n",
              "      <td>1.08</td>\n",
              "      <td>t</td>\n",
              "      <td>114.0</td>\n",
              "      <td>f</td>\n",
              "      <td>NaN</td>\n",
              "      <td>SVI</td>\n",
              "      <td>negative</td>\n",
              "    </tr>\n",
              "    <tr>\n",
              "      <th>3769</th>\n",
              "      <td>74.0</td>\n",
              "      <td>F</td>\n",
              "      <td>f</td>\n",
              "      <td>f</td>\n",
              "      <td>f</td>\n",
              "      <td>f</td>\n",
              "      <td>f</td>\n",
              "      <td>f</td>\n",
              "      <td>f</td>\n",
              "      <td>f</td>\n",
              "      <td>...</td>\n",
              "      <td>t</td>\n",
              "      <td>112.0</td>\n",
              "      <td>t</td>\n",
              "      <td>1.07</td>\n",
              "      <td>t</td>\n",
              "      <td>105.0</td>\n",
              "      <td>f</td>\n",
              "      <td>NaN</td>\n",
              "      <td>other</td>\n",
              "      <td>negative</td>\n",
              "    </tr>\n",
              "    <tr>\n",
              "      <th>3770</th>\n",
              "      <td>72.0</td>\n",
              "      <td>M</td>\n",
              "      <td>f</td>\n",
              "      <td>f</td>\n",
              "      <td>f</td>\n",
              "      <td>f</td>\n",
              "      <td>f</td>\n",
              "      <td>f</td>\n",
              "      <td>f</td>\n",
              "      <td>f</td>\n",
              "      <td>...</td>\n",
              "      <td>t</td>\n",
              "      <td>82.0</td>\n",
              "      <td>t</td>\n",
              "      <td>0.94</td>\n",
              "      <td>t</td>\n",
              "      <td>87.0</td>\n",
              "      <td>f</td>\n",
              "      <td>NaN</td>\n",
              "      <td>SVI</td>\n",
              "      <td>negative</td>\n",
              "    </tr>\n",
              "    <tr>\n",
              "      <th>3771</th>\n",
              "      <td>64.0</td>\n",
              "      <td>F</td>\n",
              "      <td>f</td>\n",
              "      <td>f</td>\n",
              "      <td>f</td>\n",
              "      <td>f</td>\n",
              "      <td>f</td>\n",
              "      <td>f</td>\n",
              "      <td>f</td>\n",
              "      <td>f</td>\n",
              "      <td>...</td>\n",
              "      <td>t</td>\n",
              "      <td>99.0</td>\n",
              "      <td>t</td>\n",
              "      <td>1.07</td>\n",
              "      <td>t</td>\n",
              "      <td>92.0</td>\n",
              "      <td>f</td>\n",
              "      <td>NaN</td>\n",
              "      <td>other</td>\n",
              "      <td>negative</td>\n",
              "    </tr>\n",
              "  </tbody>\n",
              "</table>\n",
              "<p>3772 rows × 30 columns</p>\n",
              "</div>\n",
              "      <button class=\"colab-df-convert\" onclick=\"convertToInteractive('df-d8f0903a-b439-4e46-804f-b7f6ce9b6d7d')\"\n",
              "              title=\"Convert this dataframe to an interactive table.\"\n",
              "              style=\"display:none;\">\n",
              "        \n",
              "  <svg xmlns=\"http://www.w3.org/2000/svg\" height=\"24px\"viewBox=\"0 0 24 24\"\n",
              "       width=\"24px\">\n",
              "    <path d=\"M0 0h24v24H0V0z\" fill=\"none\"/>\n",
              "    <path d=\"M18.56 5.44l.94 2.06.94-2.06 2.06-.94-2.06-.94-.94-2.06-.94 2.06-2.06.94zm-11 1L8.5 8.5l.94-2.06 2.06-.94-2.06-.94L8.5 2.5l-.94 2.06-2.06.94zm10 10l.94 2.06.94-2.06 2.06-.94-2.06-.94-.94-2.06-.94 2.06-2.06.94z\"/><path d=\"M17.41 7.96l-1.37-1.37c-.4-.4-.92-.59-1.43-.59-.52 0-1.04.2-1.43.59L10.3 9.45l-7.72 7.72c-.78.78-.78 2.05 0 2.83L4 21.41c.39.39.9.59 1.41.59.51 0 1.02-.2 1.41-.59l7.78-7.78 2.81-2.81c.8-.78.8-2.07 0-2.86zM5.41 20L4 18.59l7.72-7.72 1.47 1.35L5.41 20z\"/>\n",
              "  </svg>\n",
              "      </button>\n",
              "      \n",
              "  <style>\n",
              "    .colab-df-container {\n",
              "      display:flex;\n",
              "      flex-wrap:wrap;\n",
              "      gap: 12px;\n",
              "    }\n",
              "\n",
              "    .colab-df-convert {\n",
              "      background-color: #E8F0FE;\n",
              "      border: none;\n",
              "      border-radius: 50%;\n",
              "      cursor: pointer;\n",
              "      display: none;\n",
              "      fill: #1967D2;\n",
              "      height: 32px;\n",
              "      padding: 0 0 0 0;\n",
              "      width: 32px;\n",
              "    }\n",
              "\n",
              "    .colab-df-convert:hover {\n",
              "      background-color: #E2EBFA;\n",
              "      box-shadow: 0px 1px 2px rgba(60, 64, 67, 0.3), 0px 1px 3px 1px rgba(60, 64, 67, 0.15);\n",
              "      fill: #174EA6;\n",
              "    }\n",
              "\n",
              "    [theme=dark] .colab-df-convert {\n",
              "      background-color: #3B4455;\n",
              "      fill: #D2E3FC;\n",
              "    }\n",
              "\n",
              "    [theme=dark] .colab-df-convert:hover {\n",
              "      background-color: #434B5C;\n",
              "      box-shadow: 0px 1px 3px 1px rgba(0, 0, 0, 0.15);\n",
              "      filter: drop-shadow(0px 1px 2px rgba(0, 0, 0, 0.3));\n",
              "      fill: #FFFFFF;\n",
              "    }\n",
              "  </style>\n",
              "\n",
              "      <script>\n",
              "        const buttonEl =\n",
              "          document.querySelector('#df-d8f0903a-b439-4e46-804f-b7f6ce9b6d7d button.colab-df-convert');\n",
              "        buttonEl.style.display =\n",
              "          google.colab.kernel.accessAllowed ? 'block' : 'none';\n",
              "\n",
              "        async function convertToInteractive(key) {\n",
              "          const element = document.querySelector('#df-d8f0903a-b439-4e46-804f-b7f6ce9b6d7d');\n",
              "          const dataTable =\n",
              "            await google.colab.kernel.invokeFunction('convertToInteractive',\n",
              "                                                     [key], {});\n",
              "          if (!dataTable) return;\n",
              "\n",
              "          const docLinkHtml = 'Like what you see? Visit the ' +\n",
              "            '<a target=\"_blank\" href=https://colab.research.google.com/notebooks/data_table.ipynb>data table notebook</a>'\n",
              "            + ' to learn more about interactive tables.';\n",
              "          element.innerHTML = '';\n",
              "          dataTable['output_type'] = 'display_data';\n",
              "          await google.colab.output.renderOutput(dataTable, element);\n",
              "          const docLink = document.createElement('div');\n",
              "          docLink.innerHTML = docLinkHtml;\n",
              "          element.appendChild(docLink);\n",
              "        }\n",
              "      </script>\n",
              "    </div>\n",
              "  </div>\n",
              "  "
            ]
          },
          "metadata": {},
          "execution_count": 541
        }
      ]
    },
    {
      "cell_type": "code",
      "source": [
        "TARGET = 'Class'\n",
        "SEED = 42"
      ],
      "metadata": {
        "id": "Y9y4mvEPEqA0"
      },
      "execution_count": null,
      "outputs": []
    },
    {
      "cell_type": "markdown",
      "source": [
        "# EDA + DP"
      ],
      "metadata": {
        "id": "YCPMtw5U5MTY"
      }
    },
    {
      "cell_type": "code",
      "source": [
        "df.info()"
      ],
      "metadata": {
        "colab": {
          "base_uri": "https://localhost:8080/"
        },
        "id": "ixreTg1T4zAw",
        "outputId": "ca0bbfbc-044b-4a84-f12f-46b0816ae7ec"
      },
      "execution_count": null,
      "outputs": [
        {
          "output_type": "stream",
          "name": "stdout",
          "text": [
            "<class 'pandas.core.frame.DataFrame'>\n",
            "RangeIndex: 3772 entries, 0 to 3771\n",
            "Data columns (total 30 columns):\n",
            " #   Column                     Non-Null Count  Dtype  \n",
            "---  ------                     --------------  -----  \n",
            " 0   age                        3771 non-null   float64\n",
            " 1   sex                        3622 non-null   object \n",
            " 2   on_thyroxine               3772 non-null   object \n",
            " 3   query_on_thyroxine         3772 non-null   object \n",
            " 4   on_antithyroid_medication  3772 non-null   object \n",
            " 5   sick                       3772 non-null   object \n",
            " 6   pregnant                   3772 non-null   object \n",
            " 7   thyroid_surgery            3772 non-null   object \n",
            " 8   I131_treatment             3772 non-null   object \n",
            " 9   query_hypothyroid          3772 non-null   object \n",
            " 10  query_hyperthyroid         3772 non-null   object \n",
            " 11  lithium                    3772 non-null   object \n",
            " 12  goitre                     3772 non-null   object \n",
            " 13  tumor                      3772 non-null   object \n",
            " 14  hypopituitary              3772 non-null   object \n",
            " 15  psych                      3772 non-null   object \n",
            " 16  TSH_measured               3772 non-null   object \n",
            " 17  TSH                        3403 non-null   float64\n",
            " 18  T3_measured                3772 non-null   object \n",
            " 19  T3                         3003 non-null   float64\n",
            " 20  TT4_measured               3772 non-null   object \n",
            " 21  TT4                        3541 non-null   float64\n",
            " 22  T4U_measured               3772 non-null   object \n",
            " 23  T4U                        3385 non-null   float64\n",
            " 24  FTI_measured               3772 non-null   object \n",
            " 25  FTI                        3387 non-null   float64\n",
            " 26  TBG_measured               3772 non-null   object \n",
            " 27  TBG                        0 non-null      float64\n",
            " 28  referral_source            3772 non-null   object \n",
            " 29  Class                      3772 non-null   object \n",
            "dtypes: float64(7), object(23)\n",
            "memory usage: 884.2+ KB\n"
          ]
        }
      ]
    },
    {
      "cell_type": "code",
      "source": [
        "df.describe()"
      ],
      "metadata": {
        "colab": {
          "base_uri": "https://localhost:8080/",
          "height": 300
        },
        "id": "jT7-Zv0Z4dKZ",
        "outputId": "4fb9436f-ed6d-4da9-af4c-e56739a2465e"
      },
      "execution_count": null,
      "outputs": [
        {
          "output_type": "execute_result",
          "data": {
            "text/plain": [
              "               age          TSH           T3          TT4          T4U  \\\n",
              "count  3771.000000  3403.000000  3003.000000  3541.000000  3385.000000   \n",
              "mean     51.735879     5.086766     2.013500   108.319345     0.995000   \n",
              "std      20.084958    24.521470     0.827434    35.604248     0.195457   \n",
              "min       1.000000     0.005000     0.050000     2.000000     0.250000   \n",
              "25%      36.000000     0.500000     1.600000    88.000000     0.880000   \n",
              "50%      54.000000     1.400000     2.000000   103.000000     0.980000   \n",
              "75%      67.000000     2.700000     2.400000   124.000000     1.080000   \n",
              "max     455.000000   530.000000    10.600000   430.000000     2.320000   \n",
              "\n",
              "               FTI  TBG  \n",
              "count  3387.000000  0.0  \n",
              "mean    110.469649  NaN  \n",
              "std      33.089698  NaN  \n",
              "min       2.000000  NaN  \n",
              "25%      93.000000  NaN  \n",
              "50%     107.000000  NaN  \n",
              "75%     124.000000  NaN  \n",
              "max     395.000000  NaN  "
            ],
            "text/html": [
              "\n",
              "  <div id=\"df-b7f09648-9e54-4267-8416-c85db4ef3cc5\">\n",
              "    <div class=\"colab-df-container\">\n",
              "      <div>\n",
              "<style scoped>\n",
              "    .dataframe tbody tr th:only-of-type {\n",
              "        vertical-align: middle;\n",
              "    }\n",
              "\n",
              "    .dataframe tbody tr th {\n",
              "        vertical-align: top;\n",
              "    }\n",
              "\n",
              "    .dataframe thead th {\n",
              "        text-align: right;\n",
              "    }\n",
              "</style>\n",
              "<table border=\"1\" class=\"dataframe\">\n",
              "  <thead>\n",
              "    <tr style=\"text-align: right;\">\n",
              "      <th></th>\n",
              "      <th>age</th>\n",
              "      <th>TSH</th>\n",
              "      <th>T3</th>\n",
              "      <th>TT4</th>\n",
              "      <th>T4U</th>\n",
              "      <th>FTI</th>\n",
              "      <th>TBG</th>\n",
              "    </tr>\n",
              "  </thead>\n",
              "  <tbody>\n",
              "    <tr>\n",
              "      <th>count</th>\n",
              "      <td>3771.000000</td>\n",
              "      <td>3403.000000</td>\n",
              "      <td>3003.000000</td>\n",
              "      <td>3541.000000</td>\n",
              "      <td>3385.000000</td>\n",
              "      <td>3387.000000</td>\n",
              "      <td>0.0</td>\n",
              "    </tr>\n",
              "    <tr>\n",
              "      <th>mean</th>\n",
              "      <td>51.735879</td>\n",
              "      <td>5.086766</td>\n",
              "      <td>2.013500</td>\n",
              "      <td>108.319345</td>\n",
              "      <td>0.995000</td>\n",
              "      <td>110.469649</td>\n",
              "      <td>NaN</td>\n",
              "    </tr>\n",
              "    <tr>\n",
              "      <th>std</th>\n",
              "      <td>20.084958</td>\n",
              "      <td>24.521470</td>\n",
              "      <td>0.827434</td>\n",
              "      <td>35.604248</td>\n",
              "      <td>0.195457</td>\n",
              "      <td>33.089698</td>\n",
              "      <td>NaN</td>\n",
              "    </tr>\n",
              "    <tr>\n",
              "      <th>min</th>\n",
              "      <td>1.000000</td>\n",
              "      <td>0.005000</td>\n",
              "      <td>0.050000</td>\n",
              "      <td>2.000000</td>\n",
              "      <td>0.250000</td>\n",
              "      <td>2.000000</td>\n",
              "      <td>NaN</td>\n",
              "    </tr>\n",
              "    <tr>\n",
              "      <th>25%</th>\n",
              "      <td>36.000000</td>\n",
              "      <td>0.500000</td>\n",
              "      <td>1.600000</td>\n",
              "      <td>88.000000</td>\n",
              "      <td>0.880000</td>\n",
              "      <td>93.000000</td>\n",
              "      <td>NaN</td>\n",
              "    </tr>\n",
              "    <tr>\n",
              "      <th>50%</th>\n",
              "      <td>54.000000</td>\n",
              "      <td>1.400000</td>\n",
              "      <td>2.000000</td>\n",
              "      <td>103.000000</td>\n",
              "      <td>0.980000</td>\n",
              "      <td>107.000000</td>\n",
              "      <td>NaN</td>\n",
              "    </tr>\n",
              "    <tr>\n",
              "      <th>75%</th>\n",
              "      <td>67.000000</td>\n",
              "      <td>2.700000</td>\n",
              "      <td>2.400000</td>\n",
              "      <td>124.000000</td>\n",
              "      <td>1.080000</td>\n",
              "      <td>124.000000</td>\n",
              "      <td>NaN</td>\n",
              "    </tr>\n",
              "    <tr>\n",
              "      <th>max</th>\n",
              "      <td>455.000000</td>\n",
              "      <td>530.000000</td>\n",
              "      <td>10.600000</td>\n",
              "      <td>430.000000</td>\n",
              "      <td>2.320000</td>\n",
              "      <td>395.000000</td>\n",
              "      <td>NaN</td>\n",
              "    </tr>\n",
              "  </tbody>\n",
              "</table>\n",
              "</div>\n",
              "      <button class=\"colab-df-convert\" onclick=\"convertToInteractive('df-b7f09648-9e54-4267-8416-c85db4ef3cc5')\"\n",
              "              title=\"Convert this dataframe to an interactive table.\"\n",
              "              style=\"display:none;\">\n",
              "        \n",
              "  <svg xmlns=\"http://www.w3.org/2000/svg\" height=\"24px\"viewBox=\"0 0 24 24\"\n",
              "       width=\"24px\">\n",
              "    <path d=\"M0 0h24v24H0V0z\" fill=\"none\"/>\n",
              "    <path d=\"M18.56 5.44l.94 2.06.94-2.06 2.06-.94-2.06-.94-.94-2.06-.94 2.06-2.06.94zm-11 1L8.5 8.5l.94-2.06 2.06-.94-2.06-.94L8.5 2.5l-.94 2.06-2.06.94zm10 10l.94 2.06.94-2.06 2.06-.94-2.06-.94-.94-2.06-.94 2.06-2.06.94z\"/><path d=\"M17.41 7.96l-1.37-1.37c-.4-.4-.92-.59-1.43-.59-.52 0-1.04.2-1.43.59L10.3 9.45l-7.72 7.72c-.78.78-.78 2.05 0 2.83L4 21.41c.39.39.9.59 1.41.59.51 0 1.02-.2 1.41-.59l7.78-7.78 2.81-2.81c.8-.78.8-2.07 0-2.86zM5.41 20L4 18.59l7.72-7.72 1.47 1.35L5.41 20z\"/>\n",
              "  </svg>\n",
              "      </button>\n",
              "      \n",
              "  <style>\n",
              "    .colab-df-container {\n",
              "      display:flex;\n",
              "      flex-wrap:wrap;\n",
              "      gap: 12px;\n",
              "    }\n",
              "\n",
              "    .colab-df-convert {\n",
              "      background-color: #E8F0FE;\n",
              "      border: none;\n",
              "      border-radius: 50%;\n",
              "      cursor: pointer;\n",
              "      display: none;\n",
              "      fill: #1967D2;\n",
              "      height: 32px;\n",
              "      padding: 0 0 0 0;\n",
              "      width: 32px;\n",
              "    }\n",
              "\n",
              "    .colab-df-convert:hover {\n",
              "      background-color: #E2EBFA;\n",
              "      box-shadow: 0px 1px 2px rgba(60, 64, 67, 0.3), 0px 1px 3px 1px rgba(60, 64, 67, 0.15);\n",
              "      fill: #174EA6;\n",
              "    }\n",
              "\n",
              "    [theme=dark] .colab-df-convert {\n",
              "      background-color: #3B4455;\n",
              "      fill: #D2E3FC;\n",
              "    }\n",
              "\n",
              "    [theme=dark] .colab-df-convert:hover {\n",
              "      background-color: #434B5C;\n",
              "      box-shadow: 0px 1px 3px 1px rgba(0, 0, 0, 0.15);\n",
              "      filter: drop-shadow(0px 1px 2px rgba(0, 0, 0, 0.3));\n",
              "      fill: #FFFFFF;\n",
              "    }\n",
              "  </style>\n",
              "\n",
              "      <script>\n",
              "        const buttonEl =\n",
              "          document.querySelector('#df-b7f09648-9e54-4267-8416-c85db4ef3cc5 button.colab-df-convert');\n",
              "        buttonEl.style.display =\n",
              "          google.colab.kernel.accessAllowed ? 'block' : 'none';\n",
              "\n",
              "        async function convertToInteractive(key) {\n",
              "          const element = document.querySelector('#df-b7f09648-9e54-4267-8416-c85db4ef3cc5');\n",
              "          const dataTable =\n",
              "            await google.colab.kernel.invokeFunction('convertToInteractive',\n",
              "                                                     [key], {});\n",
              "          if (!dataTable) return;\n",
              "\n",
              "          const docLinkHtml = 'Like what you see? Visit the ' +\n",
              "            '<a target=\"_blank\" href=https://colab.research.google.com/notebooks/data_table.ipynb>data table notebook</a>'\n",
              "            + ' to learn more about interactive tables.';\n",
              "          element.innerHTML = '';\n",
              "          dataTable['output_type'] = 'display_data';\n",
              "          await google.colab.output.renderOutput(dataTable, element);\n",
              "          const docLink = document.createElement('div');\n",
              "          docLink.innerHTML = docLinkHtml;\n",
              "          element.appendChild(docLink);\n",
              "        }\n",
              "      </script>\n",
              "    </div>\n",
              "  </div>\n",
              "  "
            ]
          },
          "metadata": {},
          "execution_count": 544
        }
      ]
    },
    {
      "cell_type": "code",
      "source": [
        "df.duplicated().sum()"
      ],
      "metadata": {
        "colab": {
          "base_uri": "https://localhost:8080/"
        },
        "id": "rpomFfBRX8Ms",
        "outputId": "dee57efd-c8e5-4475-902c-29ea87bb0316"
      },
      "execution_count": null,
      "outputs": [
        {
          "output_type": "execute_result",
          "data": {
            "text/plain": [
              "61"
            ]
          },
          "metadata": {},
          "execution_count": 545
        }
      ]
    },
    {
      "cell_type": "code",
      "source": [
        "df = df.drop_duplicates(keep = False)"
      ],
      "metadata": {
        "id": "fO2anl6aX--z"
      },
      "execution_count": null,
      "outputs": []
    },
    {
      "cell_type": "markdown",
      "source": [
        "As we can see here, TBG feature is ful of NaN values. Drop this feature."
      ],
      "metadata": {
        "id": "8RYv7GA247cl"
      }
    },
    {
      "cell_type": "code",
      "source": [
        "df = df.drop('TBG', axis = 1)"
      ],
      "metadata": {
        "id": "v-UmWz9f5E8q"
      },
      "execution_count": null,
      "outputs": []
    },
    {
      "cell_type": "code",
      "source": [
        "df.isna().sum()"
      ],
      "metadata": {
        "colab": {
          "base_uri": "https://localhost:8080/"
        },
        "id": "5APEAWmm6B51",
        "outputId": "c8978c2e-4181-4e65-efe5-80c254bd9907"
      },
      "execution_count": null,
      "outputs": [
        {
          "output_type": "execute_result",
          "data": {
            "text/plain": [
              "age                            1\n",
              "sex                          148\n",
              "on_thyroxine                   0\n",
              "query_on_thyroxine             0\n",
              "on_antithyroid_medication      0\n",
              "sick                           0\n",
              "pregnant                       0\n",
              "thyroid_surgery                0\n",
              "I131_treatment                 0\n",
              "query_hypothyroid              0\n",
              "query_hyperthyroid             0\n",
              "lithium                        0\n",
              "goitre                         0\n",
              "tumor                          0\n",
              "hypopituitary                  0\n",
              "psych                          0\n",
              "TSH_measured                   0\n",
              "TSH                          277\n",
              "T3_measured                    0\n",
              "T3                           677\n",
              "TT4_measured                   0\n",
              "TT4                          139\n",
              "T4U_measured                   0\n",
              "T4U                          295\n",
              "FTI_measured                   0\n",
              "FTI                          293\n",
              "TBG_measured                   0\n",
              "referral_source                0\n",
              "Class                          0\n",
              "dtype: int64"
            ]
          },
          "metadata": {},
          "execution_count": 548
        }
      ]
    },
    {
      "cell_type": "markdown",
      "source": [
        "There are some missing values, we will deal with them later."
      ],
      "metadata": {
        "id": "WXF83Ga802hh"
      }
    },
    {
      "cell_type": "code",
      "source": [
        "for col in df.columns:\n",
        "  print(col)\n",
        "  print(df[col].unique(), '\\n')"
      ],
      "metadata": {
        "colab": {
          "base_uri": "https://localhost:8080/"
        },
        "id": "G6Rq8As3-PE3",
        "outputId": "0be9e577-95e9-4a3d-871f-618db07e9d30"
      },
      "execution_count": null,
      "outputs": [
        {
          "output_type": "stream",
          "name": "stdout",
          "text": [
            "age\n",
            "[ 41.  23.  46.  70.  18.  59.  80.  66.  68.  84.  67.  71.  28.  65.\n",
            "  42.  63.  51.  81.  54.  55.  60.  25.  73.  34.  78.  37.  85.  26.\n",
            "  58.  44.  48.  61.  35.  83.  21.  87.  64.  53.  77.  27.  69.  74.\n",
            "  38.  76.  45.  36.  22.  43.  72.  82.  31.  39.  49.  62.  57.   1.\n",
            "  50.  30.  29.  75.  19.   7.  79.  17.  24.  15.  32.  47.  16.  52.\n",
            "  33.  13.  10.  89.  56.  20.  90.  40.  88.  14.  86.  94.  12.   4.\n",
            "  11.   8.   5. 455.   2.  91.   6.  nan  93.  92.] \n",
            "\n",
            "sex\n",
            "['F' 'M' nan] \n",
            "\n",
            "on_thyroxine\n",
            "['f' 't'] \n",
            "\n",
            "query_on_thyroxine\n",
            "['f' 't'] \n",
            "\n",
            "on_antithyroid_medication\n",
            "['f' 't'] \n",
            "\n",
            "sick\n",
            "['f' 't'] \n",
            "\n",
            "pregnant\n",
            "['f' 't'] \n",
            "\n",
            "thyroid_surgery\n",
            "['f' 't'] \n",
            "\n",
            "I131_treatment\n",
            "['f' 't'] \n",
            "\n",
            "query_hypothyroid\n",
            "['f' 't'] \n",
            "\n",
            "query_hyperthyroid\n",
            "['f' 't'] \n",
            "\n",
            "lithium\n",
            "['f' 't'] \n",
            "\n",
            "goitre\n",
            "['f' 't'] \n",
            "\n",
            "tumor\n",
            "['f' 't'] \n",
            "\n",
            "hypopituitary\n",
            "['f' 't'] \n",
            "\n",
            "psych\n",
            "['f' 't'] \n",
            "\n",
            "TSH_measured\n",
            "['t' 'f'] \n",
            "\n",
            "TSH\n",
            "[1.30e+00 4.10e+00 9.80e-01 1.60e-01 7.20e-01 3.00e-02      nan 2.20e+00\n",
            " 6.00e-01 2.40e+00 1.10e+00 2.80e+00 3.30e+00 1.20e+01 1.20e+00 1.50e+00\n",
            " 6.00e+00 2.10e+00 1.00e-01 8.00e-01 1.90e+00 3.10e+00 2.00e-01 1.30e+01\n",
            " 3.00e-01 3.50e-02 2.50e+00 5.00e-01 1.70e+00 7.30e+00 1.80e+00 2.60e-01\n",
            " 4.50e+01 5.40e+00 9.90e-01 2.50e-01 9.20e-01 1.50e-01 6.40e-01 1.00e+00\n",
            " 4.00e-01 2.00e+00 2.60e+00 1.48e+01 1.50e+01 1.90e+01 2.00e-02 3.00e+00\n",
            " 2.90e+00 3.20e+00 9.00e+00 1.60e+00 4.30e+00 5.00e-03 3.10e-01 6.10e-01\n",
            " 5.00e-02 7.80e+00 1.60e+02 2.50e-02 1.40e+00 1.00e-02 8.80e+00 1.51e+02\n",
            " 4.00e-02 3.90e+00 9.40e+00 2.70e+00 2.30e+00 9.40e-01 4.50e-02 3.50e+00\n",
            " 8.80e-01 8.00e-02 4.50e+00 6.80e-01 7.00e-01 6.70e-01 2.70e+01 6.10e+00\n",
            " 7.50e-01 5.50e-01 2.60e+01 5.20e+00 7.70e-01 7.00e-02 9.00e-01 1.14e+01\n",
            " 1.43e+02 4.50e-01 5.70e-01 6.50e-01 1.50e-02 1.60e+01 1.08e+02 8.30e-01\n",
            " 9.20e+00 8.60e+01 6.20e-01 5.90e-01 9.10e+00 5.90e+00 5.20e+01 3.30e-01\n",
            " 3.10e+01 5.80e+00 2.80e-01 5.10e+01 6.30e+00 4.40e+00 9.60e+00 3.40e+00\n",
            " 9.00e-02 2.40e+01 7.60e-01 4.20e+01 2.50e+01 1.00e+01 4.60e+00 8.60e+00\n",
            " 6.60e-01 6.20e+00 7.90e-01 2.80e+01 8.60e-01 9.70e+00 8.40e-01 1.70e+01\n",
            " 1.80e+01 5.50e+01 1.40e+01 3.70e+00 8.70e-01 6.70e+00 7.40e-01 7.60e+00\n",
            " 6.50e-02 2.90e-01 3.70e-01 8.00e+00 1.10e+01 4.80e-01 4.40e+01 7.90e+00\n",
            " 5.00e+00 7.20e+00 8.90e-01 9.30e-01 9.70e-01 1.20e-01 6.40e+00 3.30e+01\n",
            " 8.50e-01 7.10e+00 7.30e-01 1.99e+02 8.20e+00 1.88e+02 2.20e-01 9.80e+01\n",
            " 2.20e+01 6.60e+00 5.10e+00 6.00e-02 4.20e-01 3.80e+00 3.50e+01 4.00e+00\n",
            " 7.80e-01 6.30e-01 5.20e-01 6.00e+01 4.30e-01 5.60e+00 6.90e+00 3.60e+00\n",
            " 2.90e+01 3.80e-01 4.90e+00 4.10e-01 9.90e+00 7.50e+00 3.40e+01 6.50e+00\n",
            " 4.70e+00 1.03e+02 9.50e-01 1.40e-01 3.50e-01 4.20e+00 8.10e-01 5.40e-01\n",
            " 5.80e-01 8.90e+00 5.50e+00 3.40e-01 9.30e+00 1.30e-01 5.40e+01 3.90e-01\n",
            " 8.30e+00 4.78e+02 2.10e+01 6.80e+00 3.20e-01 2.30e-01 2.40e-01 8.10e+00\n",
            " 9.10e-01 5.30e+00 1.00e+02 2.70e-01 1.01e+00 5.80e+01 4.10e+01 1.83e+02\n",
            " 1.84e+01 4.70e-01 1.70e-01 1.21e+01 1.90e-01 8.20e-01 4.30e+01 4.40e-01\n",
            " 7.00e+01 7.70e+00 8.40e+00 6.90e-01 8.50e+00 2.10e-01 8.20e+01 5.50e-02\n",
            " 9.60e-01 7.10e-01 3.80e+01 3.60e-01 9.80e+00 7.00e+00 4.60e-01 1.11e+01\n",
            " 3.90e+01 7.60e+01 5.70e+00 3.20e+01 1.26e+02 2.64e+01 5.30e-01 4.90e-01\n",
            " 3.60e+01 1.78e+02 1.45e+02 4.70e+01 4.80e+00 1.03e+01 8.90e+01 7.40e+00\n",
            " 4.72e+02 5.10e-01 1.16e+02 6.10e+01 9.90e+01 4.60e+01 7.80e+01 4.68e+02\n",
            " 1.44e+01 1.65e+02 9.50e+00 8.00e+01 5.60e-01 3.05e+01 2.00e+01 1.80e-01\n",
            " 5.00e+01 2.36e+02 2.30e+01 4.40e+02 1.39e+02 5.30e+02 1.09e+02 3.00e+01\n",
            " 4.00e+02 1.02e+00 2.30e+02 5.73e+00 6.60e+01 6.50e+01 1.17e+02 4.00e+01] \n",
            "\n",
            "T3_measured\n",
            "['t' 'f'] \n",
            "\n",
            "T3\n",
            "[ 2.5   2.     nan  1.9   1.2   0.6   2.2   1.6   3.8   1.7   1.8   2.6\n",
            "  2.1   0.3   5.5   1.4   3.1   1.5   2.3   2.4   2.7   0.9   1.    2.8\n",
            "  2.9   0.8   1.3   0.4   3.3   3.5   3.4   1.1   4.2   3.7   3.    0.7\n",
            "  4.8   4.3   0.05  3.2   5.4   4.    0.5   0.2   3.6   5.2   5.    6.\n",
            "  5.3   3.9   4.6   4.5   7.3   4.7   6.7   4.1   6.1   0.1   4.9  10.6\n",
            "  5.1   7.    6.2   4.4   7.1   8.5   1.44  7.6   5.7   6.6 ] \n",
            "\n",
            "TT4_measured\n",
            "['t' 'f'] \n",
            "\n",
            "TT4\n",
            "[125.  102.  109.  175.   61.  183.   72.   80.  123.   83.  115.  152.\n",
            " 171.   97.   99.   70.  117.  121.  130.  108.  104.  134.  199.   57.\n",
            " 129.  113.  119.   84.   81.   95.   66.  101.  147.  120.   69.   39.\n",
            "  87.   63.  133.   86.  163.  162.  103.   96.    nan 151.  112.   82.\n",
            " 138.   71.   77.   93.  107.  237.  110.   67.   88.  160.  118.  136.\n",
            " 114.  116.   94.  161.   11.   32.  124.  137.   92.  135.  105.  150.\n",
            " 126.  146.   91.  217.  141.  159.  122.  100.  111.  140.  205.  225.\n",
            "  85.   90.   74.  219.  127.  132.  128.  106.  144.  131.   56.   79.\n",
            " 142.   98.  177.  139.   78.  189.  180.   73.  145.  184.   38.  156.\n",
            "  75.  148.   14.   76.   54.   58.   27.   65.  193.   13.  143.   12.\n",
            "  64.  257.  164.   59.  167.   18.   41.  176.   37.   33.   44.   45.\n",
            " 154.  174.  203.  244.   62.  158.   60.  187.  250.  181.  157.  223.\n",
            " 272.  166.  213.  235.   10.   68.  231.  191.   48.    5.8 169.  149.\n",
            " 210.   40.  155.  232.   42.  204.  430.  198.  230.   15.  170.  165.\n",
            "  47.  168.  194.   89.   52.  179.  192.  172.    4.8  50.  182.  197.\n",
            " 214.  246.  196.  207.   19.  153.   22.   46.  200.   35.  226.  201.\n",
            " 233.  206.   31.  255.  178.  239.  195.    6.   36.    2.    3.  289.\n",
            " 240.  209.   43.   34.  252.   29.  263.  301.   23.  188.  211.  253.\n",
            "  21.  173.  261.  248.   51.   25.   53.   17.  220.  256.    9.5 212.\n",
            " 273.  222.  186.   49.  372.   16.   28.   24.    4.   30.    2.9  55.\n",
            " 216.  258. ] \n",
            "\n",
            "T4U_measured\n",
            "['t' 'f'] \n",
            "\n",
            "T4U\n",
            "[1.14    nan 0.91  0.87  1.3   0.92  0.7   0.93  0.89  0.95  0.99  1.13\n",
            " 0.86  0.96  0.94  0.9   1.02  1.05  0.62  1.06  1.55  0.83  1.09  1.07\n",
            " 1.27  0.76  1.16  1.    0.56  0.81  0.68  0.78  0.85  1.35  1.15  0.82\n",
            " 1.03  1.58  0.79  1.17  0.71  0.72  0.88  1.11  1.2   1.1   1.33  0.77\n",
            " 1.24  0.53  1.44  1.63  1.51  1.42  1.23  1.01  0.98  0.61  1.12  1.43\n",
            " 1.25  1.41  1.68  0.97  0.84  0.8   1.04  0.73  1.08  1.26  1.46  1.29\n",
            " 1.34  1.66  1.21  1.19  0.75  0.52  1.83  1.39  1.5   1.93  1.18  0.74\n",
            " 0.58  1.82  0.6   1.67  1.22  0.66  0.67  1.31  0.54  1.77  1.59  1.97\n",
            " 1.69  1.38  1.28  1.4   0.69  0.65  1.74  2.03  1.73  1.65  1.36  1.52\n",
            " 0.57  1.53  1.84  1.57  1.75  1.32  1.37  0.64  1.79  1.8   0.48  1.71\n",
            " 1.62  1.76  1.56  1.48  0.59  0.31  1.94  2.12  1.47  0.63  0.944 0.49\n",
            " 1.88  0.5   0.38  1.49  0.41  1.61  1.7   2.32  0.46  1.45  1.54  0.47\n",
            " 0.36  2.01  0.25 ] \n",
            "\n",
            "FTI_measured\n",
            "['t' 'f'] \n",
            "\n",
            "FTI\n",
            "[109.    nan 120.   70.  141.   78.  115.  132.   93.  121.  153.  151.\n",
            " 107.  119.   87.   81.  104.  130.  106.  116.  131.  190.   92.  102.\n",
            "  76.   98.   90.   61.   94.  129.   95.   91.   33.  113.  148.  140.\n",
            " 171.  155.  186.  122.  136.  110.  111.   97.   72.  100.   88.   67.\n",
            "  84.  103.  135.  203.  112.  117.  180.  142.  145.  156.   96.  134.\n",
            "   8.9  60.  139.   41.   99.   89.  146.  124.  105.   85.  157.  143.\n",
            "  71.  221.   28.  108.  137.   83.   74.  170.   65.  101.  127.  274.\n",
            " 154.  114.   62.   86.  126.  125.   64.  172.  162.   79.  118.   73.\n",
            " 152.  163.  149.   14.   51.  165.   77.   32.   69.   80.   11.   54.\n",
            " 164.  123.  144.   10.  214.  200.  160.   53.   16.  138.  169.   56.\n",
            "  47.  133.   43.   68.  179.  224.  220.   82.  362.  182.   75.   66.\n",
            " 161.   57.   58.  312.   63.  128.  147.  158.  281.  207.  216.  251.\n",
            " 194.   46.    7.   42.  174.  395.  185.   13.  201.   48.  173.  167.\n",
            " 188.  150.  235.  175.  159.    5.4 189.   59.  166.   34.  228.  232.\n",
            " 217.  177.  176.  195.  219.   17.  210.  168.  205.   39.  187.   50.\n",
            " 349.   52.  206.  253.  242.  244.  213.  178.  247.  215.  198.   19.\n",
            " 237.   37.    7.6  24.    2.    3.  191.  223.    9.   29.  222.  204.\n",
            "  26.  218.  197.   49.  209.  183.  265.  199.  196.   20.  283.   36.\n",
            " 249.  181.    8.4 291.   55.  245.   18.   40.    8.5 184.    4.   21.\n",
            " 280.    2.8   9.1  27.   15.   35.  227. ] \n",
            "\n",
            "TBG_measured\n",
            "['f'] \n",
            "\n",
            "referral_source\n",
            "['SVHC' 'other' 'SVI' 'STMW' 'SVHD'] \n",
            "\n",
            "Class\n",
            "['negative' 'compensated_hypothyroid' 'primary_hypothyroid'\n",
            " 'secondary_hypothyroid'] \n",
            "\n"
          ]
        }
      ]
    },
    {
      "cell_type": "markdown",
      "source": [
        "We can gather some information about this output. The `measured` features only got true or false values. The age has an obvious outlier. And in some feature there are nan values.\n",
        "\n",
        "Also, it's 100% that we need to encode these features."
      ],
      "metadata": {
        "id": "HI7YqJKR-xcH"
      }
    },
    {
      "cell_type": "markdown",
      "source": [
        "As i can see, `T..._measured` is false if `T...` has got a NaN value.\n",
        "\n",
        "In this case I can drop the `T..._measured` columns."
      ],
      "metadata": {
        "id": "xLVVMqE29LGG"
      }
    },
    {
      "cell_type": "code",
      "source": [
        "df = df.drop(['TSH_measured', 'T3_measured', 'TT4_measured', 'T4U_measured', 'FTI_measured', 'TBG_measured'], axis = 1)"
      ],
      "metadata": {
        "id": "hsVbiAIu94nJ"
      },
      "execution_count": null,
      "outputs": []
    },
    {
      "cell_type": "code",
      "source": [
        "print('Target variable count of NaN:', df['Class'].isna().sum(), '\\n')\n",
        "\n",
        "df['Class'].value_counts()"
      ],
      "metadata": {
        "colab": {
          "base_uri": "https://localhost:8080/"
        },
        "id": "L4dL0r_d46SS",
        "outputId": "7eb11714-805c-4738-fbec-24f07c3b48a5"
      },
      "execution_count": null,
      "outputs": [
        {
          "output_type": "stream",
          "name": "stdout",
          "text": [
            "Target variable count of NaN: 0 \n",
            "\n"
          ]
        },
        {
          "output_type": "execute_result",
          "data": {
            "text/plain": [
              "negative                   3387\n",
              "compensated_hypothyroid     194\n",
              "primary_hypothyroid          95\n",
              "secondary_hypothyroid         2\n",
              "Name: Class, dtype: int64"
            ]
          },
          "metadata": {},
          "execution_count": 551
        }
      ]
    },
    {
      "cell_type": "markdown",
      "source": [
        "`secondary_hypothyroid` has only 2 cases in this dataset. Well, thats a very small number of occurence, and we basically can't do augmentation, since if we just copy the same row, that will be duplicates, and we don't know how whould a true secondary hypothyroid measure numbers look like."
      ],
      "metadata": {
        "id": "vgPcIJlg1u4l"
      }
    },
    {
      "cell_type": "code",
      "source": [
        "df = df[df[TARGET] != 'secondary_hypothyroid']"
      ],
      "metadata": {
        "id": "5iyQlW1V2DDS"
      },
      "execution_count": null,
      "outputs": []
    },
    {
      "cell_type": "code",
      "source": [
        "total = df.shape[0]\n",
        "for col in df.columns:\n",
        "  nan_rate = df[col].isna().sum() / total\n",
        "  if nan_rate:\n",
        "    print(f'{col}: {round(nan_rate * 100, 3)}%')"
      ],
      "metadata": {
        "colab": {
          "base_uri": "https://localhost:8080/"
        },
        "id": "5QIxIGMw23vO",
        "outputId": "a11710e8-d1b8-44d6-c5d8-96e88a0c04fd"
      },
      "execution_count": null,
      "outputs": [
        {
          "output_type": "stream",
          "name": "stdout",
          "text": [
            "age: 0.027%\n",
            "sex: 4.026%\n",
            "TSH: 7.535%\n",
            "T3: 18.417%\n",
            "TT4: 3.781%\n",
            "T4U: 7.998%\n",
            "FTI: 7.943%\n"
          ]
        }
      ]
    },
    {
      "cell_type": "markdown",
      "source": [
        "Check what happens if we drop all rows which has NaN values."
      ],
      "metadata": {
        "id": "D3BOOa97_-lm"
      }
    },
    {
      "cell_type": "code",
      "source": [
        "print('Size of the dataset reduced by:', (1 - df.dropna().shape[0] / df.shape[0]) * 100, '%')"
      ],
      "metadata": {
        "colab": {
          "base_uri": "https://localhost:8080/"
        },
        "id": "30ToI823_17f",
        "outputId": "0802149b-0032-4df6-98f8-ac41a2e4d428"
      },
      "execution_count": null,
      "outputs": [
        {
          "output_type": "stream",
          "name": "stdout",
          "text": [
            "Size of the dataset reduced by: 28.18280739934712 %\n"
          ]
        }
      ]
    },
    {
      "cell_type": "markdown",
      "source": [
        "That would be too much loss, I think nearly 30% is a significant amount of data. So we need to consider other methods instead of removing them."
      ],
      "metadata": {
        "id": "Z9rOnnwJBN_e"
      }
    },
    {
      "cell_type": "markdown",
      "source": [
        "## Missing values"
      ],
      "metadata": {
        "id": "t-hpj50LBzXT"
      }
    },
    {
      "cell_type": "code",
      "source": [
        "def describer(data, feature):\n",
        "  TARGET = 'Class'\n",
        "\n",
        "  print('Number of NaN values:', df[feature].isna().sum())\n",
        "\n",
        "  print('\\n','-'*15, 'ORIGINAL', '-'*15)\n",
        "  print(df[feature].describe())\n",
        "\n",
        "  print('\\n','-'*15, 'MEDIAN', '*'*15)\n",
        "  print(df[feature].fillna(df[feature].median()).describe())\n",
        "\n",
        "  print('\\n','-'*15, 'MEAN', '*'*15)\n",
        "  print(df[feature].fillna(df[feature].mean()).describe())"
      ],
      "metadata": {
        "id": "w9hYz3iiBhQ2"
      },
      "execution_count": null,
      "outputs": []
    },
    {
      "cell_type": "code",
      "source": [
        "df.isnull().sum(axis=1).sort_values(ascending = False)"
      ],
      "metadata": {
        "colab": {
          "base_uri": "https://localhost:8080/"
        },
        "id": "-ZTLKGacFZAM",
        "outputId": "2bc64e44-db07-4b5f-d6e6-59c775c89243"
      },
      "execution_count": null,
      "outputs": [
        {
          "output_type": "execute_result",
          "data": {
            "text/plain": [
              "2145    6\n",
              "2648    6\n",
              "150     5\n",
              "2380    5\n",
              "3092    5\n",
              "       ..\n",
              "1450    0\n",
              "1451    0\n",
              "1453    0\n",
              "1455    0\n",
              "3771    0\n",
              "Length: 3676, dtype: int64"
            ]
          },
          "metadata": {},
          "execution_count": 556
        }
      ]
    },
    {
      "cell_type": "code",
      "source": [
        "df[df.isnull().sum(axis=1) >= 5]"
      ],
      "metadata": {
        "colab": {
          "base_uri": "https://localhost:8080/",
          "height": 487
        },
        "id": "DX6M3zKmEsr5",
        "outputId": "55ce199b-75b2-433a-8b4c-69ebf0bea19f"
      },
      "execution_count": null,
      "outputs": [
        {
          "output_type": "execute_result",
          "data": {
            "text/plain": [
              "       age sex on_thyroxine query_on_thyroxine on_antithyroid_medication sick  \\\n",
              "66    69.0   F            f                  f                         f    f   \n",
              "72    59.0   F            f                  f                         f    t   \n",
              "150   17.0   F            f                  f                         f    f   \n",
              "207   21.0   F            f                  f                         f    f   \n",
              "231   70.0   M            f                  f                         f    f   \n",
              "...    ...  ..          ...                ...                       ...  ...   \n",
              "3606  39.0   F            f                  f                         f    f   \n",
              "3683  21.0   F            f                  f                         f    f   \n",
              "3702  61.0   F            f                  f                         f    f   \n",
              "3745  59.0   F            f                  f                         f    f   \n",
              "3767  30.0   F            f                  f                         f    f   \n",
              "\n",
              "     pregnant thyroid_surgery I131_treatment query_hypothyroid  ... tumor  \\\n",
              "66          f               f              f                 f  ...     f   \n",
              "72          f               f              f                 f  ...     f   \n",
              "150         f               f              f                 f  ...     f   \n",
              "207         f               f              f                 f  ...     f   \n",
              "231         f               f              f                 f  ...     f   \n",
              "...       ...             ...            ...               ...  ...   ...   \n",
              "3606        f               f              f                 f  ...     t   \n",
              "3683        f               f              f                 f  ...     f   \n",
              "3702        f               f              f                 f  ...     f   \n",
              "3745        f               f              f                 f  ...     f   \n",
              "3767        f               f              f                 f  ...     t   \n",
              "\n",
              "     hypopituitary psych TSH  T3 TT4  T4U  FTI  referral_source     Class  \n",
              "66               f     f NaN NaN NaN  NaN  NaN            other  negative  \n",
              "72               f     f NaN NaN NaN  NaN  NaN            other  negative  \n",
              "150              f     f NaN NaN NaN  NaN  NaN            other  negative  \n",
              "207              f     f NaN NaN NaN  NaN  NaN            other  negative  \n",
              "231              f     f NaN NaN NaN  NaN  NaN            other  negative  \n",
              "...            ...   ...  ..  ..  ..  ...  ...              ...       ...  \n",
              "3606             f     f NaN NaN NaN  NaN  NaN            other  negative  \n",
              "3683             f     f NaN NaN NaN  NaN  NaN            other  negative  \n",
              "3702             f     f NaN NaN NaN  NaN  NaN            other  negative  \n",
              "3745             f     f NaN NaN NaN  NaN  NaN            other  negative  \n",
              "3767             f     f NaN NaN NaN  NaN  NaN            other  negative  \n",
              "\n",
              "[93 rows x 23 columns]"
            ],
            "text/html": [
              "\n",
              "  <div id=\"df-e8799eb3-26f8-4496-9dd9-9f3f7304e07e\">\n",
              "    <div class=\"colab-df-container\">\n",
              "      <div>\n",
              "<style scoped>\n",
              "    .dataframe tbody tr th:only-of-type {\n",
              "        vertical-align: middle;\n",
              "    }\n",
              "\n",
              "    .dataframe tbody tr th {\n",
              "        vertical-align: top;\n",
              "    }\n",
              "\n",
              "    .dataframe thead th {\n",
              "        text-align: right;\n",
              "    }\n",
              "</style>\n",
              "<table border=\"1\" class=\"dataframe\">\n",
              "  <thead>\n",
              "    <tr style=\"text-align: right;\">\n",
              "      <th></th>\n",
              "      <th>age</th>\n",
              "      <th>sex</th>\n",
              "      <th>on_thyroxine</th>\n",
              "      <th>query_on_thyroxine</th>\n",
              "      <th>on_antithyroid_medication</th>\n",
              "      <th>sick</th>\n",
              "      <th>pregnant</th>\n",
              "      <th>thyroid_surgery</th>\n",
              "      <th>I131_treatment</th>\n",
              "      <th>query_hypothyroid</th>\n",
              "      <th>...</th>\n",
              "      <th>tumor</th>\n",
              "      <th>hypopituitary</th>\n",
              "      <th>psych</th>\n",
              "      <th>TSH</th>\n",
              "      <th>T3</th>\n",
              "      <th>TT4</th>\n",
              "      <th>T4U</th>\n",
              "      <th>FTI</th>\n",
              "      <th>referral_source</th>\n",
              "      <th>Class</th>\n",
              "    </tr>\n",
              "  </thead>\n",
              "  <tbody>\n",
              "    <tr>\n",
              "      <th>66</th>\n",
              "      <td>69.0</td>\n",
              "      <td>F</td>\n",
              "      <td>f</td>\n",
              "      <td>f</td>\n",
              "      <td>f</td>\n",
              "      <td>f</td>\n",
              "      <td>f</td>\n",
              "      <td>f</td>\n",
              "      <td>f</td>\n",
              "      <td>f</td>\n",
              "      <td>...</td>\n",
              "      <td>f</td>\n",
              "      <td>f</td>\n",
              "      <td>f</td>\n",
              "      <td>NaN</td>\n",
              "      <td>NaN</td>\n",
              "      <td>NaN</td>\n",
              "      <td>NaN</td>\n",
              "      <td>NaN</td>\n",
              "      <td>other</td>\n",
              "      <td>negative</td>\n",
              "    </tr>\n",
              "    <tr>\n",
              "      <th>72</th>\n",
              "      <td>59.0</td>\n",
              "      <td>F</td>\n",
              "      <td>f</td>\n",
              "      <td>f</td>\n",
              "      <td>f</td>\n",
              "      <td>t</td>\n",
              "      <td>f</td>\n",
              "      <td>f</td>\n",
              "      <td>f</td>\n",
              "      <td>f</td>\n",
              "      <td>...</td>\n",
              "      <td>f</td>\n",
              "      <td>f</td>\n",
              "      <td>f</td>\n",
              "      <td>NaN</td>\n",
              "      <td>NaN</td>\n",
              "      <td>NaN</td>\n",
              "      <td>NaN</td>\n",
              "      <td>NaN</td>\n",
              "      <td>other</td>\n",
              "      <td>negative</td>\n",
              "    </tr>\n",
              "    <tr>\n",
              "      <th>150</th>\n",
              "      <td>17.0</td>\n",
              "      <td>F</td>\n",
              "      <td>f</td>\n",
              "      <td>f</td>\n",
              "      <td>f</td>\n",
              "      <td>f</td>\n",
              "      <td>f</td>\n",
              "      <td>f</td>\n",
              "      <td>f</td>\n",
              "      <td>f</td>\n",
              "      <td>...</td>\n",
              "      <td>f</td>\n",
              "      <td>f</td>\n",
              "      <td>f</td>\n",
              "      <td>NaN</td>\n",
              "      <td>NaN</td>\n",
              "      <td>NaN</td>\n",
              "      <td>NaN</td>\n",
              "      <td>NaN</td>\n",
              "      <td>other</td>\n",
              "      <td>negative</td>\n",
              "    </tr>\n",
              "    <tr>\n",
              "      <th>207</th>\n",
              "      <td>21.0</td>\n",
              "      <td>F</td>\n",
              "      <td>f</td>\n",
              "      <td>f</td>\n",
              "      <td>f</td>\n",
              "      <td>f</td>\n",
              "      <td>f</td>\n",
              "      <td>f</td>\n",
              "      <td>f</td>\n",
              "      <td>f</td>\n",
              "      <td>...</td>\n",
              "      <td>f</td>\n",
              "      <td>f</td>\n",
              "      <td>f</td>\n",
              "      <td>NaN</td>\n",
              "      <td>NaN</td>\n",
              "      <td>NaN</td>\n",
              "      <td>NaN</td>\n",
              "      <td>NaN</td>\n",
              "      <td>other</td>\n",
              "      <td>negative</td>\n",
              "    </tr>\n",
              "    <tr>\n",
              "      <th>231</th>\n",
              "      <td>70.0</td>\n",
              "      <td>M</td>\n",
              "      <td>f</td>\n",
              "      <td>f</td>\n",
              "      <td>f</td>\n",
              "      <td>f</td>\n",
              "      <td>f</td>\n",
              "      <td>f</td>\n",
              "      <td>f</td>\n",
              "      <td>f</td>\n",
              "      <td>...</td>\n",
              "      <td>f</td>\n",
              "      <td>f</td>\n",
              "      <td>f</td>\n",
              "      <td>NaN</td>\n",
              "      <td>NaN</td>\n",
              "      <td>NaN</td>\n",
              "      <td>NaN</td>\n",
              "      <td>NaN</td>\n",
              "      <td>other</td>\n",
              "      <td>negative</td>\n",
              "    </tr>\n",
              "    <tr>\n",
              "      <th>...</th>\n",
              "      <td>...</td>\n",
              "      <td>...</td>\n",
              "      <td>...</td>\n",
              "      <td>...</td>\n",
              "      <td>...</td>\n",
              "      <td>...</td>\n",
              "      <td>...</td>\n",
              "      <td>...</td>\n",
              "      <td>...</td>\n",
              "      <td>...</td>\n",
              "      <td>...</td>\n",
              "      <td>...</td>\n",
              "      <td>...</td>\n",
              "      <td>...</td>\n",
              "      <td>...</td>\n",
              "      <td>...</td>\n",
              "      <td>...</td>\n",
              "      <td>...</td>\n",
              "      <td>...</td>\n",
              "      <td>...</td>\n",
              "      <td>...</td>\n",
              "    </tr>\n",
              "    <tr>\n",
              "      <th>3606</th>\n",
              "      <td>39.0</td>\n",
              "      <td>F</td>\n",
              "      <td>f</td>\n",
              "      <td>f</td>\n",
              "      <td>f</td>\n",
              "      <td>f</td>\n",
              "      <td>f</td>\n",
              "      <td>f</td>\n",
              "      <td>f</td>\n",
              "      <td>f</td>\n",
              "      <td>...</td>\n",
              "      <td>t</td>\n",
              "      <td>f</td>\n",
              "      <td>f</td>\n",
              "      <td>NaN</td>\n",
              "      <td>NaN</td>\n",
              "      <td>NaN</td>\n",
              "      <td>NaN</td>\n",
              "      <td>NaN</td>\n",
              "      <td>other</td>\n",
              "      <td>negative</td>\n",
              "    </tr>\n",
              "    <tr>\n",
              "      <th>3683</th>\n",
              "      <td>21.0</td>\n",
              "      <td>F</td>\n",
              "      <td>f</td>\n",
              "      <td>f</td>\n",
              "      <td>f</td>\n",
              "      <td>f</td>\n",
              "      <td>f</td>\n",
              "      <td>f</td>\n",
              "      <td>f</td>\n",
              "      <td>f</td>\n",
              "      <td>...</td>\n",
              "      <td>f</td>\n",
              "      <td>f</td>\n",
              "      <td>f</td>\n",
              "      <td>NaN</td>\n",
              "      <td>NaN</td>\n",
              "      <td>NaN</td>\n",
              "      <td>NaN</td>\n",
              "      <td>NaN</td>\n",
              "      <td>other</td>\n",
              "      <td>negative</td>\n",
              "    </tr>\n",
              "    <tr>\n",
              "      <th>3702</th>\n",
              "      <td>61.0</td>\n",
              "      <td>F</td>\n",
              "      <td>f</td>\n",
              "      <td>f</td>\n",
              "      <td>f</td>\n",
              "      <td>f</td>\n",
              "      <td>f</td>\n",
              "      <td>f</td>\n",
              "      <td>f</td>\n",
              "      <td>f</td>\n",
              "      <td>...</td>\n",
              "      <td>f</td>\n",
              "      <td>f</td>\n",
              "      <td>f</td>\n",
              "      <td>NaN</td>\n",
              "      <td>NaN</td>\n",
              "      <td>NaN</td>\n",
              "      <td>NaN</td>\n",
              "      <td>NaN</td>\n",
              "      <td>other</td>\n",
              "      <td>negative</td>\n",
              "    </tr>\n",
              "    <tr>\n",
              "      <th>3745</th>\n",
              "      <td>59.0</td>\n",
              "      <td>F</td>\n",
              "      <td>f</td>\n",
              "      <td>f</td>\n",
              "      <td>f</td>\n",
              "      <td>f</td>\n",
              "      <td>f</td>\n",
              "      <td>f</td>\n",
              "      <td>f</td>\n",
              "      <td>f</td>\n",
              "      <td>...</td>\n",
              "      <td>f</td>\n",
              "      <td>f</td>\n",
              "      <td>f</td>\n",
              "      <td>NaN</td>\n",
              "      <td>NaN</td>\n",
              "      <td>NaN</td>\n",
              "      <td>NaN</td>\n",
              "      <td>NaN</td>\n",
              "      <td>other</td>\n",
              "      <td>negative</td>\n",
              "    </tr>\n",
              "    <tr>\n",
              "      <th>3767</th>\n",
              "      <td>30.0</td>\n",
              "      <td>F</td>\n",
              "      <td>f</td>\n",
              "      <td>f</td>\n",
              "      <td>f</td>\n",
              "      <td>f</td>\n",
              "      <td>f</td>\n",
              "      <td>f</td>\n",
              "      <td>f</td>\n",
              "      <td>f</td>\n",
              "      <td>...</td>\n",
              "      <td>t</td>\n",
              "      <td>f</td>\n",
              "      <td>f</td>\n",
              "      <td>NaN</td>\n",
              "      <td>NaN</td>\n",
              "      <td>NaN</td>\n",
              "      <td>NaN</td>\n",
              "      <td>NaN</td>\n",
              "      <td>other</td>\n",
              "      <td>negative</td>\n",
              "    </tr>\n",
              "  </tbody>\n",
              "</table>\n",
              "<p>93 rows × 23 columns</p>\n",
              "</div>\n",
              "      <button class=\"colab-df-convert\" onclick=\"convertToInteractive('df-e8799eb3-26f8-4496-9dd9-9f3f7304e07e')\"\n",
              "              title=\"Convert this dataframe to an interactive table.\"\n",
              "              style=\"display:none;\">\n",
              "        \n",
              "  <svg xmlns=\"http://www.w3.org/2000/svg\" height=\"24px\"viewBox=\"0 0 24 24\"\n",
              "       width=\"24px\">\n",
              "    <path d=\"M0 0h24v24H0V0z\" fill=\"none\"/>\n",
              "    <path d=\"M18.56 5.44l.94 2.06.94-2.06 2.06-.94-2.06-.94-.94-2.06-.94 2.06-2.06.94zm-11 1L8.5 8.5l.94-2.06 2.06-.94-2.06-.94L8.5 2.5l-.94 2.06-2.06.94zm10 10l.94 2.06.94-2.06 2.06-.94-2.06-.94-.94-2.06-.94 2.06-2.06.94z\"/><path d=\"M17.41 7.96l-1.37-1.37c-.4-.4-.92-.59-1.43-.59-.52 0-1.04.2-1.43.59L10.3 9.45l-7.72 7.72c-.78.78-.78 2.05 0 2.83L4 21.41c.39.39.9.59 1.41.59.51 0 1.02-.2 1.41-.59l7.78-7.78 2.81-2.81c.8-.78.8-2.07 0-2.86zM5.41 20L4 18.59l7.72-7.72 1.47 1.35L5.41 20z\"/>\n",
              "  </svg>\n",
              "      </button>\n",
              "      \n",
              "  <style>\n",
              "    .colab-df-container {\n",
              "      display:flex;\n",
              "      flex-wrap:wrap;\n",
              "      gap: 12px;\n",
              "    }\n",
              "\n",
              "    .colab-df-convert {\n",
              "      background-color: #E8F0FE;\n",
              "      border: none;\n",
              "      border-radius: 50%;\n",
              "      cursor: pointer;\n",
              "      display: none;\n",
              "      fill: #1967D2;\n",
              "      height: 32px;\n",
              "      padding: 0 0 0 0;\n",
              "      width: 32px;\n",
              "    }\n",
              "\n",
              "    .colab-df-convert:hover {\n",
              "      background-color: #E2EBFA;\n",
              "      box-shadow: 0px 1px 2px rgba(60, 64, 67, 0.3), 0px 1px 3px 1px rgba(60, 64, 67, 0.15);\n",
              "      fill: #174EA6;\n",
              "    }\n",
              "\n",
              "    [theme=dark] .colab-df-convert {\n",
              "      background-color: #3B4455;\n",
              "      fill: #D2E3FC;\n",
              "    }\n",
              "\n",
              "    [theme=dark] .colab-df-convert:hover {\n",
              "      background-color: #434B5C;\n",
              "      box-shadow: 0px 1px 3px 1px rgba(0, 0, 0, 0.15);\n",
              "      filter: drop-shadow(0px 1px 2px rgba(0, 0, 0, 0.3));\n",
              "      fill: #FFFFFF;\n",
              "    }\n",
              "  </style>\n",
              "\n",
              "      <script>\n",
              "        const buttonEl =\n",
              "          document.querySelector('#df-e8799eb3-26f8-4496-9dd9-9f3f7304e07e button.colab-df-convert');\n",
              "        buttonEl.style.display =\n",
              "          google.colab.kernel.accessAllowed ? 'block' : 'none';\n",
              "\n",
              "        async function convertToInteractive(key) {\n",
              "          const element = document.querySelector('#df-e8799eb3-26f8-4496-9dd9-9f3f7304e07e');\n",
              "          const dataTable =\n",
              "            await google.colab.kernel.invokeFunction('convertToInteractive',\n",
              "                                                     [key], {});\n",
              "          if (!dataTable) return;\n",
              "\n",
              "          const docLinkHtml = 'Like what you see? Visit the ' +\n",
              "            '<a target=\"_blank\" href=https://colab.research.google.com/notebooks/data_table.ipynb>data table notebook</a>'\n",
              "            + ' to learn more about interactive tables.';\n",
              "          element.innerHTML = '';\n",
              "          dataTable['output_type'] = 'display_data';\n",
              "          await google.colab.output.renderOutput(dataTable, element);\n",
              "          const docLink = document.createElement('div');\n",
              "          docLink.innerHTML = docLinkHtml;\n",
              "          element.appendChild(docLink);\n",
              "        }\n",
              "      </script>\n",
              "    </div>\n",
              "  </div>\n",
              "  "
            ]
          },
          "metadata": {},
          "execution_count": 557
        }
      ]
    },
    {
      "cell_type": "markdown",
      "source": [
        "We have 185 row where TSH, T3, TT4, T4u and FTI are not measured, or they are unknown. Well, we can't predict those values (every Class for this is \"negative\"), so I drop these rows."
      ],
      "metadata": {
        "id": "7v5odU01F7-P"
      }
    },
    {
      "cell_type": "code",
      "source": [
        "df = df[df.isnull().sum(axis = 1) < 5]"
      ],
      "metadata": {
        "id": "OPXje4Q6GI8q"
      },
      "execution_count": null,
      "outputs": []
    },
    {
      "cell_type": "code",
      "source": [
        "df.describe()"
      ],
      "metadata": {
        "colab": {
          "base_uri": "https://localhost:8080/",
          "height": 300
        },
        "id": "7Hqup3ZlBrPL",
        "outputId": "d730bfee-d4e9-4e1b-ba6b-d4e7352aba1e"
      },
      "execution_count": null,
      "outputs": [
        {
          "output_type": "execute_result",
          "data": {
            "text/plain": [
              "               age          TSH           T3          TT4          T4U  \\\n",
              "count  3582.000000  3397.000000  2995.000000  3537.000000  3382.000000   \n",
              "mean     52.142099     5.080527     2.013836   108.379078     0.995010   \n",
              "std      20.070976    24.534092     0.828237    35.571982     0.195534   \n",
              "min       1.000000     0.005000     0.050000     2.000000     0.250000   \n",
              "25%      36.250000     0.500000     1.600000    88.000000     0.880000   \n",
              "50%      55.000000     1.400000     2.000000   103.000000     0.980000   \n",
              "75%      68.000000     2.700000     2.400000   124.000000     1.080000   \n",
              "max     455.000000   530.000000    10.600000   430.000000     2.320000   \n",
              "\n",
              "               FTI  \n",
              "count  3384.000000  \n",
              "mean    110.508481  \n",
              "std      33.077559  \n",
              "min       2.000000  \n",
              "25%      93.000000  \n",
              "50%     107.000000  \n",
              "75%     124.000000  \n",
              "max     395.000000  "
            ],
            "text/html": [
              "\n",
              "  <div id=\"df-2473f702-71ec-465a-a3d6-60cd5da97d87\">\n",
              "    <div class=\"colab-df-container\">\n",
              "      <div>\n",
              "<style scoped>\n",
              "    .dataframe tbody tr th:only-of-type {\n",
              "        vertical-align: middle;\n",
              "    }\n",
              "\n",
              "    .dataframe tbody tr th {\n",
              "        vertical-align: top;\n",
              "    }\n",
              "\n",
              "    .dataframe thead th {\n",
              "        text-align: right;\n",
              "    }\n",
              "</style>\n",
              "<table border=\"1\" class=\"dataframe\">\n",
              "  <thead>\n",
              "    <tr style=\"text-align: right;\">\n",
              "      <th></th>\n",
              "      <th>age</th>\n",
              "      <th>TSH</th>\n",
              "      <th>T3</th>\n",
              "      <th>TT4</th>\n",
              "      <th>T4U</th>\n",
              "      <th>FTI</th>\n",
              "    </tr>\n",
              "  </thead>\n",
              "  <tbody>\n",
              "    <tr>\n",
              "      <th>count</th>\n",
              "      <td>3582.000000</td>\n",
              "      <td>3397.000000</td>\n",
              "      <td>2995.000000</td>\n",
              "      <td>3537.000000</td>\n",
              "      <td>3382.000000</td>\n",
              "      <td>3384.000000</td>\n",
              "    </tr>\n",
              "    <tr>\n",
              "      <th>mean</th>\n",
              "      <td>52.142099</td>\n",
              "      <td>5.080527</td>\n",
              "      <td>2.013836</td>\n",
              "      <td>108.379078</td>\n",
              "      <td>0.995010</td>\n",
              "      <td>110.508481</td>\n",
              "    </tr>\n",
              "    <tr>\n",
              "      <th>std</th>\n",
              "      <td>20.070976</td>\n",
              "      <td>24.534092</td>\n",
              "      <td>0.828237</td>\n",
              "      <td>35.571982</td>\n",
              "      <td>0.195534</td>\n",
              "      <td>33.077559</td>\n",
              "    </tr>\n",
              "    <tr>\n",
              "      <th>min</th>\n",
              "      <td>1.000000</td>\n",
              "      <td>0.005000</td>\n",
              "      <td>0.050000</td>\n",
              "      <td>2.000000</td>\n",
              "      <td>0.250000</td>\n",
              "      <td>2.000000</td>\n",
              "    </tr>\n",
              "    <tr>\n",
              "      <th>25%</th>\n",
              "      <td>36.250000</td>\n",
              "      <td>0.500000</td>\n",
              "      <td>1.600000</td>\n",
              "      <td>88.000000</td>\n",
              "      <td>0.880000</td>\n",
              "      <td>93.000000</td>\n",
              "    </tr>\n",
              "    <tr>\n",
              "      <th>50%</th>\n",
              "      <td>55.000000</td>\n",
              "      <td>1.400000</td>\n",
              "      <td>2.000000</td>\n",
              "      <td>103.000000</td>\n",
              "      <td>0.980000</td>\n",
              "      <td>107.000000</td>\n",
              "    </tr>\n",
              "    <tr>\n",
              "      <th>75%</th>\n",
              "      <td>68.000000</td>\n",
              "      <td>2.700000</td>\n",
              "      <td>2.400000</td>\n",
              "      <td>124.000000</td>\n",
              "      <td>1.080000</td>\n",
              "      <td>124.000000</td>\n",
              "    </tr>\n",
              "    <tr>\n",
              "      <th>max</th>\n",
              "      <td>455.000000</td>\n",
              "      <td>530.000000</td>\n",
              "      <td>10.600000</td>\n",
              "      <td>430.000000</td>\n",
              "      <td>2.320000</td>\n",
              "      <td>395.000000</td>\n",
              "    </tr>\n",
              "  </tbody>\n",
              "</table>\n",
              "</div>\n",
              "      <button class=\"colab-df-convert\" onclick=\"convertToInteractive('df-2473f702-71ec-465a-a3d6-60cd5da97d87')\"\n",
              "              title=\"Convert this dataframe to an interactive table.\"\n",
              "              style=\"display:none;\">\n",
              "        \n",
              "  <svg xmlns=\"http://www.w3.org/2000/svg\" height=\"24px\"viewBox=\"0 0 24 24\"\n",
              "       width=\"24px\">\n",
              "    <path d=\"M0 0h24v24H0V0z\" fill=\"none\"/>\n",
              "    <path d=\"M18.56 5.44l.94 2.06.94-2.06 2.06-.94-2.06-.94-.94-2.06-.94 2.06-2.06.94zm-11 1L8.5 8.5l.94-2.06 2.06-.94-2.06-.94L8.5 2.5l-.94 2.06-2.06.94zm10 10l.94 2.06.94-2.06 2.06-.94-2.06-.94-.94-2.06-.94 2.06-2.06.94z\"/><path d=\"M17.41 7.96l-1.37-1.37c-.4-.4-.92-.59-1.43-.59-.52 0-1.04.2-1.43.59L10.3 9.45l-7.72 7.72c-.78.78-.78 2.05 0 2.83L4 21.41c.39.39.9.59 1.41.59.51 0 1.02-.2 1.41-.59l7.78-7.78 2.81-2.81c.8-.78.8-2.07 0-2.86zM5.41 20L4 18.59l7.72-7.72 1.47 1.35L5.41 20z\"/>\n",
              "  </svg>\n",
              "      </button>\n",
              "      \n",
              "  <style>\n",
              "    .colab-df-container {\n",
              "      display:flex;\n",
              "      flex-wrap:wrap;\n",
              "      gap: 12px;\n",
              "    }\n",
              "\n",
              "    .colab-df-convert {\n",
              "      background-color: #E8F0FE;\n",
              "      border: none;\n",
              "      border-radius: 50%;\n",
              "      cursor: pointer;\n",
              "      display: none;\n",
              "      fill: #1967D2;\n",
              "      height: 32px;\n",
              "      padding: 0 0 0 0;\n",
              "      width: 32px;\n",
              "    }\n",
              "\n",
              "    .colab-df-convert:hover {\n",
              "      background-color: #E2EBFA;\n",
              "      box-shadow: 0px 1px 2px rgba(60, 64, 67, 0.3), 0px 1px 3px 1px rgba(60, 64, 67, 0.15);\n",
              "      fill: #174EA6;\n",
              "    }\n",
              "\n",
              "    [theme=dark] .colab-df-convert {\n",
              "      background-color: #3B4455;\n",
              "      fill: #D2E3FC;\n",
              "    }\n",
              "\n",
              "    [theme=dark] .colab-df-convert:hover {\n",
              "      background-color: #434B5C;\n",
              "      box-shadow: 0px 1px 3px 1px rgba(0, 0, 0, 0.15);\n",
              "      filter: drop-shadow(0px 1px 2px rgba(0, 0, 0, 0.3));\n",
              "      fill: #FFFFFF;\n",
              "    }\n",
              "  </style>\n",
              "\n",
              "      <script>\n",
              "        const buttonEl =\n",
              "          document.querySelector('#df-2473f702-71ec-465a-a3d6-60cd5da97d87 button.colab-df-convert');\n",
              "        buttonEl.style.display =\n",
              "          google.colab.kernel.accessAllowed ? 'block' : 'none';\n",
              "\n",
              "        async function convertToInteractive(key) {\n",
              "          const element = document.querySelector('#df-2473f702-71ec-465a-a3d6-60cd5da97d87');\n",
              "          const dataTable =\n",
              "            await google.colab.kernel.invokeFunction('convertToInteractive',\n",
              "                                                     [key], {});\n",
              "          if (!dataTable) return;\n",
              "\n",
              "          const docLinkHtml = 'Like what you see? Visit the ' +\n",
              "            '<a target=\"_blank\" href=https://colab.research.google.com/notebooks/data_table.ipynb>data table notebook</a>'\n",
              "            + ' to learn more about interactive tables.';\n",
              "          element.innerHTML = '';\n",
              "          dataTable['output_type'] = 'display_data';\n",
              "          await google.colab.output.renderOutput(dataTable, element);\n",
              "          const docLink = document.createElement('div');\n",
              "          docLink.innerHTML = docLinkHtml;\n",
              "          element.appendChild(docLink);\n",
              "        }\n",
              "      </script>\n",
              "    </div>\n",
              "  </div>\n",
              "  "
            ]
          },
          "metadata": {},
          "execution_count": 559
        }
      ]
    },
    {
      "cell_type": "markdown",
      "source": [
        "**Age**"
      ],
      "metadata": {
        "id": "ywFUhgZrCBIa"
      }
    },
    {
      "cell_type": "markdown",
      "source": [
        "Lets see how many outliers we have."
      ],
      "metadata": {
        "id": "NFR-m0FMCm-O"
      }
    },
    {
      "cell_type": "code",
      "source": [
        "df['age'][df['age'] > 90].value_counts()"
      ],
      "metadata": {
        "colab": {
          "base_uri": "https://localhost:8080/"
        },
        "id": "RHlo3_oGCFHP",
        "outputId": "fff2f43b-58c9-455b-8a8a-d24e0e54d140"
      },
      "execution_count": null,
      "outputs": [
        {
          "output_type": "execute_result",
          "data": {
            "text/plain": [
              "94.0     2\n",
              "91.0     2\n",
              "93.0     2\n",
              "92.0     2\n",
              "455.0    1\n",
              "Name: age, dtype: int64"
            ]
          },
          "metadata": {},
          "execution_count": 560
        }
      ]
    },
    {
      "cell_type": "markdown",
      "source": [
        "Remove that 455 outlier. This is an error in the data."
      ],
      "metadata": {
        "id": "NbQnjdpOC9SF"
      }
    },
    {
      "cell_type": "code",
      "source": [
        "df = df[df['age'] < 95]"
      ],
      "metadata": {
        "id": "RTycGBV9CfNG"
      },
      "execution_count": null,
      "outputs": []
    },
    {
      "cell_type": "code",
      "source": [
        "sns.boxplot(df['age'])\n",
        "plt.show()"
      ],
      "metadata": {
        "colab": {
          "base_uri": "https://localhost:8080/",
          "height": 336
        },
        "id": "mopJUu3pB7C2",
        "outputId": "acc6a938-c5d1-4090-b266-289e879b9394"
      },
      "execution_count": null,
      "outputs": [
        {
          "output_type": "stream",
          "name": "stderr",
          "text": [
            "/usr/local/lib/python3.8/dist-packages/seaborn/_decorators.py:36: FutureWarning: Pass the following variable as a keyword arg: x. From version 0.12, the only valid positional argument will be `data`, and passing other arguments without an explicit keyword will result in an error or misinterpretation.\n",
            "  warnings.warn(\n"
          ]
        },
        {
          "output_type": "display_data",
          "data": {
            "text/plain": [
              "<Figure size 432x288 with 1 Axes>"
            ],
            "image/png": "[encoded data removed]"
          },
          "metadata": {
            "needs_background": "light"
          }
        }
      ]
    },
    {
      "cell_type": "markdown",
      "source": [
        "Boxplot seems normal."
      ],
      "metadata": {
        "id": "Uym402uADE5d"
      }
    },
    {
      "cell_type": "markdown",
      "source": [
        "**TSH**"
      ],
      "metadata": {
        "id": "9bOaKeqYDL13"
      }
    },
    {
      "cell_type": "code",
      "source": [
        "sns.boxplot(df['TSH'])"
      ],
      "metadata": {
        "colab": {
          "base_uri": "https://localhost:8080/",
          "height": 354
        },
        "id": "vQXTDW55DINj",
        "outputId": "a9e51df9-207e-4c3a-ab8c-79327a948d16"
      },
      "execution_count": null,
      "outputs": [
        {
          "output_type": "stream",
          "name": "stderr",
          "text": [
            "/usr/local/lib/python3.8/dist-packages/seaborn/_decorators.py:36: FutureWarning: Pass the following variable as a keyword arg: x. From version 0.12, the only valid positional argument will be `data`, and passing other arguments without an explicit keyword will result in an error or misinterpretation.\n",
            "  warnings.warn(\n"
          ]
        },
        {
          "output_type": "execute_result",
          "data": {
            "text/plain": [
              "<matplotlib.axes._subplots.AxesSubplot at 0x7f8d43ce2ee0>"
            ]
          },
          "metadata": {},
          "execution_count": 563
        },
        {
          "output_type": "display_data",
          "data": {
            "text/plain": [
              "<Figure size 432x288 with 1 Axes>"
            ],
            "image/png": "[encoded data removed]"
          },
          "metadata": {
            "needs_background": "light"
          }
        }
      ]
    },
    {
      "cell_type": "markdown",
      "source": [
        "This boxplot seems to be extreme.\n",
        "\n",
        "$_\"$A high TSH level—above 4.5 mU/L—indicates an underactive thyroid, also known as hypothyroidism. This means your body is not producing enough thyroid hormone.$\"$\n",
        "\n",
        "Lets see if the TSH value are above of the 95%, what is the target variable."
      ],
      "metadata": {
        "id": "ka7RlFttEITK"
      }
    },
    {
      "cell_type": "code",
      "source": [
        "df[TARGET][df['TSH'] > df['TSH'].quantile(0.95)].value_counts()"
      ],
      "metadata": {
        "colab": {
          "base_uri": "https://localhost:8080/"
        },
        "id": "dVmhWQCUDk7A",
        "outputId": "a1376cc1-af1c-4d33-ae20-48bed0d02407"
      },
      "execution_count": null,
      "outputs": [
        {
          "output_type": "execute_result",
          "data": {
            "text/plain": [
              "primary_hypothyroid        84\n",
              "compensated_hypothyroid    51\n",
              "negative                   31\n",
              "Name: Class, dtype: int64"
            ]
          },
          "metadata": {},
          "execution_count": 564
        }
      ]
    },
    {
      "cell_type": "markdown",
      "source": [
        "Most likely, if the TSH is an extreme value, there is a primary or compensated hypothyroid. For this reason I will not do anything with the outliers. Sometimes in real life there are extreme values, which can not be forgotten."
      ],
      "metadata": {
        "id": "sz4-f9k7Ew50"
      }
    },
    {
      "cell_type": "code",
      "source": [
        "df['TSH'].isna().sum()"
      ],
      "metadata": {
        "colab": {
          "base_uri": "https://localhost:8080/"
        },
        "id": "YhCOge-jAXuM",
        "outputId": "ac5b99de-297a-4e73-9e2e-a7af6acdab60"
      },
      "execution_count": null,
      "outputs": [
        {
          "output_type": "execute_result",
          "data": {
            "text/plain": [
              "186"
            ]
          },
          "metadata": {},
          "execution_count": 565
        }
      ]
    },
    {
      "cell_type": "code",
      "source": [
        "describer(data = df, feature = 'TSH')"
      ],
      "metadata": {
        "colab": {
          "base_uri": "https://localhost:8080/"
        },
        "id": "lV8HY5s1B-9V",
        "outputId": "5ac06a14-3201-4a4f-82d2-13ac965fdd9d"
      },
      "execution_count": null,
      "outputs": [
        {
          "output_type": "stream",
          "name": "stdout",
          "text": [
            "Number of NaN values: 186\n",
            "\n",
            " --------------- ORIGINAL ---------------\n",
            "count    3395.000000\n",
            "mean        5.083019\n",
            "std        24.541104\n",
            "min         0.005000\n",
            "25%         0.500000\n",
            "50%         1.400000\n",
            "75%         2.700000\n",
            "max       530.000000\n",
            "Name: TSH, dtype: float64\n",
            "\n",
            " --------------- MEDIAN ***************\n",
            "count    3581.000000\n",
            "mean        4.891720\n",
            "std        23.909057\n",
            "min         0.005000\n",
            "25%         0.510000\n",
            "50%         1.400000\n",
            "75%         2.600000\n",
            "max       530.000000\n",
            "Name: TSH, dtype: float64\n",
            "\n",
            " --------------- MEAN ***************\n",
            "count    3581.000000\n",
            "mean        5.083019\n",
            "std        23.895081\n",
            "min         0.005000\n",
            "25%         0.510000\n",
            "50%         1.500000\n",
            "75%         3.100000\n",
            "max       530.000000\n",
            "Name: TSH, dtype: float64\n"
          ]
        }
      ]
    },
    {
      "cell_type": "markdown",
      "source": [
        "Median is closer to the original, plus we have some outliers and it works better in my opinion than mean (if we have outliers)"
      ],
      "metadata": {
        "id": "HV-KXFTkBPpM"
      }
    },
    {
      "cell_type": "markdown",
      "source": [
        "**T3**"
      ],
      "metadata": {
        "id": "kQ77I8eJGj2S"
      }
    },
    {
      "cell_type": "code",
      "source": [
        "sns.boxplot(df['T3'])"
      ],
      "metadata": {
        "colab": {
          "base_uri": "https://localhost:8080/",
          "height": 354
        },
        "id": "Pw3H6cclE41o",
        "outputId": "a93fb453-27bd-41fe-f189-9c9f5a585e7d"
      },
      "execution_count": null,
      "outputs": [
        {
          "output_type": "stream",
          "name": "stderr",
          "text": [
            "/usr/local/lib/python3.8/dist-packages/seaborn/_decorators.py:36: FutureWarning: Pass the following variable as a keyword arg: x. From version 0.12, the only valid positional argument will be `data`, and passing other arguments without an explicit keyword will result in an error or misinterpretation.\n",
            "  warnings.warn(\n"
          ]
        },
        {
          "output_type": "execute_result",
          "data": {
            "text/plain": [
              "<matplotlib.axes._subplots.AxesSubplot at 0x7f8d4566e310>"
            ]
          },
          "metadata": {},
          "execution_count": 567
        },
        {
          "output_type": "display_data",
          "data": {
            "text/plain": [
              "<Figure size 432x288 with 1 Axes>"
            ],
            "image/png": "[encoded data removed]"
          },
          "metadata": {
            "needs_background": "light"
          }
        }
      ]
    },
    {
      "cell_type": "code",
      "source": [
        "df[TARGET][df['T3'] < df['T3'].quantile(0.95)].value_counts()"
      ],
      "metadata": {
        "colab": {
          "base_uri": "https://localhost:8080/"
        },
        "id": "vcNIGs5mGplU",
        "outputId": "bfc45f3d-ab92-41d5-eac2-26f5936278be"
      },
      "execution_count": null,
      "outputs": [
        {
          "output_type": "execute_result",
          "data": {
            "text/plain": [
              "negative                   2596\n",
              "compensated_hypothyroid     153\n",
              "primary_hypothyroid          86\n",
              "Name: Class, dtype: int64"
            ]
          },
          "metadata": {},
          "execution_count": 568
        }
      ]
    },
    {
      "cell_type": "code",
      "source": [
        "describer(data = df, feature = 'T3')"
      ],
      "metadata": {
        "id": "_9i36lthGojT",
        "colab": {
          "base_uri": "https://localhost:8080/"
        },
        "outputId": "9a831043-7db1-4b16-f23b-6aa43bbaaecc"
      },
      "execution_count": null,
      "outputs": [
        {
          "output_type": "stream",
          "name": "stdout",
          "text": [
            "Number of NaN values: 588\n",
            "\n",
            " --------------- ORIGINAL ---------------\n",
            "count    2993.000000\n",
            "mean        2.014013\n",
            "std         0.828461\n",
            "min         0.050000\n",
            "25%         1.600000\n",
            "50%         2.000000\n",
            "75%         2.400000\n",
            "max        10.600000\n",
            "Name: T3, dtype: float64\n",
            "\n",
            " --------------- MEDIAN ***************\n",
            "count    3581.000000\n",
            "mean        2.011712\n",
            "std         0.757393\n",
            "min         0.050000\n",
            "25%         1.700000\n",
            "50%         2.000000\n",
            "75%         2.300000\n",
            "max        10.600000\n",
            "Name: T3, dtype: float64\n",
            "\n",
            " --------------- MEAN ***************\n",
            "count    3581.000000\n",
            "mean        2.014013\n",
            "std         0.757375\n",
            "min         0.050000\n",
            "25%         1.700000\n",
            "50%         2.014013\n",
            "75%         2.300000\n",
            "max        10.600000\n",
            "Name: T3, dtype: float64\n"
          ]
        }
      ]
    },
    {
      "cell_type": "markdown",
      "source": [
        "**TT4**"
      ],
      "metadata": {
        "id": "i5QED15jClmw"
      }
    },
    {
      "cell_type": "code",
      "source": [
        "sns.boxplot(df['TT4'])"
      ],
      "metadata": {
        "colab": {
          "base_uri": "https://localhost:8080/",
          "height": 354
        },
        "id": "1j_HKBUPCiVt",
        "outputId": "ddbc5476-1297-4a98-bdf1-54825cf4fab0"
      },
      "execution_count": null,
      "outputs": [
        {
          "output_type": "stream",
          "name": "stderr",
          "text": [
            "/usr/local/lib/python3.8/dist-packages/seaborn/_decorators.py:36: FutureWarning: Pass the following variable as a keyword arg: x. From version 0.12, the only valid positional argument will be `data`, and passing other arguments without an explicit keyword will result in an error or misinterpretation.\n",
            "  warnings.warn(\n"
          ]
        },
        {
          "output_type": "execute_result",
          "data": {
            "text/plain": [
              "<matplotlib.axes._subplots.AxesSubplot at 0x7f8d43c20b50>"
            ]
          },
          "metadata": {},
          "execution_count": 570
        },
        {
          "output_type": "display_data",
          "data": {
            "text/plain": [
              "<Figure size 432x288 with 1 Axes>"
            ],
            "image/png": "[encoded data removed]"
          },
          "metadata": {
            "needs_background": "light"
          }
        }
      ]
    },
    {
      "cell_type": "code",
      "source": [
        "describer(data = df, feature = 'TT4')"
      ],
      "metadata": {
        "colab": {
          "base_uri": "https://localhost:8080/"
        },
        "id": "kcpzFUhp2iW7",
        "outputId": "87a5d767-a215-451c-e6d9-122a9af4fddc"
      },
      "execution_count": null,
      "outputs": [
        {
          "output_type": "stream",
          "name": "stdout",
          "text": [
            "Number of NaN values: 46\n",
            "\n",
            " --------------- ORIGINAL ---------------\n",
            "count    3535.000000\n",
            "mean      108.373069\n",
            "std        35.581141\n",
            "min         2.000000\n",
            "25%        88.000000\n",
            "50%       103.000000\n",
            "75%       124.000000\n",
            "max       430.000000\n",
            "Name: TT4, dtype: float64\n",
            "\n",
            " --------------- MEDIAN ***************\n",
            "count    3581.000000\n",
            "mean      108.304049\n",
            "std        35.356987\n",
            "min         2.000000\n",
            "25%        88.000000\n",
            "50%       103.000000\n",
            "75%       124.000000\n",
            "max       430.000000\n",
            "Name: TT4, dtype: float64\n",
            "\n",
            " --------------- MEAN ***************\n",
            "count    3581.000000\n",
            "mean      108.373069\n",
            "std        35.351808\n",
            "min         2.000000\n",
            "25%        88.000000\n",
            "50%       104.000000\n",
            "75%       124.000000\n",
            "max       430.000000\n",
            "Name: TT4, dtype: float64\n"
          ]
        }
      ]
    },
    {
      "cell_type": "markdown",
      "source": [
        "**T4U**"
      ],
      "metadata": {
        "id": "ZtUKP4RXCywr"
      }
    },
    {
      "cell_type": "code",
      "source": [
        "sns.boxplot(df['T4U'])"
      ],
      "metadata": {
        "colab": {
          "base_uri": "https://localhost:8080/",
          "height": 354
        },
        "id": "omdeZNcWC5q4",
        "outputId": "6959c603-053a-4902-e4cc-ab583f925233"
      },
      "execution_count": null,
      "outputs": [
        {
          "output_type": "stream",
          "name": "stderr",
          "text": [
            "/usr/local/lib/python3.8/dist-packages/seaborn/_decorators.py:36: FutureWarning: Pass the following variable as a keyword arg: x. From version 0.12, the only valid positional argument will be `data`, and passing other arguments without an explicit keyword will result in an error or misinterpretation.\n",
            "  warnings.warn(\n"
          ]
        },
        {
          "output_type": "execute_result",
          "data": {
            "text/plain": [
              "<matplotlib.axes._subplots.AxesSubplot at 0x7f8d43bfb670>"
            ]
          },
          "metadata": {},
          "execution_count": 572
        },
        {
          "output_type": "display_data",
          "data": {
            "text/plain": [
              "<Figure size 432x288 with 1 Axes>"
            ],
            "image/png": "[encoded data removed]"
          },
          "metadata": {
            "needs_background": "light"
          }
        }
      ]
    },
    {
      "cell_type": "code",
      "source": [
        "describer(df, 'T4U')"
      ],
      "metadata": {
        "colab": {
          "base_uri": "https://localhost:8080/"
        },
        "id": "jhEi_v-bC7wo",
        "outputId": "75cab4cf-d698-4601-b0e5-0d302b0cb5e8"
      },
      "execution_count": null,
      "outputs": [
        {
          "output_type": "stream",
          "name": "stdout",
          "text": [
            "Number of NaN values: 201\n",
            "\n",
            " --------------- ORIGINAL ---------------\n",
            "count    3380.000000\n",
            "mean        0.995022\n",
            "std         0.195555\n",
            "min         0.250000\n",
            "25%         0.880000\n",
            "50%         0.980000\n",
            "75%         1.080000\n",
            "max         2.320000\n",
            "Name: T4U, dtype: float64\n",
            "\n",
            " --------------- MEDIAN ***************\n",
            "count    3581.000000\n",
            "mean        0.994179\n",
            "std         0.190017\n",
            "min         0.250000\n",
            "25%         0.880000\n",
            "50%         0.980000\n",
            "75%         1.070000\n",
            "max         2.320000\n",
            "Name: T4U, dtype: float64\n",
            "\n",
            " --------------- MEAN ***************\n",
            "count    3581.000000\n",
            "mean        0.995022\n",
            "std         0.189986\n",
            "min         0.250000\n",
            "25%         0.880000\n",
            "50%         0.990000\n",
            "75%         1.070000\n",
            "max         2.320000\n",
            "Name: T4U, dtype: float64\n"
          ]
        }
      ]
    },
    {
      "cell_type": "markdown",
      "source": [
        "**FTI**"
      ],
      "metadata": {
        "id": "Szj0yZH3C2MS"
      }
    },
    {
      "cell_type": "code",
      "source": [
        "sns.boxplot(df['FTI'])"
      ],
      "metadata": {
        "colab": {
          "base_uri": "https://localhost:8080/",
          "height": 354
        },
        "id": "jnr2qvdkCyfP",
        "outputId": "d7b2435c-46ad-464c-bdc0-bb7399297b64"
      },
      "execution_count": null,
      "outputs": [
        {
          "output_type": "stream",
          "name": "stderr",
          "text": [
            "/usr/local/lib/python3.8/dist-packages/seaborn/_decorators.py:36: FutureWarning: Pass the following variable as a keyword arg: x. From version 0.12, the only valid positional argument will be `data`, and passing other arguments without an explicit keyword will result in an error or misinterpretation.\n",
            "  warnings.warn(\n"
          ]
        },
        {
          "output_type": "execute_result",
          "data": {
            "text/plain": [
              "<matplotlib.axes._subplots.AxesSubplot at 0x7f8d43bbe9d0>"
            ]
          },
          "metadata": {},
          "execution_count": 574
        },
        {
          "output_type": "display_data",
          "data": {
            "text/plain": [
              "<Figure size 432x288 with 1 Axes>"
            ],
            "image/png": "[encoded data removed]"
          },
          "metadata": {
            "needs_background": "light"
          }
        }
      ]
    },
    {
      "cell_type": "code",
      "source": [
        "describer(df, 'FTI')"
      ],
      "metadata": {
        "colab": {
          "base_uri": "https://localhost:8080/"
        },
        "id": "1lH1mJmXDB-W",
        "outputId": "0ace446b-2e08-435f-99ac-61508980a83c"
      },
      "execution_count": null,
      "outputs": [
        {
          "output_type": "stream",
          "name": "stdout",
          "text": [
            "Number of NaN values: 199\n",
            "\n",
            " --------------- ORIGINAL ---------------\n",
            "count    3382.000000\n",
            "mean      110.499911\n",
            "std        33.081520\n",
            "min         2.000000\n",
            "25%        93.000000\n",
            "50%       107.000000\n",
            "75%       124.000000\n",
            "max       395.000000\n",
            "Name: FTI, dtype: float64\n",
            "\n",
            " --------------- MEDIAN ***************\n",
            "count    3581.000000\n",
            "mean      110.305417\n",
            "std        32.158930\n",
            "min         2.000000\n",
            "25%        93.000000\n",
            "50%       107.000000\n",
            "75%       123.000000\n",
            "max       395.000000\n",
            "Name: FTI, dtype: float64\n",
            "\n",
            " --------------- MEAN ***************\n",
            "count    3581.000000\n",
            "mean      110.499911\n",
            "std        32.148931\n",
            "min         2.000000\n",
            "25%        93.000000\n",
            "50%       109.000000\n",
            "75%       123.000000\n",
            "max       395.000000\n",
            "Name: FTI, dtype: float64\n"
          ]
        }
      ]
    },
    {
      "cell_type": "markdown",
      "source": [
        "I will replace nan values with the median."
      ],
      "metadata": {
        "id": "BI_rR8-cEJAW"
      }
    },
    {
      "cell_type": "markdown",
      "source": [
        "**sex**"
      ],
      "metadata": {
        "id": "qCoG7ubuEUlb"
      }
    },
    {
      "cell_type": "code",
      "source": [
        "df['sex'].isna().sum()"
      ],
      "metadata": {
        "colab": {
          "base_uri": "https://localhost:8080/"
        },
        "id": "4FybbxrOEWOW",
        "outputId": "86ba8e6d-51b2-4ae9-9c9e-161bce77998d"
      },
      "execution_count": null,
      "outputs": [
        {
          "output_type": "execute_result",
          "data": {
            "text/plain": [
              "140"
            ]
          },
          "metadata": {},
          "execution_count": 576
        }
      ]
    },
    {
      "cell_type": "code",
      "source": [
        "df['sex'].value_counts()"
      ],
      "metadata": {
        "colab": {
          "base_uri": "https://localhost:8080/"
        },
        "id": "0z8n1RLVDEgS",
        "outputId": "a5bbb6c0-7f54-41c6-e9bf-c7db2d874dff"
      },
      "execution_count": null,
      "outputs": [
        {
          "output_type": "execute_result",
          "data": {
            "text/plain": [
              "F    2327\n",
              "M    1114\n",
              "Name: sex, dtype: int64"
            ]
          },
          "metadata": {},
          "execution_count": 577
        }
      ]
    },
    {
      "cell_type": "markdown",
      "source": [
        "Mostly the record are from Female, so i will replace the 150 nan values with F."
      ],
      "metadata": {
        "id": "2dR-7dLhEYqm"
      }
    },
    {
      "cell_type": "code",
      "source": [
        "df['sex'] = df['sex'].fillna('F')\n",
        "df['sex'].value_counts()"
      ],
      "metadata": {
        "colab": {
          "base_uri": "https://localhost:8080/"
        },
        "id": "eDFUMLLiEd9S",
        "outputId": "9709e36a-b3fb-43cb-b29f-4a1c8e5de058"
      },
      "execution_count": null,
      "outputs": [
        {
          "output_type": "execute_result",
          "data": {
            "text/plain": [
              "F    2467\n",
              "M    1114\n",
              "Name: sex, dtype: int64"
            ]
          },
          "metadata": {},
          "execution_count": 578
        }
      ]
    },
    {
      "cell_type": "markdown",
      "source": [
        "I think we don't need referral source feature, since it just give informations about where the data from, and in my opinion that not effects the target variable."
      ],
      "metadata": {
        "id": "v9ZkPNFQZVfy"
      }
    },
    {
      "cell_type": "code",
      "source": [
        "df = df.drop('referral_source', axis = 1)"
      ],
      "metadata": {
        "id": "SNZnqQ4pZfBd"
      },
      "execution_count": null,
      "outputs": []
    },
    {
      "cell_type": "code",
      "source": [
        "for col in df.select_dtypes('object').columns.tolist():\n",
        "  print(df[col].value_counts(), '\\n')"
      ],
      "metadata": {
        "colab": {
          "base_uri": "https://localhost:8080/"
        },
        "id": "AMWdCaWboDjY",
        "outputId": "c29051d8-882a-4b43-fb28-2af7402b3464"
      },
      "execution_count": null,
      "outputs": [
        {
          "output_type": "stream",
          "name": "stdout",
          "text": [
            "F    2467\n",
            "M    1114\n",
            "Name: sex, dtype: int64 \n",
            "\n",
            "f    3133\n",
            "t     448\n",
            "Name: on_thyroxine, dtype: int64 \n",
            "\n",
            "f    3531\n",
            "t      50\n",
            "Name: query_on_thyroxine, dtype: int64 \n",
            "\n",
            "f    3542\n",
            "t      39\n",
            "Name: on_antithyroid_medication, dtype: int64 \n",
            "\n",
            "f    3444\n",
            "t     137\n",
            "Name: sick, dtype: int64 \n",
            "\n",
            "f    3529\n",
            "t      52\n",
            "Name: pregnant, dtype: int64 \n",
            "\n",
            "f    3528\n",
            "t      53\n",
            "Name: thyroid_surgery, dtype: int64 \n",
            "\n",
            "f    3523\n",
            "t      58\n",
            "Name: I131_treatment, dtype: int64 \n",
            "\n",
            "f    3353\n",
            "t     228\n",
            "Name: query_hypothyroid, dtype: int64 \n",
            "\n",
            "f    3362\n",
            "t     219\n",
            "Name: query_hyperthyroid, dtype: int64 \n",
            "\n",
            "f    3563\n",
            "t      18\n",
            "Name: lithium, dtype: int64 \n",
            "\n",
            "f    3550\n",
            "t      31\n",
            "Name: goitre, dtype: int64 \n",
            "\n",
            "f    3494\n",
            "t      87\n",
            "Name: tumor, dtype: int64 \n",
            "\n",
            "f    3580\n",
            "t       1\n",
            "Name: hypopituitary, dtype: int64 \n",
            "\n",
            "f    3397\n",
            "t     184\n",
            "Name: psych, dtype: int64 \n",
            "\n",
            "negative                   3293\n",
            "compensated_hypothyroid     194\n",
            "primary_hypothyroid          94\n",
            "Name: Class, dtype: int64 \n",
            "\n"
          ]
        }
      ]
    },
    {
      "cell_type": "markdown",
      "source": [
        "hypopituitary has only 1 't' value, so drop that feature."
      ],
      "metadata": {
        "id": "xhpgUddqoJlL"
      }
    },
    {
      "cell_type": "code",
      "source": [
        "df = df.drop('hypopituitary', axis = 1)"
      ],
      "metadata": {
        "id": "2kGTORScoJKD"
      },
      "execution_count": null,
      "outputs": []
    },
    {
      "cell_type": "markdown",
      "source": [
        "For the other features, we don't know how they effect the target variable, even if it has only 20-30 't' cases. Maybe, those cases are really important."
      ],
      "metadata": {
        "id": "MI2OYltk1cAX"
      }
    },
    {
      "cell_type": "markdown",
      "source": [
        "## Target variable analysis"
      ],
      "metadata": {
        "id": "E2SAzOu3JAdf"
      }
    },
    {
      "cell_type": "code",
      "source": [
        "sns.countplot(x = TARGET, data = df)\n",
        "plt.title('Target Outcome Counts')"
      ],
      "metadata": {
        "colab": {
          "base_uri": "https://localhost:8080/",
          "height": 314
        },
        "id": "HYiXTXi-JdXN",
        "outputId": "5d472760-b8ec-4845-ffb5-d7784e3b4f1b"
      },
      "execution_count": null,
      "outputs": [
        {
          "output_type": "execute_result",
          "data": {
            "text/plain": [
              "Text(0.5, 1.0, 'Target Outcome Counts')"
            ]
          },
          "metadata": {},
          "execution_count": 582
        },
        {
          "output_type": "display_data",
          "data": {
            "text/plain": [
              "<Figure size 432x288 with 1 Axes>"
            ],
            "image/png": "[encoded data removed]"
          },
          "metadata": {
            "needs_background": "light"
          }
        }
      ]
    },
    {
      "cell_type": "code",
      "source": [
        "sns.countplot(x = TARGET, data = df[df[TARGET] != 'negative'])\n",
        "plt.title('Hypothyroid Counts')"
      ],
      "metadata": {
        "colab": {
          "base_uri": "https://localhost:8080/",
          "height": 314
        },
        "id": "hDzNoBDQJCR3",
        "outputId": "0e09c9aa-9c13-4989-bfe1-5eb828acc0ec"
      },
      "execution_count": null,
      "outputs": [
        {
          "output_type": "execute_result",
          "data": {
            "text/plain": [
              "Text(0.5, 1.0, 'Hypothyroid Counts')"
            ]
          },
          "metadata": {},
          "execution_count": 583
        },
        {
          "output_type": "display_data",
          "data": {
            "text/plain": [
              "<Figure size 432x288 with 1 Axes>"
            ],
            "image/png": "[encoded data removed]"
          },
          "metadata": {
            "needs_background": "light"
          }
        }
      ]
    },
    {
      "cell_type": "code",
      "source": [
        "sns.histplot(x = 'age', data = df[df[TARGET] != 'negative'])\n",
        "plt.title('Distribution of Hypothyroid by Age')\n",
        "plt.xlabel('Age')"
      ],
      "metadata": {
        "colab": {
          "base_uri": "https://localhost:8080/",
          "height": 313
        },
        "id": "HWi0CGCkJp8e",
        "outputId": "56722bf7-f786-4f13-c299-dc06bf96707c"
      },
      "execution_count": null,
      "outputs": [
        {
          "output_type": "execute_result",
          "data": {
            "text/plain": [
              "Text(0.5, 0, 'Age')"
            ]
          },
          "metadata": {},
          "execution_count": 584
        },
        {
          "output_type": "display_data",
          "data": {
            "text/plain": [
              "<Figure size 432x288 with 1 Axes>"
            ],
            "image/png": "[encoded data removed]"
          },
          "metadata": {
            "needs_background": "light"
          }
        }
      ]
    },
    {
      "cell_type": "markdown",
      "source": [
        "Most of the positive cases recorded at the age around 60."
      ],
      "metadata": {
        "id": "AkPxuVeLJ-o5"
      }
    },
    {
      "cell_type": "code",
      "source": [
        "plt.figure(figsize = (8, 8))\n",
        "plt.pie(x = df['sex'][df[TARGET] != 'negative'].value_counts(), labels = ['Female', 'Male'], autopct = '%.2f')\n",
        "plt.title('Hypothyroid Disease by Genders')\n",
        "plt.legend()\n",
        "plt.show()"
      ],
      "metadata": {
        "colab": {
          "base_uri": "https://localhost:8080/",
          "height": 482
        },
        "id": "MvogOZeJJ-KP",
        "outputId": "964dda0e-3477-4b55-817a-b6a190e65422"
      },
      "execution_count": null,
      "outputs": [
        {
          "output_type": "display_data",
          "data": {
            "text/plain": [
              "<Figure size 576x576 with 1 Axes>"
            ],
            "image/png": "[encoded data removed]"
          },
          "metadata": {}
        }
      ]
    },
    {
      "cell_type": "markdown",
      "source": [
        "Positive cases in this dataset are mainly accorded to Females. (The whole dataset is unbalanced if we analyse the genders, two times more females then males.)"
      ],
      "metadata": {
        "id": "tI4ZiFTTKf55"
      }
    },
    {
      "cell_type": "markdown",
      "source": [
        "# Split the data"
      ],
      "metadata": {
        "id": "31PNaBJ8MLrk"
      }
    },
    {
      "cell_type": "markdown",
      "source": [
        "Make sure that the features has the correct dtype"
      ],
      "metadata": {
        "id": "rwydk77hL2Lt"
      }
    },
    {
      "cell_type": "code",
      "source": [
        "df.dtypes"
      ],
      "metadata": {
        "colab": {
          "base_uri": "https://localhost:8080/"
        },
        "id": "-a4ISCjWIwyX",
        "outputId": "de2a57f2-3b21-4b14-980f-64009463e4b9"
      },
      "execution_count": null,
      "outputs": [
        {
          "output_type": "execute_result",
          "data": {
            "text/plain": [
              "age                          float64\n",
              "sex                           object\n",
              "on_thyroxine                  object\n",
              "query_on_thyroxine            object\n",
              "on_antithyroid_medication     object\n",
              "sick                          object\n",
              "pregnant                      object\n",
              "thyroid_surgery               object\n",
              "I131_treatment                object\n",
              "query_hypothyroid             object\n",
              "query_hyperthyroid            object\n",
              "lithium                       object\n",
              "goitre                        object\n",
              "tumor                         object\n",
              "psych                         object\n",
              "TSH                          float64\n",
              "T3                           float64\n",
              "TT4                          float64\n",
              "T4U                          float64\n",
              "FTI                          float64\n",
              "Class                         object\n",
              "dtype: object"
            ]
          },
          "metadata": {},
          "execution_count": 586
        }
      ]
    },
    {
      "cell_type": "code",
      "source": [
        "numerical = df.select_dtypes('float64').columns.tolist()\n",
        "categorical = df.select_dtypes('object').columns.tolist()\n",
        "categorical.remove(TARGET)\n",
        "\n",
        "print(numerical)\n",
        "print(categorical)"
      ],
      "metadata": {
        "colab": {
          "base_uri": "https://localhost:8080/"
        },
        "id": "vLb6QwuTM2Py",
        "outputId": "3bffa8fb-a9d1-41ff-ef60-8689e98ad06e"
      },
      "execution_count": null,
      "outputs": [
        {
          "output_type": "stream",
          "name": "stdout",
          "text": [
            "['age', 'TSH', 'T3', 'TT4', 'T4U', 'FTI']\n",
            "['sex', 'on_thyroxine', 'query_on_thyroxine', 'on_antithyroid_medication', 'sick', 'pregnant', 'thyroid_surgery', 'I131_treatment', 'query_hypothyroid', 'query_hyperthyroid', 'lithium', 'goitre', 'tumor', 'psych']\n"
          ]
        }
      ]
    },
    {
      "cell_type": "code",
      "source": [
        "X, y = df[numerical + categorical], df[TARGET]"
      ],
      "metadata": {
        "id": "ecV_56e-M2XQ"
      },
      "execution_count": null,
      "outputs": []
    },
    {
      "cell_type": "code",
      "source": [
        "y"
      ],
      "metadata": {
        "colab": {
          "base_uri": "https://localhost:8080/"
        },
        "id": "6E9zGkmafGZg",
        "outputId": "3a7668b5-8164-46bc-a600-d99a296bd539"
      },
      "execution_count": null,
      "outputs": [
        {
          "output_type": "execute_result",
          "data": {
            "text/plain": [
              "0                      negative\n",
              "1                      negative\n",
              "2                      negative\n",
              "3                      negative\n",
              "4                      negative\n",
              "                 ...           \n",
              "3766    compensated_hypothyroid\n",
              "3768                   negative\n",
              "3769                   negative\n",
              "3770                   negative\n",
              "3771                   negative\n",
              "Name: Class, Length: 3581, dtype: object"
            ]
          },
          "metadata": {},
          "execution_count": 589
        }
      ]
    },
    {
      "cell_type": "code",
      "source": [
        "X.head()"
      ],
      "metadata": {
        "colab": {
          "base_uri": "https://localhost:8080/",
          "height": 250
        },
        "id": "aNGs6X7Gdglg",
        "outputId": "54d795ae-b7e8-43db-e3c9-d400fb7da0b4"
      },
      "execution_count": null,
      "outputs": [
        {
          "output_type": "execute_result",
          "data": {
            "text/plain": [
              "    age   TSH   T3    TT4   T4U    FTI sex on_thyroxine query_on_thyroxine  \\\n",
              "0  41.0  1.30  2.5  125.0  1.14  109.0   F            f                  f   \n",
              "1  23.0  4.10  2.0  102.0   NaN    NaN   F            f                  f   \n",
              "2  46.0  0.98  NaN  109.0  0.91  120.0   M            f                  f   \n",
              "3  70.0  0.16  1.9  175.0   NaN    NaN   F            t                  f   \n",
              "4  70.0  0.72  1.2   61.0  0.87   70.0   F            f                  f   \n",
              "\n",
              "  on_antithyroid_medication sick pregnant thyroid_surgery I131_treatment  \\\n",
              "0                         f    f        f               f              f   \n",
              "1                         f    f        f               f              f   \n",
              "2                         f    f        f               f              f   \n",
              "3                         f    f        f               f              f   \n",
              "4                         f    f        f               f              f   \n",
              "\n",
              "  query_hypothyroid query_hyperthyroid lithium goitre tumor psych  \n",
              "0                 f                  f       f      f     f     f  \n",
              "1                 f                  f       f      f     f     f  \n",
              "2                 f                  f       f      f     f     f  \n",
              "3                 f                  f       f      f     f     f  \n",
              "4                 f                  f       f      f     f     f  "
            ],
            "text/html": [
              "\n",
              "  <div id=\"df-8c643f1d-85b0-438c-951a-9689b9d20c73\">\n",
              "    <div class=\"colab-df-container\">\n",
              "      <div>\n",
              "<style scoped>\n",
              "    .dataframe tbody tr th:only-of-type {\n",
              "        vertical-align: middle;\n",
              "    }\n",
              "\n",
              "    .dataframe tbody tr th {\n",
              "        vertical-align: top;\n",
              "    }\n",
              "\n",
              "    .dataframe thead th {\n",
              "        text-align: right;\n",
              "    }\n",
              "</style>\n",
              "<table border=\"1\" class=\"dataframe\">\n",
              "  <thead>\n",
              "    <tr style=\"text-align: right;\">\n",
              "      <th></th>\n",
              "      <th>age</th>\n",
              "      <th>TSH</th>\n",
              "      <th>T3</th>\n",
              "      <th>TT4</th>\n",
              "      <th>T4U</th>\n",
              "      <th>FTI</th>\n",
              "      <th>sex</th>\n",
              "      <th>on_thyroxine</th>\n",
              "      <th>query_on_thyroxine</th>\n",
              "      <th>on_antithyroid_medication</th>\n",
              "      <th>sick</th>\n",
              "      <th>pregnant</th>\n",
              "      <th>thyroid_surgery</th>\n",
              "      <th>I131_treatment</th>\n",
              "      <th>query_hypothyroid</th>\n",
              "      <th>query_hyperthyroid</th>\n",
              "      <th>lithium</th>\n",
              "      <th>goitre</th>\n",
              "      <th>tumor</th>\n",
              "      <th>psych</th>\n",
              "    </tr>\n",
              "  </thead>\n",
              "  <tbody>\n",
              "    <tr>\n",
              "      <th>0</th>\n",
              "      <td>41.0</td>\n",
              "      <td>1.30</td>\n",
              "      <td>2.5</td>\n",
              "      <td>125.0</td>\n",
              "      <td>1.14</td>\n",
              "      <td>109.0</td>\n",
              "      <td>F</td>\n",
              "      <td>f</td>\n",
              "      <td>f</td>\n",
              "      <td>f</td>\n",
              "      <td>f</td>\n",
              "      <td>f</td>\n",
              "      <td>f</td>\n",
              "      <td>f</td>\n",
              "      <td>f</td>\n",
              "      <td>f</td>\n",
              "      <td>f</td>\n",
              "      <td>f</td>\n",
              "      <td>f</td>\n",
              "      <td>f</td>\n",
              "    </tr>\n",
              "    <tr>\n",
              "      <th>1</th>\n",
              "      <td>23.0</td>\n",
              "      <td>4.10</td>\n",
              "      <td>2.0</td>\n",
              "      <td>102.0</td>\n",
              "      <td>NaN</td>\n",
              "      <td>NaN</td>\n",
              "      <td>F</td>\n",
              "      <td>f</td>\n",
              "      <td>f</td>\n",
              "      <td>f</td>\n",
              "      <td>f</td>\n",
              "      <td>f</td>\n",
              "      <td>f</td>\n",
              "      <td>f</td>\n",
              "      <td>f</td>\n",
              "      <td>f</td>\n",
              "      <td>f</td>\n",
              "      <td>f</td>\n",
              "      <td>f</td>\n",
              "      <td>f</td>\n",
              "    </tr>\n",
              "    <tr>\n",
              "      <th>2</th>\n",
              "      <td>46.0</td>\n",
              "      <td>0.98</td>\n",
              "      <td>NaN</td>\n",
              "      <td>109.0</td>\n",
              "      <td>0.91</td>\n",
              "      <td>120.0</td>\n",
              "      <td>M</td>\n",
              "      <td>f</td>\n",
              "      <td>f</td>\n",
              "      <td>f</td>\n",
              "      <td>f</td>\n",
              "      <td>f</td>\n",
              "      <td>f</td>\n",
              "      <td>f</td>\n",
              "      <td>f</td>\n",
              "      <td>f</td>\n",
              "      <td>f</td>\n",
              "      <td>f</td>\n",
              "      <td>f</td>\n",
              "      <td>f</td>\n",
              "    </tr>\n",
              "    <tr>\n",
              "      <th>3</th>\n",
              "      <td>70.0</td>\n",
              "      <td>0.16</td>\n",
              "      <td>1.9</td>\n",
              "      <td>175.0</td>\n",
              "      <td>NaN</td>\n",
              "      <td>NaN</td>\n",
              "      <td>F</td>\n",
              "      <td>t</td>\n",
              "      <td>f</td>\n",
              "      <td>f</td>\n",
              "      <td>f</td>\n",
              "      <td>f</td>\n",
              "      <td>f</td>\n",
              "      <td>f</td>\n",
              "      <td>f</td>\n",
              "      <td>f</td>\n",
              "      <td>f</td>\n",
              "      <td>f</td>\n",
              "      <td>f</td>\n",
              "      <td>f</td>\n",
              "    </tr>\n",
              "    <tr>\n",
              "      <th>4</th>\n",
              "      <td>70.0</td>\n",
              "      <td>0.72</td>\n",
              "      <td>1.2</td>\n",
              "      <td>61.0</td>\n",
              "      <td>0.87</td>\n",
              "      <td>70.0</td>\n",
              "      <td>F</td>\n",
              "      <td>f</td>\n",
              "      <td>f</td>\n",
              "      <td>f</td>\n",
              "      <td>f</td>\n",
              "      <td>f</td>\n",
              "      <td>f</td>\n",
              "      <td>f</td>\n",
              "      <td>f</td>\n",
              "      <td>f</td>\n",
              "      <td>f</td>\n",
              "      <td>f</td>\n",
              "      <td>f</td>\n",
              "      <td>f</td>\n",
              "    </tr>\n",
              "  </tbody>\n",
              "</table>\n",
              "</div>\n",
              "      <button class=\"colab-df-convert\" onclick=\"convertToInteractive('df-8c643f1d-85b0-438c-951a-9689b9d20c73')\"\n",
              "              title=\"Convert this dataframe to an interactive table.\"\n",
              "              style=\"display:none;\">\n",
              "        \n",
              "  <svg xmlns=\"http://www.w3.org/2000/svg\" height=\"24px\"viewBox=\"0 0 24 24\"\n",
              "       width=\"24px\">\n",
              "    <path d=\"M0 0h24v24H0V0z\" fill=\"none\"/>\n",
              "    <path d=\"M18.56 5.44l.94 2.06.94-2.06 2.06-.94-2.06-.94-.94-2.06-.94 2.06-2.06.94zm-11 1L8.5 8.5l.94-2.06 2.06-.94-2.06-.94L8.5 2.5l-.94 2.06-2.06.94zm10 10l.94 2.06.94-2.06 2.06-.94-2.06-.94-.94-2.06-.94 2.06-2.06.94z\"/><path d=\"M17.41 7.96l-1.37-1.37c-.4-.4-.92-.59-1.43-.59-.52 0-1.04.2-1.43.59L10.3 9.45l-7.72 7.72c-.78.78-.78 2.05 0 2.83L4 21.41c.39.39.9.59 1.41.59.51 0 1.02-.2 1.41-.59l7.78-7.78 2.81-2.81c.8-.78.8-2.07 0-2.86zM5.41 20L4 18.59l7.72-7.72 1.47 1.35L5.41 20z\"/>\n",
              "  </svg>\n",
              "      </button>\n",
              "      \n",
              "  <style>\n",
              "    .colab-df-container {\n",
              "      display:flex;\n",
              "      flex-wrap:wrap;\n",
              "      gap: 12px;\n",
              "    }\n",
              "\n",
              "    .colab-df-convert {\n",
              "      background-color: #E8F0FE;\n",
              "      border: none;\n",
              "      border-radius: 50%;\n",
              "      cursor: pointer;\n",
              "      display: none;\n",
              "      fill: #1967D2;\n",
              "      height: 32px;\n",
              "      padding: 0 0 0 0;\n",
              "      width: 32px;\n",
              "    }\n",
              "\n",
              "    .colab-df-convert:hover {\n",
              "      background-color: #E2EBFA;\n",
              "      box-shadow: 0px 1px 2px rgba(60, 64, 67, 0.3), 0px 1px 3px 1px rgba(60, 64, 67, 0.15);\n",
              "      fill: #174EA6;\n",
              "    }\n",
              "\n",
              "    [theme=dark] .colab-df-convert {\n",
              "      background-color: #3B4455;\n",
              "      fill: #D2E3FC;\n",
              "    }\n",
              "\n",
              "    [theme=dark] .colab-df-convert:hover {\n",
              "      background-color: #434B5C;\n",
              "      box-shadow: 0px 1px 3px 1px rgba(0, 0, 0, 0.15);\n",
              "      filter: drop-shadow(0px 1px 2px rgba(0, 0, 0, 0.3));\n",
              "      fill: #FFFFFF;\n",
              "    }\n",
              "  </style>\n",
              "\n",
              "      <script>\n",
              "        const buttonEl =\n",
              "          document.querySelector('#df-8c643f1d-85b0-438c-951a-9689b9d20c73 button.colab-df-convert');\n",
              "        buttonEl.style.display =\n",
              "          google.colab.kernel.accessAllowed ? 'block' : 'none';\n",
              "\n",
              "        async function convertToInteractive(key) {\n",
              "          const element = document.querySelector('#df-8c643f1d-85b0-438c-951a-9689b9d20c73');\n",
              "          const dataTable =\n",
              "            await google.colab.kernel.invokeFunction('convertToInteractive',\n",
              "                                                     [key], {});\n",
              "          if (!dataTable) return;\n",
              "\n",
              "          const docLinkHtml = 'Like what you see? Visit the ' +\n",
              "            '<a target=\"_blank\" href=https://colab.research.google.com/notebooks/data_table.ipynb>data table notebook</a>'\n",
              "            + ' to learn more about interactive tables.';\n",
              "          element.innerHTML = '';\n",
              "          dataTable['output_type'] = 'display_data';\n",
              "          await google.colab.output.renderOutput(dataTable, element);\n",
              "          const docLink = document.createElement('div');\n",
              "          docLink.innerHTML = docLinkHtml;\n",
              "          element.appendChild(docLink);\n",
              "        }\n",
              "      </script>\n",
              "    </div>\n",
              "  </div>\n",
              "  "
            ]
          },
          "metadata": {},
          "execution_count": 590
        }
      ]
    },
    {
      "cell_type": "markdown",
      "source": [
        "Fill missing values with **median**"
      ],
      "metadata": {
        "id": "F4zvjR9z1zE7"
      }
    },
    {
      "cell_type": "code",
      "source": [
        "X_tr = X\n",
        "X_tr = X_tr.fillna(X_tr.median())\n",
        "X_tr.isna().sum()"
      ],
      "metadata": {
        "colab": {
          "base_uri": "https://localhost:8080/"
        },
        "id": "O8LaHOWqd0uO",
        "outputId": "4cfd9041-e2ec-4822-f2a8-a5b498c8658f"
      },
      "execution_count": null,
      "outputs": [
        {
          "output_type": "stream",
          "name": "stderr",
          "text": [
            "<ipython-input-591-48b55f9c35b8>:2: FutureWarning: Dropping of nuisance columns in DataFrame reductions (with 'numeric_only=None') is deprecated; in a future version this will raise TypeError.  Select only valid columns before calling the reduction.\n",
            "  X_tr = X_tr.fillna(X_tr.median())\n"
          ]
        },
        {
          "output_type": "execute_result",
          "data": {
            "text/plain": [
              "age                          0\n",
              "TSH                          0\n",
              "T3                           0\n",
              "TT4                          0\n",
              "T4U                          0\n",
              "FTI                          0\n",
              "sex                          0\n",
              "on_thyroxine                 0\n",
              "query_on_thyroxine           0\n",
              "on_antithyroid_medication    0\n",
              "sick                         0\n",
              "pregnant                     0\n",
              "thyroid_surgery              0\n",
              "I131_treatment               0\n",
              "query_hypothyroid            0\n",
              "query_hyperthyroid           0\n",
              "lithium                      0\n",
              "goitre                       0\n",
              "tumor                        0\n",
              "psych                        0\n",
              "dtype: int64"
            ]
          },
          "metadata": {},
          "execution_count": 591
        }
      ]
    },
    {
      "cell_type": "code",
      "source": [
        "plt.figure(figsize = (10, 8))\n",
        "sns.heatmap(X_tr.corr(), cmap = 'coolwarm', annot = True)"
      ],
      "metadata": {
        "colab": {
          "base_uri": "https://localhost:8080/",
          "height": 505
        },
        "id": "7ZpvruXs7tnX",
        "outputId": "d1bce3f4-6f25-4c52-fd52-f97ecdd680c3"
      },
      "execution_count": null,
      "outputs": [
        {
          "output_type": "execute_result",
          "data": {
            "text/plain": [
              "<matplotlib.axes._subplots.AxesSubplot at 0x7f8d452dff70>"
            ]
          },
          "metadata": {},
          "execution_count": 592
        },
        {
          "output_type": "display_data",
          "data": {
            "text/plain": [
              "<Figure size 720x576 with 2 Axes>"
            ],
            "image/png": "[encoded data removed]"
          },
          "metadata": {
            "needs_background": "light"
          }
        }
      ]
    },
    {
      "cell_type": "markdown",
      "source": [
        "There is no such multicollinearity, only at TT4 and FTI. We will later check it, if it cause some problem."
      ],
      "metadata": {
        "id": "4zGIbDmcje4O"
      }
    },
    {
      "cell_type": "code",
      "source": [
        "# I tried to remove one of them, and the scores did not get better.\n",
        "\n",
        "\n",
        "# X_tr = X_tr.drop('TT4', axis = 1)\n",
        "# numerical.remove('TT4')"
      ],
      "metadata": {
        "id": "UuDgzwcx-VfB"
      },
      "execution_count": null,
      "outputs": []
    },
    {
      "cell_type": "code",
      "source": [
        "train_X, test_X, train_y, test_y = train_test_split(X_tr, y, random_state = SEED, shuffle = True, test_size = 0.25)"
      ],
      "metadata": {
        "id": "bZgigV5AdgnK"
      },
      "execution_count": null,
      "outputs": []
    },
    {
      "cell_type": "markdown",
      "source": [
        "## Encoding, transformation"
      ],
      "metadata": {
        "id": "1IvbzMO7Fnjg"
      }
    },
    {
      "cell_type": "code",
      "source": [
        "numerical_def = gen_features(\n",
        "    columns = [[c] for c in numerical],\n",
        "    classes = [\n",
        "        {'class': SimpleImputer, 'strategy': 'median'},\n",
        "        {'class': MinMaxScaler}\n",
        "    ]\n",
        ")\n",
        "\n",
        "categorical_def = gen_features(\n",
        "    columns = [[c] for c in categorical],\n",
        "    classes = [\n",
        "        {'class': LabelEncoder}\n",
        "    ]\n",
        ")"
      ],
      "metadata": {
        "id": "5Rc9fYjSXsEU"
      },
      "execution_count": null,
      "outputs": []
    },
    {
      "cell_type": "code",
      "source": [
        "features = numerical_def + categorical_def\n",
        "mapper = DataFrameMapper(features)"
      ],
      "metadata": {
        "id": "q75fNir6eFm3"
      },
      "execution_count": null,
      "outputs": []
    },
    {
      "cell_type": "code",
      "source": [
        "train_X_tr = pd.DataFrame(mapper.fit_transform(train_X))\n",
        "test_X_tr = pd.DataFrame(mapper.fit_transform(test_X))"
      ],
      "metadata": {
        "colab": {
          "base_uri": "https://localhost:8080/"
        },
        "id": "XDuUd2Ttdgq5",
        "outputId": "ea6f0c63-17a2-460c-9f9a-f57087f19044"
      },
      "execution_count": null,
      "outputs": [
        {
          "output_type": "stream",
          "name": "stderr",
          "text": [
            "/usr/local/lib/python3.8/dist-packages/sklearn/preprocessing/_label.py:115: DataConversionWarning: A column-vector y was passed when a 1d array was expected. Please change the shape of y to (n_samples, ), for example using ravel().\n",
            "  y = column_or_1d(y, warn=True)\n",
            "/usr/local/lib/python3.8/dist-packages/sklearn/preprocessing/_label.py:115: DataConversionWarning: A column-vector y was passed when a 1d array was expected. Please change the shape of y to (n_samples, ), for example using ravel().\n",
            "  y = column_or_1d(y, warn=True)\n"
          ]
        }
      ]
    },
    {
      "cell_type": "code",
      "source": [
        "train_X_tr.head()"
      ],
      "metadata": {
        "colab": {
          "base_uri": "https://localhost:8080/",
          "height": 206
        },
        "id": "tgJ3uculdgsy",
        "outputId": "e2e226b8-40ca-4314-f814-630ecbf2d51a"
      },
      "execution_count": null,
      "outputs": [
        {
          "output_type": "execute_result",
          "data": {
            "text/plain": [
              "         0         1         2         3         4         5    6    7    8   \\\n",
              "0  0.387097  0.002255  0.180952  0.235981  0.405797  0.236641  0.0  0.0  0.0   \n",
              "1  0.784946  0.010368  0.123810  0.203271  0.357488  0.221374  0.0  0.0  0.0   \n",
              "2  0.677419  0.000462  0.180952  0.210280  0.318841  0.251908  0.0  0.0  0.0   \n",
              "3  0.182796  0.002821  0.180952  0.266355  0.386473  0.277354  0.0  0.0  0.0   \n",
              "4  0.225806  0.002443  0.180952  0.252336  0.333333  0.292621  0.0  0.0  0.0   \n",
              "\n",
              "    9    10   11   12   13   14   15   16   17   18   19  \n",
              "0  0.0  0.0  0.0  0.0  0.0  0.0  0.0  0.0  0.0  0.0  0.0  \n",
              "1  0.0  0.0  0.0  0.0  0.0  0.0  0.0  0.0  0.0  0.0  0.0  \n",
              "2  0.0  0.0  0.0  0.0  0.0  0.0  0.0  0.0  0.0  0.0  0.0  \n",
              "3  0.0  0.0  0.0  0.0  0.0  1.0  0.0  0.0  0.0  0.0  0.0  \n",
              "4  0.0  0.0  0.0  0.0  0.0  0.0  0.0  0.0  0.0  0.0  0.0  "
            ],
            "text/html": [
              "\n",
              "  <div id=\"df-cafe125d-45bf-42b3-a7e6-83083b351b89\">\n",
              "    <div class=\"colab-df-container\">\n",
              "      <div>\n",
              "<style scoped>\n",
              "    .dataframe tbody tr th:only-of-type {\n",
              "        vertical-align: middle;\n",
              "    }\n",
              "\n",
              "    .dataframe tbody tr th {\n",
              "        vertical-align: top;\n",
              "    }\n",
              "\n",
              "    .dataframe thead th {\n",
              "        text-align: right;\n",
              "    }\n",
              "</style>\n",
              "<table border=\"1\" class=\"dataframe\">\n",
              "  <thead>\n",
              "    <tr style=\"text-align: right;\">\n",
              "      <th></th>\n",
              "      <th>0</th>\n",
              "      <th>1</th>\n",
              "      <th>2</th>\n",
              "      <th>3</th>\n",
              "      <th>4</th>\n",
              "      <th>5</th>\n",
              "      <th>6</th>\n",
              "      <th>7</th>\n",
              "      <th>8</th>\n",
              "      <th>9</th>\n",
              "      <th>10</th>\n",
              "      <th>11</th>\n",
              "      <th>12</th>\n",
              "      <th>13</th>\n",
              "      <th>14</th>\n",
              "      <th>15</th>\n",
              "      <th>16</th>\n",
              "      <th>17</th>\n",
              "      <th>18</th>\n",
              "      <th>19</th>\n",
              "    </tr>\n",
              "  </thead>\n",
              "  <tbody>\n",
              "    <tr>\n",
              "      <th>0</th>\n",
              "      <td>0.387097</td>\n",
              "      <td>0.002255</td>\n",
              "      <td>0.180952</td>\n",
              "      <td>0.235981</td>\n",
              "      <td>0.405797</td>\n",
              "      <td>0.236641</td>\n",
              "      <td>0.0</td>\n",
              "      <td>0.0</td>\n",
              "      <td>0.0</td>\n",
              "      <td>0.0</td>\n",
              "      <td>0.0</td>\n",
              "      <td>0.0</td>\n",
              "      <td>0.0</td>\n",
              "      <td>0.0</td>\n",
              "      <td>0.0</td>\n",
              "      <td>0.0</td>\n",
              "      <td>0.0</td>\n",
              "      <td>0.0</td>\n",
              "      <td>0.0</td>\n",
              "      <td>0.0</td>\n",
              "    </tr>\n",
              "    <tr>\n",
              "      <th>1</th>\n",
              "      <td>0.784946</td>\n",
              "      <td>0.010368</td>\n",
              "      <td>0.123810</td>\n",
              "      <td>0.203271</td>\n",
              "      <td>0.357488</td>\n",
              "      <td>0.221374</td>\n",
              "      <td>0.0</td>\n",
              "      <td>0.0</td>\n",
              "      <td>0.0</td>\n",
              "      <td>0.0</td>\n",
              "      <td>0.0</td>\n",
              "      <td>0.0</td>\n",
              "      <td>0.0</td>\n",
              "      <td>0.0</td>\n",
              "      <td>0.0</td>\n",
              "      <td>0.0</td>\n",
              "      <td>0.0</td>\n",
              "      <td>0.0</td>\n",
              "      <td>0.0</td>\n",
              "      <td>0.0</td>\n",
              "    </tr>\n",
              "    <tr>\n",
              "      <th>2</th>\n",
              "      <td>0.677419</td>\n",
              "      <td>0.000462</td>\n",
              "      <td>0.180952</td>\n",
              "      <td>0.210280</td>\n",
              "      <td>0.318841</td>\n",
              "      <td>0.251908</td>\n",
              "      <td>0.0</td>\n",
              "      <td>0.0</td>\n",
              "      <td>0.0</td>\n",
              "      <td>0.0</td>\n",
              "      <td>0.0</td>\n",
              "      <td>0.0</td>\n",
              "      <td>0.0</td>\n",
              "      <td>0.0</td>\n",
              "      <td>0.0</td>\n",
              "      <td>0.0</td>\n",
              "      <td>0.0</td>\n",
              "      <td>0.0</td>\n",
              "      <td>0.0</td>\n",
              "      <td>0.0</td>\n",
              "    </tr>\n",
              "    <tr>\n",
              "      <th>3</th>\n",
              "      <td>0.182796</td>\n",
              "      <td>0.002821</td>\n",
              "      <td>0.180952</td>\n",
              "      <td>0.266355</td>\n",
              "      <td>0.386473</td>\n",
              "      <td>0.277354</td>\n",
              "      <td>0.0</td>\n",
              "      <td>0.0</td>\n",
              "      <td>0.0</td>\n",
              "      <td>0.0</td>\n",
              "      <td>0.0</td>\n",
              "      <td>0.0</td>\n",
              "      <td>0.0</td>\n",
              "      <td>0.0</td>\n",
              "      <td>1.0</td>\n",
              "      <td>0.0</td>\n",
              "      <td>0.0</td>\n",
              "      <td>0.0</td>\n",
              "      <td>0.0</td>\n",
              "      <td>0.0</td>\n",
              "    </tr>\n",
              "    <tr>\n",
              "      <th>4</th>\n",
              "      <td>0.225806</td>\n",
              "      <td>0.002443</td>\n",
              "      <td>0.180952</td>\n",
              "      <td>0.252336</td>\n",
              "      <td>0.333333</td>\n",
              "      <td>0.292621</td>\n",
              "      <td>0.0</td>\n",
              "      <td>0.0</td>\n",
              "      <td>0.0</td>\n",
              "      <td>0.0</td>\n",
              "      <td>0.0</td>\n",
              "      <td>0.0</td>\n",
              "      <td>0.0</td>\n",
              "      <td>0.0</td>\n",
              "      <td>0.0</td>\n",
              "      <td>0.0</td>\n",
              "      <td>0.0</td>\n",
              "      <td>0.0</td>\n",
              "      <td>0.0</td>\n",
              "      <td>0.0</td>\n",
              "    </tr>\n",
              "  </tbody>\n",
              "</table>\n",
              "</div>\n",
              "      <button class=\"colab-df-convert\" onclick=\"convertToInteractive('df-cafe125d-45bf-42b3-a7e6-83083b351b89')\"\n",
              "              title=\"Convert this dataframe to an interactive table.\"\n",
              "              style=\"display:none;\">\n",
              "        \n",
              "  <svg xmlns=\"http://www.w3.org/2000/svg\" height=\"24px\"viewBox=\"0 0 24 24\"\n",
              "       width=\"24px\">\n",
              "    <path d=\"M0 0h24v24H0V0z\" fill=\"none\"/>\n",
              "    <path d=\"M18.56 5.44l.94 2.06.94-2.06 2.06-.94-2.06-.94-.94-2.06-.94 2.06-2.06.94zm-11 1L8.5 8.5l.94-2.06 2.06-.94-2.06-.94L8.5 2.5l-.94 2.06-2.06.94zm10 10l.94 2.06.94-2.06 2.06-.94-2.06-.94-.94-2.06-.94 2.06-2.06.94z\"/><path d=\"M17.41 7.96l-1.37-1.37c-.4-.4-.92-.59-1.43-.59-.52 0-1.04.2-1.43.59L10.3 9.45l-7.72 7.72c-.78.78-.78 2.05 0 2.83L4 21.41c.39.39.9.59 1.41.59.51 0 1.02-.2 1.41-.59l7.78-7.78 2.81-2.81c.8-.78.8-2.07 0-2.86zM5.41 20L4 18.59l7.72-7.72 1.47 1.35L5.41 20z\"/>\n",
              "  </svg>\n",
              "      </button>\n",
              "      \n",
              "  <style>\n",
              "    .colab-df-container {\n",
              "      display:flex;\n",
              "      flex-wrap:wrap;\n",
              "      gap: 12px;\n",
              "    }\n",
              "\n",
              "    .colab-df-convert {\n",
              "      background-color: #E8F0FE;\n",
              "      border: none;\n",
              "      border-radius: 50%;\n",
              "      cursor: pointer;\n",
              "      display: none;\n",
              "      fill: #1967D2;\n",
              "      height: 32px;\n",
              "      padding: 0 0 0 0;\n",
              "      width: 32px;\n",
              "    }\n",
              "\n",
              "    .colab-df-convert:hover {\n",
              "      background-color: #E2EBFA;\n",
              "      box-shadow: 0px 1px 2px rgba(60, 64, 67, 0.3), 0px 1px 3px 1px rgba(60, 64, 67, 0.15);\n",
              "      fill: #174EA6;\n",
              "    }\n",
              "\n",
              "    [theme=dark] .colab-df-convert {\n",
              "      background-color: #3B4455;\n",
              "      fill: #D2E3FC;\n",
              "    }\n",
              "\n",
              "    [theme=dark] .colab-df-convert:hover {\n",
              "      background-color: #434B5C;\n",
              "      box-shadow: 0px 1px 3px 1px rgba(0, 0, 0, 0.15);\n",
              "      filter: drop-shadow(0px 1px 2px rgba(0, 0, 0, 0.3));\n",
              "      fill: #FFFFFF;\n",
              "    }\n",
              "  </style>\n",
              "\n",
              "      <script>\n",
              "        const buttonEl =\n",
              "          document.querySelector('#df-cafe125d-45bf-42b3-a7e6-83083b351b89 button.colab-df-convert');\n",
              "        buttonEl.style.display =\n",
              "          google.colab.kernel.accessAllowed ? 'block' : 'none';\n",
              "\n",
              "        async function convertToInteractive(key) {\n",
              "          const element = document.querySelector('#df-cafe125d-45bf-42b3-a7e6-83083b351b89');\n",
              "          const dataTable =\n",
              "            await google.colab.kernel.invokeFunction('convertToInteractive',\n",
              "                                                     [key], {});\n",
              "          if (!dataTable) return;\n",
              "\n",
              "          const docLinkHtml = 'Like what you see? Visit the ' +\n",
              "            '<a target=\"_blank\" href=https://colab.research.google.com/notebooks/data_table.ipynb>data table notebook</a>'\n",
              "            + ' to learn more about interactive tables.';\n",
              "          element.innerHTML = '';\n",
              "          dataTable['output_type'] = 'display_data';\n",
              "          await google.colab.output.renderOutput(dataTable, element);\n",
              "          const docLink = document.createElement('div');\n",
              "          docLink.innerHTML = docLinkHtml;\n",
              "          element.appendChild(docLink);\n",
              "        }\n",
              "      </script>\n",
              "    </div>\n",
              "  </div>\n",
              "  "
            ]
          },
          "metadata": {},
          "execution_count": 598
        }
      ]
    },
    {
      "cell_type": "code",
      "source": [
        "print(train_X_tr.shape, train_y.shape)\n",
        "print(test_X_tr.shape, test_y.shape)"
      ],
      "metadata": {
        "colab": {
          "base_uri": "https://localhost:8080/"
        },
        "id": "Dj-7TFNRdgur",
        "outputId": "f7d12573-c0a2-41ca-b114-664a2bfab871"
      },
      "execution_count": null,
      "outputs": [
        {
          "output_type": "stream",
          "name": "stdout",
          "text": [
            "(2685, 20) (2685,)\n",
            "(896, 20) (896,)\n"
          ]
        }
      ]
    },
    {
      "cell_type": "markdown",
      "source": [
        "# Logistic Regression"
      ],
      "metadata": {
        "id": "3yClRzd93fCk"
      }
    },
    {
      "cell_type": "code",
      "source": [
        "model = LogisticRegression()\n",
        "model.fit(train_X_tr, train_y)"
      ],
      "metadata": {
        "colab": {
          "base_uri": "https://localhost:8080/"
        },
        "id": "tvmrg8f3dgw7",
        "outputId": "86465c50-c424-44b0-90f7-df2e0271b00b"
      },
      "execution_count": null,
      "outputs": [
        {
          "output_type": "execute_result",
          "data": {
            "text/plain": [
              "LogisticRegression()"
            ]
          },
          "metadata": {},
          "execution_count": 600
        }
      ]
    },
    {
      "cell_type": "code",
      "source": [
        "predictions = model.predict(test_X_tr)\n",
        "\n",
        "print(classification_report(test_y, predictions))"
      ],
      "metadata": {
        "colab": {
          "base_uri": "https://localhost:8080/"
        },
        "id": "x-FzT-3lebKc",
        "outputId": "ab31046d-77a1-4486-9f82-7501ce2effa3"
      },
      "execution_count": null,
      "outputs": [
        {
          "output_type": "stream",
          "name": "stdout",
          "text": [
            "                         precision    recall  f1-score   support\n",
            "\n",
            "compensated_hypothyroid       0.00      0.00      0.00        50\n",
            "               negative       0.93      1.00      0.96       819\n",
            "    primary_hypothyroid       1.00      0.44      0.62        27\n",
            "\n",
            "               accuracy                           0.93       896\n",
            "              macro avg       0.64      0.48      0.53       896\n",
            "           weighted avg       0.88      0.93      0.90       896\n",
            "\n"
          ]
        },
        {
          "output_type": "stream",
          "name": "stderr",
          "text": [
            "/usr/local/lib/python3.8/dist-packages/sklearn/metrics/_classification.py:1318: UndefinedMetricWarning: Precision and F-score are ill-defined and being set to 0.0 in labels with no predicted samples. Use `zero_division` parameter to control this behavior.\n",
            "  _warn_prf(average, modifier, msg_start, len(result))\n",
            "/usr/local/lib/python3.8/dist-packages/sklearn/metrics/_classification.py:1318: UndefinedMetricWarning: Precision and F-score are ill-defined and being set to 0.0 in labels with no predicted samples. Use `zero_division` parameter to control this behavior.\n",
            "  _warn_prf(average, modifier, msg_start, len(result))\n",
            "/usr/local/lib/python3.8/dist-packages/sklearn/metrics/_classification.py:1318: UndefinedMetricWarning: Precision and F-score are ill-defined and being set to 0.0 in labels with no predicted samples. Use `zero_division` parameter to control this behavior.\n",
            "  _warn_prf(average, modifier, msg_start, len(result))\n"
          ]
        }
      ]
    },
    {
      "cell_type": "markdown",
      "source": [
        "We got 0 f1 score. This can be because of the unbalance of the classes (positive vs negatives).\n",
        "\n",
        "\n",
        "We can do a SMOTE for this case."
      ],
      "metadata": {
        "id": "WEAFGFQkek3T"
      }
    },
    {
      "cell_type": "markdown",
      "source": [
        "## SMOTE"
      ],
      "metadata": {
        "id": "Yjqhr4fF3iHg"
      }
    },
    {
      "cell_type": "code",
      "source": [
        "smote = SMOTE(random_state = SEED)\n",
        "train_X_sm, y_sm = smote.fit_resample(train_X_tr, train_y)\n",
        "\n",
        "print('shape before smote:', train_X_tr.shape)\n",
        "print('shape after smote:', train_X_sm.shape)"
      ],
      "metadata": {
        "colab": {
          "base_uri": "https://localhost:8080/"
        },
        "id": "crsWpKQDebMC",
        "outputId": "f3b41006-9137-47e4-9bc3-7cb45a48b151"
      },
      "execution_count": null,
      "outputs": [
        {
          "output_type": "stream",
          "name": "stdout",
          "text": [
            "shape before smote: (2685, 20)\n",
            "shape after smote: (7422, 20)\n"
          ]
        }
      ]
    },
    {
      "cell_type": "code",
      "source": [
        "model_sm = LogisticRegression()\n",
        "model_sm.fit(train_X_sm, y_sm)\n",
        "\n",
        "predictions_sm = model_sm.predict(test_X_tr)\n",
        "print(classification_report(test_y, predictions_sm))"
      ],
      "metadata": {
        "colab": {
          "base_uri": "https://localhost:8080/"
        },
        "id": "jdmJYuArebOs",
        "outputId": "1f583bc2-14d8-4b8e-c6fe-926505cd2c19"
      },
      "execution_count": null,
      "outputs": [
        {
          "output_type": "stream",
          "name": "stdout",
          "text": [
            "                         precision    recall  f1-score   support\n",
            "\n",
            "compensated_hypothyroid       0.27      0.76      0.40        50\n",
            "               negative       0.98      0.87      0.92       819\n",
            "    primary_hypothyroid       0.77      0.89      0.83        27\n",
            "\n",
            "               accuracy                           0.86       896\n",
            "              macro avg       0.68      0.84      0.72       896\n",
            "           weighted avg       0.94      0.86      0.89       896\n",
            "\n"
          ]
        },
        {
          "output_type": "stream",
          "name": "stderr",
          "text": [
            "/usr/local/lib/python3.8/dist-packages/sklearn/linear_model/_logistic.py:814: ConvergenceWarning: lbfgs failed to converge (status=1):\n",
            "STOP: TOTAL NO. of ITERATIONS REACHED LIMIT.\n",
            "\n",
            "Increase the number of iterations (max_iter) or scale the data as shown in:\n",
            "    https://scikit-learn.org/stable/modules/preprocessing.html\n",
            "Please also refer to the documentation for alternative solver options:\n",
            "    https://scikit-learn.org/stable/modules/linear_model.html#logistic-regression\n",
            "  n_iter_i = _check_optimize_result(\n"
          ]
        }
      ]
    },
    {
      "cell_type": "markdown",
      "source": [
        "The F1-score improved, but still low."
      ],
      "metadata": {
        "id": "mmkCGqTYfaKd"
      }
    },
    {
      "cell_type": "markdown",
      "source": [
        "Let's see how accurate the prediction is with different models."
      ],
      "metadata": {
        "id": "VeBaePQHgSQS"
      }
    },
    {
      "cell_type": "markdown",
      "source": [
        "# Other models"
      ],
      "metadata": {
        "id": "wGKrQ1T93kvo"
      }
    },
    {
      "cell_type": "code",
      "source": [
        "models = {\n",
        "    LogisticRegression(max_iter=500):'Logistic Regression',\n",
        "    RandomForestClassifier():'Random Forest',\n",
        "    KNeighborsClassifier(n_neighbors = 5): 'KNN'\n",
        "}\n",
        "for m in models.keys():\n",
        "    m.fit(train_X_sm, y_sm)\n",
        "for model,name in models.items():\n",
        "     print(f\"Accuracy Score for {name} is : \",model.score(test_X_tr, test_y)*100,\"%\")"
      ],
      "metadata": {
        "colab": {
          "base_uri": "https://localhost:8080/"
        },
        "id": "gFBRi99VebVo",
        "outputId": "fe130cba-4ba6-4daa-da8f-c78af5dadd96"
      },
      "execution_count": null,
      "outputs": [
        {
          "output_type": "stream",
          "name": "stdout",
          "text": [
            "Accuracy Score for Logistic Regression is :  86.38392857142857 %\n",
            "Accuracy Score for Random Forest is :  98.77232142857143 %\n",
            "Accuracy Score for KNN is :  84.93303571428571 %\n"
          ]
        }
      ]
    },
    {
      "cell_type": "code",
      "source": [
        "for model,name in models.items():\n",
        "    y_pred = model.predict(test_X_tr)\n",
        "    print(f\"Classification Report for {name}\")  \n",
        "    print(\"----------------------------------------------------------\")\n",
        "    print(classification_report(test_y,y_pred))\n",
        "    print(\"----------------------------------------------------------\")"
      ],
      "metadata": {
        "colab": {
          "base_uri": "https://localhost:8080/"
        },
        "id": "pJPfaacTh1Ao",
        "outputId": "68fe8141-ded6-4c2c-a440-811ea74cff91"
      },
      "execution_count": null,
      "outputs": [
        {
          "output_type": "stream",
          "name": "stdout",
          "text": [
            "Classification Report for Logistic Regression\n",
            "----------------------------------------------------------\n",
            "                         precision    recall  f1-score   support\n",
            "\n",
            "compensated_hypothyroid       0.27      0.76      0.40        50\n",
            "               negative       0.98      0.87      0.92       819\n",
            "    primary_hypothyroid       0.77      0.89      0.83        27\n",
            "\n",
            "               accuracy                           0.86       896\n",
            "              macro avg       0.68      0.84      0.72       896\n",
            "           weighted avg       0.94      0.86      0.89       896\n",
            "\n",
            "----------------------------------------------------------\n",
            "Classification Report for Random Forest\n",
            "----------------------------------------------------------\n",
            "                         precision    recall  f1-score   support\n",
            "\n",
            "compensated_hypothyroid       0.84      0.98      0.91        50\n",
            "               negative       1.00      0.99      0.99       819\n",
            "    primary_hypothyroid       0.96      0.96      0.96        27\n",
            "\n",
            "               accuracy                           0.99       896\n",
            "              macro avg       0.94      0.98      0.95       896\n",
            "           weighted avg       0.99      0.99      0.99       896\n",
            "\n",
            "----------------------------------------------------------\n",
            "Classification Report for KNN\n",
            "----------------------------------------------------------\n",
            "                         precision    recall  f1-score   support\n",
            "\n",
            "compensated_hypothyroid       0.14      0.30      0.19        50\n",
            "               negative       0.95      0.88      0.92       819\n",
            "    primary_hypothyroid       0.85      0.85      0.85        27\n",
            "\n",
            "               accuracy                           0.85       896\n",
            "              macro avg       0.65      0.68      0.65       896\n",
            "           weighted avg       0.90      0.85      0.87       896\n",
            "\n",
            "----------------------------------------------------------\n"
          ]
        }
      ]
    },
    {
      "cell_type": "markdown",
      "source": [
        "Scores are low again.\n",
        "\n",
        "Random Forest is the best model for this case. I tried several ways (dropping features, scale them another way, replace with mean instead of median), but none of them worked to get better scores with KNN and Logistic Regression."
      ],
      "metadata": {
        "id": "kEl1Rel_jE0Q"
      }
    },
    {
      "cell_type": "code",
      "source": [
        "X.select_dtypes('object').columns.tolist()"
      ],
      "metadata": {
        "colab": {
          "base_uri": "https://localhost:8080/"
        },
        "id": "GgtGhgh_fpgs",
        "outputId": "dd8ae0d2-6863-48a9-e31a-364b4ffd0b0f"
      },
      "execution_count": null,
      "outputs": [
        {
          "output_type": "execute_result",
          "data": {
            "text/plain": [
              "['sex',\n",
              " 'on_thyroxine',\n",
              " 'query_on_thyroxine',\n",
              " 'on_antithyroid_medication',\n",
              " 'sick',\n",
              " 'pregnant',\n",
              " 'thyroid_surgery',\n",
              " 'I131_treatment',\n",
              " 'query_hypothyroid',\n",
              " 'query_hyperthyroid',\n",
              " 'lithium',\n",
              " 'goitre',\n",
              " 'tumor',\n",
              " 'psych']"
            ]
          },
          "metadata": {},
          "execution_count": 606
        }
      ]
    },
    {
      "cell_type": "markdown",
      "source": [
        "# Without normalization"
      ],
      "metadata": {
        "id": "z1VWfDXK6HwR"
      }
    },
    {
      "cell_type": "code",
      "source": [
        "X_tr = X"
      ],
      "metadata": {
        "id": "OgE_mXtohZKl"
      },
      "execution_count": null,
      "outputs": []
    },
    {
      "cell_type": "code",
      "source": [
        "for col in X_tr.select_dtypes('object').columns.tolist():\n",
        "  if col == TARGET:\n",
        "    continue\n",
        "  else:\n",
        "    encoder = LabelEncoder()\n",
        "    X_tr[col] = encoder.fit_transform(X[col])"
      ],
      "metadata": {
        "colab": {
          "base_uri": "https://localhost:8080/"
        },
        "id": "lWfu84AHhD88",
        "outputId": "ac0ecc1e-5b44-4d6e-da9d-e8a08904a582"
      },
      "execution_count": null,
      "outputs": [
        {
          "output_type": "stream",
          "name": "stderr",
          "text": [
            "<ipython-input-608-1cbffe868d0b>:6: SettingWithCopyWarning: \n",
            "A value is trying to be set on a copy of a slice from a DataFrame.\n",
            "Try using .loc[row_indexer,col_indexer] = value instead\n",
            "\n",
            "See the caveats in the documentation: https://pandas.pydata.org/pandas-docs/stable/user_guide/indexing.html#returning-a-view-versus-a-copy\n",
            "  X_tr[col] = encoder.fit_transform(X[col])\n"
          ]
        }
      ]
    },
    {
      "cell_type": "code",
      "source": [
        "X_tr = X_tr.fillna(X_tr.median())"
      ],
      "metadata": {
        "id": "3T2CJXTrgFn7"
      },
      "execution_count": null,
      "outputs": []
    },
    {
      "cell_type": "code",
      "source": [
        "X_train, X_test, y_train, y_test = train_test_split(X_tr, y, test_size = 0.2, random_state = SEED)"
      ],
      "metadata": {
        "id": "QStgKY_0hOcJ"
      },
      "execution_count": null,
      "outputs": []
    },
    {
      "cell_type": "code",
      "source": [
        "smote = SMOTE(random_state = SEED)\n",
        "x_smote, y_smote = smote.fit_resample(X_train, y_train)"
      ],
      "metadata": {
        "id": "3Fc7W1GYhmep"
      },
      "execution_count": null,
      "outputs": []
    },
    {
      "cell_type": "code",
      "source": [
        "print(\"Shape before the Oversampling : \",X_train.shape)\n",
        "print(\"Shape after the Oversampling : \",x_smote.shape)"
      ],
      "metadata": {
        "colab": {
          "base_uri": "https://localhost:8080/"
        },
        "id": "F65V5oEWhx3a",
        "outputId": "c855b643-0aaf-4476-bdde-3b928c5dce5a"
      },
      "execution_count": null,
      "outputs": [
        {
          "output_type": "stream",
          "name": "stdout",
          "text": [
            "Shape before the Oversampling :  (2864, 20)\n",
            "Shape after the Oversampling :  (7920, 20)\n"
          ]
        }
      ]
    },
    {
      "cell_type": "code",
      "source": [
        "X_train.head()"
      ],
      "metadata": {
        "colab": {
          "base_uri": "https://localhost:8080/",
          "height": 270
        },
        "id": "Zpsk5txG6K8w",
        "outputId": "c8105af7-6628-4a97-9f8c-e0049893522e"
      },
      "execution_count": null,
      "outputs": [
        {
          "output_type": "execute_result",
          "data": {
            "text/plain": [
              "       age    TSH   T3    TT4   T4U    FTI  sex  on_thyroxine  \\\n",
              "386   63.0  2.700  0.7   41.0  0.60   69.0    0             0   \n",
              "1560  71.0  0.005  2.2   93.0  0.87  107.0    1             0   \n",
              "621   84.0  0.040  2.0  213.0  0.99  216.0    0             1   \n",
              "3078  47.0  1.200  2.1  130.0  0.99  131.0    0             0   \n",
              "2452  41.0  0.250  3.1  134.0  1.00  134.0    1             0   \n",
              "\n",
              "      query_on_thyroxine  on_antithyroid_medication  sick  pregnant  \\\n",
              "386                    0                          0     0         0   \n",
              "1560                   0                          0     0         0   \n",
              "621                    0                          0     0         0   \n",
              "3078                   0                          0     0         0   \n",
              "2452                   0                          0     0         0   \n",
              "\n",
              "      thyroid_surgery  I131_treatment  query_hypothyroid  query_hyperthyroid  \\\n",
              "386                 0               0                  0                   0   \n",
              "1560                0               0                  0                   0   \n",
              "621                 0               0                  0                   0   \n",
              "3078                0               0                  0                   1   \n",
              "2452                0               0                  0                   0   \n",
              "\n",
              "      lithium  goitre  tumor  psych  \n",
              "386         0       0      0      0  \n",
              "1560        0       0      0      0  \n",
              "621         0       0      0      0  \n",
              "3078        0       0      0      0  \n",
              "2452        0       0      0      0  "
            ],
            "text/html": [
              "\n",
              "  <div id=\"df-a91826c4-1cbd-4897-89eb-c08493560141\">\n",
              "    <div class=\"colab-df-container\">\n",
              "      <div>\n",
              "<style scoped>\n",
              "    .dataframe tbody tr th:only-of-type {\n",
              "        vertical-align: middle;\n",
              "    }\n",
              "\n",
              "    .dataframe tbody tr th {\n",
              "        vertical-align: top;\n",
              "    }\n",
              "\n",
              "    .dataframe thead th {\n",
              "        text-align: right;\n",
              "    }\n",
              "</style>\n",
              "<table border=\"1\" class=\"dataframe\">\n",
              "  <thead>\n",
              "    <tr style=\"text-align: right;\">\n",
              "      <th></th>\n",
              "      <th>age</th>\n",
              "      <th>TSH</th>\n",
              "      <th>T3</th>\n",
              "      <th>TT4</th>\n",
              "      <th>T4U</th>\n",
              "      <th>FTI</th>\n",
              "      <th>sex</th>\n",
              "      <th>on_thyroxine</th>\n",
              "      <th>query_on_thyroxine</th>\n",
              "      <th>on_antithyroid_medication</th>\n",
              "      <th>sick</th>\n",
              "      <th>pregnant</th>\n",
              "      <th>thyroid_surgery</th>\n",
              "      <th>I131_treatment</th>\n",
              "      <th>query_hypothyroid</th>\n",
              "      <th>query_hyperthyroid</th>\n",
              "      <th>lithium</th>\n",
              "      <th>goitre</th>\n",
              "      <th>tumor</th>\n",
              "      <th>psych</th>\n",
              "    </tr>\n",
              "  </thead>\n",
              "  <tbody>\n",
              "    <tr>\n",
              "      <th>386</th>\n",
              "      <td>63.0</td>\n",
              "      <td>2.700</td>\n",
              "      <td>0.7</td>\n",
              "      <td>41.0</td>\n",
              "      <td>0.60</td>\n",
              "      <td>69.0</td>\n",
              "      <td>0</td>\n",
              "      <td>0</td>\n",
              "      <td>0</td>\n",
              "      <td>0</td>\n",
              "      <td>0</td>\n",
              "      <td>0</td>\n",
              "      <td>0</td>\n",
              "      <td>0</td>\n",
              "      <td>0</td>\n",
              "      <td>0</td>\n",
              "      <td>0</td>\n",
              "      <td>0</td>\n",
              "      <td>0</td>\n",
              "      <td>0</td>\n",
              "    </tr>\n",
              "    <tr>\n",
              "      <th>1560</th>\n",
              "      <td>71.0</td>\n",
              "      <td>0.005</td>\n",
              "      <td>2.2</td>\n",
              "      <td>93.0</td>\n",
              "      <td>0.87</td>\n",
              "      <td>107.0</td>\n",
              "      <td>1</td>\n",
              "      <td>0</td>\n",
              "      <td>0</td>\n",
              "      <td>0</td>\n",
              "      <td>0</td>\n",
              "      <td>0</td>\n",
              "      <td>0</td>\n",
              "      <td>0</td>\n",
              "      <td>0</td>\n",
              "      <td>0</td>\n",
              "      <td>0</td>\n",
              "      <td>0</td>\n",
              "      <td>0</td>\n",
              "      <td>0</td>\n",
              "    </tr>\n",
              "    <tr>\n",
              "      <th>621</th>\n",
              "      <td>84.0</td>\n",
              "      <td>0.040</td>\n",
              "      <td>2.0</td>\n",
              "      <td>213.0</td>\n",
              "      <td>0.99</td>\n",
              "      <td>216.0</td>\n",
              "      <td>0</td>\n",
              "      <td>1</td>\n",
              "      <td>0</td>\n",
              "      <td>0</td>\n",
              "      <td>0</td>\n",
              "      <td>0</td>\n",
              "      <td>0</td>\n",
              "      <td>0</td>\n",
              "      <td>0</td>\n",
              "      <td>0</td>\n",
              "      <td>0</td>\n",
              "      <td>0</td>\n",
              "      <td>0</td>\n",
              "      <td>0</td>\n",
              "    </tr>\n",
              "    <tr>\n",
              "      <th>3078</th>\n",
              "      <td>47.0</td>\n",
              "      <td>1.200</td>\n",
              "      <td>2.1</td>\n",
              "      <td>130.0</td>\n",
              "      <td>0.99</td>\n",
              "      <td>131.0</td>\n",
              "      <td>0</td>\n",
              "      <td>0</td>\n",
              "      <td>0</td>\n",
              "      <td>0</td>\n",
              "      <td>0</td>\n",
              "      <td>0</td>\n",
              "      <td>0</td>\n",
              "      <td>0</td>\n",
              "      <td>0</td>\n",
              "      <td>1</td>\n",
              "      <td>0</td>\n",
              "      <td>0</td>\n",
              "      <td>0</td>\n",
              "      <td>0</td>\n",
              "    </tr>\n",
              "    <tr>\n",
              "      <th>2452</th>\n",
              "      <td>41.0</td>\n",
              "      <td>0.250</td>\n",
              "      <td>3.1</td>\n",
              "      <td>134.0</td>\n",
              "      <td>1.00</td>\n",
              "      <td>134.0</td>\n",
              "      <td>1</td>\n",
              "      <td>0</td>\n",
              "      <td>0</td>\n",
              "      <td>0</td>\n",
              "      <td>0</td>\n",
              "      <td>0</td>\n",
              "      <td>0</td>\n",
              "      <td>0</td>\n",
              "      <td>0</td>\n",
              "      <td>0</td>\n",
              "      <td>0</td>\n",
              "      <td>0</td>\n",
              "      <td>0</td>\n",
              "      <td>0</td>\n",
              "    </tr>\n",
              "  </tbody>\n",
              "</table>\n",
              "</div>\n",
              "      <button class=\"colab-df-convert\" onclick=\"convertToInteractive('df-a91826c4-1cbd-4897-89eb-c08493560141')\"\n",
              "              title=\"Convert this dataframe to an interactive table.\"\n",
              "              style=\"display:none;\">\n",
              "        \n",
              "  <svg xmlns=\"http://www.w3.org/2000/svg\" height=\"24px\"viewBox=\"0 0 24 24\"\n",
              "       width=\"24px\">\n",
              "    <path d=\"M0 0h24v24H0V0z\" fill=\"none\"/>\n",
              "    <path d=\"M18.56 5.44l.94 2.06.94-2.06 2.06-.94-2.06-.94-.94-2.06-.94 2.06-2.06.94zm-11 1L8.5 8.5l.94-2.06 2.06-.94-2.06-.94L8.5 2.5l-.94 2.06-2.06.94zm10 10l.94 2.06.94-2.06 2.06-.94-2.06-.94-.94-2.06-.94 2.06-2.06.94z\"/><path d=\"M17.41 7.96l-1.37-1.37c-.4-.4-.92-.59-1.43-.59-.52 0-1.04.2-1.43.59L10.3 9.45l-7.72 7.72c-.78.78-.78 2.05 0 2.83L4 21.41c.39.39.9.59 1.41.59.51 0 1.02-.2 1.41-.59l7.78-7.78 2.81-2.81c.8-.78.8-2.07 0-2.86zM5.41 20L4 18.59l7.72-7.72 1.47 1.35L5.41 20z\"/>\n",
              "  </svg>\n",
              "      </button>\n",
              "      \n",
              "  <style>\n",
              "    .colab-df-container {\n",
              "      display:flex;\n",
              "      flex-wrap:wrap;\n",
              "      gap: 12px;\n",
              "    }\n",
              "\n",
              "    .colab-df-convert {\n",
              "      background-color: #E8F0FE;\n",
              "      border: none;\n",
              "      border-radius: 50%;\n",
              "      cursor: pointer;\n",
              "      display: none;\n",
              "      fill: #1967D2;\n",
              "      height: 32px;\n",
              "      padding: 0 0 0 0;\n",
              "      width: 32px;\n",
              "    }\n",
              "\n",
              "    .colab-df-convert:hover {\n",
              "      background-color: #E2EBFA;\n",
              "      box-shadow: 0px 1px 2px rgba(60, 64, 67, 0.3), 0px 1px 3px 1px rgba(60, 64, 67, 0.15);\n",
              "      fill: #174EA6;\n",
              "    }\n",
              "\n",
              "    [theme=dark] .colab-df-convert {\n",
              "      background-color: #3B4455;\n",
              "      fill: #D2E3FC;\n",
              "    }\n",
              "\n",
              "    [theme=dark] .colab-df-convert:hover {\n",
              "      background-color: #434B5C;\n",
              "      box-shadow: 0px 1px 3px 1px rgba(0, 0, 0, 0.15);\n",
              "      filter: drop-shadow(0px 1px 2px rgba(0, 0, 0, 0.3));\n",
              "      fill: #FFFFFF;\n",
              "    }\n",
              "  </style>\n",
              "\n",
              "      <script>\n",
              "        const buttonEl =\n",
              "          document.querySelector('#df-a91826c4-1cbd-4897-89eb-c08493560141 button.colab-df-convert');\n",
              "        buttonEl.style.display =\n",
              "          google.colab.kernel.accessAllowed ? 'block' : 'none';\n",
              "\n",
              "        async function convertToInteractive(key) {\n",
              "          const element = document.querySelector('#df-a91826c4-1cbd-4897-89eb-c08493560141');\n",
              "          const dataTable =\n",
              "            await google.colab.kernel.invokeFunction('convertToInteractive',\n",
              "                                                     [key], {});\n",
              "          if (!dataTable) return;\n",
              "\n",
              "          const docLinkHtml = 'Like what you see? Visit the ' +\n",
              "            '<a target=\"_blank\" href=https://colab.research.google.com/notebooks/data_table.ipynb>data table notebook</a>'\n",
              "            + ' to learn more about interactive tables.';\n",
              "          element.innerHTML = '';\n",
              "          dataTable['output_type'] = 'display_data';\n",
              "          await google.colab.output.renderOutput(dataTable, element);\n",
              "          const docLink = document.createElement('div');\n",
              "          docLink.innerHTML = docLinkHtml;\n",
              "          element.appendChild(docLink);\n",
              "        }\n",
              "      </script>\n",
              "    </div>\n",
              "  </div>\n",
              "  "
            ]
          },
          "metadata": {},
          "execution_count": 613
        }
      ]
    },
    {
      "cell_type": "markdown",
      "source": [
        "## Logistic Regression"
      ],
      "metadata": {
        "id": "U8FK6EeQ8Eg4"
      }
    },
    {
      "cell_type": "code",
      "source": [
        "model = LogisticRegression()\n",
        "model.fit(X_train, y_train)\n",
        "\n",
        "predictions = model.predict(X_test)\n",
        "print(classification_report(y_test, predictions))"
      ],
      "metadata": {
        "colab": {
          "base_uri": "https://localhost:8080/"
        },
        "id": "o7AUEbgD6QWD",
        "outputId": "9a4792eb-8f1a-4d1f-8f61-13dbdaa01e39"
      },
      "execution_count": null,
      "outputs": [
        {
          "output_type": "stream",
          "name": "stdout",
          "text": [
            "                         precision    recall  f1-score   support\n",
            "\n",
            "compensated_hypothyroid       0.62      0.37      0.46        43\n",
            "               negative       0.96      0.99      0.97       653\n",
            "    primary_hypothyroid       0.78      0.67      0.72        21\n",
            "\n",
            "               accuracy                           0.94       717\n",
            "              macro avg       0.78      0.68      0.72       717\n",
            "           weighted avg       0.93      0.94      0.93       717\n",
            "\n"
          ]
        },
        {
          "output_type": "stream",
          "name": "stderr",
          "text": [
            "/usr/local/lib/python3.8/dist-packages/sklearn/linear_model/_logistic.py:814: ConvergenceWarning: lbfgs failed to converge (status=1):\n",
            "STOP: TOTAL NO. of ITERATIONS REACHED LIMIT.\n",
            "\n",
            "Increase the number of iterations (max_iter) or scale the data as shown in:\n",
            "    https://scikit-learn.org/stable/modules/preprocessing.html\n",
            "Please also refer to the documentation for alternative solver options:\n",
            "    https://scikit-learn.org/stable/modules/linear_model.html#logistic-regression\n",
            "  n_iter_i = _check_optimize_result(\n"
          ]
        }
      ]
    },
    {
      "cell_type": "markdown",
      "source": [
        "Without normalization the scores still low. Try with the smoted data."
      ],
      "metadata": {
        "id": "B_a-ugLO6k9T"
      }
    },
    {
      "cell_type": "code",
      "source": [
        "model = LogisticRegression()\n",
        "model.fit(x_smote, y_smote)\n",
        "\n",
        "predictions = model.predict(X_test)\n",
        "print(classification_report(y_test, predictions))"
      ],
      "metadata": {
        "colab": {
          "base_uri": "https://localhost:8080/"
        },
        "id": "J3fXVfmE6pc0",
        "outputId": "5f92c2e7-6006-4158-caa5-9434c31338aa"
      },
      "execution_count": null,
      "outputs": [
        {
          "output_type": "stream",
          "name": "stdout",
          "text": [
            "                         precision    recall  f1-score   support\n",
            "\n",
            "compensated_hypothyroid       0.68      0.91      0.78        43\n",
            "               negative       1.00      0.97      0.98       653\n",
            "    primary_hypothyroid       0.77      0.95      0.85        21\n",
            "\n",
            "               accuracy                           0.96       717\n",
            "              macro avg       0.82      0.94      0.87       717\n",
            "           weighted avg       0.97      0.96      0.96       717\n",
            "\n"
          ]
        },
        {
          "output_type": "stream",
          "name": "stderr",
          "text": [
            "/usr/local/lib/python3.8/dist-packages/sklearn/linear_model/_logistic.py:814: ConvergenceWarning: lbfgs failed to converge (status=1):\n",
            "STOP: TOTAL NO. of ITERATIONS REACHED LIMIT.\n",
            "\n",
            "Increase the number of iterations (max_iter) or scale the data as shown in:\n",
            "    https://scikit-learn.org/stable/modules/preprocessing.html\n",
            "Please also refer to the documentation for alternative solver options:\n",
            "    https://scikit-learn.org/stable/modules/linear_model.html#logistic-regression\n",
            "  n_iter_i = _check_optimize_result(\n"
          ]
        }
      ]
    },
    {
      "cell_type": "markdown",
      "source": [
        "Now its much better."
      ],
      "metadata": {
        "id": "IUagEv6X6u0n"
      }
    },
    {
      "cell_type": "markdown",
      "source": [
        "## Other models"
      ],
      "metadata": {
        "id": "sb9YGkX18KkN"
      }
    },
    {
      "cell_type": "code",
      "source": [
        "models = {\n",
        "    LogisticRegression(max_iter = 500):'Logistic Regression',\n",
        "    SVC():\"Support Vector Machine\",\n",
        "    RandomForestClassifier():'Random Forest'\n",
        "}\n",
        "for m in models.keys():\n",
        "    m.fit(x_smote,y_smote)\n",
        "for model,name in models.items():\n",
        "     print(f\"Accuracy Score for {name} is : \",model.score(X_test,y_test)*100,\"%\")"
      ],
      "metadata": {
        "colab": {
          "base_uri": "https://localhost:8080/"
        },
        "id": "uM0ZiKY1iQK-",
        "outputId": "f0c717cf-9c55-4148-c379-190da4f0bab2"
      },
      "execution_count": null,
      "outputs": [
        {
          "output_type": "stream",
          "name": "stderr",
          "text": [
            "/usr/local/lib/python3.8/dist-packages/sklearn/linear_model/_logistic.py:814: ConvergenceWarning: lbfgs failed to converge (status=1):\n",
            "STOP: TOTAL NO. of ITERATIONS REACHED LIMIT.\n",
            "\n",
            "Increase the number of iterations (max_iter) or scale the data as shown in:\n",
            "    https://scikit-learn.org/stable/modules/preprocessing.html\n",
            "Please also refer to the documentation for alternative solver options:\n",
            "    https://scikit-learn.org/stable/modules/linear_model.html#logistic-regression\n",
            "  n_iter_i = _check_optimize_result(\n"
          ]
        },
        {
          "output_type": "stream",
          "name": "stdout",
          "text": [
            "Accuracy Score for Logistic Regression is :  97.48953974895397 %\n",
            "Accuracy Score for Support Vector Machine is :  94.83960948396096 %\n",
            "Accuracy Score for Random Forest is :  99.30264993026499 %\n"
          ]
        }
      ]
    },
    {
      "cell_type": "code",
      "source": [
        "for model,name in models.items():\n",
        "    y_pred = model.predict(X_test)\n",
        "    print(f\"Classification Report for {name}\")  \n",
        "    print(\"----------------------------------------------------------\")\n",
        "    print(classification_report(y_test,y_pred))\n",
        "    print(\"----------------------------------------------------------\")"
      ],
      "metadata": {
        "colab": {
          "base_uri": "https://localhost:8080/"
        },
        "id": "eX40QD74iW__",
        "outputId": "ee39b5ea-7658-4009-f846-a589f0924214"
      },
      "execution_count": null,
      "outputs": [
        {
          "output_type": "stream",
          "name": "stdout",
          "text": [
            "Classification Report for Logistic Regression\n",
            "----------------------------------------------------------\n",
            "                         precision    recall  f1-score   support\n",
            "\n",
            "compensated_hypothyroid       0.80      0.93      0.86        43\n",
            "               negative       1.00      0.98      0.99       653\n",
            "    primary_hypothyroid       0.79      0.90      0.84        21\n",
            "\n",
            "               accuracy                           0.97       717\n",
            "              macro avg       0.86      0.94      0.90       717\n",
            "           weighted avg       0.98      0.97      0.98       717\n",
            "\n",
            "----------------------------------------------------------\n",
            "Classification Report for Support Vector Machine\n",
            "----------------------------------------------------------\n",
            "                         precision    recall  f1-score   support\n",
            "\n",
            "compensated_hypothyroid       0.60      1.00      0.75        43\n",
            "               negative       1.00      0.95      0.97       653\n",
            "    primary_hypothyroid       0.70      0.90      0.79        21\n",
            "\n",
            "               accuracy                           0.95       717\n",
            "              macro avg       0.77      0.95      0.84       717\n",
            "           weighted avg       0.97      0.95      0.95       717\n",
            "\n",
            "----------------------------------------------------------\n",
            "Classification Report for Random Forest\n",
            "----------------------------------------------------------\n",
            "                         precision    recall  f1-score   support\n",
            "\n",
            "compensated_hypothyroid       0.91      1.00      0.96        43\n",
            "               negative       1.00      0.99      1.00       653\n",
            "    primary_hypothyroid       0.95      0.95      0.95        21\n",
            "\n",
            "               accuracy                           0.99       717\n",
            "              macro avg       0.96      0.98      0.97       717\n",
            "           weighted avg       0.99      0.99      0.99       717\n",
            "\n",
            "----------------------------------------------------------\n"
          ]
        }
      ]
    },
    {
      "cell_type": "code",
      "source": [
        "rf = RandomForestClassifier()\n",
        "rf.fit(x_smote,y_smote)\n",
        "rf.score(X_test,y_test)"
      ],
      "metadata": {
        "colab": {
          "base_uri": "https://localhost:8080/"
        },
        "id": "VaCVXIHPif_S",
        "outputId": "95018b32-0929-44c9-d88e-e52fb2dc4902"
      },
      "execution_count": null,
      "outputs": [
        {
          "output_type": "execute_result",
          "data": {
            "text/plain": [
              "0.99581589958159"
            ]
          },
          "metadata": {},
          "execution_count": 618
        }
      ]
    },
    {
      "cell_type": "code",
      "source": [
        "plt.figure(figsize=(9,7))\n",
        "feature_imp1 = rf.feature_importances_\n",
        "sns.barplot(x=feature_imp1, y=X.columns)\n",
        "\n",
        "plt.xlabel('Feature Importance Score')\n",
        "plt.ylabel('Features')\n",
        "plt.title('Visualizing Important Features For Random Forest')\n",
        "plt.show()"
      ],
      "metadata": {
        "colab": {
          "base_uri": "https://localhost:8080/",
          "height": 458
        },
        "id": "DnQca53-ikAp",
        "outputId": "c734528c-ca96-4299-bd59-fbc0452a6321"
      },
      "execution_count": null,
      "outputs": [
        {
          "output_type": "display_data",
          "data": {
            "text/plain": [
              "<Figure size 648x504 with 1 Axes>"
            ],
            "image/png": "[encoded data removed]"
          },
          "metadata": {
            "needs_background": "light"
          }
        }
      ]
    },
    {
      "cell_type": "markdown",
      "source": [
        "## KNN"
      ],
      "metadata": {
        "id": "Hc6fhKFA8Or6"
      }
    },
    {
      "cell_type": "code",
      "source": [
        "knn = KNeighborsClassifier(n_neighbors = 5)\n",
        "knn.fit(x_smote, y_smote)"
      ],
      "metadata": {
        "colab": {
          "base_uri": "https://localhost:8080/"
        },
        "id": "iwTaVeWjnaub",
        "outputId": "993c2d27-7f73-41bb-8438-660296809418"
      },
      "execution_count": null,
      "outputs": [
        {
          "output_type": "execute_result",
          "data": {
            "text/plain": [
              "KNeighborsClassifier()"
            ]
          },
          "metadata": {},
          "execution_count": 620
        }
      ]
    },
    {
      "cell_type": "code",
      "source": [
        "y_pred_knn = knn.predict(X_test)"
      ],
      "metadata": {
        "id": "x0Io5XkRnjnD"
      },
      "execution_count": null,
      "outputs": []
    },
    {
      "cell_type": "code",
      "source": [
        "print(knn.score(X_test, y_test))"
      ],
      "metadata": {
        "colab": {
          "base_uri": "https://localhost:8080/"
        },
        "id": "eHYgoipDnnC7",
        "outputId": "594f793b-0201-4255-8ede-71ecf48eb30e"
      },
      "execution_count": null,
      "outputs": [
        {
          "output_type": "stream",
          "name": "stdout",
          "text": [
            "0.9358437935843794\n"
          ]
        }
      ]
    },
    {
      "cell_type": "code",
      "source": [
        "print(classification_report(y_test, y_pred_knn))"
      ],
      "metadata": {
        "colab": {
          "base_uri": "https://localhost:8080/"
        },
        "id": "uZUdb2HunrWl",
        "outputId": "d3fae301-64ee-4fdc-ed6f-d92b134e613a"
      },
      "execution_count": null,
      "outputs": [
        {
          "output_type": "stream",
          "name": "stdout",
          "text": [
            "                         precision    recall  f1-score   support\n",
            "\n",
            "compensated_hypothyroid       0.54      0.81      0.65        43\n",
            "               negative       0.99      0.95      0.97       653\n",
            "    primary_hypothyroid       0.69      0.86      0.77        21\n",
            "\n",
            "               accuracy                           0.94       717\n",
            "              macro avg       0.74      0.87      0.79       717\n",
            "           weighted avg       0.95      0.94      0.94       717\n",
            "\n"
          ]
        }
      ]
    },
    {
      "cell_type": "markdown",
      "source": [
        "With K-Nearest Neighbors the scores are not bad, but the compensated hypothyroid classification just don't work as I want."
      ],
      "metadata": {
        "id": "mM18eyYT97zq"
      }
    },
    {
      "cell_type": "markdown",
      "source": [
        "It's interesting that without normalization/scaling, the models perform better than with them. I guess this is because of the extreme outlier values. But as I mentoined, I find it important to keep them in such a measurements.\n",
        "\n",
        "Overall, Random Forest and Logistic Regression done the best work for this dataset, and got the best scores from it."
      ],
      "metadata": {
        "id": "09qAdbeh-FS-"
      }
    }
  ]
}