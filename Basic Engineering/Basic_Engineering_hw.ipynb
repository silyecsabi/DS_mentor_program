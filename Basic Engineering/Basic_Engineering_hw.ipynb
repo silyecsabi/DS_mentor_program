{
  "cells": [
    {
      "cell_type": "markdown",
      "id": "fe9dd8d8",
      "metadata": {
        "toc": true,
        "id": "fe9dd8d8"
      },
      "source": [
        "<h1>Table of Contents<span class=\"tocSkip\"></span></h1>\n",
        "<div class=\"toc\"><ul class=\"toc-item\"><li><span><a href=\"#Sex-and-age\" data-toc-modified-id=\"Sex-and-age-1\"><span class=\"toc-item-num\">1&nbsp;&nbsp;</span>Sex and age</a></span></li><li><span><a href=\"#Height-and-weight\" data-toc-modified-id=\"Height-and-weight-2\"><span class=\"toc-item-num\">2&nbsp;&nbsp;</span>Height and weight</a></span><ul class=\"toc-item\"><li><span><a href=\"#Plot-of-weight-and-height-for-girls-and-boys-as-functions-of-age\" data-toc-modified-id=\"Plot-of-weight-and-height-for-girls-and-boys-as-functions-of-age-2.1\"><span class=\"toc-item-num\">2.1&nbsp;&nbsp;</span>Plot of weight and height for girls and boys as functions of age</a></span></li></ul></li><li><span><a href=\"#Tables-for-girls-and-boys\" data-toc-modified-id=\"Tables-for-girls-and-boys-3\"><span class=\"toc-item-num\">3&nbsp;&nbsp;</span>Tables for girls and boys</a></span></li><li><span><a href=\"#General-table\" data-toc-modified-id=\"General-table-4\"><span class=\"toc-item-num\">4&nbsp;&nbsp;</span>General table</a></span></li><li><span><a href=\"#(Self)-check\" data-toc-modified-id=\"(Self)-check-5\"><span class=\"toc-item-num\">5&nbsp;&nbsp;</span>(Self) check</a></span></li></ul></div>"
      ]
    },
    {
      "cell_type": "markdown",
      "id": "ca63b61d",
      "metadata": {
        "id": "ca63b61d"
      },
      "source": [
        "Often we have to create our own synthetic data for modeling. Let us create a synthetic dataset for modeling of weight and height of teenagers as a function of age.\n",
        "\n",
        "Please do not forget of PEP8 and common concepts like DRY (e.g., use loops)."
      ]
    },
    {
      "cell_type": "code",
      "execution_count": null,
      "id": "0e7638a6",
      "metadata": {
        "ExecuteTime": {
          "end_time": "2021-07-03T09:06:43.019349Z",
          "start_time": "2021-07-03T09:06:42.293362Z"
        },
        "id": "0e7638a6"
      },
      "outputs": [],
      "source": [
        "import numpy as np\n",
        "import matplotlib.pyplot as plt\n",
        "import pandas as pd"
      ]
    },
    {
      "cell_type": "markdown",
      "id": "a95068f9",
      "metadata": {
        "id": "a95068f9"
      },
      "source": [
        "## Sex and age\n",
        "\n",
        "Create two lists with N elements each (`sex_f` and `sex_m`), filled with letters 'F' and 'M'.\n",
        "\n",
        "Using `numpy` functions `arange` and `linspace` create two arrays with N elements filled with linearly growing numbers from 11 to 20 (`age_f` and `age_m`). \n",
        "\n",
        "Make N as a global constant which can be equal to 10 in this example."
      ]
    },
    {
      "cell_type": "code",
      "execution_count": null,
      "id": "4380f6a5",
      "metadata": {
        "ExecuteTime": {
          "end_time": "2021-07-03T09:06:43.035465Z",
          "start_time": "2021-07-03T09:06:43.020308Z"
        },
        "id": "4380f6a5"
      },
      "outputs": [],
      "source": [
        "N = 10"
      ]
    },
    {
      "cell_type": "code",
      "execution_count": null,
      "id": "d623dbe5",
      "metadata": {
        "ExecuteTime": {
          "end_time": "2021-07-03T09:06:43.051039Z",
          "start_time": "2021-07-03T09:06:43.037305Z"
        },
        "id": "d623dbe5"
      },
      "outputs": [],
      "source": [
        "sex_f = ['F' for i in range(N)]\n",
        "sex_m = ['M' for i in range(N)]"
      ]
    },
    {
      "cell_type": "code",
      "execution_count": null,
      "id": "082be3d9",
      "metadata": {
        "ExecuteTime": {
          "end_time": "2021-07-03T09:06:43.067032Z",
          "start_time": "2021-07-03T09:06:43.052002Z"
        },
        "id": "082be3d9"
      },
      "outputs": [],
      "source": [
        "age_f = np.arange(11, 21)\n",
        "age_m = np.arange(11, 21)"
      ]
    },
    {
      "cell_type": "markdown",
      "id": "f18163c1",
      "metadata": {
        "id": "f18163c1"
      },
      "source": [
        "## Height and weight\n",
        "\n",
        "Create an array of length N for the height of girls (`height_f`) filled with elements linearly growing from 145 to 165 (cm). Generate an array of a normal \"noise\" using `bumpy.random.normal` with zero mean and $\\sigma=3$. Add this noise to the previous array.\n",
        "\n",
        "Perform similar actions for the height of boys (`height_m`) but for heigth range [145, 175].\n",
        "\n",
        "**Note:** Please, fix `random.seed` in the first cell of this section for the reproducibility.\n",
        "\n",
        "Using similar procedures create an arrays for weights of girls (`weight_f`: from 35 to 60 kg) and boys (`weight_f`: from 35 to 70 kg). Set the value of $\\sigma=5$."
      ]
    },
    {
      "cell_type": "code",
      "execution_count": null,
      "id": "b8bb4bec",
      "metadata": {
        "ExecuteTime": {
          "end_time": "2021-07-03T09:06:43.081690Z",
          "start_time": "2021-07-03T09:06:43.068029Z"
        },
        "id": "b8bb4bec"
      },
      "outputs": [],
      "source": [
        "# I'm not sure that's what you mean.\n",
        "np.random.seed(1)"
      ]
    },
    {
      "cell_type": "code",
      "source": [
        "#The following procedure is the same for the next actions. (So I just document the first one.)\n",
        "\n",
        "height_noise = np.random.normal(0, 3, N)      # mu = 0, sigma = 3\n",
        "# Generate random numbers between 145 and 166 and sort them to be linearly growing\n",
        "height_f = sorted([np.random.randint(145, 166) for i in range(N)])\n",
        "# Add the noise\n",
        "height_f = [height_f[i] + height_noise[i] for i in range(N)]\n",
        "\n",
        "\n",
        "# Do not be the same noises for the height_f and height_m arrays\n",
        "height_noise = np.random.normal(0, 3, N)\n",
        "height_m = sorted([np.random.randint(145, 176) for i in range(N)])\n",
        "height_m = [height_m[i] + height_noise[i] for i in range(N)]"
      ],
      "metadata": {
        "id": "jPgFgoBbxC-1"
      },
      "id": "jPgFgoBbxC-1",
      "execution_count": null,
      "outputs": []
    },
    {
      "cell_type": "code",
      "execution_count": null,
      "id": "42385d85",
      "metadata": {
        "ExecuteTime": {
          "end_time": "2021-07-03T09:06:43.113320Z",
          "start_time": "2021-07-03T09:06:43.098686Z"
        },
        "id": "42385d85"
      },
      "outputs": [],
      "source": [
        "weight_noise = np.random.normal(0, 5, N)\n",
        "weight_f = sorted([np.random.randint(35, 61) for i in range(N)])\n",
        "weight_f = [weight_f[i] + weight_noise[i] for i in range(N)]\n",
        "\n",
        "# Do not be the same noises for the weight_f and weight_m arrays\n",
        "weight_noise = np.random.normal(0, 5, N)\n",
        "weight_m = sorted([np.random.randint(35, 71) for i in range(N)])\n",
        "weight_m = [weight_m[i] + weight_noise[i] for i in range(N)]"
      ]
    },
    {
      "cell_type": "markdown",
      "id": "660fabb7",
      "metadata": {
        "id": "660fabb7"
      },
      "source": [
        "### Plot of weight and height for girls and boys as functions of age\n",
        "\n",
        "Please plot the entitled dependencies in two frames one over other. One of them should plot height for boys and girls in one frame, while the other - weight.\n",
        "\n",
        "Do not forget provide your figures with titles, legend and labels for axes."
      ]
    },
    {
      "cell_type": "code",
      "source": [
        "# Create 2 subplot, one for Weights data, one for Heights data\n",
        "fig, ax = plt.subplots(1, 2, figsize = (20, 5))\n",
        "fig.suptitle(f'Weight and Height data for {N} persons', fontsize = 15)\n",
        "\n",
        "# 'Weights' graph setup and customize\n",
        "ax[0].bar(age_f - 0.2, weight_f, 0.4, label = 'Female', color = '#eda1f7', edgecolor='#000000')\n",
        "ax[0].bar(age_m + 0.2, weight_m, 0.4, label = 'Male', color = '#535c8f', edgecolor = '#000000')\n",
        "ax[0].set_title('Weights')\n",
        "ax[0].set_xlabel('Age')\n",
        "ax[0].set_ylabel('Weight (kg)')\n",
        "ax[0].legend()\n",
        "\n",
        "# 'Heights' graph setup and customize\n",
        "ax[1].bar(age_f - 0.2, height_f, 0.4, label = 'Female', color = '#eda1f7', edgecolor = '#000000')\n",
        "ax[1].bar(age_m + 0.2, height_m, 0.4, label = 'Male', color = '#535c8f', edgecolor = '#000000')\n",
        "ax[1].set_title('Heights')\n",
        "ax[1].set_xlabel('Age')\n",
        "ax[1].set_ylabel('Height (cm)')\n",
        "ax[1].legend()\n",
        "\n",
        "plt.show()"
      ],
      "metadata": {
        "colab": {
          "base_uri": "https://localhost:8080/",
          "height": 370
        },
        "id": "ugoWVHlWq5AP",
        "outputId": "33c6b1cf-50f4-4edf-cb90-ea955eb1b236"
      },
      "id": "ugoWVHlWq5AP",
      "execution_count": null,
      "outputs": [
        {
          "output_type": "display_data",
          "data": {
            "text/plain": [
              "<Figure size 1440x360 with 2 Axes>"
            ],
            "image/png": "[encoded data removed]"
          },
          "metadata": {
            "needs_background": "light"
          }
        }
      ]
    },
    {
      "cell_type": "markdown",
      "id": "4bc27f6f",
      "metadata": {
        "id": "4bc27f6f"
      },
      "source": [
        "## Tables for girls and boys\n",
        "\n",
        "Combine your data in two dataframes with columns \"age\", \"sex\", \"height\", and \"weight\" for boys and girls separately."
      ]
    },
    {
      "cell_type": "code",
      "execution_count": null,
      "id": "26306fbd",
      "metadata": {
        "ExecuteTime": {
          "end_time": "2021-07-03T09:06:43.590109Z",
          "start_time": "2021-07-03T09:06:43.559110Z"
        },
        "id": "26306fbd",
        "colab": {
          "base_uri": "https://localhost:8080/",
          "height": 206
        },
        "outputId": "30efb3ed-2ce9-44d0-be83-18ad52488d74"
      },
      "outputs": [
        {
          "output_type": "execute_result",
          "data": {
            "text/plain": [
              "   Age Sex     Weight      Height\n",
              "0   11   F  33.912909  149.873036\n",
              "1   12   F  42.792574  147.164731\n",
              "2   13   F  49.367091  150.415485\n",
              "3   14   F  48.443083  150.781094\n",
              "4   15   F  44.809806  156.596223"
            ],
            "text/html": [
              "\n",
              "  <div id=\"df-19d95952-ecdf-4d2e-a9e9-9e74d51a923b\">\n",
              "    <div class=\"colab-df-container\">\n",
              "      <div>\n",
              "<style scoped>\n",
              "    .dataframe tbody tr th:only-of-type {\n",
              "        vertical-align: middle;\n",
              "    }\n",
              "\n",
              "    .dataframe tbody tr th {\n",
              "        vertical-align: top;\n",
              "    }\n",
              "\n",
              "    .dataframe thead th {\n",
              "        text-align: right;\n",
              "    }\n",
              "</style>\n",
              "<table border=\"1\" class=\"dataframe\">\n",
              "  <thead>\n",
              "    <tr style=\"text-align: right;\">\n",
              "      <th></th>\n",
              "      <th>Age</th>\n",
              "      <th>Sex</th>\n",
              "      <th>Weight</th>\n",
              "      <th>Height</th>\n",
              "    </tr>\n",
              "  </thead>\n",
              "  <tbody>\n",
              "    <tr>\n",
              "      <th>0</th>\n",
              "      <td>11</td>\n",
              "      <td>F</td>\n",
              "      <td>33.912909</td>\n",
              "      <td>149.873036</td>\n",
              "    </tr>\n",
              "    <tr>\n",
              "      <th>1</th>\n",
              "      <td>12</td>\n",
              "      <td>F</td>\n",
              "      <td>42.792574</td>\n",
              "      <td>147.164731</td>\n",
              "    </tr>\n",
              "    <tr>\n",
              "      <th>2</th>\n",
              "      <td>13</td>\n",
              "      <td>F</td>\n",
              "      <td>49.367091</td>\n",
              "      <td>150.415485</td>\n",
              "    </tr>\n",
              "    <tr>\n",
              "      <th>3</th>\n",
              "      <td>14</td>\n",
              "      <td>F</td>\n",
              "      <td>48.443083</td>\n",
              "      <td>150.781094</td>\n",
              "    </tr>\n",
              "    <tr>\n",
              "      <th>4</th>\n",
              "      <td>15</td>\n",
              "      <td>F</td>\n",
              "      <td>44.809806</td>\n",
              "      <td>156.596223</td>\n",
              "    </tr>\n",
              "  </tbody>\n",
              "</table>\n",
              "</div>\n",
              "      <button class=\"colab-df-convert\" onclick=\"convertToInteractive('df-19d95952-ecdf-4d2e-a9e9-9e74d51a923b')\"\n",
              "              title=\"Convert this dataframe to an interactive table.\"\n",
              "              style=\"display:none;\">\n",
              "        \n",
              "  <svg xmlns=\"http://www.w3.org/2000/svg\" height=\"24px\"viewBox=\"0 0 24 24\"\n",
              "       width=\"24px\">\n",
              "    <path d=\"M0 0h24v24H0V0z\" fill=\"none\"/>\n",
              "    <path d=\"M18.56 5.44l.94 2.06.94-2.06 2.06-.94-2.06-.94-.94-2.06-.94 2.06-2.06.94zm-11 1L8.5 8.5l.94-2.06 2.06-.94-2.06-.94L8.5 2.5l-.94 2.06-2.06.94zm10 10l.94 2.06.94-2.06 2.06-.94-2.06-.94-.94-2.06-.94 2.06-2.06.94z\"/><path d=\"M17.41 7.96l-1.37-1.37c-.4-.4-.92-.59-1.43-.59-.52 0-1.04.2-1.43.59L10.3 9.45l-7.72 7.72c-.78.78-.78 2.05 0 2.83L4 21.41c.39.39.9.59 1.41.59.51 0 1.02-.2 1.41-.59l7.78-7.78 2.81-2.81c.8-.78.8-2.07 0-2.86zM5.41 20L4 18.59l7.72-7.72 1.47 1.35L5.41 20z\"/>\n",
              "  </svg>\n",
              "      </button>\n",
              "      \n",
              "  <style>\n",
              "    .colab-df-container {\n",
              "      display:flex;\n",
              "      flex-wrap:wrap;\n",
              "      gap: 12px;\n",
              "    }\n",
              "\n",
              "    .colab-df-convert {\n",
              "      background-color: #E8F0FE;\n",
              "      border: none;\n",
              "      border-radius: 50%;\n",
              "      cursor: pointer;\n",
              "      display: none;\n",
              "      fill: #1967D2;\n",
              "      height: 32px;\n",
              "      padding: 0 0 0 0;\n",
              "      width: 32px;\n",
              "    }\n",
              "\n",
              "    .colab-df-convert:hover {\n",
              "      background-color: #E2EBFA;\n",
              "      box-shadow: 0px 1px 2px rgba(60, 64, 67, 0.3), 0px 1px 3px 1px rgba(60, 64, 67, 0.15);\n",
              "      fill: #174EA6;\n",
              "    }\n",
              "\n",
              "    [theme=dark] .colab-df-convert {\n",
              "      background-color: #3B4455;\n",
              "      fill: #D2E3FC;\n",
              "    }\n",
              "\n",
              "    [theme=dark] .colab-df-convert:hover {\n",
              "      background-color: #434B5C;\n",
              "      box-shadow: 0px 1px 3px 1px rgba(0, 0, 0, 0.15);\n",
              "      filter: drop-shadow(0px 1px 2px rgba(0, 0, 0, 0.3));\n",
              "      fill: #FFFFFF;\n",
              "    }\n",
              "  </style>\n",
              "\n",
              "      <script>\n",
              "        const buttonEl =\n",
              "          document.querySelector('#df-19d95952-ecdf-4d2e-a9e9-9e74d51a923b button.colab-df-convert');\n",
              "        buttonEl.style.display =\n",
              "          google.colab.kernel.accessAllowed ? 'block' : 'none';\n",
              "\n",
              "        async function convertToInteractive(key) {\n",
              "          const element = document.querySelector('#df-19d95952-ecdf-4d2e-a9e9-9e74d51a923b');\n",
              "          const dataTable =\n",
              "            await google.colab.kernel.invokeFunction('convertToInteractive',\n",
              "                                                     [key], {});\n",
              "          if (!dataTable) return;\n",
              "\n",
              "          const docLinkHtml = 'Like what you see? Visit the ' +\n",
              "            '<a target=\"_blank\" href=https://colab.research.google.com/notebooks/data_table.ipynb>data table notebook</a>'\n",
              "            + ' to learn more about interactive tables.';\n",
              "          element.innerHTML = '';\n",
              "          dataTable['output_type'] = 'display_data';\n",
              "          await google.colab.output.renderOutput(dataTable, element);\n",
              "          const docLink = document.createElement('div');\n",
              "          docLink.innerHTML = docLinkHtml;\n",
              "          element.appendChild(docLink);\n",
              "        }\n",
              "      </script>\n",
              "    </div>\n",
              "  </div>\n",
              "  "
            ]
          },
          "metadata": {},
          "execution_count": 31
        }
      ],
      "source": [
        "girls = pd.DataFrame(list(zip(age_f, sex_f, weight_f, height_f)), columns = ['Age', 'Sex', 'Weight', 'Height'])\n",
        "girls.head()"
      ]
    },
    {
      "cell_type": "code",
      "execution_count": null,
      "id": "3071f04f",
      "metadata": {
        "ExecuteTime": {
          "end_time": "2021-07-03T09:06:43.622113Z",
          "start_time": "2021-07-03T09:06:43.591109Z"
        },
        "id": "3071f04f",
        "colab": {
          "base_uri": "https://localhost:8080/",
          "height": 206
        },
        "outputId": "19862a51-e8af-4352-b25e-d02291d3c8a5"
      },
      "outputs": [
        {
          "output_type": "execute_result",
          "data": {
            "text/plain": [
              "   Age Sex     Weight      Height\n",
              "0   11   M  47.459131  148.401308\n",
              "1   12   M  38.260231  143.700326\n",
              "2   13   M  40.096014  148.482715\n",
              "3   14   M  45.446230  151.366425\n",
              "4   15   M  57.210144  158.126641"
            ],
            "text/html": [
              "\n",
              "  <div id=\"df-65542e7e-4397-4c58-89f4-2f59b37c25bf\">\n",
              "    <div class=\"colab-df-container\">\n",
              "      <div>\n",
              "<style scoped>\n",
              "    .dataframe tbody tr th:only-of-type {\n",
              "        vertical-align: middle;\n",
              "    }\n",
              "\n",
              "    .dataframe tbody tr th {\n",
              "        vertical-align: top;\n",
              "    }\n",
              "\n",
              "    .dataframe thead th {\n",
              "        text-align: right;\n",
              "    }\n",
              "</style>\n",
              "<table border=\"1\" class=\"dataframe\">\n",
              "  <thead>\n",
              "    <tr style=\"text-align: right;\">\n",
              "      <th></th>\n",
              "      <th>Age</th>\n",
              "      <th>Sex</th>\n",
              "      <th>Weight</th>\n",
              "      <th>Height</th>\n",
              "    </tr>\n",
              "  </thead>\n",
              "  <tbody>\n",
              "    <tr>\n",
              "      <th>0</th>\n",
              "      <td>11</td>\n",
              "      <td>M</td>\n",
              "      <td>47.459131</td>\n",
              "      <td>148.401308</td>\n",
              "    </tr>\n",
              "    <tr>\n",
              "      <th>1</th>\n",
              "      <td>12</td>\n",
              "      <td>M</td>\n",
              "      <td>38.260231</td>\n",
              "      <td>143.700326</td>\n",
              "    </tr>\n",
              "    <tr>\n",
              "      <th>2</th>\n",
              "      <td>13</td>\n",
              "      <td>M</td>\n",
              "      <td>40.096014</td>\n",
              "      <td>148.482715</td>\n",
              "    </tr>\n",
              "    <tr>\n",
              "      <th>3</th>\n",
              "      <td>14</td>\n",
              "      <td>M</td>\n",
              "      <td>45.446230</td>\n",
              "      <td>151.366425</td>\n",
              "    </tr>\n",
              "    <tr>\n",
              "      <th>4</th>\n",
              "      <td>15</td>\n",
              "      <td>M</td>\n",
              "      <td>57.210144</td>\n",
              "      <td>158.126641</td>\n",
              "    </tr>\n",
              "  </tbody>\n",
              "</table>\n",
              "</div>\n",
              "      <button class=\"colab-df-convert\" onclick=\"convertToInteractive('df-65542e7e-4397-4c58-89f4-2f59b37c25bf')\"\n",
              "              title=\"Convert this dataframe to an interactive table.\"\n",
              "              style=\"display:none;\">\n",
              "        \n",
              "  <svg xmlns=\"http://www.w3.org/2000/svg\" height=\"24px\"viewBox=\"0 0 24 24\"\n",
              "       width=\"24px\">\n",
              "    <path d=\"M0 0h24v24H0V0z\" fill=\"none\"/>\n",
              "    <path d=\"M18.56 5.44l.94 2.06.94-2.06 2.06-.94-2.06-.94-.94-2.06-.94 2.06-2.06.94zm-11 1L8.5 8.5l.94-2.06 2.06-.94-2.06-.94L8.5 2.5l-.94 2.06-2.06.94zm10 10l.94 2.06.94-2.06 2.06-.94-2.06-.94-.94-2.06-.94 2.06-2.06.94z\"/><path d=\"M17.41 7.96l-1.37-1.37c-.4-.4-.92-.59-1.43-.59-.52 0-1.04.2-1.43.59L10.3 9.45l-7.72 7.72c-.78.78-.78 2.05 0 2.83L4 21.41c.39.39.9.59 1.41.59.51 0 1.02-.2 1.41-.59l7.78-7.78 2.81-2.81c.8-.78.8-2.07 0-2.86zM5.41 20L4 18.59l7.72-7.72 1.47 1.35L5.41 20z\"/>\n",
              "  </svg>\n",
              "      </button>\n",
              "      \n",
              "  <style>\n",
              "    .colab-df-container {\n",
              "      display:flex;\n",
              "      flex-wrap:wrap;\n",
              "      gap: 12px;\n",
              "    }\n",
              "\n",
              "    .colab-df-convert {\n",
              "      background-color: #E8F0FE;\n",
              "      border: none;\n",
              "      border-radius: 50%;\n",
              "      cursor: pointer;\n",
              "      display: none;\n",
              "      fill: #1967D2;\n",
              "      height: 32px;\n",
              "      padding: 0 0 0 0;\n",
              "      width: 32px;\n",
              "    }\n",
              "\n",
              "    .colab-df-convert:hover {\n",
              "      background-color: #E2EBFA;\n",
              "      box-shadow: 0px 1px 2px rgba(60, 64, 67, 0.3), 0px 1px 3px 1px rgba(60, 64, 67, 0.15);\n",
              "      fill: #174EA6;\n",
              "    }\n",
              "\n",
              "    [theme=dark] .colab-df-convert {\n",
              "      background-color: #3B4455;\n",
              "      fill: #D2E3FC;\n",
              "    }\n",
              "\n",
              "    [theme=dark] .colab-df-convert:hover {\n",
              "      background-color: #434B5C;\n",
              "      box-shadow: 0px 1px 3px 1px rgba(0, 0, 0, 0.15);\n",
              "      filter: drop-shadow(0px 1px 2px rgba(0, 0, 0, 0.3));\n",
              "      fill: #FFFFFF;\n",
              "    }\n",
              "  </style>\n",
              "\n",
              "      <script>\n",
              "        const buttonEl =\n",
              "          document.querySelector('#df-65542e7e-4397-4c58-89f4-2f59b37c25bf button.colab-df-convert');\n",
              "        buttonEl.style.display =\n",
              "          google.colab.kernel.accessAllowed ? 'block' : 'none';\n",
              "\n",
              "        async function convertToInteractive(key) {\n",
              "          const element = document.querySelector('#df-65542e7e-4397-4c58-89f4-2f59b37c25bf');\n",
              "          const dataTable =\n",
              "            await google.colab.kernel.invokeFunction('convertToInteractive',\n",
              "                                                     [key], {});\n",
              "          if (!dataTable) return;\n",
              "\n",
              "          const docLinkHtml = 'Like what you see? Visit the ' +\n",
              "            '<a target=\"_blank\" href=https://colab.research.google.com/notebooks/data_table.ipynb>data table notebook</a>'\n",
              "            + ' to learn more about interactive tables.';\n",
              "          element.innerHTML = '';\n",
              "          dataTable['output_type'] = 'display_data';\n",
              "          await google.colab.output.renderOutput(dataTable, element);\n",
              "          const docLink = document.createElement('div');\n",
              "          docLink.innerHTML = docLinkHtml;\n",
              "          element.appendChild(docLink);\n",
              "        }\n",
              "      </script>\n",
              "    </div>\n",
              "  </div>\n",
              "  "
            ]
          },
          "metadata": {},
          "execution_count": 32
        }
      ],
      "source": [
        "boys = pd.DataFrame(list(zip(age_m, sex_m, weight_m, height_m)), columns = ['Age', 'Sex', 'Weight', 'Height'])\n",
        "boys.head()"
      ]
    },
    {
      "cell_type": "markdown",
      "id": "abfc1052",
      "metadata": {
        "id": "abfc1052"
      },
      "source": [
        "## General table\n",
        "\n",
        "Create a general table both for girls and boys sorting rows by\n",
        "- at first by age (in ascending order)\n",
        "- by sex (in descending order: boys first)"
      ]
    },
    {
      "cell_type": "code",
      "execution_count": null,
      "id": "a1a64731",
      "metadata": {
        "ExecuteTime": {
          "end_time": "2021-07-03T09:06:43.654114Z",
          "start_time": "2021-07-03T09:06:43.624112Z"
        },
        "id": "a1a64731",
        "colab": {
          "base_uri": "https://localhost:8080/",
          "height": 238
        },
        "outputId": "9a95b130-0c02-4113-ec23-6a9e949dad7b"
      },
      "outputs": [
        {
          "output_type": "execute_result",
          "data": {
            "text/plain": [
              "    Age Sex     Weight      Height\n",
              "10   11   M  47.459131  148.401308\n",
              "0    11   F  33.912909  149.873036\n",
              "11   12   M  38.260231  143.700326\n",
              "1    12   F  42.792574  147.164731\n",
              "12   13   M  40.096014  148.482715\n",
              "2    13   F  49.367091  150.415485"
            ],
            "text/html": [
              "\n",
              "  <div id=\"df-69e27a7f-4892-4d98-be19-94d4ae9a55fc\">\n",
              "    <div class=\"colab-df-container\">\n",
              "      <div>\n",
              "<style scoped>\n",
              "    .dataframe tbody tr th:only-of-type {\n",
              "        vertical-align: middle;\n",
              "    }\n",
              "\n",
              "    .dataframe tbody tr th {\n",
              "        vertical-align: top;\n",
              "    }\n",
              "\n",
              "    .dataframe thead th {\n",
              "        text-align: right;\n",
              "    }\n",
              "</style>\n",
              "<table border=\"1\" class=\"dataframe\">\n",
              "  <thead>\n",
              "    <tr style=\"text-align: right;\">\n",
              "      <th></th>\n",
              "      <th>Age</th>\n",
              "      <th>Sex</th>\n",
              "      <th>Weight</th>\n",
              "      <th>Height</th>\n",
              "    </tr>\n",
              "  </thead>\n",
              "  <tbody>\n",
              "    <tr>\n",
              "      <th>10</th>\n",
              "      <td>11</td>\n",
              "      <td>M</td>\n",
              "      <td>47.459131</td>\n",
              "      <td>148.401308</td>\n",
              "    </tr>\n",
              "    <tr>\n",
              "      <th>0</th>\n",
              "      <td>11</td>\n",
              "      <td>F</td>\n",
              "      <td>33.912909</td>\n",
              "      <td>149.873036</td>\n",
              "    </tr>\n",
              "    <tr>\n",
              "      <th>11</th>\n",
              "      <td>12</td>\n",
              "      <td>M</td>\n",
              "      <td>38.260231</td>\n",
              "      <td>143.700326</td>\n",
              "    </tr>\n",
              "    <tr>\n",
              "      <th>1</th>\n",
              "      <td>12</td>\n",
              "      <td>F</td>\n",
              "      <td>42.792574</td>\n",
              "      <td>147.164731</td>\n",
              "    </tr>\n",
              "    <tr>\n",
              "      <th>12</th>\n",
              "      <td>13</td>\n",
              "      <td>M</td>\n",
              "      <td>40.096014</td>\n",
              "      <td>148.482715</td>\n",
              "    </tr>\n",
              "    <tr>\n",
              "      <th>2</th>\n",
              "      <td>13</td>\n",
              "      <td>F</td>\n",
              "      <td>49.367091</td>\n",
              "      <td>150.415485</td>\n",
              "    </tr>\n",
              "  </tbody>\n",
              "</table>\n",
              "</div>\n",
              "      <button class=\"colab-df-convert\" onclick=\"convertToInteractive('df-69e27a7f-4892-4d98-be19-94d4ae9a55fc')\"\n",
              "              title=\"Convert this dataframe to an interactive table.\"\n",
              "              style=\"display:none;\">\n",
              "        \n",
              "  <svg xmlns=\"http://www.w3.org/2000/svg\" height=\"24px\"viewBox=\"0 0 24 24\"\n",
              "       width=\"24px\">\n",
              "    <path d=\"M0 0h24v24H0V0z\" fill=\"none\"/>\n",
              "    <path d=\"M18.56 5.44l.94 2.06.94-2.06 2.06-.94-2.06-.94-.94-2.06-.94 2.06-2.06.94zm-11 1L8.5 8.5l.94-2.06 2.06-.94-2.06-.94L8.5 2.5l-.94 2.06-2.06.94zm10 10l.94 2.06.94-2.06 2.06-.94-2.06-.94-.94-2.06-.94 2.06-2.06.94z\"/><path d=\"M17.41 7.96l-1.37-1.37c-.4-.4-.92-.59-1.43-.59-.52 0-1.04.2-1.43.59L10.3 9.45l-7.72 7.72c-.78.78-.78 2.05 0 2.83L4 21.41c.39.39.9.59 1.41.59.51 0 1.02-.2 1.41-.59l7.78-7.78 2.81-2.81c.8-.78.8-2.07 0-2.86zM5.41 20L4 18.59l7.72-7.72 1.47 1.35L5.41 20z\"/>\n",
              "  </svg>\n",
              "      </button>\n",
              "      \n",
              "  <style>\n",
              "    .colab-df-container {\n",
              "      display:flex;\n",
              "      flex-wrap:wrap;\n",
              "      gap: 12px;\n",
              "    }\n",
              "\n",
              "    .colab-df-convert {\n",
              "      background-color: #E8F0FE;\n",
              "      border: none;\n",
              "      border-radius: 50%;\n",
              "      cursor: pointer;\n",
              "      display: none;\n",
              "      fill: #1967D2;\n",
              "      height: 32px;\n",
              "      padding: 0 0 0 0;\n",
              "      width: 32px;\n",
              "    }\n",
              "\n",
              "    .colab-df-convert:hover {\n",
              "      background-color: #E2EBFA;\n",
              "      box-shadow: 0px 1px 2px rgba(60, 64, 67, 0.3), 0px 1px 3px 1px rgba(60, 64, 67, 0.15);\n",
              "      fill: #174EA6;\n",
              "    }\n",
              "\n",
              "    [theme=dark] .colab-df-convert {\n",
              "      background-color: #3B4455;\n",
              "      fill: #D2E3FC;\n",
              "    }\n",
              "\n",
              "    [theme=dark] .colab-df-convert:hover {\n",
              "      background-color: #434B5C;\n",
              "      box-shadow: 0px 1px 3px 1px rgba(0, 0, 0, 0.15);\n",
              "      filter: drop-shadow(0px 1px 2px rgba(0, 0, 0, 0.3));\n",
              "      fill: #FFFFFF;\n",
              "    }\n",
              "  </style>\n",
              "\n",
              "      <script>\n",
              "        const buttonEl =\n",
              "          document.querySelector('#df-69e27a7f-4892-4d98-be19-94d4ae9a55fc button.colab-df-convert');\n",
              "        buttonEl.style.display =\n",
              "          google.colab.kernel.accessAllowed ? 'block' : 'none';\n",
              "\n",
              "        async function convertToInteractive(key) {\n",
              "          const element = document.querySelector('#df-69e27a7f-4892-4d98-be19-94d4ae9a55fc');\n",
              "          const dataTable =\n",
              "            await google.colab.kernel.invokeFunction('convertToInteractive',\n",
              "                                                     [key], {});\n",
              "          if (!dataTable) return;\n",
              "\n",
              "          const docLinkHtml = 'Like what you see? Visit the ' +\n",
              "            '<a target=\"_blank\" href=https://colab.research.google.com/notebooks/data_table.ipynb>data table notebook</a>'\n",
              "            + ' to learn more about interactive tables.';\n",
              "          element.innerHTML = '';\n",
              "          dataTable['output_type'] = 'display_data';\n",
              "          await google.colab.output.renderOutput(dataTable, element);\n",
              "          const docLink = document.createElement('div');\n",
              "          docLink.innerHTML = docLinkHtml;\n",
              "          element.appendChild(docLink);\n",
              "        }\n",
              "      </script>\n",
              "    </div>\n",
              "  </div>\n",
              "  "
            ]
          },
          "metadata": {},
          "execution_count": 35
        }
      ],
      "source": [
        "frames = [girls, boys]\n",
        "general = pd.concat(frames, ignore_index = True)    # ignore the index, because it would be the same for each-each female and male\n",
        "\n",
        "general.sort_values(['Age', 'Sex'],\n",
        "                    ascending = [True, False],\n",
        "                    inplace = True)\n",
        "\n",
        "general.head(6)"
      ]
    },
    {
      "cell_type": "code",
      "source": [
        "# Compute average Weight and Height values for Female and Male\n",
        "avg_weight_f = general[general['Sex'] == 'F']['Weight'].mean()\n",
        "avg_height_f = general[general['Sex'] == 'F']['Height'].mean()\n",
        "\n",
        "avg_weight_m = general[general['Sex'] == 'M']['Weight'].mean()\n",
        "avg_height_m = general[general['Sex'] == 'M']['Height'].mean()"
      ],
      "metadata": {
        "id": "C1IAS2GOaCUD"
      },
      "id": "C1IAS2GOaCUD",
      "execution_count": null,
      "outputs": []
    },
    {
      "cell_type": "code",
      "source": [
        "# This is not part of the task, but I found it important to do a self-check.\n",
        "fig, ax = plt.subplots(1, 2, figsize = (20, 5))\n",
        "\n",
        "# Plot the Average Weight and Height data for Female and Male. The bar is expected to be higher for men.\n",
        "ax[0].bar(1, avg_weight_f, width = 0.5, label = 'Female', color = '#eda1f7', edgecolor = '#000000')\n",
        "ax[0].bar(2, avg_weight_m, width = 0.5, label = 'Male', color = '#535c8f', edgecolor = '#000000')\n",
        "# Set the labels to Male and Female\n",
        "labels = [item.get_text() for item in ax[0].get_xticklabels()]\n",
        "labels[2] = 'Female'\n",
        "labels[7] = 'Male'\n",
        "ax[0].set_xticklabels(labels)\n",
        "ax[0].set_title('Average Weight')\n",
        "ax[0].set_ylabel('Weight (kg)')\n",
        "ax[0].legend()\n",
        "\n",
        "ax[1].bar(1, avg_height_f, width = 0.5, label = 'Female', color = '#eda1f7', edgecolor = '#000000')\n",
        "ax[1].bar(2, avg_height_m, width = 0.5, label = 'Male', color = '#535c8f', edgecolor = '#000000')\n",
        "# Set the labels to Male and Female\n",
        "labels = [item.get_text() for item in ax[1].get_xticklabels()]\n",
        "labels[2] = 'Female'\n",
        "labels[7] = 'Male'\n",
        "ax[1].set_xticklabels(labels)\n",
        "ax[1].set_title('Average Height')\n",
        "ax[1].set_ylabel('Height (cm)')\n",
        "# Zoom in, because on a 0-160 cm scale, the difference is so small, you can hardly see it.\n",
        "ax[1].set_ylim(140, 170)\n",
        "ax[1].legend(loc = 'upper left')\n",
        "\n",
        "plt.show()"
      ],
      "metadata": {
        "colab": {
          "base_uri": "https://localhost:8080/",
          "height": 336
        },
        "id": "dHsD_8SgaLqL",
        "outputId": "f17f1444-a79b-4b6c-d9d1-b958ee9318e1"
      },
      "id": "dHsD_8SgaLqL",
      "execution_count": null,
      "outputs": [
        {
          "output_type": "display_data",
          "data": {
            "text/plain": [
              "<Figure size 1440x360 with 2 Axes>"
            ],
            "image/png": "[encoded data removed]"
          },
          "metadata": {
            "needs_background": "light"
          }
        }
      ]
    },
    {
      "cell_type": "markdown",
      "id": "2a719456",
      "metadata": {
        "id": "2a719456"
      },
      "source": [
        "## (Self) check\n",
        "\n",
        "Check that your code works for two cases:\n",
        "- [ ] N=10 (corresponds to the age range from 11 up to 20 with step=1 year) and \n",
        "- [ ] N=19 (corresponds to the age range from 11 up to 20 with step=0.5 year)"
      ]
    },
    {
      "cell_type": "markdown",
      "source": [
        "**Note:** N = 10 case have already been tested, now let's check N = 19"
      ],
      "metadata": {
        "id": "gs8miV84pJdL"
      },
      "id": "gs8miV84pJdL"
    },
    {
      "cell_type": "code",
      "execution_count": null,
      "id": "f2edfa00",
      "metadata": {
        "id": "f2edfa00"
      },
      "outputs": [],
      "source": [
        "N = 19\n",
        "\n",
        "sex_f = ['F' for i in range(N)]\n",
        "sex_m = ['M' for i in range(N)]\n",
        "\n",
        "age_f = np.arange(11, 20.1, 0.5)    # stop at 20.1, because it will generate exactly 19 number.\n",
        "age_m = np.arange(11, 20.1, 0.5)"
      ]
    },
    {
      "cell_type": "code",
      "source": [
        "height_noise = np.random.normal(0, 3, N)\n",
        "height_f = sorted([np.random.randint(145, 166) for i in range(N)])\n",
        "height_f = [height_f[i] + height_noise[i] for i in range(N)]\n",
        "\n",
        "# Do not be the same noises for the height_f and height_m arrays\n",
        "height_noise = np.random.normal(0, 3, N)\n",
        "height_m = sorted([np.random.randint(145, 176) for i in range(N)])\n",
        "height_m = [height_m[i] + height_noise[i] for i in range(N)]"
      ],
      "metadata": {
        "id": "HB_x7XE1jptA"
      },
      "id": "HB_x7XE1jptA",
      "execution_count": null,
      "outputs": []
    },
    {
      "cell_type": "code",
      "source": [
        "weight_noise = np.random.normal(0, 5, N)\n",
        "weight_f = sorted([np.random.randint(35, 61) for i in range(N)])\n",
        "weight_f = [weight_f[i] + weight_noise[i] for i in range(N)]\n",
        "\n",
        "# Do not be the same noises for the weight_f and weight_m arrays\n",
        "weight_noise = np.random.normal(0, 5, N)\n",
        "weight_m = sorted([np.random.randint(35, 71) for i in range(N)])\n",
        "weight_m = [weight_m[i] + weight_noise[i] for i in range(N)]"
      ],
      "metadata": {
        "id": "6Wi6ilNPjw8z"
      },
      "id": "6Wi6ilNPjw8z",
      "execution_count": null,
      "outputs": []
    },
    {
      "cell_type": "code",
      "source": [
        "# Create 2 subplot, one for Weights data, one for Heights data\n",
        "fig, ax = plt.subplots(1, 2, figsize = (20, 5))\n",
        "fig.suptitle(f'Weight and Height data for {N} persons', fontsize = 15)\n",
        "\n",
        "# 'Weights' graph setup and customize\n",
        "ax[0].bar(age_f - 0.1, weight_f, 0.2, label = 'Female', color = '#eda1f7', edgecolor='#000000')\n",
        "ax[0].bar(age_f + 0.1, weight_m, 0.2, label = 'Male', color = '#535c8f', edgecolor = '#000000')\n",
        "ax[0].set_title('Weights')\n",
        "ax[0].set_xlabel('Age')\n",
        "ax[0].set_ylabel('Weight (kg)')\n",
        "ax[0].legend()\n",
        "\n",
        "# 'Heights' graph setup and customize\n",
        "ax[1].bar(age_f - 0.1, height_f, 0.2, label = 'Female', color = '#eda1f7', edgecolor = '#000000')\n",
        "ax[1].bar(age_m + 0.1, height_m, 0.2, label = 'Male', color = '#535c8f', edgecolor = '#000000')\n",
        "ax[1].set_title('Heights')\n",
        "ax[1].set_xlabel('Age')\n",
        "ax[1].set_ylabel('Height (cm)')\n",
        "ax[1].legend()\n",
        "\n",
        "plt.show()"
      ],
      "metadata": {
        "colab": {
          "base_uri": "https://localhost:8080/",
          "height": 370
        },
        "id": "1uXgVsXPuOlN",
        "outputId": "fad70c52-1c7f-457f-bfff-53f7b5e30c27"
      },
      "id": "1uXgVsXPuOlN",
      "execution_count": null,
      "outputs": [
        {
          "output_type": "display_data",
          "data": {
            "text/plain": [
              "<Figure size 1440x360 with 2 Axes>"
            ],
            "image/png": "[encoded data removed]"
          },
          "metadata": {
            "needs_background": "light"
          }
        }
      ]
    },
    {
      "cell_type": "markdown",
      "source": [
        "The generated data seems to be correct, since it linearly growing, and the boys are taller and weight more in most cases.\n"
      ],
      "metadata": {
        "id": "h9YsRdRXSlwH"
      },
      "id": "h9YsRdRXSlwH"
    },
    {
      "cell_type": "code",
      "source": [
        "girls = pd.DataFrame(list(zip(age_f, sex_f, weight_f, height_f)), columns = ['Age', 'Sex', 'Weight', 'Height'])\n",
        "girls.head()"
      ],
      "metadata": {
        "colab": {
          "base_uri": "https://localhost:8080/",
          "height": 206
        },
        "id": "6Iap4SbEkgqo",
        "outputId": "6fe2de17-ca7a-4923-df42-bdf8c10b9c93"
      },
      "id": "6Iap4SbEkgqo",
      "execution_count": null,
      "outputs": [
        {
          "output_type": "execute_result",
          "data": {
            "text/plain": [
              "    Age Sex     Weight      Height\n",
              "0  11.0   F  37.681292  146.141832\n",
              "1  11.5   F  43.498924  142.756701\n",
              "2  12.0   F  37.470902  142.046967\n",
              "3  12.5   F  36.584154  153.998730\n",
              "4  13.0   F  37.021436  148.946379"
            ],
            "text/html": [
              "\n",
              "  <div id=\"df-a917fc12-00f3-49a6-a2d7-5125e6f5af93\">\n",
              "    <div class=\"colab-df-container\">\n",
              "      <div>\n",
              "<style scoped>\n",
              "    .dataframe tbody tr th:only-of-type {\n",
              "        vertical-align: middle;\n",
              "    }\n",
              "\n",
              "    .dataframe tbody tr th {\n",
              "        vertical-align: top;\n",
              "    }\n",
              "\n",
              "    .dataframe thead th {\n",
              "        text-align: right;\n",
              "    }\n",
              "</style>\n",
              "<table border=\"1\" class=\"dataframe\">\n",
              "  <thead>\n",
              "    <tr style=\"text-align: right;\">\n",
              "      <th></th>\n",
              "      <th>Age</th>\n",
              "      <th>Sex</th>\n",
              "      <th>Weight</th>\n",
              "      <th>Height</th>\n",
              "    </tr>\n",
              "  </thead>\n",
              "  <tbody>\n",
              "    <tr>\n",
              "      <th>0</th>\n",
              "      <td>11.0</td>\n",
              "      <td>F</td>\n",
              "      <td>37.681292</td>\n",
              "      <td>146.141832</td>\n",
              "    </tr>\n",
              "    <tr>\n",
              "      <th>1</th>\n",
              "      <td>11.5</td>\n",
              "      <td>F</td>\n",
              "      <td>43.498924</td>\n",
              "      <td>142.756701</td>\n",
              "    </tr>\n",
              "    <tr>\n",
              "      <th>2</th>\n",
              "      <td>12.0</td>\n",
              "      <td>F</td>\n",
              "      <td>37.470902</td>\n",
              "      <td>142.046967</td>\n",
              "    </tr>\n",
              "    <tr>\n",
              "      <th>3</th>\n",
              "      <td>12.5</td>\n",
              "      <td>F</td>\n",
              "      <td>36.584154</td>\n",
              "      <td>153.998730</td>\n",
              "    </tr>\n",
              "    <tr>\n",
              "      <th>4</th>\n",
              "      <td>13.0</td>\n",
              "      <td>F</td>\n",
              "      <td>37.021436</td>\n",
              "      <td>148.946379</td>\n",
              "    </tr>\n",
              "  </tbody>\n",
              "</table>\n",
              "</div>\n",
              "      <button class=\"colab-df-convert\" onclick=\"convertToInteractive('df-a917fc12-00f3-49a6-a2d7-5125e6f5af93')\"\n",
              "              title=\"Convert this dataframe to an interactive table.\"\n",
              "              style=\"display:none;\">\n",
              "        \n",
              "  <svg xmlns=\"http://www.w3.org/2000/svg\" height=\"24px\"viewBox=\"0 0 24 24\"\n",
              "       width=\"24px\">\n",
              "    <path d=\"M0 0h24v24H0V0z\" fill=\"none\"/>\n",
              "    <path d=\"M18.56 5.44l.94 2.06.94-2.06 2.06-.94-2.06-.94-.94-2.06-.94 2.06-2.06.94zm-11 1L8.5 8.5l.94-2.06 2.06-.94-2.06-.94L8.5 2.5l-.94 2.06-2.06.94zm10 10l.94 2.06.94-2.06 2.06-.94-2.06-.94-.94-2.06-.94 2.06-2.06.94z\"/><path d=\"M17.41 7.96l-1.37-1.37c-.4-.4-.92-.59-1.43-.59-.52 0-1.04.2-1.43.59L10.3 9.45l-7.72 7.72c-.78.78-.78 2.05 0 2.83L4 21.41c.39.39.9.59 1.41.59.51 0 1.02-.2 1.41-.59l7.78-7.78 2.81-2.81c.8-.78.8-2.07 0-2.86zM5.41 20L4 18.59l7.72-7.72 1.47 1.35L5.41 20z\"/>\n",
              "  </svg>\n",
              "      </button>\n",
              "      \n",
              "  <style>\n",
              "    .colab-df-container {\n",
              "      display:flex;\n",
              "      flex-wrap:wrap;\n",
              "      gap: 12px;\n",
              "    }\n",
              "\n",
              "    .colab-df-convert {\n",
              "      background-color: #E8F0FE;\n",
              "      border: none;\n",
              "      border-radius: 50%;\n",
              "      cursor: pointer;\n",
              "      display: none;\n",
              "      fill: #1967D2;\n",
              "      height: 32px;\n",
              "      padding: 0 0 0 0;\n",
              "      width: 32px;\n",
              "    }\n",
              "\n",
              "    .colab-df-convert:hover {\n",
              "      background-color: #E2EBFA;\n",
              "      box-shadow: 0px 1px 2px rgba(60, 64, 67, 0.3), 0px 1px 3px 1px rgba(60, 64, 67, 0.15);\n",
              "      fill: #174EA6;\n",
              "    }\n",
              "\n",
              "    [theme=dark] .colab-df-convert {\n",
              "      background-color: #3B4455;\n",
              "      fill: #D2E3FC;\n",
              "    }\n",
              "\n",
              "    [theme=dark] .colab-df-convert:hover {\n",
              "      background-color: #434B5C;\n",
              "      box-shadow: 0px 1px 3px 1px rgba(0, 0, 0, 0.15);\n",
              "      filter: drop-shadow(0px 1px 2px rgba(0, 0, 0, 0.3));\n",
              "      fill: #FFFFFF;\n",
              "    }\n",
              "  </style>\n",
              "\n",
              "      <script>\n",
              "        const buttonEl =\n",
              "          document.querySelector('#df-a917fc12-00f3-49a6-a2d7-5125e6f5af93 button.colab-df-convert');\n",
              "        buttonEl.style.display =\n",
              "          google.colab.kernel.accessAllowed ? 'block' : 'none';\n",
              "\n",
              "        async function convertToInteractive(key) {\n",
              "          const element = document.querySelector('#df-a917fc12-00f3-49a6-a2d7-5125e6f5af93');\n",
              "          const dataTable =\n",
              "            await google.colab.kernel.invokeFunction('convertToInteractive',\n",
              "                                                     [key], {});\n",
              "          if (!dataTable) return;\n",
              "\n",
              "          const docLinkHtml = 'Like what you see? Visit the ' +\n",
              "            '<a target=\"_blank\" href=https://colab.research.google.com/notebooks/data_table.ipynb>data table notebook</a>'\n",
              "            + ' to learn more about interactive tables.';\n",
              "          element.innerHTML = '';\n",
              "          dataTable['output_type'] = 'display_data';\n",
              "          await google.colab.output.renderOutput(dataTable, element);\n",
              "          const docLink = document.createElement('div');\n",
              "          docLink.innerHTML = docLinkHtml;\n",
              "          element.appendChild(docLink);\n",
              "        }\n",
              "      </script>\n",
              "    </div>\n",
              "  </div>\n",
              "  "
            ]
          },
          "metadata": {},
          "execution_count": 40
        }
      ]
    },
    {
      "cell_type": "code",
      "source": [
        "boys = pd.DataFrame(list(zip(age_m, sex_m, weight_m, height_m)), columns = ['Age', 'Sex', 'Weight', 'Height'])\n",
        "boys.head()"
      ],
      "metadata": {
        "colab": {
          "base_uri": "https://localhost:8080/",
          "height": 206
        },
        "id": "RsNSfu6lk9DL",
        "outputId": "f02f63e5-5be5-403d-d925-6e540f686c06"
      },
      "id": "RsNSfu6lk9DL",
      "execution_count": null,
      "outputs": [
        {
          "output_type": "execute_result",
          "data": {
            "text/plain": [
              "    Age Sex     Weight      Height\n",
              "0  11.0   M  23.890144  141.587645\n",
              "1  11.5   M  37.825454  140.595123\n",
              "2  12.0   M  34.882481  146.124658\n",
              "3  12.5   M  42.637834  147.080494\n",
              "4  13.0   M  47.589706  146.076622"
            ],
            "text/html": [
              "\n",
              "  <div id=\"df-ec83e266-63c6-4740-9b70-7b01b90d574b\">\n",
              "    <div class=\"colab-df-container\">\n",
              "      <div>\n",
              "<style scoped>\n",
              "    .dataframe tbody tr th:only-of-type {\n",
              "        vertical-align: middle;\n",
              "    }\n",
              "\n",
              "    .dataframe tbody tr th {\n",
              "        vertical-align: top;\n",
              "    }\n",
              "\n",
              "    .dataframe thead th {\n",
              "        text-align: right;\n",
              "    }\n",
              "</style>\n",
              "<table border=\"1\" class=\"dataframe\">\n",
              "  <thead>\n",
              "    <tr style=\"text-align: right;\">\n",
              "      <th></th>\n",
              "      <th>Age</th>\n",
              "      <th>Sex</th>\n",
              "      <th>Weight</th>\n",
              "      <th>Height</th>\n",
              "    </tr>\n",
              "  </thead>\n",
              "  <tbody>\n",
              "    <tr>\n",
              "      <th>0</th>\n",
              "      <td>11.0</td>\n",
              "      <td>M</td>\n",
              "      <td>23.890144</td>\n",
              "      <td>141.587645</td>\n",
              "    </tr>\n",
              "    <tr>\n",
              "      <th>1</th>\n",
              "      <td>11.5</td>\n",
              "      <td>M</td>\n",
              "      <td>37.825454</td>\n",
              "      <td>140.595123</td>\n",
              "    </tr>\n",
              "    <tr>\n",
              "      <th>2</th>\n",
              "      <td>12.0</td>\n",
              "      <td>M</td>\n",
              "      <td>34.882481</td>\n",
              "      <td>146.124658</td>\n",
              "    </tr>\n",
              "    <tr>\n",
              "      <th>3</th>\n",
              "      <td>12.5</td>\n",
              "      <td>M</td>\n",
              "      <td>42.637834</td>\n",
              "      <td>147.080494</td>\n",
              "    </tr>\n",
              "    <tr>\n",
              "      <th>4</th>\n",
              "      <td>13.0</td>\n",
              "      <td>M</td>\n",
              "      <td>47.589706</td>\n",
              "      <td>146.076622</td>\n",
              "    </tr>\n",
              "  </tbody>\n",
              "</table>\n",
              "</div>\n",
              "      <button class=\"colab-df-convert\" onclick=\"convertToInteractive('df-ec83e266-63c6-4740-9b70-7b01b90d574b')\"\n",
              "              title=\"Convert this dataframe to an interactive table.\"\n",
              "              style=\"display:none;\">\n",
              "        \n",
              "  <svg xmlns=\"http://www.w3.org/2000/svg\" height=\"24px\"viewBox=\"0 0 24 24\"\n",
              "       width=\"24px\">\n",
              "    <path d=\"M0 0h24v24H0V0z\" fill=\"none\"/>\n",
              "    <path d=\"M18.56 5.44l.94 2.06.94-2.06 2.06-.94-2.06-.94-.94-2.06-.94 2.06-2.06.94zm-11 1L8.5 8.5l.94-2.06 2.06-.94-2.06-.94L8.5 2.5l-.94 2.06-2.06.94zm10 10l.94 2.06.94-2.06 2.06-.94-2.06-.94-.94-2.06-.94 2.06-2.06.94z\"/><path d=\"M17.41 7.96l-1.37-1.37c-.4-.4-.92-.59-1.43-.59-.52 0-1.04.2-1.43.59L10.3 9.45l-7.72 7.72c-.78.78-.78 2.05 0 2.83L4 21.41c.39.39.9.59 1.41.59.51 0 1.02-.2 1.41-.59l7.78-7.78 2.81-2.81c.8-.78.8-2.07 0-2.86zM5.41 20L4 18.59l7.72-7.72 1.47 1.35L5.41 20z\"/>\n",
              "  </svg>\n",
              "      </button>\n",
              "      \n",
              "  <style>\n",
              "    .colab-df-container {\n",
              "      display:flex;\n",
              "      flex-wrap:wrap;\n",
              "      gap: 12px;\n",
              "    }\n",
              "\n",
              "    .colab-df-convert {\n",
              "      background-color: #E8F0FE;\n",
              "      border: none;\n",
              "      border-radius: 50%;\n",
              "      cursor: pointer;\n",
              "      display: none;\n",
              "      fill: #1967D2;\n",
              "      height: 32px;\n",
              "      padding: 0 0 0 0;\n",
              "      width: 32px;\n",
              "    }\n",
              "\n",
              "    .colab-df-convert:hover {\n",
              "      background-color: #E2EBFA;\n",
              "      box-shadow: 0px 1px 2px rgba(60, 64, 67, 0.3), 0px 1px 3px 1px rgba(60, 64, 67, 0.15);\n",
              "      fill: #174EA6;\n",
              "    }\n",
              "\n",
              "    [theme=dark] .colab-df-convert {\n",
              "      background-color: #3B4455;\n",
              "      fill: #D2E3FC;\n",
              "    }\n",
              "\n",
              "    [theme=dark] .colab-df-convert:hover {\n",
              "      background-color: #434B5C;\n",
              "      box-shadow: 0px 1px 3px 1px rgba(0, 0, 0, 0.15);\n",
              "      filter: drop-shadow(0px 1px 2px rgba(0, 0, 0, 0.3));\n",
              "      fill: #FFFFFF;\n",
              "    }\n",
              "  </style>\n",
              "\n",
              "      <script>\n",
              "        const buttonEl =\n",
              "          document.querySelector('#df-ec83e266-63c6-4740-9b70-7b01b90d574b button.colab-df-convert');\n",
              "        buttonEl.style.display =\n",
              "          google.colab.kernel.accessAllowed ? 'block' : 'none';\n",
              "\n",
              "        async function convertToInteractive(key) {\n",
              "          const element = document.querySelector('#df-ec83e266-63c6-4740-9b70-7b01b90d574b');\n",
              "          const dataTable =\n",
              "            await google.colab.kernel.invokeFunction('convertToInteractive',\n",
              "                                                     [key], {});\n",
              "          if (!dataTable) return;\n",
              "\n",
              "          const docLinkHtml = 'Like what you see? Visit the ' +\n",
              "            '<a target=\"_blank\" href=https://colab.research.google.com/notebooks/data_table.ipynb>data table notebook</a>'\n",
              "            + ' to learn more about interactive tables.';\n",
              "          element.innerHTML = '';\n",
              "          dataTable['output_type'] = 'display_data';\n",
              "          await google.colab.output.renderOutput(dataTable, element);\n",
              "          const docLink = document.createElement('div');\n",
              "          docLink.innerHTML = docLinkHtml;\n",
              "          element.appendChild(docLink);\n",
              "        }\n",
              "      </script>\n",
              "    </div>\n",
              "  </div>\n",
              "  "
            ]
          },
          "metadata": {},
          "execution_count": 41
        }
      ]
    },
    {
      "cell_type": "code",
      "source": [
        "frames = [girls, boys]\n",
        "general = pd.concat(frames, ignore_index = True)    # ignore the index, because it would be the same for each-each female and male\n",
        "\n",
        "general.sort_values(['Age', 'Sex'],\n",
        "                    ascending = [True, False],\n",
        "                    inplace = True)\n",
        "general[:6]"
      ],
      "metadata": {
        "colab": {
          "base_uri": "https://localhost:8080/",
          "height": 238
        },
        "id": "rDSN5tOfk9mQ",
        "outputId": "2811ba0c-77f3-4d56-9962-e468f24a110c"
      },
      "id": "rDSN5tOfk9mQ",
      "execution_count": null,
      "outputs": [
        {
          "output_type": "execute_result",
          "data": {
            "text/plain": [
              "     Age Sex     Weight      Height\n",
              "19  11.0   M  23.890144  141.587645\n",
              "0   11.0   F  37.681292  146.141832\n",
              "20  11.5   M  37.825454  140.595123\n",
              "1   11.5   F  43.498924  142.756701\n",
              "21  12.0   M  34.882481  146.124658\n",
              "2   12.0   F  37.470902  142.046967"
            ],
            "text/html": [
              "\n",
              "  <div id=\"df-c5f768e1-b12d-404b-91a7-852793118299\">\n",
              "    <div class=\"colab-df-container\">\n",
              "      <div>\n",
              "<style scoped>\n",
              "    .dataframe tbody tr th:only-of-type {\n",
              "        vertical-align: middle;\n",
              "    }\n",
              "\n",
              "    .dataframe tbody tr th {\n",
              "        vertical-align: top;\n",
              "    }\n",
              "\n",
              "    .dataframe thead th {\n",
              "        text-align: right;\n",
              "    }\n",
              "</style>\n",
              "<table border=\"1\" class=\"dataframe\">\n",
              "  <thead>\n",
              "    <tr style=\"text-align: right;\">\n",
              "      <th></th>\n",
              "      <th>Age</th>\n",
              "      <th>Sex</th>\n",
              "      <th>Weight</th>\n",
              "      <th>Height</th>\n",
              "    </tr>\n",
              "  </thead>\n",
              "  <tbody>\n",
              "    <tr>\n",
              "      <th>19</th>\n",
              "      <td>11.0</td>\n",
              "      <td>M</td>\n",
              "      <td>23.890144</td>\n",
              "      <td>141.587645</td>\n",
              "    </tr>\n",
              "    <tr>\n",
              "      <th>0</th>\n",
              "      <td>11.0</td>\n",
              "      <td>F</td>\n",
              "      <td>37.681292</td>\n",
              "      <td>146.141832</td>\n",
              "    </tr>\n",
              "    <tr>\n",
              "      <th>20</th>\n",
              "      <td>11.5</td>\n",
              "      <td>M</td>\n",
              "      <td>37.825454</td>\n",
              "      <td>140.595123</td>\n",
              "    </tr>\n",
              "    <tr>\n",
              "      <th>1</th>\n",
              "      <td>11.5</td>\n",
              "      <td>F</td>\n",
              "      <td>43.498924</td>\n",
              "      <td>142.756701</td>\n",
              "    </tr>\n",
              "    <tr>\n",
              "      <th>21</th>\n",
              "      <td>12.0</td>\n",
              "      <td>M</td>\n",
              "      <td>34.882481</td>\n",
              "      <td>146.124658</td>\n",
              "    </tr>\n",
              "    <tr>\n",
              "      <th>2</th>\n",
              "      <td>12.0</td>\n",
              "      <td>F</td>\n",
              "      <td>37.470902</td>\n",
              "      <td>142.046967</td>\n",
              "    </tr>\n",
              "  </tbody>\n",
              "</table>\n",
              "</div>\n",
              "      <button class=\"colab-df-convert\" onclick=\"convertToInteractive('df-c5f768e1-b12d-404b-91a7-852793118299')\"\n",
              "              title=\"Convert this dataframe to an interactive table.\"\n",
              "              style=\"display:none;\">\n",
              "        \n",
              "  <svg xmlns=\"http://www.w3.org/2000/svg\" height=\"24px\"viewBox=\"0 0 24 24\"\n",
              "       width=\"24px\">\n",
              "    <path d=\"M0 0h24v24H0V0z\" fill=\"none\"/>\n",
              "    <path d=\"M18.56 5.44l.94 2.06.94-2.06 2.06-.94-2.06-.94-.94-2.06-.94 2.06-2.06.94zm-11 1L8.5 8.5l.94-2.06 2.06-.94-2.06-.94L8.5 2.5l-.94 2.06-2.06.94zm10 10l.94 2.06.94-2.06 2.06-.94-2.06-.94-.94-2.06-.94 2.06-2.06.94z\"/><path d=\"M17.41 7.96l-1.37-1.37c-.4-.4-.92-.59-1.43-.59-.52 0-1.04.2-1.43.59L10.3 9.45l-7.72 7.72c-.78.78-.78 2.05 0 2.83L4 21.41c.39.39.9.59 1.41.59.51 0 1.02-.2 1.41-.59l7.78-7.78 2.81-2.81c.8-.78.8-2.07 0-2.86zM5.41 20L4 18.59l7.72-7.72 1.47 1.35L5.41 20z\"/>\n",
              "  </svg>\n",
              "      </button>\n",
              "      \n",
              "  <style>\n",
              "    .colab-df-container {\n",
              "      display:flex;\n",
              "      flex-wrap:wrap;\n",
              "      gap: 12px;\n",
              "    }\n",
              "\n",
              "    .colab-df-convert {\n",
              "      background-color: #E8F0FE;\n",
              "      border: none;\n",
              "      border-radius: 50%;\n",
              "      cursor: pointer;\n",
              "      display: none;\n",
              "      fill: #1967D2;\n",
              "      height: 32px;\n",
              "      padding: 0 0 0 0;\n",
              "      width: 32px;\n",
              "    }\n",
              "\n",
              "    .colab-df-convert:hover {\n",
              "      background-color: #E2EBFA;\n",
              "      box-shadow: 0px 1px 2px rgba(60, 64, 67, 0.3), 0px 1px 3px 1px rgba(60, 64, 67, 0.15);\n",
              "      fill: #174EA6;\n",
              "    }\n",
              "\n",
              "    [theme=dark] .colab-df-convert {\n",
              "      background-color: #3B4455;\n",
              "      fill: #D2E3FC;\n",
              "    }\n",
              "\n",
              "    [theme=dark] .colab-df-convert:hover {\n",
              "      background-color: #434B5C;\n",
              "      box-shadow: 0px 1px 3px 1px rgba(0, 0, 0, 0.15);\n",
              "      filter: drop-shadow(0px 1px 2px rgba(0, 0, 0, 0.3));\n",
              "      fill: #FFFFFF;\n",
              "    }\n",
              "  </style>\n",
              "\n",
              "      <script>\n",
              "        const buttonEl =\n",
              "          document.querySelector('#df-c5f768e1-b12d-404b-91a7-852793118299 button.colab-df-convert');\n",
              "        buttonEl.style.display =\n",
              "          google.colab.kernel.accessAllowed ? 'block' : 'none';\n",
              "\n",
              "        async function convertToInteractive(key) {\n",
              "          const element = document.querySelector('#df-c5f768e1-b12d-404b-91a7-852793118299');\n",
              "          const dataTable =\n",
              "            await google.colab.kernel.invokeFunction('convertToInteractive',\n",
              "                                                     [key], {});\n",
              "          if (!dataTable) return;\n",
              "\n",
              "          const docLinkHtml = 'Like what you see? Visit the ' +\n",
              "            '<a target=\"_blank\" href=https://colab.research.google.com/notebooks/data_table.ipynb>data table notebook</a>'\n",
              "            + ' to learn more about interactive tables.';\n",
              "          element.innerHTML = '';\n",
              "          dataTable['output_type'] = 'display_data';\n",
              "          await google.colab.output.renderOutput(dataTable, element);\n",
              "          const docLink = document.createElement('div');\n",
              "          docLink.innerHTML = docLinkHtml;\n",
              "          element.appendChild(docLink);\n",
              "        }\n",
              "      </script>\n",
              "    </div>\n",
              "  </div>\n",
              "  "
            ]
          },
          "metadata": {},
          "execution_count": 42
        }
      ]
    },
    {
      "cell_type": "code",
      "source": [
        "# Compute average Weight and Height values for Female and Male\n",
        "avg_weight_f = general[general['Sex'] == 'F']['Weight'].mean()\n",
        "avg_height_f = general[general['Sex'] == 'F']['Height'].mean()\n",
        "\n",
        "avg_weight_m = general[general['Sex'] == 'M']['Weight'].mean()\n",
        "avg_height_m = general[general['Sex'] == 'M']['Height'].mean()"
      ],
      "metadata": {
        "id": "uIATbP1FTfbZ"
      },
      "id": "uIATbP1FTfbZ",
      "execution_count": null,
      "outputs": []
    },
    {
      "cell_type": "code",
      "source": [
        "# This is not part of the task, but I found it important to do a self-check.\n",
        "fig, ax = plt.subplots(1, 2, figsize = (20, 5))\n",
        "\n",
        "# Plot the Average Weight and Height data for Female and Male. The bar is expected to be higher for men.\n",
        "ax[0].bar(1, avg_weight_f, width = 0.5, label = 'Female', color = '#eda1f7', edgecolor = '#000000')\n",
        "ax[0].bar(2, avg_weight_m, width = 0.5, label = 'Male', color = '#535c8f', edgecolor = '#000000')\n",
        "# Set the labels to Male and Female\n",
        "labels = [item.get_text() for item in ax[0].get_xticklabels()]\n",
        "labels[2] = 'Female'\n",
        "labels[7] = 'Male'\n",
        "ax[0].set_xticklabels(labels)\n",
        "ax[0].set_title('Average Weight')\n",
        "ax[0].set_ylabel('Weight (kg)')\n",
        "ax[0].legend()\n",
        "\n",
        "ax[1].bar(1, avg_height_f, width = 0.5, label = 'Female', color = '#eda1f7', edgecolor = '#000000')\n",
        "ax[1].bar(2, avg_height_m, width = 0.5, label = 'Male', color = '#535c8f', edgecolor = '#000000')\n",
        "labels = [item.get_text() for item in ax[1].get_xticklabels()]\n",
        "labels[2] = 'Female'\n",
        "labels[7] = 'Male'\n",
        "ax[1].set_xticklabels(labels)\n",
        "ax[1].set_title('Average Height')\n",
        "ax[1].set_ylabel('Height (cm)')\n",
        "# Zoom in, because on a 0-160 cm scale, the difference is so small, you can hardly see it.\n",
        "ax[1].set_ylim(140, 170)\n",
        "ax[1].legend(loc = 'upper left')\n",
        "\n",
        "plt.show()"
      ],
      "metadata": {
        "colab": {
          "base_uri": "https://localhost:8080/",
          "height": 336
        },
        "id": "uEug0yYsUIXP",
        "outputId": "ae86f0f2-d6a4-417a-c71e-aa6478e3cf07"
      },
      "id": "uEug0yYsUIXP",
      "execution_count": null,
      "outputs": [
        {
          "output_type": "display_data",
          "data": {
            "text/plain": [
              "<Figure size 1440x360 with 2 Axes>"
            ],
            "image/png": "[encoded data removed]"
          },
          "metadata": {
            "needs_background": "light"
          }
        }
      ]
    }
  ],
  "metadata": {
    "kernelspec": {
      "display_name": "Python 3",
      "language": "python",
      "name": "python3"
    },
    "language_info": {
      "codemirror_mode": {
        "name": "ipython",
        "version": 3
      },
      "file_extension": ".py",
      "mimetype": "text/x-python",
      "name": "python",
      "nbconvert_exporter": "python",
      "pygments_lexer": "ipython3",
      "version": "3.8.10"
    },
    "toc": {
      "base_numbering": 1,
      "nav_menu": {},
      "number_sections": true,
      "sideBar": true,
      "skip_h1_title": true,
      "title_cell": "Table of Contents",
      "title_sidebar": "Contents",
      "toc_cell": true,
      "toc_position": {},
      "toc_section_display": true,
      "toc_window_display": true
    },
    "colab": {
      "provenance": [],
      "toc_visible": true
    }
  },
  "nbformat": 4,
  "nbformat_minor": 5
}